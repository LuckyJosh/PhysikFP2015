{
 "cells": [
  {
   "cell_type": "code",
   "execution_count": 600,
   "metadata": {
    "collapsed": true
   },
   "outputs": [],
   "source": [
    "#-*- coding:utf8-*-\n",
    "%matplotlib inline\n",
    "\n",
    "from __future__ import absolute_import, division, print_function, unicode_literals\n",
    "\n",
    "from IPython.display import Image\n",
    "\n",
    "import numpy as np\n",
    "\n",
    "import uncertainties as unc\n",
    "from uncertainties import unumpy as unp\n",
    "from uncertainties.unumpy import std_devs as stds #TODO\n",
    "from uncertainties.unumpy import nominal_values as noms #TODO\n",
    "\n",
    "import matplotlib as mpl\n",
    "import matplotlib.pyplot as plt\n",
    "import matplotlib.patches as mpatches\n",
    "from matplotlib.lines import Line2D \n",
    "\n",
    "import seaborn as sns\n",
    "sns.set(context=\"paper\",font_scale=1.4)\n",
    "colors = sns.color_palette()\n",
    "#sns.set_context(rc={'lines.markeredgewidth': 0.5})\n",
    "\n",
    "import scipy as sp\n",
    "import scipy.constants as const\n",
    "\n",
    "import sympy as sym\n",
    "\n",
    "import pandas as pd\n",
    "\n",
    "#import ROOT as rt\n",
    "\n",
    "#import root_numpy as rnp\n",
    "\n",
    "from aputils.latextables.tables import Table\n",
    "\n",
    "\n",
    "# Fehlerfortpflanzung beim Mitteln\n",
    "umean = unc.wrap(np.mean)\n",
    "\n",
    "#Laden des Latex fonts \n",
    "plt.rcParams['text.latex.preamble']=[\"\\\\usepackage{lmodern}\"]\n",
    "#Options\n",
    "params = {'text.usetex' : True,\n",
    "          'font.size' : 11,\n",
    "          'font.family' : 'lmodern',\n",
    "          'text.latex.unicode': True,\n",
    "          }\n",
    "plt.rcParams.update(params) \n",
    "\n",
    "#Größe der Achsenbeschriftung\n",
    "axis_font = {'size':'14'}\n",
    "\n",
    "# Pfade\n",
    "path_graphics = \"../Grafiken/\"\n",
    "path_table = \"../Tabellen/\"\n",
    "path_data = \"../Messdaten/\"\n",
    "path_results = \"../Ergebnisse/\""
   ]
  },
  {
   "cell_type": "code",
   "execution_count": 507,
   "metadata": {
    "collapsed": false
   },
   "outputs": [],
   "source": [
    "# Funktionen\n",
    "# Achsenbeschriftungen\n",
    "def axis_label(label,sym=None,unit=None):\n",
    "    if sym == None:\n",
    "        return lable\n",
    "    elif unit == None:\n",
    "        return r\"\".join([label,\" ${s}$\".format(s=sym)])\n",
    "    else:\n",
    "        return r\"\".join([label,\" ${s}/\\mathrm{{{u}}}$\".format(s=sym,u=unit)])\n",
    "\n",
    "# Achsenskalierung\n",
    "def axis_scale(factor, axis=\"x\"):\n",
    "    if axis == \"x\":\n",
    "        plt.gca().xaxis.set_major_formatter(mpl.ticker.FuncFormatter(lambda x, _: x * factor))\n",
    "    elif axis == \"y\":\n",
    "        plt.gca().yaxis.set_major_formatter(mpl.ticker.FuncFormatter(lambda x, _: x * factor))\n",
    "    else:\n",
    "        print(\"Wrong axis name given! Only x and y are allowed!\")\n",
    "\n",
    "def siunitx_ticklabels(ax=None, locale=\"DE\", xaxis=True, yaxis=True,\n",
    "                       round_precision=2, round_mode=\"places\", scale_x=None, scale_y=None):\n",
    "    \"\"\"\n",
    "    This function uses siunitx to create the ticklabels\n",
    "    Main reason is for adjusting the decimal marker properly.\n",
    "    The function takes 4 arguments:\n",
    "        ax=None     the matplotlib axes to operate on\n",
    "                    if set to None (Standard) this will be the current axes\n",
    "        locale=\"DE\" The locale parameter for siunitx, one of\n",
    "                    \"UK\", \"US\", \"DE\", \"FR\" oder \"ZA\"\n",
    "        xaxis=True  Boolean, if True the labels for the xaxis are set\n",
    "        yaxis=True  Boolean, if True the labels for the yaxis are set\n",
    "        round_precision=2 Number of places or figures after rounding\n",
    "        round_mode=\"places\" Rounds to round_precision many decimal places,\n",
    "                  \"figures\" Rounds to round_precision many significant figures\n",
    "                  \n",
    "    \"\"\"\n",
    "\n",
    "    if ax is None:\n",
    "        ax = plt.gca()\n",
    "\n",
    "    if scale_x == None:\n",
    "        scale_x = 1\n",
    "    if scale_y == None:\n",
    "        scale_y = 1\n",
    "        \n",
    "        \n",
    "    if xaxis is True:\n",
    "        xticks = ax.get_xticks()\n",
    "        print(xticks)\n",
    "        xlabels = [r\"$\\num[locale={},round-mode={},round-precision={}]{{{}}}$\".format(\n",
    "                   locale, round_mode,round_precision, tick*scale_x) for tick in xticks]\n",
    "        #print(xlabels)\n",
    "        ax.set_xticklabels(xlabels)\n",
    "\n",
    "    if yaxis is True:\n",
    "        yticks = ax.get_yticks()\n",
    "        ylabels = [r\"$\\num[locale={},round-mode={},round-precision={}]{{{}}}$\".format(\n",
    "                   locale, round_mode,round_precision, tick*scale_y) for tick in yticks]\n",
    "        #print(ylabels)\n",
    "        ax.set_yticklabels(ylabels)    \n",
    "\n",
    "        \n",
    "def errorbar(x,y,marker=\"o\",linestyle=\"\",ax=None,label=\"\", factor=1):\n",
    "    if ax is None:\n",
    "        ax = plt.gca()\n",
    "    ax.errorbar(noms(x),noms(y), xerr=stds(x)*factor, yerr=stds(y)*factor, marker=marker, linestyle=linestyle,label=label)\n",
    "    \n",
    "\n",
    "# Fit Funktionen\n",
    "def fit_errors(popt,pcov):\n",
    "    errors = np.sqrt(np.diag(pcov))\n",
    "    param_err = unp.uarray(popt,errors)\n",
    "    return param_err\n",
    "    \n",
    "def print_errors(array,description=None):\n",
    "    if description and len(description)==len(array):\n",
    "        maxlen = max(map(len,description))\n",
    "        lens = list(map(len,description))\n",
    "        for i,entry in enumerate(array):\n",
    "            print(description[i],\" \"*(maxlen-lens[i]),entry.nominal_value,\"+/-\",entry.std_dev)\n",
    "    else:\n",
    "        for i,entry in enumerate(array):\n",
    "            print(entry.nominal_value,\"+/-\",entry.std_dev)\n",
    "\n",
    "def save_results(value,unit,file):\n",
    "    significant_figure = abs(int(np.log10(stds(value))))\n",
    "    std = int(np.round(stds(value),significant_figure)*10**significant_figure)\n",
    "    \n",
    "    siuntix_string = \"\\\\SI{{{v}({s})}}{{{u}}}\".format(v=np.round(noms(value),significant_figure),s=std,u=unit)\n",
    "    with open(path_results+file,\"w\") as f:\n",
    "        print(siuntix_string, file=f)"
   ]
  },
  {
   "cell_type": "code",
   "execution_count": 317,
   "metadata": {
    "collapsed": true
   },
   "outputs": [],
   "source": [
    "linear_func = lambda x,a,b: x**a * 10**b #lambda x,a,b: a * x + b"
   ]
  },
  {
   "cell_type": "markdown",
   "metadata": {},
   "source": [
    "## Laden der Messdaten gegengekoppelter Verstärker a)"
   ]
  },
  {
   "cell_type": "code",
   "execution_count": 156,
   "metadata": {
    "collapsed": false
   },
   "outputs": [],
   "source": [
    "degenerative_amplifier_err = pd.read_csv(path_data + \"Fehler_Gegengekoppelter_Verstaerker.csv\",\n",
    "                                       skiprows=1, names=(\"f\",\"U1\",\"UA\",\"R\",\"Phase\") )"
   ]
  },
  {
   "cell_type": "code",
   "execution_count": 157,
   "metadata": {
    "collapsed": false
   },
   "outputs": [
    {
     "data": {
      "text/html": [
       "<div>\n",
       "<table border=\"1\" class=\"dataframe\">\n",
       "  <thead>\n",
       "    <tr style=\"text-align: right;\">\n",
       "      <th></th>\n",
       "      <th>f</th>\n",
       "      <th>U1</th>\n",
       "      <th>UA</th>\n",
       "      <th>R</th>\n",
       "      <th>Phase</th>\n",
       "    </tr>\n",
       "  </thead>\n",
       "  <tbody>\n",
       "    <tr>\n",
       "      <th>0</th>\n",
       "      <td>0.01</td>\n",
       "      <td>1</td>\n",
       "      <td>5</td>\n",
       "      <td>0.01</td>\n",
       "      <td>5</td>\n",
       "    </tr>\n",
       "  </tbody>\n",
       "</table>\n",
       "</div>"
      ],
      "text/plain": [
       "      f  U1  UA     R  Phase\n",
       "0  0.01   1   5  0.01      5"
      ]
     },
     "execution_count": 157,
     "metadata": {},
     "output_type": "execute_result"
    }
   ],
   "source": [
    "degenerative_amplifier_err"
   ]
  },
  {
   "cell_type": "code",
   "execution_count": 158,
   "metadata": {
    "collapsed": false
   },
   "outputs": [],
   "source": [
    "degenerative_amplifier_resistors = pd.read_csv(path_data + \"Widerstaende_Gegengekoppelter_Verstaerker.csv\",\n",
    "                                       skiprows=1, names=(\"RN\",\"R1\") )"
   ]
  },
  {
   "cell_type": "code",
   "execution_count": 159,
   "metadata": {
    "collapsed": false
   },
   "outputs": [
    {
     "data": {
      "text/html": [
       "<div>\n",
       "<table border=\"1\" class=\"dataframe\">\n",
       "  <thead>\n",
       "    <tr style=\"text-align: right;\">\n",
       "      <th></th>\n",
       "      <th>RN</th>\n",
       "      <th>R1</th>\n",
       "    </tr>\n",
       "  </thead>\n",
       "  <tbody>\n",
       "    <tr>\n",
       "      <th>0</th>\n",
       "      <td>100</td>\n",
       "      <td>100</td>\n",
       "    </tr>\n",
       "    <tr>\n",
       "      <th>1</th>\n",
       "      <td>10</td>\n",
       "      <td>100</td>\n",
       "    </tr>\n",
       "    <tr>\n",
       "      <th>2</th>\n",
       "      <td>10</td>\n",
       "      <td>32</td>\n",
       "    </tr>\n",
       "    <tr>\n",
       "      <th>3</th>\n",
       "      <td>32</td>\n",
       "      <td>10</td>\n",
       "    </tr>\n",
       "  </tbody>\n",
       "</table>\n",
       "</div>"
      ],
      "text/plain": [
       "    RN   R1\n",
       "0  100  100\n",
       "1   10  100\n",
       "2   10   32\n",
       "3   32   10"
      ]
     },
     "execution_count": 159,
     "metadata": {},
     "output_type": "execute_result"
    }
   ],
   "source": [
    "degenerative_amplifier_resistors"
   ]
  },
  {
   "cell_type": "code",
   "execution_count": 160,
   "metadata": {
    "collapsed": false
   },
   "outputs": [],
   "source": [
    "degenerative_amplifier_resistors[\"RN\"] = unp.uarray(degenerative_amplifier_resistors[\"RN\"],\n",
    "                                                    degenerative_amplifier_resistors[\"RN\"]*degenerative_amplifier_err[\"R\"][0])\n",
    "degenerative_amplifier_resistors[\"R1\"] = unp.uarray(degenerative_amplifier_resistors[\"R1\"],\n",
    "                                                    degenerative_amplifier_resistors[\"R1\"]*degenerative_amplifier_err[\"R\"][0])"
   ]
  },
  {
   "cell_type": "code",
   "execution_count": 161,
   "metadata": {
    "collapsed": false
   },
   "outputs": [
    {
     "data": {
      "text/html": [
       "<div>\n",
       "<table border=\"1\" class=\"dataframe\">\n",
       "  <thead>\n",
       "    <tr style=\"text-align: right;\">\n",
       "      <th></th>\n",
       "      <th>RN</th>\n",
       "      <th>R1</th>\n",
       "    </tr>\n",
       "  </thead>\n",
       "  <tbody>\n",
       "    <tr>\n",
       "      <th>0</th>\n",
       "      <td>100.0+/-1.0</td>\n",
       "      <td>100.0+/-1.0</td>\n",
       "    </tr>\n",
       "    <tr>\n",
       "      <th>1</th>\n",
       "      <td>10.00+/-0.10</td>\n",
       "      <td>100.0+/-1.0</td>\n",
       "    </tr>\n",
       "    <tr>\n",
       "      <th>2</th>\n",
       "      <td>10.00+/-0.10</td>\n",
       "      <td>32.00+/-0.32</td>\n",
       "    </tr>\n",
       "    <tr>\n",
       "      <th>3</th>\n",
       "      <td>32.00+/-0.32</td>\n",
       "      <td>10.00+/-0.10</td>\n",
       "    </tr>\n",
       "  </tbody>\n",
       "</table>\n",
       "</div>"
      ],
      "text/plain": [
       "             RN            R1\n",
       "0   100.0+/-1.0   100.0+/-1.0\n",
       "1  10.00+/-0.10   100.0+/-1.0\n",
       "2  10.00+/-0.10  32.00+/-0.32\n",
       "3  32.00+/-0.32  10.00+/-0.10"
      ]
     },
     "execution_count": 161,
     "metadata": {},
     "output_type": "execute_result"
    }
   ],
   "source": [
    "degenerative_amplifier_resistors"
   ]
  },
  {
   "cell_type": "code",
   "execution_count": 253,
   "metadata": {
    "collapsed": false
   },
   "outputs": [
    {
     "data": {
      "text/plain": [
       "0      1.000+/-0.014\n",
       "1    0.1000+/-0.0014\n",
       "2      0.312+/-0.004\n",
       "3        3.20+/-0.05\n",
       "dtype: object"
      ]
     },
     "execution_count": 253,
     "metadata": {},
     "output_type": "execute_result"
    }
   ],
   "source": [
    "degenerative_amplifier_resistors[\"RN\"]/degenerative_amplifier_resistors[\"R1\"]"
   ]
  },
  {
   "cell_type": "code",
   "execution_count": 254,
   "metadata": {
    "collapsed": false
   },
   "outputs": [
    {
     "data": {
      "text/plain": [
       "array([0.0+/-0.006141851463713753, -1.0+/-0.006141851463713753,\n",
       "       -0.505149978319906+/-0.006141851463713754,\n",
       "       0.505149978319906+/-0.006141851463713753], dtype=object)"
      ]
     },
     "execution_count": 254,
     "metadata": {},
     "output_type": "execute_result"
    }
   ],
   "source": [
    "unp.log10(degenerative_amplifier_resistors[\"RN\"]/degenerative_amplifier_resistors[\"R1\"])"
   ]
  },
  {
   "cell_type": "markdown",
   "metadata": {},
   "source": [
    "## Messreihe 1"
   ]
  },
  {
   "cell_type": "code",
   "execution_count": 318,
   "metadata": {
    "collapsed": true
   },
   "outputs": [],
   "source": [
    "degenerative_amplifier_1 = pd.read_csv(path_data + \"Frequenzgang_Gegengekoppelter_Verstaerker_1.csv\",\n",
    "                                       skiprows=1, names=(\"f\",\"U1\",\"UA\"))\n",
    "\n",
    "degenerative_amplifier_1[\"f\"] = unp.uarray(degenerative_amplifier_1[\"f\"],\n",
    "                                           degenerative_amplifier_1[\"f\"]*degenerative_amplifier_err[\"f\"][0])\n",
    "degenerative_amplifier_1[\"U1\"] = unp.uarray(degenerative_amplifier_1[\"U1\"],\n",
    "                                           degenerative_amplifier_err[\"U1\"][0])\n",
    "degenerative_amplifier_1[\"UA\"] = unp.uarray(degenerative_amplifier_1[\"UA\"],\n",
    "                                           degenerative_amplifier_err[\"UA\"][0])\n",
    "\n",
    "degenerative_amplifier_1[\"V\"] = degenerative_amplifier_1[\"UA\"]/degenerative_amplifier_1[\"U1\"]\n",
    "degenerative_amplifier_1[\"logf\"] = unp.log10(degenerative_amplifier_1[\"f\"])\n",
    "degenerative_amplifier_1[\"logV\"] = unp.log10(degenerative_amplifier_1[\"V\"])"
   ]
  },
  {
   "cell_type": "code",
   "execution_count": 319,
   "metadata": {
    "collapsed": false
   },
   "outputs": [
    {
     "data": {
      "text/html": [
       "<div>\n",
       "<table border=\"1\" class=\"dataframe\">\n",
       "  <thead>\n",
       "    <tr style=\"text-align: right;\">\n",
       "      <th></th>\n",
       "      <th>f</th>\n",
       "      <th>U1</th>\n",
       "      <th>UA</th>\n",
       "      <th>V</th>\n",
       "      <th>logf</th>\n",
       "      <th>logV</th>\n",
       "    </tr>\n",
       "  </thead>\n",
       "  <tbody>\n",
       "    <tr>\n",
       "      <th>0</th>\n",
       "      <td>1.000+/-0.010</td>\n",
       "      <td>70.0+/-1.0</td>\n",
       "      <td>78.0+/-5.0</td>\n",
       "      <td>1.11+/-0.07</td>\n",
       "      <td>0.000+/-0.004</td>\n",
       "      <td>0.047+/-0.029</td>\n",
       "    </tr>\n",
       "    <tr>\n",
       "      <th>1</th>\n",
       "      <td>5.00+/-0.05</td>\n",
       "      <td>70.0+/-1.0</td>\n",
       "      <td>72.0+/-5.0</td>\n",
       "      <td>1.03+/-0.07</td>\n",
       "      <td>0.699+/-0.004</td>\n",
       "      <td>0.012+/-0.031</td>\n",
       "    </tr>\n",
       "    <tr>\n",
       "      <th>2</th>\n",
       "      <td>10.00+/-0.10</td>\n",
       "      <td>70.0+/-1.0</td>\n",
       "      <td>57.0+/-5.0</td>\n",
       "      <td>0.81+/-0.07</td>\n",
       "      <td>1.000+/-0.004</td>\n",
       "      <td>-0.09+/-0.04</td>\n",
       "    </tr>\n",
       "    <tr>\n",
       "      <th>3</th>\n",
       "      <td>15.00+/-0.15</td>\n",
       "      <td>70.0+/-1.0</td>\n",
       "      <td>45.0+/-5.0</td>\n",
       "      <td>0.64+/-0.07</td>\n",
       "      <td>1.176+/-0.004</td>\n",
       "      <td>-0.19+/-0.05</td>\n",
       "    </tr>\n",
       "    <tr>\n",
       "      <th>4</th>\n",
       "      <td>20.00+/-0.20</td>\n",
       "      <td>70.0+/-1.0</td>\n",
       "      <td>37.0+/-5.0</td>\n",
       "      <td>0.53+/-0.07</td>\n",
       "      <td>1.301+/-0.004</td>\n",
       "      <td>-0.28+/-0.06</td>\n",
       "    </tr>\n",
       "    <tr>\n",
       "      <th>5</th>\n",
       "      <td>25.00+/-0.25</td>\n",
       "      <td>70.0+/-1.0</td>\n",
       "      <td>31.0+/-5.0</td>\n",
       "      <td>0.44+/-0.07</td>\n",
       "      <td>1.398+/-0.004</td>\n",
       "      <td>-0.35+/-0.07</td>\n",
       "    </tr>\n",
       "    <tr>\n",
       "      <th>6</th>\n",
       "      <td>30.00+/-0.30</td>\n",
       "      <td>70.0+/-1.0</td>\n",
       "      <td>25.0+/-5.0</td>\n",
       "      <td>0.36+/-0.07</td>\n",
       "      <td>1.477+/-0.004</td>\n",
       "      <td>-0.45+/-0.09</td>\n",
       "    </tr>\n",
       "    <tr>\n",
       "      <th>7</th>\n",
       "      <td>35.00+/-0.35</td>\n",
       "      <td>70.0+/-1.0</td>\n",
       "      <td>25.0+/-5.0</td>\n",
       "      <td>0.36+/-0.07</td>\n",
       "      <td>1.544+/-0.004</td>\n",
       "      <td>-0.45+/-0.09</td>\n",
       "    </tr>\n",
       "    <tr>\n",
       "      <th>8</th>\n",
       "      <td>75.0+/-0.8</td>\n",
       "      <td>70.0+/-1.0</td>\n",
       "      <td>20.0+/-5.0</td>\n",
       "      <td>0.29+/-0.07</td>\n",
       "      <td>1.875+/-0.004</td>\n",
       "      <td>-0.54+/-0.11</td>\n",
       "    </tr>\n",
       "    <tr>\n",
       "      <th>9</th>\n",
       "      <td>100.0+/-1.0</td>\n",
       "      <td>70.0+/-1.0</td>\n",
       "      <td>15.0+/-5.0</td>\n",
       "      <td>0.21+/-0.07</td>\n",
       "      <td>2.000+/-0.004</td>\n",
       "      <td>-0.67+/-0.14</td>\n",
       "    </tr>\n",
       "  </tbody>\n",
       "</table>\n",
       "</div>"
      ],
      "text/plain": [
       "               f          U1          UA            V           logf  \\\n",
       "0  1.000+/-0.010  70.0+/-1.0  78.0+/-5.0  1.11+/-0.07  0.000+/-0.004   \n",
       "1    5.00+/-0.05  70.0+/-1.0  72.0+/-5.0  1.03+/-0.07  0.699+/-0.004   \n",
       "2   10.00+/-0.10  70.0+/-1.0  57.0+/-5.0  0.81+/-0.07  1.000+/-0.004   \n",
       "3   15.00+/-0.15  70.0+/-1.0  45.0+/-5.0  0.64+/-0.07  1.176+/-0.004   \n",
       "4   20.00+/-0.20  70.0+/-1.0  37.0+/-5.0  0.53+/-0.07  1.301+/-0.004   \n",
       "5   25.00+/-0.25  70.0+/-1.0  31.0+/-5.0  0.44+/-0.07  1.398+/-0.004   \n",
       "6   30.00+/-0.30  70.0+/-1.0  25.0+/-5.0  0.36+/-0.07  1.477+/-0.004   \n",
       "7   35.00+/-0.35  70.0+/-1.0  25.0+/-5.0  0.36+/-0.07  1.544+/-0.004   \n",
       "8     75.0+/-0.8  70.0+/-1.0  20.0+/-5.0  0.29+/-0.07  1.875+/-0.004   \n",
       "9    100.0+/-1.0  70.0+/-1.0  15.0+/-5.0  0.21+/-0.07  2.000+/-0.004   \n",
       "\n",
       "            logV  \n",
       "0  0.047+/-0.029  \n",
       "1  0.012+/-0.031  \n",
       "2   -0.09+/-0.04  \n",
       "3   -0.19+/-0.05  \n",
       "4   -0.28+/-0.06  \n",
       "5   -0.35+/-0.07  \n",
       "6   -0.45+/-0.09  \n",
       "7   -0.45+/-0.09  \n",
       "8   -0.54+/-0.11  \n",
       "9   -0.67+/-0.14  "
      ]
     },
     "execution_count": 319,
     "metadata": {},
     "output_type": "execute_result"
    }
   ],
   "source": [
    "degenerative_amplifier_1"
   ]
  },
  {
   "cell_type": "code",
   "execution_count": 677,
   "metadata": {
    "collapsed": false
   },
   "outputs": [
    {
     "name": "stdout",
     "output_type": "stream",
     "text": [
      "Steigung a           -0.6133904970376055 +/- 0.043550652273479554\n",
      "y-Achsenabschnitt b  0.5188387058375871 +/- 0.0554429180089371\n"
     ]
    }
   ],
   "source": [
    "popt, pcov = sp.optimize.curve_fit(linear_func, \n",
    "                                   noms(degenerative_amplifier_1[\"f\"][2:]),\n",
    "                                   noms(degenerative_amplifier_1[\"V\"][2:]),\n",
    "                                   sigma=stds(degenerative_amplifier_1[\"V\"][2:]))\n",
    "param_a, param_b = fit_errors(popt,pcov)\n",
    "\n",
    "print_errors([param_a,param_b],description=(\"Steigung a\",\"y-Achsenabschnitt b\"))\n",
    "\n",
    "x = np.linspace(min(noms(degenerative_amplifier_1[\"f\"])), max(noms(degenerative_amplifier_1[\"f\"])), 1000)\n",
    "y = linear_func(x,noms(param_a), noms(param_b))\n",
    "\n"
   ]
  },
  {
   "cell_type": "code",
   "execution_count": 678,
   "metadata": {
    "collapsed": false
   },
   "outputs": [
    {
     "data": {
      "image/png": "[encoded data removed]",
      "text/plain": [
       "<matplotlib.figure.Figure at 0x7f3d09b3f4e0>"
      ]
     },
     "metadata": {},
     "output_type": "display_data"
    }
   ],
   "source": [
    "fig,ax = plt.subplots()\n",
    "ax.set_xlabel(axis_label(\"Frequenzen\", \"f\", \"kHz\"))\n",
    "ax.set_ylabel(axis_label(\"Verstärkung\", \"V^{\\prime}\"))\n",
    "\n",
    "ax.set_xscale(\"log\")\n",
    "ax.set_yscale(\"log\")\n",
    "\n",
    "\n",
    "plateau = np.mean(noms(degenerative_amplifier_1[\"V\"][:2]))\n",
    "plateau_sq2 = plateau/np.sqrt(2) \n",
    "frequency_limit = sp.optimize.fsolve(lambda x:x**noms(param_a) * 10**noms(param_b) - plateau_sq2,x0=1)\n",
    "\n",
    "errorbar(degenerative_amplifier_1[\"f\"][:2],degenerative_amplifier_1[\"V\"][:2],\n",
    "        marker=\"o\", linestyle=\"\", ax=ax, label=\"Messwerte $f< f_g$\")\n",
    "errorbar(degenerative_amplifier_1[\"f\"][2:],degenerative_amplifier_1[\"V\"][2:],\n",
    "        marker=\"o\", linestyle=\"\", ax=ax, label=\"Messwerte $f> f_g$\")\n",
    "\n",
    "ax.axhline(noms(degenerative_amplifier_resistors[\"RN\"][0]/degenerative_amplifier_resistors[\"R1\"][0]), \n",
    "           label=\"Widerstandsverhältnis $R_N/R_1$\",color=colors[3])\n",
    "ax.axhline(plateau, label=\"max. Verstärkung\",linestyle=\"dashed\",color=colors[4])\n",
    "ax.axvline(frequency_limit,color=colors[5], label=\"Grenzfrequenz $f_g$\")\n",
    "\n",
    "ylim = ax.get_ylim()\n",
    "ylim_mask = (y>ylim[0])&(y<ylim[1])\n",
    "\n",
    "ax.plot(x[ylim_mask],y[ylim_mask],label=\"Fit-Gerade\")\n",
    "ax.legend(loc=\"lower left\")\n",
    "fig.savefig(path_graphics+\"Gegengekoppelter_Verstaerker_1.pdf\")\n"
   ]
  },
  {
   "cell_type": "code",
   "execution_count": 679,
   "metadata": {
    "collapsed": false
   },
   "outputs": [
    {
     "name": "stdout",
     "output_type": "stream",
     "text": [
      "Grenzfrequenz 11.0252215797 kHz\n",
      "Verstärkung-Bandbreite-Produkt 11.8127374069\n",
      "-15.0\n"
     ]
    }
   ],
   "source": [
    "print(\"Grenzfrequenz\", frequency_limit[0], \"kHz\")\n",
    "print(\"Verstärkung-Bandbreite-Produkt\",frequency_limit[0] * plateau)\n",
    "print(noms(degenerative_amplifier_resistors[\"RN\"] * plateau /(degenerative_amplifier_resistors[\"RN\"]\n",
    "                                                              - (degenerative_amplifier_resistors[\"R1\"] * plateau)))[0])"
   ]
  },
  {
   "cell_type": "markdown",
   "metadata": {},
   "source": [
    "## Messreihe 2\n"
   ]
  },
  {
   "cell_type": "code",
   "execution_count": null,
   "metadata": {
    "collapsed": true
   },
   "outputs": [],
   "source": []
  },
  {
   "cell_type": "code",
   "execution_count": 631,
   "metadata": {
    "collapsed": true
   },
   "outputs": [],
   "source": [
    "degenerative_amplifier_2 = pd.read_csv(path_data + \"Frequenzgang_Gegengekoppelter_Verstaerker_2.csv\",\n",
    "                                       skiprows=1, names=(\"f\",\"U1\",\"UA\"))\n",
    "\n",
    "degenerative_amplifier_2[\"f\"] = unp.uarray(degenerative_amplifier_2[\"f\"],\n",
    "                                           degenerative_amplifier_2[\"f\"]*degenerative_amplifier_err[\"f\"][0])\n",
    "degenerative_amplifier_2[\"U1\"] = unp.uarray(degenerative_amplifier_2[\"U1\"],\n",
    "                                           degenerative_amplifier_err[\"U1\"][0])\n",
    "degenerative_amplifier_2[\"UA\"] = unp.uarray(degenerative_amplifier_2[\"UA\"],\n",
    "                                           degenerative_amplifier_err[\"UA\"][0])\n",
    "\n",
    "degenerative_amplifier_2[\"V\"] = degenerative_amplifier_2[\"UA\"]/degenerative_amplifier_2[\"U1\"]\n",
    "degenerative_amplifier_2[\"logf\"] = unp.log10(degenerative_amplifier_2[\"f\"])\n",
    "degenerative_amplifier_2[\"logV\"] = unp.log10(degenerative_amplifier_2[\"V\"])"
   ]
  },
  {
   "cell_type": "code",
   "execution_count": 632,
   "metadata": {
    "collapsed": false
   },
   "outputs": [
    {
     "data": {
      "text/html": [
       "<div>\n",
       "<table border=\"1\" class=\"dataframe\">\n",
       "  <thead>\n",
       "    <tr style=\"text-align: right;\">\n",
       "      <th></th>\n",
       "      <th>f</th>\n",
       "      <th>U1</th>\n",
       "      <th>UA</th>\n",
       "      <th>V</th>\n",
       "      <th>logf</th>\n",
       "      <th>logV</th>\n",
       "    </tr>\n",
       "  </thead>\n",
       "  <tbody>\n",
       "    <tr>\n",
       "      <th>0</th>\n",
       "      <td>0.1000+/-0.0010</td>\n",
       "      <td>70.0+/-1.0</td>\n",
       "      <td>25.0+/-5.0</td>\n",
       "      <td>0.36+/-0.07</td>\n",
       "      <td>-1.000+/-0.004</td>\n",
       "      <td>-0.45+/-0.09</td>\n",
       "    </tr>\n",
       "    <tr>\n",
       "      <th>1</th>\n",
       "      <td>1.000+/-0.010</td>\n",
       "      <td>70.0+/-1.0</td>\n",
       "      <td>22.0+/-5.0</td>\n",
       "      <td>0.31+/-0.07</td>\n",
       "      <td>0.000+/-0.004</td>\n",
       "      <td>-0.50+/-0.10</td>\n",
       "    </tr>\n",
       "    <tr>\n",
       "      <th>2</th>\n",
       "      <td>5.00+/-0.05</td>\n",
       "      <td>70.0+/-1.0</td>\n",
       "      <td>18.0+/-5.0</td>\n",
       "      <td>0.26+/-0.07</td>\n",
       "      <td>0.699+/-0.004</td>\n",
       "      <td>-0.59+/-0.12</td>\n",
       "    </tr>\n",
       "    <tr>\n",
       "      <th>3</th>\n",
       "      <td>10.00+/-0.10</td>\n",
       "      <td>70.0+/-1.0</td>\n",
       "      <td>18.0+/-5.0</td>\n",
       "      <td>0.26+/-0.07</td>\n",
       "      <td>1.000+/-0.004</td>\n",
       "      <td>-0.59+/-0.12</td>\n",
       "    </tr>\n",
       "    <tr>\n",
       "      <th>4</th>\n",
       "      <td>20.00+/-0.20</td>\n",
       "      <td>70.0+/-1.0</td>\n",
       "      <td>16.0+/-5.0</td>\n",
       "      <td>0.23+/-0.07</td>\n",
       "      <td>1.301+/-0.004</td>\n",
       "      <td>-0.64+/-0.14</td>\n",
       "    </tr>\n",
       "    <tr>\n",
       "      <th>5</th>\n",
       "      <td>50.0+/-0.5</td>\n",
       "      <td>70.0+/-1.0</td>\n",
       "      <td>11.0+/-5.0</td>\n",
       "      <td>0.16+/-0.07</td>\n",
       "      <td>1.699+/-0.004</td>\n",
       "      <td>-0.80+/-0.20</td>\n",
       "    </tr>\n",
       "  </tbody>\n",
       "</table>\n",
       "</div>"
      ],
      "text/plain": [
       "                 f          U1          UA            V            logf  \\\n",
       "0  0.1000+/-0.0010  70.0+/-1.0  25.0+/-5.0  0.36+/-0.07  -1.000+/-0.004   \n",
       "1    1.000+/-0.010  70.0+/-1.0  22.0+/-5.0  0.31+/-0.07   0.000+/-0.004   \n",
       "2      5.00+/-0.05  70.0+/-1.0  18.0+/-5.0  0.26+/-0.07   0.699+/-0.004   \n",
       "3     10.00+/-0.10  70.0+/-1.0  18.0+/-5.0  0.26+/-0.07   1.000+/-0.004   \n",
       "4     20.00+/-0.20  70.0+/-1.0  16.0+/-5.0  0.23+/-0.07   1.301+/-0.004   \n",
       "5       50.0+/-0.5  70.0+/-1.0  11.0+/-5.0  0.16+/-0.07   1.699+/-0.004   \n",
       "\n",
       "           logV  \n",
       "0  -0.45+/-0.09  \n",
       "1  -0.50+/-0.10  \n",
       "2  -0.59+/-0.12  \n",
       "3  -0.59+/-0.12  \n",
       "4  -0.64+/-0.14  \n",
       "5  -0.80+/-0.20  "
      ]
     },
     "execution_count": 632,
     "metadata": {},
     "output_type": "execute_result"
    }
   ],
   "source": [
    "degenerative_amplifier_2"
   ]
  },
  {
   "cell_type": "code",
   "execution_count": 674,
   "metadata": {
    "collapsed": false
   },
   "outputs": [
    {
     "name": "stdout",
     "output_type": "stream",
     "text": [
      "Steigung a           -0.18839407811618122 +/- 0.06920331300628896\n",
      "y-Achsenabschnitt b  -0.4316772524679522 +/- 0.07733969674992675\n"
     ]
    }
   ],
   "source": [
    "popt, pcov = sp.optimize.curve_fit(linear_func, \n",
    "                                   noms(degenerative_amplifier_2[\"f\"][2:]),\n",
    "                                   noms(degenerative_amplifier_2[\"V\"][2:]),\n",
    "                                   sigma=stds(degenerative_amplifier_2[\"V\"][2:]))\n",
    "param_a, param_b = fit_errors(popt,pcov)\n",
    "\n",
    "print_errors([param_a,param_b],description=(\"Steigung a\",\"y-Achsenabschnitt b\"))\n",
    "\n",
    "x = np.linspace(min(noms(degenerative_amplifier_2[\"f\"])), max(noms(degenerative_amplifier_2[\"f\"])), 1000)\n",
    "y = linear_func(x,noms(param_a), noms(param_b))\n",
    "\n"
   ]
  },
  {
   "cell_type": "code",
   "execution_count": 675,
   "metadata": {
    "collapsed": false
   },
   "outputs": [
    {
     "data": {
      "image/png": "[encoded data removed]",
      "text/plain": [
       "<matplotlib.figure.Figure at 0x7f3d0a0ce668>"
      ]
     },
     "metadata": {},
     "output_type": "display_data"
    }
   ],
   "source": [
    "fig,ax = plt.subplots()\n",
    "ax.set_xlabel(axis_label(\"Frequenzen\", \"f\", \"kHz\"))\n",
    "ax.set_ylabel(axis_label(\"Verstärkung\", \"V^{\\prime}\"))\n",
    "\n",
    "ax.set_xscale(\"log\")\n",
    "ax.set_yscale(\"log\")\n",
    "\n",
    "plateau = np.mean(noms(degenerative_amplifier_2[\"V\"][:2]))\n",
    "plateau_sq2 = plateau/np.sqrt(2) \n",
    "frequency_limit = sp.optimize.fsolve(lambda x:x**noms(param_a) * 10**noms(param_b) - plateau_sq2,x0=1)\n",
    "\n",
    "errorbar(degenerative_amplifier_2[\"f\"][:2],degenerative_amplifier_2[\"V\"][:2],\n",
    "        marker=\"o\", linestyle=\"\", ax=ax, label=\"Messwerte $f< f_g$\")\n",
    "errorbar(degenerative_amplifier_2[\"f\"][2:],degenerative_amplifier_2[\"V\"][2:],\n",
    "        marker=\"o\", linestyle=\"\", ax=ax, label=\"Messwerte $f> f_g$\")\n",
    "\n",
    "ax.axhline(noms(degenerative_amplifier_resistors[\"RN\"][1]/degenerative_amplifier_resistors[\"R1\"][1]), \n",
    "           label=\"Widerstandsverhältnis $R_N/R_1$\",color=colors[3])\n",
    "\n",
    "ax.axhline(plateau, label=\"max. Verstärkung\",linestyle=\"dashed\",color=colors[4])\n",
    "ax.axvline(frequency_limit,color=colors[5], label=\"Grenzfrequenz $f_g$\")\n",
    "\n",
    "\n",
    "ylim = ax.get_ylim()\n",
    "ylim_mask = (y>ylim[0])&(y<ylim[1])\n",
    "\n",
    "ax.plot(x[ylim_mask],y[ylim_mask],label=\"Fit-Gerade\")\n",
    "ax.legend(loc=\"lower left\")\n",
    "fig.savefig(path_graphics+\"Gegengekoppelter_Verstaerker_2.pdf\")\n"
   ]
  },
  {
   "cell_type": "code",
   "execution_count": 676,
   "metadata": {
    "collapsed": false
   },
   "outputs": [
    {
     "name": "stdout",
     "output_type": "stream",
     "text": [
      "Grenzfrequenz 10.5620269121 kHz\n",
      "Verstärkung-Bandbreite-Produkt 3.5458233205\n",
      "-0.142424242424\n"
     ]
    }
   ],
   "source": [
    "print(\"Grenzfrequenz\", frequency_limit[0], \"kHz\")\n",
    "print(\"Verstärkung-Bandbreite-Produkt\",frequency_limit[0] * plateau)\n",
    "print(noms(degenerative_amplifier_resistors[\"RN\"] * plateau /(degenerative_amplifier_resistors[\"RN\"]\n",
    "                                                              - (degenerative_amplifier_resistors[\"R1\"] * plateau)))[1])"
   ]
  },
  {
   "cell_type": "markdown",
   "metadata": {},
   "source": [
    "## Messreihe 3"
   ]
  },
  {
   "cell_type": "code",
   "execution_count": 636,
   "metadata": {
    "collapsed": true
   },
   "outputs": [],
   "source": [
    "degenerative_amplifier_3 = pd.read_csv(path_data + \"Frequenzgang_Gegengekoppelter_Verstaerker_3.csv\",\n",
    "                                       skiprows=1, names=(\"f\",\"U1\",\"UA\"))\n",
    "\n",
    "degenerative_amplifier_3[\"f\"] = unp.uarray(degenerative_amplifier_3[\"f\"],\n",
    "                                           degenerative_amplifier_3[\"f\"]*degenerative_amplifier_err[\"f\"][0])\n",
    "degenerative_amplifier_3[\"U1\"] = unp.uarray(degenerative_amplifier_3[\"U1\"],\n",
    "                                           degenerative_amplifier_err[\"U1\"][0])\n",
    "degenerative_amplifier_3[\"UA\"] = unp.uarray(degenerative_amplifier_3[\"UA\"],\n",
    "                                           degenerative_amplifier_err[\"UA\"][0])\n",
    "\n",
    "degenerative_amplifier_3[\"V\"] = degenerative_amplifier_3[\"UA\"]/degenerative_amplifier_3[\"U1\"]\n",
    "degenerative_amplifier_3[\"logf\"] = unp.log10(degenerative_amplifier_3[\"f\"])\n",
    "degenerative_amplifier_3[\"logV\"] = unp.log10(degenerative_amplifier_3[\"V\"])"
   ]
  },
  {
   "cell_type": "code",
   "execution_count": 637,
   "metadata": {
    "collapsed": false
   },
   "outputs": [
    {
     "data": {
      "text/html": [
       "<div>\n",
       "<table border=\"1\" class=\"dataframe\">\n",
       "  <thead>\n",
       "    <tr style=\"text-align: right;\">\n",
       "      <th></th>\n",
       "      <th>f</th>\n",
       "      <th>U1</th>\n",
       "      <th>UA</th>\n",
       "      <th>V</th>\n",
       "      <th>logf</th>\n",
       "      <th>logV</th>\n",
       "    </tr>\n",
       "  </thead>\n",
       "  <tbody>\n",
       "    <tr>\n",
       "      <th>0</th>\n",
       "      <td>0.01000+/-0.00010</td>\n",
       "      <td>70.0+/-1.0</td>\n",
       "      <td>37.0+/-5.0</td>\n",
       "      <td>0.53+/-0.07</td>\n",
       "      <td>-2.000+/-0.004</td>\n",
       "      <td>-0.28+/-0.06</td>\n",
       "    </tr>\n",
       "    <tr>\n",
       "      <th>1</th>\n",
       "      <td>0.1000+/-0.0010</td>\n",
       "      <td>70.0+/-1.0</td>\n",
       "      <td>35.0+/-5.0</td>\n",
       "      <td>0.50+/-0.07</td>\n",
       "      <td>-1.000+/-0.004</td>\n",
       "      <td>-0.30+/-0.06</td>\n",
       "    </tr>\n",
       "    <tr>\n",
       "      <th>2</th>\n",
       "      <td>1.000+/-0.010</td>\n",
       "      <td>70.0+/-1.0</td>\n",
       "      <td>38.0+/-5.0</td>\n",
       "      <td>0.54+/-0.07</td>\n",
       "      <td>0.000+/-0.004</td>\n",
       "      <td>-0.27+/-0.06</td>\n",
       "    </tr>\n",
       "    <tr>\n",
       "      <th>3</th>\n",
       "      <td>10.00+/-0.10</td>\n",
       "      <td>70.0+/-1.0</td>\n",
       "      <td>32.0+/-5.0</td>\n",
       "      <td>0.46+/-0.07</td>\n",
       "      <td>1.000+/-0.004</td>\n",
       "      <td>-0.34+/-0.07</td>\n",
       "    </tr>\n",
       "    <tr>\n",
       "      <th>4</th>\n",
       "      <td>20.00+/-0.20</td>\n",
       "      <td>70.0+/-1.0</td>\n",
       "      <td>30.0+/-5.0</td>\n",
       "      <td>0.43+/-0.07</td>\n",
       "      <td>1.301+/-0.004</td>\n",
       "      <td>-0.37+/-0.07</td>\n",
       "    </tr>\n",
       "    <tr>\n",
       "      <th>5</th>\n",
       "      <td>30.00+/-0.30</td>\n",
       "      <td>70.0+/-1.0</td>\n",
       "      <td>25.0+/-5.0</td>\n",
       "      <td>0.36+/-0.07</td>\n",
       "      <td>1.477+/-0.004</td>\n",
       "      <td>-0.45+/-0.09</td>\n",
       "    </tr>\n",
       "    <tr>\n",
       "      <th>6</th>\n",
       "      <td>40.0+/-0.4</td>\n",
       "      <td>70.0+/-1.0</td>\n",
       "      <td>19.0+/-5.0</td>\n",
       "      <td>0.27+/-0.07</td>\n",
       "      <td>1.602+/-0.004</td>\n",
       "      <td>-0.57+/-0.11</td>\n",
       "    </tr>\n",
       "    <tr>\n",
       "      <th>7</th>\n",
       "      <td>50.0+/-0.5</td>\n",
       "      <td>70.0+/-1.0</td>\n",
       "      <td>19.0+/-5.0</td>\n",
       "      <td>0.27+/-0.07</td>\n",
       "      <td>1.699+/-0.004</td>\n",
       "      <td>-0.57+/-0.11</td>\n",
       "    </tr>\n",
       "    <tr>\n",
       "      <th>8</th>\n",
       "      <td>100.0+/-1.0</td>\n",
       "      <td>70.0+/-1.0</td>\n",
       "      <td>16.0+/-5.0</td>\n",
       "      <td>0.23+/-0.07</td>\n",
       "      <td>2.000+/-0.004</td>\n",
       "      <td>-0.64+/-0.14</td>\n",
       "    </tr>\n",
       "  </tbody>\n",
       "</table>\n",
       "</div>"
      ],
      "text/plain": [
       "                   f          U1          UA            V            logf  \\\n",
       "0  0.01000+/-0.00010  70.0+/-1.0  37.0+/-5.0  0.53+/-0.07  -2.000+/-0.004   \n",
       "1    0.1000+/-0.0010  70.0+/-1.0  35.0+/-5.0  0.50+/-0.07  -1.000+/-0.004   \n",
       "2      1.000+/-0.010  70.0+/-1.0  38.0+/-5.0  0.54+/-0.07   0.000+/-0.004   \n",
       "3       10.00+/-0.10  70.0+/-1.0  32.0+/-5.0  0.46+/-0.07   1.000+/-0.004   \n",
       "4       20.00+/-0.20  70.0+/-1.0  30.0+/-5.0  0.43+/-0.07   1.301+/-0.004   \n",
       "5       30.00+/-0.30  70.0+/-1.0  25.0+/-5.0  0.36+/-0.07   1.477+/-0.004   \n",
       "6         40.0+/-0.4  70.0+/-1.0  19.0+/-5.0  0.27+/-0.07   1.602+/-0.004   \n",
       "7         50.0+/-0.5  70.0+/-1.0  19.0+/-5.0  0.27+/-0.07   1.699+/-0.004   \n",
       "8        100.0+/-1.0  70.0+/-1.0  16.0+/-5.0  0.23+/-0.07   2.000+/-0.004   \n",
       "\n",
       "           logV  \n",
       "0  -0.28+/-0.06  \n",
       "1  -0.30+/-0.06  \n",
       "2  -0.27+/-0.06  \n",
       "3  -0.34+/-0.07  \n",
       "4  -0.37+/-0.07  \n",
       "5  -0.45+/-0.09  \n",
       "6  -0.57+/-0.11  \n",
       "7  -0.57+/-0.11  \n",
       "8  -0.64+/-0.14  "
      ]
     },
     "execution_count": 637,
     "metadata": {},
     "output_type": "execute_result"
    }
   ],
   "source": [
    "degenerative_amplifier_3"
   ]
  },
  {
   "cell_type": "code",
   "execution_count": 671,
   "metadata": {
    "collapsed": false
   },
   "outputs": [
    {
     "name": "stdout",
     "output_type": "stream",
     "text": [
      "Steigung a           -0.32409599685032225 +/- 0.055292065346214433\n",
      "y-Achsenabschnitt b  0.0047634669809800715 +/- 0.07751276264228699\n"
     ]
    }
   ],
   "source": [
    "popt, pcov = sp.optimize.curve_fit(linear_func, \n",
    "                                   noms(degenerative_amplifier_3[\"f\"][3:]),\n",
    "                                   noms(degenerative_amplifier_3[\"V\"][3:]),\n",
    "                                   sigma=stds(degenerative_amplifier_3[\"V\"][3:]))\n",
    "param_a, param_b = fit_errors(popt,pcov)\n",
    "\n",
    "print_errors([param_a,param_b],description=(\"Steigung a\",\"y-Achsenabschnitt b\"))\n",
    "\n",
    "x = np.linspace(min(noms(degenerative_amplifier_3[\"f\"])), max(noms(degenerative_amplifier_3[\"f\"])), 1000)\n",
    "y = linear_func(x,noms(param_a), noms(param_b))\n",
    "\n"
   ]
  },
  {
   "cell_type": "code",
   "execution_count": 672,
   "metadata": {
    "collapsed": false
   },
   "outputs": [
    {
     "data": {
      "image/png": "[encoded data removed]",
      "text/plain": [
       "<matplotlib.figure.Figure at 0x7f3d09210940>"
      ]
     },
     "metadata": {},
     "output_type": "display_data"
    }
   ],
   "source": [
    "fig,ax = plt.subplots()\n",
    "ax.set_xlabel(axis_label(\"Frequenzen\", \"f\", \"kHz\"))\n",
    "ax.set_ylabel(axis_label(\"Verstärkung\", \"V^{\\prime}\"))\n",
    "\n",
    "ax.set_xscale(\"log\")\n",
    "ax.set_yscale(\"log\")\n",
    "\n",
    "plateau = np.mean(noms(degenerative_amplifier_3[\"V\"][:2]))\n",
    "plateau_sq2 = plateau/np.sqrt(2) \n",
    "frequency_limit = sp.optimize.fsolve(lambda x:x**noms(param_a) * 10**noms(param_b) - plateau_sq2,x0=1)\n",
    "\n",
    "\n",
    "errorbar(degenerative_amplifier_3[\"f\"][:3],degenerative_amplifier_3[\"V\"][:3],\n",
    "        marker=\"o\", linestyle=\"\", ax=ax, label=\"Messwerte im Plateau \")\n",
    "errorbar(degenerative_amplifier_3[\"f\"][3:],degenerative_amplifier_3[\"V\"][3:],\n",
    "        marker=\"o\", linestyle=\"\", ax=ax, label=\"Messwerte im Fit\")\n",
    "\n",
    "ax.axhline(noms(degenerative_amplifier_resistors[\"RN\"][2]/degenerative_amplifier_resistors[\"R1\"][2]), \n",
    "           label=\"Widerstandsverhältnis $R_N/R_1$\",color=colors[3])\n",
    "\n",
    "ax.axhline(plateau, label=\"max. Verstärkung\",linestyle=\"dashed\",color=colors[4])\n",
    "ax.axvline(frequency_limit,color=colors[5], label=\"Grenzfrequenz $f_g$\")\n",
    "\n",
    "\n",
    "ylim = ax.get_ylim()\n",
    "ylim_mask = (y>ylim[0])&(y<ylim[1])\n",
    "\n",
    "ax.plot(x[ylim_mask],y[ylim_mask],label=\"Fit-Gerade\")\n",
    "ax.legend(loc=\"lower left\")\n",
    "fig.savefig(path_graphics+\"Gegengekoppelter_Verstaerker_3.pdf\")\n"
   ]
  },
  {
   "cell_type": "code",
   "execution_count": 673,
   "metadata": {
    "collapsed": false
   },
   "outputs": [
    {
     "name": "stdout",
     "output_type": "stream",
     "text": [
      "Grenzfrequenz 23.4526978399 kHz\n",
      "Verstärkung-Bandbreite-Produkt 12.0613874605\n",
      "-0.796460176991\n"
     ]
    }
   ],
   "source": [
    "print(\"Grenzfrequenz\", frequency_limit[0], \"kHz\")\n",
    "print(\"Verstärkung-Bandbreite-Produkt\",frequency_limit[0] * plateau)\n",
    "print(noms(degenerative_amplifier_resistors[\"RN\"] * plateau /(degenerative_amplifier_resistors[\"RN\"]\n",
    "                                                              - (degenerative_amplifier_resistors[\"R1\"] * plateau)))[2])"
   ]
  },
  {
   "cell_type": "markdown",
   "metadata": {},
   "source": [
    "## Messreihe 4"
   ]
  },
  {
   "cell_type": "code",
   "execution_count": 641,
   "metadata": {
    "collapsed": true
   },
   "outputs": [],
   "source": [
    "degenerative_amplifier_4 = pd.read_csv(path_data + \"Frequenzgang_Gegengekoppelter_Verstaerker_4.csv\",\n",
    "                                       skiprows=1, names=(\"f\",\"U1\",\"UA\"))\n",
    "\n",
    "degenerative_amplifier_4[\"f\"] = unp.uarray(degenerative_amplifier_4[\"f\"],\n",
    "                                           degenerative_amplifier_4[\"f\"]*degenerative_amplifier_err[\"f\"][0])\n",
    "degenerative_amplifier_4[\"U1\"] = unp.uarray(degenerative_amplifier_4[\"U1\"],\n",
    "                                           degenerative_amplifier_err[\"U1\"][0])\n",
    "degenerative_amplifier_4[\"UA\"] = unp.uarray(degenerative_amplifier_4[\"UA\"],\n",
    "                                           degenerative_amplifier_err[\"UA\"][0])\n",
    "\n",
    "degenerative_amplifier_4[\"V\"] = degenerative_amplifier_4[\"UA\"]/degenerative_amplifier_4[\"U1\"]\n",
    "degenerative_amplifier_4[\"logf\"] = unp.log10(degenerative_amplifier_4[\"f\"])\n",
    "degenerative_amplifier_4[\"logV\"] = unp.log10(degenerative_amplifier_4[\"V\"])"
   ]
  },
  {
   "cell_type": "code",
   "execution_count": 642,
   "metadata": {
    "collapsed": false
   },
   "outputs": [
    {
     "data": {
      "text/html": [
       "<div>\n",
       "<table border=\"1\" class=\"dataframe\">\n",
       "  <thead>\n",
       "    <tr style=\"text-align: right;\">\n",
       "      <th></th>\n",
       "      <th>f</th>\n",
       "      <th>U1</th>\n",
       "      <th>UA</th>\n",
       "      <th>V</th>\n",
       "      <th>logf</th>\n",
       "      <th>logV</th>\n",
       "    </tr>\n",
       "  </thead>\n",
       "  <tbody>\n",
       "    <tr>\n",
       "      <th>0</th>\n",
       "      <td>0.1000+/-0.0010</td>\n",
       "      <td>70.0+/-1.0</td>\n",
       "      <td>220.0+/-5.0</td>\n",
       "      <td>3.14+/-0.08</td>\n",
       "      <td>-1.000+/-0.004</td>\n",
       "      <td>0.497+/-0.012</td>\n",
       "    </tr>\n",
       "    <tr>\n",
       "      <th>1</th>\n",
       "      <td>1.000+/-0.010</td>\n",
       "      <td>70.0+/-1.0</td>\n",
       "      <td>230.0+/-5.0</td>\n",
       "      <td>3.29+/-0.09</td>\n",
       "      <td>0.000+/-0.004</td>\n",
       "      <td>0.517+/-0.011</td>\n",
       "    </tr>\n",
       "    <tr>\n",
       "      <th>2</th>\n",
       "      <td>5.00+/-0.05</td>\n",
       "      <td>70.0+/-1.0</td>\n",
       "      <td>160.0+/-5.0</td>\n",
       "      <td>2.29+/-0.08</td>\n",
       "      <td>0.699+/-0.004</td>\n",
       "      <td>0.359+/-0.015</td>\n",
       "    </tr>\n",
       "    <tr>\n",
       "      <th>3</th>\n",
       "      <td>10.00+/-0.10</td>\n",
       "      <td>70.0+/-1.0</td>\n",
       "      <td>100.0+/-5.0</td>\n",
       "      <td>1.43+/-0.07</td>\n",
       "      <td>1.000+/-0.004</td>\n",
       "      <td>0.155+/-0.023</td>\n",
       "    </tr>\n",
       "    <tr>\n",
       "      <th>4</th>\n",
       "      <td>20.00+/-0.20</td>\n",
       "      <td>70.0+/-1.0</td>\n",
       "      <td>60.0+/-5.0</td>\n",
       "      <td>0.86+/-0.07</td>\n",
       "      <td>1.301+/-0.004</td>\n",
       "      <td>-0.07+/-0.04</td>\n",
       "    </tr>\n",
       "    <tr>\n",
       "      <th>5</th>\n",
       "      <td>30.00+/-0.30</td>\n",
       "      <td>70.0+/-1.0</td>\n",
       "      <td>45.0+/-5.0</td>\n",
       "      <td>0.64+/-0.07</td>\n",
       "      <td>1.477+/-0.004</td>\n",
       "      <td>-0.19+/-0.05</td>\n",
       "    </tr>\n",
       "    <tr>\n",
       "      <th>6</th>\n",
       "      <td>50.0+/-0.5</td>\n",
       "      <td>70.0+/-1.0</td>\n",
       "      <td>35.0+/-5.0</td>\n",
       "      <td>0.50+/-0.07</td>\n",
       "      <td>1.699+/-0.004</td>\n",
       "      <td>-0.30+/-0.06</td>\n",
       "    </tr>\n",
       "    <tr>\n",
       "      <th>7</th>\n",
       "      <td>100.0+/-1.0</td>\n",
       "      <td>70.0+/-1.0</td>\n",
       "      <td>25.0+/-5.0</td>\n",
       "      <td>0.36+/-0.07</td>\n",
       "      <td>2.000+/-0.004</td>\n",
       "      <td>-0.45+/-0.09</td>\n",
       "    </tr>\n",
       "  </tbody>\n",
       "</table>\n",
       "</div>"
      ],
      "text/plain": [
       "                 f          U1           UA            V            logf  \\\n",
       "0  0.1000+/-0.0010  70.0+/-1.0  220.0+/-5.0  3.14+/-0.08  -1.000+/-0.004   \n",
       "1    1.000+/-0.010  70.0+/-1.0  230.0+/-5.0  3.29+/-0.09   0.000+/-0.004   \n",
       "2      5.00+/-0.05  70.0+/-1.0  160.0+/-5.0  2.29+/-0.08   0.699+/-0.004   \n",
       "3     10.00+/-0.10  70.0+/-1.0  100.0+/-5.0  1.43+/-0.07   1.000+/-0.004   \n",
       "4     20.00+/-0.20  70.0+/-1.0   60.0+/-5.0  0.86+/-0.07   1.301+/-0.004   \n",
       "5     30.00+/-0.30  70.0+/-1.0   45.0+/-5.0  0.64+/-0.07   1.477+/-0.004   \n",
       "6       50.0+/-0.5  70.0+/-1.0   35.0+/-5.0  0.50+/-0.07   1.699+/-0.004   \n",
       "7      100.0+/-1.0  70.0+/-1.0   25.0+/-5.0  0.36+/-0.07   2.000+/-0.004   \n",
       "\n",
       "            logV  \n",
       "0  0.497+/-0.012  \n",
       "1  0.517+/-0.011  \n",
       "2  0.359+/-0.015  \n",
       "3  0.155+/-0.023  \n",
       "4   -0.07+/-0.04  \n",
       "5   -0.19+/-0.05  \n",
       "6   -0.30+/-0.06  \n",
       "7   -0.45+/-0.09  "
      ]
     },
     "execution_count": 642,
     "metadata": {},
     "output_type": "execute_result"
    }
   ],
   "source": [
    "degenerative_amplifier_4"
   ]
  },
  {
   "cell_type": "code",
   "execution_count": 668,
   "metadata": {
    "collapsed": false
   },
   "outputs": [
    {
     "name": "stdout",
     "output_type": "stream",
     "text": [
      "Steigung a           -0.6773904095208729 +/- 0.019982447206770816\n",
      "y-Achsenabschnitt b  0.8307837558466196 +/- 0.01941271719967101\n"
     ]
    }
   ],
   "source": [
    "popt, pcov = sp.optimize.curve_fit(linear_func, \n",
    "                                   noms(degenerative_amplifier_4[\"f\"][2:]),\n",
    "                                   noms(degenerative_amplifier_4[\"V\"][2:]),\n",
    "                                   sigma=stds(degenerative_amplifier_4[\"V\"][2:]))\n",
    "param_a, param_b = fit_errors(popt,pcov)\n",
    "\n",
    "print_errors([param_a,param_b],description=(\"Steigung a\",\"y-Achsenabschnitt b\"))\n",
    "\n",
    "x = np.linspace(min(noms(degenerative_amplifier_4[\"f\"])), max(noms(degenerative_amplifier_4[\"f\"])), 1000)\n",
    "y = linear_func(x,noms(param_a), noms(param_b))\n",
    "\n"
   ]
  },
  {
   "cell_type": "code",
   "execution_count": 644,
   "metadata": {
    "collapsed": false
   },
   "outputs": [
    {
     "data": {
      "image/png": "[encoded data removed]",
      "text/plain": [
       "<matplotlib.figure.Figure at 0x7f3d096299e8>"
      ]
     },
     "metadata": {},
     "output_type": "display_data"
    }
   ],
   "source": [
    "fig,ax = plt.subplots()\n",
    "ax.set_xlabel(axis_label(\"Frequenzen\", \"f\", \"kHz\"))\n",
    "ax.set_ylabel(axis_label(\"Verstärkung\", \"V^{\\prime}\"))\n",
    "\n",
    "ax.set_xscale(\"log\")\n",
    "ax.set_yscale(\"log\")\n",
    "\n",
    "plateau = np.mean(noms(degenerative_amplifier_4[\"V\"][:2]))\n",
    "plateau_sq2 = plateau/np.sqrt(2) \n",
    "frequency_limit = sp.optimize.fsolve(lambda x:x**noms(param_a) * 10**noms(param_b) - plateau_sq2,x0=1)\n",
    "\n",
    "\n",
    "errorbar(degenerative_amplifier_4[\"f\"][:2],degenerative_amplifier_4[\"V\"][:2],\n",
    "        marker=\"o\", linestyle=\"\", ax=ax, label=\"Messwerte im Plateau\")\n",
    "errorbar(degenerative_amplifier_4[\"f\"][2:],degenerative_amplifier_4[\"V\"][2:],\n",
    "        marker=\"o\", linestyle=\"\", ax=ax, label=\"Messwerte im Fit\")\n",
    "\n",
    "ax.axhline(noms(degenerative_amplifier_resistors[\"RN\"][3]/degenerative_amplifier_resistors[\"R1\"][3]), \n",
    "           label=\"Widerstandsverhältnis $R_N/R_1$\",color=colors[3])\n",
    "\n",
    "ax.axhline(plateau, label=\"max. Verstärkung\",linestyle=\"dashed\",color=colors[4])\n",
    "ax.axvline(frequency_limit,color=colors[5], label=\"Grenzfrequenz $f_g$\")\n",
    "\n",
    "\n",
    "ylim = ax.get_ylim()\n",
    "ylim_mask = (y>ylim[0])&(y<ylim[1])\n",
    "\n",
    "ax.plot(x[ylim_mask],y[ylim_mask],label=\"Fit-Gerade\")\n",
    "ax.legend(loc=\"lower left\")\n",
    "fig.savefig(path_graphics+\"Gegengekoppelter_Verstaerker_4.pdf\")\n"
   ]
  },
  {
   "cell_type": "code",
   "execution_count": 669,
   "metadata": {
    "collapsed": false
   },
   "outputs": [
    {
     "name": "stdout",
     "output_type": "stream",
     "text": [
      "Grenzfrequenz 11.0252215797 kHz\n",
      "Verstärkung-Bandbreite-Produkt 11.8127374069\n",
      "1.61073825503\n"
     ]
    }
   ],
   "source": [
    "print(\"Grenzfrequenz\", frequency_limit[0], \"kHz\")\n",
    "print(\"Verstärkung-Bandbreite-Produkt\",frequency_limit[0] * plateau)\n",
    "print(noms(degenerative_amplifier_resistors[\"RN\"] * plateau /(degenerative_amplifier_resistors[\"RN\"]\n",
    "                                                              - (degenerative_amplifier_resistors[\"R1\"] * plateau)))[3])\n"
   ]
  },
  {
   "cell_type": "code",
   "execution_count": 549,
   "metadata": {
    "collapsed": true
   },
   "outputs": [],
   "source": [
    "degenerative_amplifier_phase = pd.read_csv(path_data + \"Phase_Gegengekoppelter_Verstaerker_4.csv\",\n",
    "                                       skiprows=1, names=(\"f\",\"Phase\",\"UA\"))"
   ]
  },
  {
   "cell_type": "code",
   "execution_count": 550,
   "metadata": {
    "collapsed": false
   },
   "outputs": [
    {
     "data": {
      "text/html": [
       "<div>\n",
       "<table border=\"1\" class=\"dataframe\">\n",
       "  <thead>\n",
       "    <tr style=\"text-align: right;\">\n",
       "      <th></th>\n",
       "      <th>f</th>\n",
       "      <th>Phase</th>\n",
       "      <th>UA</th>\n",
       "    </tr>\n",
       "  </thead>\n",
       "  <tbody>\n",
       "    <tr>\n",
       "      <th>0</th>\n",
       "      <td>0.1</td>\n",
       "      <td>175</td>\n",
       "      <td>225</td>\n",
       "    </tr>\n",
       "    <tr>\n",
       "      <th>1</th>\n",
       "      <td>0.2</td>\n",
       "      <td>170</td>\n",
       "      <td>225</td>\n",
       "    </tr>\n",
       "    <tr>\n",
       "      <th>2</th>\n",
       "      <td>0.3</td>\n",
       "      <td>168</td>\n",
       "      <td>225</td>\n",
       "    </tr>\n",
       "    <tr>\n",
       "      <th>3</th>\n",
       "      <td>0.4</td>\n",
       "      <td>168</td>\n",
       "      <td>225</td>\n",
       "    </tr>\n",
       "    <tr>\n",
       "      <th>4</th>\n",
       "      <td>0.5</td>\n",
       "      <td>165</td>\n",
       "      <td>225</td>\n",
       "    </tr>\n",
       "    <tr>\n",
       "      <th>5</th>\n",
       "      <td>1.0</td>\n",
       "      <td>162</td>\n",
       "      <td>223</td>\n",
       "    </tr>\n",
       "    <tr>\n",
       "      <th>6</th>\n",
       "      <td>2.0</td>\n",
       "      <td>150</td>\n",
       "      <td>205</td>\n",
       "    </tr>\n",
       "    <tr>\n",
       "      <th>7</th>\n",
       "      <td>3.0</td>\n",
       "      <td>140</td>\n",
       "      <td>185</td>\n",
       "    </tr>\n",
       "    <tr>\n",
       "      <th>8</th>\n",
       "      <td>4.0</td>\n",
       "      <td>130</td>\n",
       "      <td>170</td>\n",
       "    </tr>\n",
       "    <tr>\n",
       "      <th>9</th>\n",
       "      <td>5.0</td>\n",
       "      <td>125</td>\n",
       "      <td>155</td>\n",
       "    </tr>\n",
       "    <tr>\n",
       "      <th>10</th>\n",
       "      <td>10.0</td>\n",
       "      <td>110</td>\n",
       "      <td>100</td>\n",
       "    </tr>\n",
       "    <tr>\n",
       "      <th>11</th>\n",
       "      <td>20.0</td>\n",
       "      <td>90</td>\n",
       "      <td>60</td>\n",
       "    </tr>\n",
       "  </tbody>\n",
       "</table>\n",
       "</div>"
      ],
      "text/plain": [
       "       f  Phase   UA\n",
       "0    0.1    175  225\n",
       "1    0.2    170  225\n",
       "2    0.3    168  225\n",
       "3    0.4    168  225\n",
       "4    0.5    165  225\n",
       "5    1.0    162  223\n",
       "6    2.0    150  205\n",
       "7    3.0    140  185\n",
       "8    4.0    130  170\n",
       "9    5.0    125  155\n",
       "10  10.0    110  100\n",
       "11  20.0     90   60"
      ]
     },
     "execution_count": 550,
     "metadata": {},
     "output_type": "execute_result"
    }
   ],
   "source": [
    "degenerative_amplifier_phase"
   ]
  },
  {
   "cell_type": "code",
   "execution_count": 551,
   "metadata": {
    "collapsed": false
   },
   "outputs": [],
   "source": [
    "degenerative_amplifier_phase[\"f\"] = unp.uarray(degenerative_amplifier_phase[\"f\"],\n",
    "                                               degenerative_amplifier_phase[\"f\"]*degenerative_amplifier_err[\"f\"][0])\n",
    "degenerative_amplifier_phase[\"Phase\"] = unp.uarray(degenerative_amplifier_phase[\"Phase\"],\n",
    "                                                   degenerative_amplifier_err[\"Phase\"][0])\n",
    "degenerative_amplifier_phase[\"UA\"] = unp.uarray(degenerative_amplifier_phase[\"UA\"],\n",
    "                                                degenerative_amplifier_err[\"UA\"][0])"
   ]
  },
  {
   "cell_type": "code",
   "execution_count": 552,
   "metadata": {
    "collapsed": false
   },
   "outputs": [
    {
     "data": {
      "text/html": [
       "<div>\n",
       "<table border=\"1\" class=\"dataframe\">\n",
       "  <thead>\n",
       "    <tr style=\"text-align: right;\">\n",
       "      <th></th>\n",
       "      <th>f</th>\n",
       "      <th>Phase</th>\n",
       "      <th>UA</th>\n",
       "    </tr>\n",
       "  </thead>\n",
       "  <tbody>\n",
       "    <tr>\n",
       "      <th>0</th>\n",
       "      <td>0.1000+/-0.0010</td>\n",
       "      <td>175.0+/-5.0</td>\n",
       "      <td>225.0+/-5.0</td>\n",
       "    </tr>\n",
       "    <tr>\n",
       "      <th>1</th>\n",
       "      <td>0.2000+/-0.0020</td>\n",
       "      <td>170.0+/-5.0</td>\n",
       "      <td>225.0+/-5.0</td>\n",
       "    </tr>\n",
       "    <tr>\n",
       "      <th>2</th>\n",
       "      <td>0.3000+/-0.0030</td>\n",
       "      <td>168.0+/-5.0</td>\n",
       "      <td>225.0+/-5.0</td>\n",
       "    </tr>\n",
       "    <tr>\n",
       "      <th>3</th>\n",
       "      <td>0.400+/-0.004</td>\n",
       "      <td>168.0+/-5.0</td>\n",
       "      <td>225.0+/-5.0</td>\n",
       "    </tr>\n",
       "    <tr>\n",
       "      <th>4</th>\n",
       "      <td>0.500+/-0.005</td>\n",
       "      <td>165.0+/-5.0</td>\n",
       "      <td>225.0+/-5.0</td>\n",
       "    </tr>\n",
       "    <tr>\n",
       "      <th>5</th>\n",
       "      <td>1.000+/-0.010</td>\n",
       "      <td>162.0+/-5.0</td>\n",
       "      <td>223.0+/-5.0</td>\n",
       "    </tr>\n",
       "    <tr>\n",
       "      <th>6</th>\n",
       "      <td>2.000+/-0.020</td>\n",
       "      <td>150.0+/-5.0</td>\n",
       "      <td>205.0+/-5.0</td>\n",
       "    </tr>\n",
       "    <tr>\n",
       "      <th>7</th>\n",
       "      <td>3.000+/-0.030</td>\n",
       "      <td>140.0+/-5.0</td>\n",
       "      <td>185.0+/-5.0</td>\n",
       "    </tr>\n",
       "    <tr>\n",
       "      <th>8</th>\n",
       "      <td>4.00+/-0.04</td>\n",
       "      <td>130.0+/-5.0</td>\n",
       "      <td>170.0+/-5.0</td>\n",
       "    </tr>\n",
       "    <tr>\n",
       "      <th>9</th>\n",
       "      <td>5.00+/-0.05</td>\n",
       "      <td>125.0+/-5.0</td>\n",
       "      <td>155.0+/-5.0</td>\n",
       "    </tr>\n",
       "    <tr>\n",
       "      <th>10</th>\n",
       "      <td>10.00+/-0.10</td>\n",
       "      <td>110.0+/-5.0</td>\n",
       "      <td>100.0+/-5.0</td>\n",
       "    </tr>\n",
       "    <tr>\n",
       "      <th>11</th>\n",
       "      <td>20.00+/-0.20</td>\n",
       "      <td>90.0+/-5.0</td>\n",
       "      <td>60.0+/-5.0</td>\n",
       "    </tr>\n",
       "  </tbody>\n",
       "</table>\n",
       "</div>"
      ],
      "text/plain": [
       "                  f        Phase           UA\n",
       "0   0.1000+/-0.0010  175.0+/-5.0  225.0+/-5.0\n",
       "1   0.2000+/-0.0020  170.0+/-5.0  225.0+/-5.0\n",
       "2   0.3000+/-0.0030  168.0+/-5.0  225.0+/-5.0\n",
       "3     0.400+/-0.004  168.0+/-5.0  225.0+/-5.0\n",
       "4     0.500+/-0.005  165.0+/-5.0  225.0+/-5.0\n",
       "5     1.000+/-0.010  162.0+/-5.0  223.0+/-5.0\n",
       "6     2.000+/-0.020  150.0+/-5.0  205.0+/-5.0\n",
       "7     3.000+/-0.030  140.0+/-5.0  185.0+/-5.0\n",
       "8       4.00+/-0.04  130.0+/-5.0  170.0+/-5.0\n",
       "9       5.00+/-0.05  125.0+/-5.0  155.0+/-5.0\n",
       "10     10.00+/-0.10  110.0+/-5.0  100.0+/-5.0\n",
       "11     20.00+/-0.20   90.0+/-5.0   60.0+/-5.0"
      ]
     },
     "execution_count": 552,
     "metadata": {},
     "output_type": "execute_result"
    }
   ],
   "source": [
    "degenerative_amplifier_phase"
   ]
  },
  {
   "cell_type": "code",
   "execution_count": 561,
   "metadata": {
    "collapsed": false
   },
   "outputs": [
    {
     "data": {
      "image/png": "[encoded data removed]",
      "text/plain": [
       "<matplotlib.figure.Figure at 0x7f3d08291198>"
      ]
     },
     "metadata": {},
     "output_type": "display_data"
    }
   ],
   "source": [
    "fig,ax = plt.subplots()\n",
    "ax.set_xlabel(axis_label(\"Frequenzen\", \"f\", \"kHz\"))\n",
    "ax.set_ylabel(axis_label(\"Phase\", \"\\Delta\\phi\",\"Grad\"))\n",
    "\n",
    "\n",
    "errorbar(degenerative_amplifier_phase[\"f\"][:],degenerative_amplifier_phase[\"Phase\"][:],\n",
    "        marker=\"o\", linestyle=\"\", ax=ax, label=\"Messwerte\")\n",
    "#errorbar(degenerative_amplifier_4[\"f\"][2:],degenerative_amplifier_4[\"V\"][2:],\n",
    "#        marker=\"o\", linestyle=\"\", ax=ax, label=\"Messwerte $f> f_g$\")\n",
    "\n",
    "#ax.axhline(noms(degenerative_amplifier_resistors[\"RN\"][3]/degenerative_amplifier_resistors[\"R1\"][3]), \n",
    "#          label=\"Widerstandsverhältnis $R_N/R_1$\",color=colors[3])\n",
    "\n",
    "#ylim = ax.get_ylim()\n",
    "#ylim_mask = (y>ylim[0])&(y<ylim[1])\n",
    "\n",
    "#ax.plot(x[ylim_mask],y[ylim_mask],label=\"Fit-Gerade\")\n",
    "ax.legend(loc=\"upper right\")\n",
    "fig.savefig(path_graphics+\"Gegengekoppelter_Verstaerker_Phase.pdf\")\n"
   ]
  },
  {
   "cell_type": "code",
   "execution_count": null,
   "metadata": {
    "collapsed": true
   },
   "outputs": [],
   "source": []
  },
  {
   "cell_type": "code",
   "execution_count": null,
   "metadata": {
    "collapsed": true
   },
   "outputs": [],
   "source": []
  },
  {
   "cell_type": "markdown",
   "metadata": {},
   "source": [
    "## Messdaten zum Integrator d)"
   ]
  },
  {
   "cell_type": "code",
   "execution_count": 291,
   "metadata": {
    "collapsed": true
   },
   "outputs": [],
   "source": [
    "integrator = pd.read_csv(path_data+\"Frequenzgang_Integrator.csv\", skiprows=1, names=(\"f\",\"UA\"))\n",
    "\n",
    "integrator_err = pd.read_csv(path_data+\"Fehler_Integrator.csv\", skiprows=1, names=(\"f\",\"UA\",\"R\"))"
   ]
  },
  {
   "cell_type": "code",
   "execution_count": 292,
   "metadata": {
    "collapsed": false
   },
   "outputs": [],
   "source": [
    "integrator[\"f\"] = unp.uarray(integrator[\"f\"], integrator[\"f\"]*integrator_err[\"f\"][0])\n",
    "integrator[\"UA\"] = unp.uarray(integrator[\"UA\"], integrator_err[\"UA\"][0])\n",
    "\n",
    "integrator[\"logf\"] = unp.log10(integrator[\"f\"])\n",
    "integrator[\"logUA\"] = unp.log10(integrator[\"UA\"])"
   ]
  },
  {
   "cell_type": "code",
   "execution_count": 305,
   "metadata": {
    "collapsed": false
   },
   "outputs": [
    {
     "data": {
      "text/html": [
       "<div>\n",
       "<table border=\"1\" class=\"dataframe\">\n",
       "  <thead>\n",
       "    <tr style=\"text-align: right;\">\n",
       "      <th></th>\n",
       "      <th>f</th>\n",
       "      <th>UA</th>\n",
       "      <th>logf</th>\n",
       "      <th>logUA</th>\n",
       "    </tr>\n",
       "  </thead>\n",
       "  <tbody>\n",
       "    <tr>\n",
       "      <th>0</th>\n",
       "      <td>100.0+/-1.0</td>\n",
       "      <td>670.0+/-10.0</td>\n",
       "      <td>2.000+/-0.004</td>\n",
       "      <td>2.826+/-0.006</td>\n",
       "    </tr>\n",
       "    <tr>\n",
       "      <th>1</th>\n",
       "      <td>200.0+/-2.0</td>\n",
       "      <td>350.0+/-10.0</td>\n",
       "      <td>2.301+/-0.004</td>\n",
       "      <td>2.544+/-0.012</td>\n",
       "    </tr>\n",
       "    <tr>\n",
       "      <th>2</th>\n",
       "      <td>300.0+/-3.0</td>\n",
       "      <td>250.0+/-10.0</td>\n",
       "      <td>2.477+/-0.004</td>\n",
       "      <td>2.398+/-0.017</td>\n",
       "    </tr>\n",
       "    <tr>\n",
       "      <th>3</th>\n",
       "      <td>400.0+/-4.0</td>\n",
       "      <td>180.0+/-10.0</td>\n",
       "      <td>2.602+/-0.004</td>\n",
       "      <td>2.255+/-0.024</td>\n",
       "    </tr>\n",
       "    <tr>\n",
       "      <th>4</th>\n",
       "      <td>500.0+/-5.0</td>\n",
       "      <td>160.0+/-10.0</td>\n",
       "      <td>2.699+/-0.004</td>\n",
       "      <td>2.204+/-0.027</td>\n",
       "    </tr>\n",
       "    <tr>\n",
       "      <th>5</th>\n",
       "      <td>600.0+/-6.0</td>\n",
       "      <td>140.0+/-10.0</td>\n",
       "      <td>2.778+/-0.004</td>\n",
       "      <td>2.146+/-0.031</td>\n",
       "    </tr>\n",
       "    <tr>\n",
       "      <th>6</th>\n",
       "      <td>700.0+/-7.0</td>\n",
       "      <td>120.0+/-10.0</td>\n",
       "      <td>2.845+/-0.004</td>\n",
       "      <td>2.08+/-0.04</td>\n",
       "    </tr>\n",
       "    <tr>\n",
       "      <th>7</th>\n",
       "      <td>800.0+/-8.0</td>\n",
       "      <td>100.0+/-10.0</td>\n",
       "      <td>2.903+/-0.004</td>\n",
       "      <td>2.00+/-0.04</td>\n",
       "    </tr>\n",
       "    <tr>\n",
       "      <th>8</th>\n",
       "      <td>900.0+/-9.0</td>\n",
       "      <td>90.0+/-10.0</td>\n",
       "      <td>2.954+/-0.004</td>\n",
       "      <td>1.95+/-0.05</td>\n",
       "    </tr>\n",
       "    <tr>\n",
       "      <th>9</th>\n",
       "      <td>1000.0+/-10.0</td>\n",
       "      <td>80.0+/-10.0</td>\n",
       "      <td>3.000+/-0.004</td>\n",
       "      <td>1.90+/-0.05</td>\n",
       "    </tr>\n",
       "  </tbody>\n",
       "</table>\n",
       "</div>"
      ],
      "text/plain": [
       "               f            UA           logf          logUA\n",
       "0    100.0+/-1.0  670.0+/-10.0  2.000+/-0.004  2.826+/-0.006\n",
       "1    200.0+/-2.0  350.0+/-10.0  2.301+/-0.004  2.544+/-0.012\n",
       "2    300.0+/-3.0  250.0+/-10.0  2.477+/-0.004  2.398+/-0.017\n",
       "3    400.0+/-4.0  180.0+/-10.0  2.602+/-0.004  2.255+/-0.024\n",
       "4    500.0+/-5.0  160.0+/-10.0  2.699+/-0.004  2.204+/-0.027\n",
       "5    600.0+/-6.0  140.0+/-10.0  2.778+/-0.004  2.146+/-0.031\n",
       "6    700.0+/-7.0  120.0+/-10.0  2.845+/-0.004    2.08+/-0.04\n",
       "7    800.0+/-8.0  100.0+/-10.0  2.903+/-0.004    2.00+/-0.04\n",
       "8    900.0+/-9.0   90.0+/-10.0  2.954+/-0.004    1.95+/-0.05\n",
       "9  1000.0+/-10.0   80.0+/-10.0  3.000+/-0.004    1.90+/-0.05"
      ]
     },
     "execution_count": 305,
     "metadata": {},
     "output_type": "execute_result"
    }
   ],
   "source": [
    "integrator"
   ]
  },
  {
   "cell_type": "code",
   "execution_count": 427,
   "metadata": {
    "collapsed": false
   },
   "outputs": [
    {
     "name": "stdout",
     "output_type": "stream",
     "text": [
      "Steigung a           -0.906547929601287 +/- 0.01060464728719671\n",
      "y-Achsenabschnitt b  4.637839462233714 +/- 0.023588320273295587\n"
     ]
    }
   ],
   "source": [
    "popt, pcov = sp.optimize.curve_fit(linear_func, \n",
    "                                   noms(integrator[\"f\"][:]),\n",
    "                                   noms(integrator[\"UA\"][:]),\n",
    "                                   sigma=stds(integrator[\"UA\"][:]))\n",
    "param_a, param_b = fit_errors(popt,pcov)\n",
    "\n",
    "print_errors([param_a,param_b],description=(\"Steigung a\",\"y-Achsenabschnitt b\"))\n",
    "\n",
    "x = np.linspace(min(noms(integrator[\"f\"])), max(noms(integrator[\"f\"])), 1000)\n",
    "y = linear_func(x,noms(param_a), noms(param_b))\n",
    "\n"
   ]
  },
  {
   "cell_type": "code",
   "execution_count": 431,
   "metadata": {
    "collapsed": false
   },
   "outputs": [
    {
     "data": {
      "image/png": "[encoded data removed]",
      "text/plain": [
       "<matplotlib.figure.Figure at 0x7f3d09bbee48>"
      ]
     },
     "metadata": {},
     "output_type": "display_data"
    }
   ],
   "source": [
    "fig,ax = plt.subplots()\n",
    "ax.set_xlabel(axis_label(\"Frequenzen\", \"f\", \"kHz\"))\n",
    "ax.set_ylabel(axis_label(\"Ausgangsspannung\", \"U_{A}\", \"mV\"))\n",
    "\n",
    "ax.set_xscale(\"log\")\n",
    "ax.set_yscale(\"log\")\n",
    "\n",
    "errorbar(integrator[\"f\"][:],integrator[\"UA\"][:],factor=5,\n",
    "        marker=\"o\", linestyle=\"\", ax=ax, label=\"Messwerte\\n $5\\sigma$-Fehlerbalken\")\n",
    "\n",
    "#ax.axhline(noms(unp.log10(degenerative_amplifier_resistors[\"RN\"][3]/degenerative_amplifier_resistors[\"R1\"][3])), \n",
    "#          label=\"Widerstandsverhältnis $R_N/R_1$\",color=colors[3])\n",
    "\n",
    "ylim = ax.get_ylim()\n",
    "ylim_mask = (y>ylim[0])&(y<ylim[1])\n",
    "\n",
    "ax.plot(x[ylim_mask],y[ylim_mask],label=\"Fit-Gerade\")\n",
    "ax.legend(loc=\"lower left\")\n",
    "fig.savefig(path_graphics+\"Integator.pdf\")\n"
   ]
  },
  {
   "cell_type": "code",
   "execution_count": 432,
   "metadata": {
    "collapsed": false
   },
   "outputs": [],
   "source": [
    "integrator_oscilloscope_sin = pd.read_csv(path_data+\"Oszilloskop_Integrator_400Hz/Eingang_Sinus.csv\",\n",
    "                                              skiprows=2, names=(\"t\",\"UA\",\"UE\"))\n",
    "integrator_oscilloscope_tri = pd.read_csv(path_data+\"Oszilloskop_Integrator_400Hz/Eingang_Dreieck.csv\",\n",
    "                                              skiprows=2, names=(\"t\",\"UA\",\"UE\"))\n",
    "integrator_oscilloscope_rec = pd.read_csv(path_data+\"Oszilloskop_Integrator_400Hz/Eingang_Rechteck.csv\",\n",
    "                                              skiprows=2, names=(\"t\",\"UA\",\"UE\"))"
   ]
  },
  {
   "cell_type": "code",
   "execution_count": 438,
   "metadata": {
    "collapsed": false
   },
   "outputs": [
    {
     "data": {
      "image/png": "[encoded data removed]",
      "text/plain": [
       "<matplotlib.figure.Figure at 0x7f3d09528cf8>"
      ]
     },
     "metadata": {},
     "output_type": "display_data"
    }
   ],
   "source": [
    "fig,ax = plt.subplots()\n",
    "axis_scale(factor=1e3,axis=\"x\")\n",
    "ax.set_xlabel(axis_label(\"Zeit\", \"t\", \"ms\"))\n",
    "ax.set_ylabel(axis_label(\"Spannung\", \"U\", \"mV\"))\n",
    "ax.set_ylim(-0.2,0.25)\n",
    "ax.plot(integrator_oscilloscope_sin[\"t\"],integrator_oscilloscope_sin[\"UE\"],label=\"Eingangsspannung\")\n",
    "ax.plot(integrator_oscilloscope_sin[\"t\"],integrator_oscilloscope_sin[\"UA\"],label=\"Ausgangsspannung\")\n",
    "ax.legend(loc=\"upper right\")\n",
    "fig.savefig(path_graphics+\"Integrator_Oszilloskop_Sinus.pdf\")\n"
   ]
  },
  {
   "cell_type": "code",
   "execution_count": 439,
   "metadata": {
    "collapsed": false
   },
   "outputs": [
    {
     "data": {
      "image/png": "[encoded data removed]",
      "text/plain": [
       "<matplotlib.figure.Figure at 0x7f3d08687ba8>"
      ]
     },
     "metadata": {},
     "output_type": "display_data"
    }
   ],
   "source": [
    "fig,ax = plt.subplots()\n",
    "axis_scale(factor=1e3,axis=\"x\")\n",
    "ax.set_xlabel(axis_label(\"Zeit\", \"t\", \"ms\"))\n",
    "ax.set_ylabel(axis_label(\"Spannung\", \"U\", \"mV\"))\n",
    "ax.set_ylim(-0.15,0.2)\n",
    "ax.plot(integrator_oscilloscope_tri[\"t\"],integrator_oscilloscope_tri[\"UE\"],label=\"Eingangsspannung\")\n",
    "ax.plot(integrator_oscilloscope_tri[\"t\"],integrator_oscilloscope_tri[\"UA\"],label=\"Ausgangsspannung\")\n",
    "ax.legend(loc=\"upper right\")\n",
    "fig.savefig(path_graphics+\"Integrator_Oszilloskop_Dreieck.pdf\")\n"
   ]
  },
  {
   "cell_type": "code",
   "execution_count": 442,
   "metadata": {
    "collapsed": false
   },
   "outputs": [
    {
     "data": {
      "image/png": "[encoded data removed]",
      "text/plain": [
       "<matplotlib.figure.Figure at 0x7f3d09f3b550>"
      ]
     },
     "metadata": {},
     "output_type": "display_data"
    }
   ],
   "source": [
    "fig,ax = plt.subplots()\n",
    "axis_scale(factor=1e3,axis=\"x\")\n",
    "ax.set_xlabel(axis_label(\"Zeit\", \"t\", \"ms\"))\n",
    "ax.set_ylabel(axis_label(\"Spannung\", \"U\", \"mV\"))\n",
    "ax.set_ylim(-0.15,0.25)\n",
    "ax.plot(integrator_oscilloscope_rec[\"t\"],integrator_oscilloscope_rec[\"UE\"],label=\"Eingangsspannung\")\n",
    "ax.plot(integrator_oscilloscope_rec[\"t\"],integrator_oscilloscope_rec[\"UA\"],label=\"Ausgangsspannung\")\n",
    "ax.legend(loc=\"upper right\")\n",
    "fig.savefig(path_graphics+\"Integrator_Oszilloskop_Rechteck.pdf\")\n"
   ]
  },
  {
   "cell_type": "code",
   "execution_count": null,
   "metadata": {
    "collapsed": true
   },
   "outputs": [],
   "source": []
  },
  {
   "cell_type": "code",
   "execution_count": null,
   "metadata": {
    "collapsed": true
   },
   "outputs": [],
   "source": []
  },
  {
   "cell_type": "code",
   "execution_count": 353,
   "metadata": {
    "collapsed": true
   },
   "outputs": [],
   "source": [
    "differentiator = pd.read_csv(path_data+\"Frequenzgang_Differentiator.csv\", skiprows=1, names=(\"f\",\"UA\"))\n",
    "\n",
    "differentiator_err = pd.read_csv(path_data+\"Fehler_Differentiator.csv\", skiprows=1, names=(\"f\",\"UA\",\"R\"))"
   ]
  },
  {
   "cell_type": "code",
   "execution_count": 354,
   "metadata": {
    "collapsed": false
   },
   "outputs": [],
   "source": [
    "differentiator[\"f\"] = unp.uarray(differentiator[\"f\"], differentiator[\"f\"]*differentiator_err[\"f\"][0])\n",
    "differentiator[\"UA\"] = unp.uarray(differentiator[\"UA\"], differentiator_err[\"UA\"][0])\n",
    "\n",
    "differentiator[\"logf\"] = unp.log10(differentiator[\"f\"])\n",
    "differentiator[\"logUA\"] = unp.log10(differentiator[\"UA\"])"
   ]
  },
  {
   "cell_type": "code",
   "execution_count": 355,
   "metadata": {
    "collapsed": false
   },
   "outputs": [
    {
     "data": {
      "text/html": [
       "<div>\n",
       "<table border=\"1\" class=\"dataframe\">\n",
       "  <thead>\n",
       "    <tr style=\"text-align: right;\">\n",
       "      <th></th>\n",
       "      <th>f</th>\n",
       "      <th>UA</th>\n",
       "      <th>logf</th>\n",
       "      <th>logUA</th>\n",
       "    </tr>\n",
       "  </thead>\n",
       "  <tbody>\n",
       "    <tr>\n",
       "      <th>0</th>\n",
       "      <td>100.0+/-1.0</td>\n",
       "      <td>140.0+/-10.0</td>\n",
       "      <td>2.000+/-0.004</td>\n",
       "      <td>2.146+/-0.031</td>\n",
       "    </tr>\n",
       "    <tr>\n",
       "      <th>1</th>\n",
       "      <td>200.0+/-2.0</td>\n",
       "      <td>240.0+/-10.0</td>\n",
       "      <td>2.301+/-0.004</td>\n",
       "      <td>2.380+/-0.018</td>\n",
       "    </tr>\n",
       "    <tr>\n",
       "      <th>2</th>\n",
       "      <td>300.0+/-3.0</td>\n",
       "      <td>350.0+/-10.0</td>\n",
       "      <td>2.477+/-0.004</td>\n",
       "      <td>2.544+/-0.012</td>\n",
       "    </tr>\n",
       "    <tr>\n",
       "      <th>3</th>\n",
       "      <td>400.0+/-4.0</td>\n",
       "      <td>450.0+/-10.0</td>\n",
       "      <td>2.602+/-0.004</td>\n",
       "      <td>2.653+/-0.010</td>\n",
       "    </tr>\n",
       "    <tr>\n",
       "      <th>4</th>\n",
       "      <td>500.0+/-5.0</td>\n",
       "      <td>550.0+/-10.0</td>\n",
       "      <td>2.699+/-0.004</td>\n",
       "      <td>2.740+/-0.008</td>\n",
       "    </tr>\n",
       "    <tr>\n",
       "      <th>5</th>\n",
       "      <td>600.0+/-6.0</td>\n",
       "      <td>640.0+/-10.0</td>\n",
       "      <td>2.778+/-0.004</td>\n",
       "      <td>2.806+/-0.007</td>\n",
       "    </tr>\n",
       "    <tr>\n",
       "      <th>6</th>\n",
       "      <td>700.0+/-7.0</td>\n",
       "      <td>740.0+/-10.0</td>\n",
       "      <td>2.845+/-0.004</td>\n",
       "      <td>2.869+/-0.006</td>\n",
       "    </tr>\n",
       "    <tr>\n",
       "      <th>7</th>\n",
       "      <td>800.0+/-8.0</td>\n",
       "      <td>840.0+/-10.0</td>\n",
       "      <td>2.903+/-0.004</td>\n",
       "      <td>2.924+/-0.005</td>\n",
       "    </tr>\n",
       "    <tr>\n",
       "      <th>8</th>\n",
       "      <td>900.0+/-9.0</td>\n",
       "      <td>920.0+/-10.0</td>\n",
       "      <td>2.954+/-0.004</td>\n",
       "      <td>2.964+/-0.005</td>\n",
       "    </tr>\n",
       "    <tr>\n",
       "      <th>9</th>\n",
       "      <td>1000.0+/-10.0</td>\n",
       "      <td>1040.0+/-10.0</td>\n",
       "      <td>3.000+/-0.004</td>\n",
       "      <td>3.017+/-0.004</td>\n",
       "    </tr>\n",
       "  </tbody>\n",
       "</table>\n",
       "</div>"
      ],
      "text/plain": [
       "               f             UA           logf          logUA\n",
       "0    100.0+/-1.0   140.0+/-10.0  2.000+/-0.004  2.146+/-0.031\n",
       "1    200.0+/-2.0   240.0+/-10.0  2.301+/-0.004  2.380+/-0.018\n",
       "2    300.0+/-3.0   350.0+/-10.0  2.477+/-0.004  2.544+/-0.012\n",
       "3    400.0+/-4.0   450.0+/-10.0  2.602+/-0.004  2.653+/-0.010\n",
       "4    500.0+/-5.0   550.0+/-10.0  2.699+/-0.004  2.740+/-0.008\n",
       "5    600.0+/-6.0   640.0+/-10.0  2.778+/-0.004  2.806+/-0.007\n",
       "6    700.0+/-7.0   740.0+/-10.0  2.845+/-0.004  2.869+/-0.006\n",
       "7    800.0+/-8.0   840.0+/-10.0  2.903+/-0.004  2.924+/-0.005\n",
       "8    900.0+/-9.0   920.0+/-10.0  2.954+/-0.004  2.964+/-0.005\n",
       "9  1000.0+/-10.0  1040.0+/-10.0  3.000+/-0.004  3.017+/-0.004"
      ]
     },
     "execution_count": 355,
     "metadata": {},
     "output_type": "execute_result"
    }
   ],
   "source": [
    "differentiator"
   ]
  },
  {
   "cell_type": "code",
   "execution_count": 356,
   "metadata": {
    "collapsed": false
   },
   "outputs": [
    {
     "name": "stdout",
     "output_type": "stream",
     "text": [
      "Steigung a           0.8994746172449467 +/- 0.01152732378072151\n",
      "y-Achsenabschnitt b  0.31231762902616494 +/- 0.0330777456740357\n"
     ]
    }
   ],
   "source": [
    "popt, pcov = sp.optimize.curve_fit(linear_func, \n",
    "                                   noms(differentiator[\"f\"][:]),\n",
    "                                   noms(differentiator[\"UA\"][:]),\n",
    "                                   sigma=stds(differentiator[\"UA\"][:]))\n",
    "param_a, param_b = fit_errors(popt,pcov)\n",
    "\n",
    "print_errors([param_a,param_b],description=(\"Steigung a\",\"y-Achsenabschnitt b\"))\n",
    "\n",
    "x = np.linspace(min(noms(differentiator[\"f\"])), max(noms(differentiator[\"f\"])), 1000)\n",
    "y = linear_func(x,noms(param_a), noms(param_b))\n",
    "\n"
   ]
  },
  {
   "cell_type": "code",
   "execution_count": 365,
   "metadata": {
    "collapsed": false
   },
   "outputs": [
    {
     "data": {
      "image/png": "[encoded data removed]",
      "text/plain": [
       "<matplotlib.figure.Figure at 0x7f3d09183e10>"
      ]
     },
     "metadata": {},
     "output_type": "display_data"
    }
   ],
   "source": [
    "fig,ax = plt.subplots()\n",
    "ax.set_xlabel(axis_label(\"Frequenzen\", \"f\", \"kHz\"))\n",
    "ax.set_ylabel(axis_label(\"Ausgangsspannung\", \"U_{A}\", \"mV\"))\n",
    "\n",
    "ax.set_xscale(\"log\")\n",
    "ax.set_yscale(\"log\")\n",
    "\n",
    "errorbar(differentiator[\"f\"][:],differentiator[\"UA\"][:],\n",
    "        marker=\"o\", linestyle=\"\", ax=ax, label=\"Messwerte\\n $10\\sigma$-Fehlerbalken\", factor=10)\n",
    "\n",
    "#ax.axhline(noms(unp.log10(degenerative_amplifier_resistors[\"RN\"][3]/degenerative_amplifier_resistors[\"R1\"][3])), \n",
    "#          label=\"Widerstandsverhältnis $R_N/R_1$\",color=colors[3])\n",
    "\n",
    "ylim = ax.get_ylim()\n",
    "ylim_mask = (y>ylim[0])&(y<ylim[1])\n",
    "\n",
    "ax.plot(x[ylim_mask],y[ylim_mask],label=\"Fit-Gerade\")\n",
    "ax.legend(loc=\"upper left\")\n",
    "fig.savefig(path_graphics+\"Differentiator.pdf\")\n"
   ]
  },
  {
   "cell_type": "code",
   "execution_count": 409,
   "metadata": {
    "collapsed": false
   },
   "outputs": [],
   "source": [
    "differentiator_oscilloscope_sin = pd.read_csv(path_data+\"Oszilloskop_Differentiator_400Hz/Eingang_Sinus.csv\",\n",
    "                                              skiprows=2, names=(\"t\",\"UA\",\"UE\"))\n",
    "differentiator_oscilloscope_tri = pd.read_csv(path_data+\"Oszilloskop_Differentiator_400Hz/Eingang_Dreieck.csv\",\n",
    "                                              skiprows=2, names=(\"t\",\"UA\",\"UE\"))\n",
    "differentiator_oscilloscope_rec = pd.read_csv(path_data+\"Oszilloskop_Differentiator_400Hz/Eingang_Rechteck.csv\",\n",
    "                                              skiprows=2, names=(\"t\",\"UA\",\"UE\"))"
   ]
  },
  {
   "cell_type": "code",
   "execution_count": 421,
   "metadata": {
    "collapsed": false
   },
   "outputs": [
    {
     "data": {
      "image/png": "[encoded data removed]",
      "text/plain": [
       "<matplotlib.figure.Figure at 0x7f3d09513630>"
      ]
     },
     "metadata": {},
     "output_type": "display_data"
    }
   ],
   "source": [
    "fig,ax = plt.subplots()\n",
    "axis_scale(factor=1e3,axis=\"x\")\n",
    "ax.set_xlabel(axis_label(\"Zeit\", \"t\", \"ms\"))\n",
    "ax.set_ylabel(axis_label(\"Spannung\", \"U\", \"mV\"))\n",
    "ax.set_ylim(-0.25,0.35)\n",
    "ax.plot(differentiator_oscilloscope_sin[\"t\"],differentiator_oscilloscope_sin[\"UE\"],label=\"Eingangsspannung\")\n",
    "ax.plot(differentiator_oscilloscope_sin[\"t\"],differentiator_oscilloscope_sin[\"UA\"],label=\"Ausgangsspannung\")\n",
    "ax.legend(loc=\"upper right\")\n",
    "fig.savefig(path_graphics+\"Differentiator_Oszilloskop_Sinus.pdf\")\n"
   ]
  },
  {
   "cell_type": "code",
   "execution_count": 422,
   "metadata": {
    "collapsed": false
   },
   "outputs": [
    {
     "data": {
      "image/png": "[encoded data removed]",
      "text/plain": [
       "<matplotlib.figure.Figure at 0x7f3d08479908>"
      ]
     },
     "metadata": {},
     "output_type": "display_data"
    }
   ],
   "source": [
    "fig,ax = plt.subplots()\n",
    "axis_scale(factor=1e3,axis=\"x\")\n",
    "ax.set_xlabel(axis_label(\"Zeit\", \"t\", \"ms\"))\n",
    "ax.set_ylabel(axis_label(\"Spannung\", \"U\", \"mV\"))\n",
    "ax.set_ylim(-0.2,0.25)\n",
    "ax.plot(differentiator_oscilloscope_tri[\"t\"],differentiator_oscilloscope_tri[\"UE\"],label=\"Eingangsspannung\")\n",
    "ax.plot(differentiator_oscilloscope_tri[\"t\"],differentiator_oscilloscope_tri[\"UA\"],label=\"Ausgangsspannung\")\n",
    "ax.legend(loc=\"upper right\")\n",
    "fig.savefig(path_graphics+\"Differentiator_Oszilloskop_Dreieck.pdf\")\n"
   ]
  },
  {
   "cell_type": "code",
   "execution_count": 425,
   "metadata": {
    "collapsed": false
   },
   "outputs": [
    {
     "data": {
      "image/png": "[encoded data removed]",
      "text/plain": [
       "<matplotlib.figure.Figure at 0x7f3d09a58e48>"
      ]
     },
     "metadata": {},
     "output_type": "display_data"
    }
   ],
   "source": [
    "fig,ax = plt.subplots()\n",
    "axis_scale(factor=1e3,axis=\"x\")\n",
    "ax.set_xlabel(axis_label(\"Zeit\", \"t\", \"ms\"))\n",
    "ax.set_ylabel(axis_label(\"Spannung\", \"U\", \"mV\"))\n",
    "ax.set_ylim(-0.6,0.7)\n",
    "ax.plot(differentiator_oscilloscope_rec[\"t\"],differentiator_oscilloscope_rec[\"UE\"],label=\"Eingangsspannung\")\n",
    "ax.plot(differentiator_oscilloscope_rec[\"t\"],differentiator_oscilloscope_rec[\"UA\"],label=\"Ausgangsspannung\")\n",
    "ax.legend(loc=\"upper right\")\n",
    "fig.savefig(path_graphics+\"Differentiator_Oszilloskop_Rechteck.pdf\")\n"
   ]
  },
  {
   "cell_type": "markdown",
   "metadata": {
    "collapsed": true
   },
   "source": [
    "## Schmitt-Trigger"
   ]
  },
  {
   "cell_type": "code",
   "execution_count": 445,
   "metadata": {
    "collapsed": false
   },
   "outputs": [],
   "source": [
    "trigger = pd.read_csv(path_data+\"Daten_Schmitt_Trigger.csv\", skiprows=1, names=(\"Rp\",\"R1\",\"UK\",\"UA\"))\n",
    "\n",
    "trigger_err = pd.read_csv(path_data+\"Fehler_Schmitt_Trigger.csv\", skiprows=1, names=(\"R\",\"UK\",\"UA\"))"
   ]
  },
  {
   "cell_type": "code",
   "execution_count": 446,
   "metadata": {
    "collapsed": false
   },
   "outputs": [],
   "source": [
    "trigger[\"Rp\"] = unp.uarray(trigger[\"Rp\"],trigger[\"Rp\"]*trigger_err[\"R\"][0])\n",
    "trigger[\"R1\"] = unp.uarray(trigger[\"R1\"],trigger[\"R1\"]*trigger_err[\"R\"][0])\n",
    "trigger[\"UK\"] = unp.uarray(trigger[\"UK\"],trigger_err[\"UK\"][0])\n",
    "trigger[\"UA\"] = unp.uarray(trigger[\"UA\"],trigger_err[\"UA\"][0])"
   ]
  },
  {
   "cell_type": "code",
   "execution_count": 447,
   "metadata": {
    "collapsed": false
   },
   "outputs": [
    {
     "data": {
      "text/html": [
       "<div>\n",
       "<table border=\"1\" class=\"dataframe\">\n",
       "  <thead>\n",
       "    <tr style=\"text-align: right;\">\n",
       "      <th></th>\n",
       "      <th>Rp</th>\n",
       "      <th>R1</th>\n",
       "      <th>UK</th>\n",
       "      <th>UA</th>\n",
       "    </tr>\n",
       "  </thead>\n",
       "  <tbody>\n",
       "    <tr>\n",
       "      <th>0</th>\n",
       "      <td>(1.000+/-0.010)e+04</td>\n",
       "      <td>470.0+/-4.7</td>\n",
       "      <td>340.0+/-10.0</td>\n",
       "      <td>28.10+/-0.10</td>\n",
       "    </tr>\n",
       "  </tbody>\n",
       "</table>\n",
       "</div>"
      ],
      "text/plain": [
       "                    Rp           R1            UK            UA\n",
       "0  (1.000+/-0.010)e+04  470.0+/-4.7  340.0+/-10.0  28.10+/-0.10"
      ]
     },
     "execution_count": 447,
     "metadata": {},
     "output_type": "execute_result"
    }
   ],
   "source": [
    "trigger"
   ]
  },
  {
   "cell_type": "code",
   "execution_count": 510,
   "metadata": {
    "collapsed": false
   },
   "outputs": [
    {
     "name": "stdout",
     "output_type": "stream",
     "text": [
      "Gemessene Kippspannung: 0.340+/-0.010 V\n",
      "Theoretische Kippspannung: 0.660+/-0.010 V\n"
     ]
    }
   ],
   "source": [
    "\n",
    "print(\"Gemessene Kippspannung:\",trigger[\"UK\"][0]*1e-3, \"V\")\n",
    "save_results(trigger[\"UK\"][0]*1e-3 ,\"V\",file=\"kippspannung_gemessen.txt\")\n",
    "\n",
    "\n",
    "print(\"Theoretische Kippspannung:\",(trigger[\"UA\"]/2 * trigger[\"R1\"]/trigger[\"Rp\"])[0], \"V\")\n",
    "save_results((trigger[\"UA\"]/2 * trigger[\"R1\"]/trigger[\"Rp\"])[0] ,\"V\",file=\"kippspannung_theoretisch.txt\")"
   ]
  },
  {
   "cell_type": "code",
   "execution_count": null,
   "metadata": {
    "collapsed": true
   },
   "outputs": [],
   "source": []
  },
  {
   "cell_type": "markdown",
   "metadata": {},
   "source": [
    "## Dreieck/Rechteck - Generator"
   ]
  },
  {
   "cell_type": "code",
   "execution_count": 504,
   "metadata": {
    "collapsed": false
   },
   "outputs": [],
   "source": [
    "function_generator = pd.read_csv(path_data+\"Daten_Dreiecksgenerator.csv\", skiprows=1, names=(\"R\",\"R1\",\"Rp\",\"C\",\"R0\",\"R0'\",\"URec\",\"UTri\",\"fRec\",\"fTri\"))\n",
    "# R/kOhm, R1/kOhm, Rp/kOhm, C/µF, R0/kOhm, R0'/kOhm, URecpp/mV, Utripp/mV, fRec/Hz, fTri/Hz\n",
    "function_generator_err = pd.read_csv(path_data+\"Fehler_Dreiecksgenerator.csv\", skiprows=1, names=(\"R\",\"Upp\",\"f\"))\n",
    "#Impedanzen/%,Upp/mV, f/Hz"
   ]
  },
  {
   "cell_type": "code",
   "execution_count": 505,
   "metadata": {
    "collapsed": false
   },
   "outputs": [],
   "source": [
    "function_generator[\"R\"] = unp.uarray(function_generator[\"R\"],function_generator[\"R\"]*function_generator_err[\"R\"][0])\n",
    "function_generator[\"R1\"] = unp.uarray(function_generator[\"R1\"],function_generator[\"R1\"]*function_generator_err[\"R\"][0])\n",
    "function_generator[\"Rp\"] = unp.uarray(function_generator[\"Rp\"],function_generator[\"Rp\"]*function_generator_err[\"R\"][0])\n",
    "function_generator[\"R0\"] = unp.uarray(function_generator[\"R0\"],function_generator[\"R0\"]*function_generator_err[\"R\"][0])\n",
    "function_generator[\"R0'\"] = unp.uarray(function_generator[\"R0'\"],function_generator[\"R0'\"]*function_generator_err[\"R\"][0])\n",
    "function_generator[\"C\"] = unp.uarray(function_generator[\"C\"],function_generator[\"C\"]*function_generator_err[\"R\"][0])\n",
    "function_generator[\"URec\"] = unp.uarray(function_generator[\"URec\"],function_generator_err[\"Upp\"][0])\n",
    "function_generator[\"UTri\"] = unp.uarray(function_generator[\"UTri\"],function_generator_err[\"Upp\"][0])\n",
    "function_generator[\"fRec\"] = unp.uarray(function_generator[\"fRec\"],function_generator_err[\"f\"][0])\n",
    "function_generator[\"fTri\"] = unp.uarray(function_generator[\"fTri\"],function_generator_err[\"f\"][0])\n"
   ]
  },
  {
   "cell_type": "code",
   "execution_count": 520,
   "metadata": {
    "collapsed": false
   },
   "outputs": [
    {
     "data": {
      "text/html": [
       "<div>\n",
       "<table border=\"1\" class=\"dataframe\">\n",
       "  <thead>\n",
       "    <tr style=\"text-align: right;\">\n",
       "      <th></th>\n",
       "      <th>R</th>\n",
       "      <th>R1</th>\n",
       "      <th>Rp</th>\n",
       "      <th>C</th>\n",
       "      <th>R0</th>\n",
       "      <th>R0'</th>\n",
       "      <th>URec</th>\n",
       "      <th>UTri</th>\n",
       "      <th>fRec</th>\n",
       "      <th>fTri</th>\n",
       "    </tr>\n",
       "  </thead>\n",
       "  <tbody>\n",
       "    <tr>\n",
       "      <th>0</th>\n",
       "      <td>0.560+/-0.006</td>\n",
       "      <td>1.000+/-0.010</td>\n",
       "      <td>100.0+/-1.0</td>\n",
       "      <td>1.000+/-0.010</td>\n",
       "      <td>32.00+/-0.32</td>\n",
       "      <td>10.00+/-0.10</td>\n",
       "      <td>470.0+/-1.0</td>\n",
       "      <td>330.0+/-1.0</td>\n",
       "      <td>570.0+/-1.0</td>\n",
       "      <td>570.0+/-1.0</td>\n",
       "    </tr>\n",
       "  </tbody>\n",
       "</table>\n",
       "</div>"
      ],
      "text/plain": [
       "               R             R1           Rp              C            R0  \\\n",
       "0  0.560+/-0.006  1.000+/-0.010  100.0+/-1.0  1.000+/-0.010  32.00+/-0.32   \n",
       "\n",
       "            R0'         URec         UTri         fRec         fTri  \n",
       "0  10.00+/-0.10  470.0+/-1.0  330.0+/-1.0  570.0+/-1.0  570.0+/-1.0  "
      ]
     },
     "execution_count": 520,
     "metadata": {},
     "output_type": "execute_result"
    }
   ],
   "source": [
    "function_generator"
   ]
  },
  {
   "cell_type": "markdown",
   "metadata": {},
   "source": [
    "Theoretische Spannung:  \n",
    "$U_{rec,pp} = 2U_B \\cdot \\frac{R_1}{R_P}$  \n",
    "Theoretische Frequenz:   \n",
    "$f = \\frac{1}{4RC} \\cdot \\frac{R_p}{R_1}$"
   ]
  },
  {
   "cell_type": "code",
   "execution_count": 529,
   "metadata": {
    "collapsed": false
   },
   "outputs": [
    {
     "name": "stdout",
     "output_type": "stream",
     "text": [
      "Theoretische Spannnug:\n",
      "Theoretische Frequenz: (4.46+/-0.09)e+04 Hz\n"
     ]
    }
   ],
   "source": [
    "print(\"Theoretische Spannnug:\")\n",
    "print(\"Theoretische Frequenz:\", (0.25/(function_generator[\"R\"] * function_generator[\"C\"] * 1e-3)*\n",
    "                                function_generator[\"Rp\"]/function_generator[\"R1\"])[0] , \"Hz\")"
   ]
  },
  {
   "cell_type": "code",
   "execution_count": null,
   "metadata": {
    "collapsed": true
   },
   "outputs": [],
   "source": []
  },
  {
   "cell_type": "code",
   "execution_count": 681,
   "metadata": {
    "collapsed": true
   },
   "outputs": [],
   "source": [
    "function_generator_oscilloscope = pd.read_csv(path_data+\"Oszilloskop_Dreieckgenerator/Rechteck_Dreieck.csv\",\n",
    "                                              skiprows=2, names=(\"t\",\"UA\",\"UE\"))"
   ]
  },
  {
   "cell_type": "code",
   "execution_count": 686,
   "metadata": {
    "collapsed": false
   },
   "outputs": [
    {
     "data": {
      "image/png": "[encoded data removed]",
      "text/plain": [
       "<matplotlib.figure.Figure at 0x7f3d0894f240>"
      ]
     },
     "metadata": {},
     "output_type": "display_data"
    }
   ],
   "source": [
    "fig,ax = plt.subplots()\n",
    "axis_scale(factor=1e3,axis=\"x\")\n",
    "ax.set_xlabel(axis_label(\"Zeit\", \"t\", \"ms\"))\n",
    "ax.set_ylabel(axis_label(\"Spannung\", \"U\", \"mV\"))\n",
    "ax.set_ylim(-0.4,0.4)\n",
    "ax.plot(function_generator_oscilloscope[\"t\"],function_generator_oscilloscope[\"UE\"],label=\"Dreieckspannug\")\n",
    "ax.plot(function_generator_oscilloscope[\"t\"],function_generator_oscilloscope[\"UA\"],label=\"Rechteckspannung\")\n",
    "ax.legend(loc=\"upper right\")\n",
    "fig.savefig(path_graphics+\"Funktionsgenerator.pdf\")\n"
   ]
  }
 ],
 "metadata": {
  "kernelspec": {
   "display_name": "Python 3",
   "language": "python",
   "name": "python3"
  },
  "language_info": {
   "codemirror_mode": {
    "name": "ipython",
    "version": 3
   },
   "file_extension": ".py",
   "mimetype": "text/x-python",
   "name": "python",
   "nbconvert_exporter": "python",
   "pygments_lexer": "ipython3",
   "version": "3.5.1"
  }
 },
 "nbformat": 4,
 "nbformat_minor": 0
}
