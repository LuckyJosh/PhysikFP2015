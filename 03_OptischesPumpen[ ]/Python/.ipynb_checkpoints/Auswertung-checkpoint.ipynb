{
 "cells": [
  {
   "cell_type": "code",
   "execution_count": 187,
   "metadata": {
    "collapsed": false
   },
   "outputs": [
    {
     "name": "stderr",
     "output_type": "stream",
     "text": [
      "/home/luckyjosh/anaconda3/lib/python3.5/site-packages/matplotlib/__init__.py:872: UserWarning: axes.color_cycle is deprecated and replaced with axes.prop_cycle; please use the latter.\n",
      "  warnings.warn(self.msg_depr % (key, alt_key))\n",
      "/home/luckyjosh/anaconda3/lib/python3.5/site-packages/matplotlib/__init__.py:892: UserWarning: axes.color_cycle is deprecated and replaced with axes.prop_cycle; please use the latter.\n",
      "  warnings.warn(self.msg_depr % (key, alt_key))\n"
     ]
    }
   ],
   "source": [
    "#-*- coding:utf8-*-\n",
    "%matplotlib inline\n",
    "\n",
    "from __future__ import absolute_import, division, print_function, unicode_literals\n",
    "\n",
    "from IPython.display import Image\n",
    "\n",
    "import numpy as np\n",
    "\n",
    "import uncertainties as unc\n",
    "from uncertainties import unumpy as unp\n",
    "from uncertainties.unumpy import std_devs as stds #TODO\n",
    "from uncertainties.unumpy import nominal_values as noms #TODO\n",
    "\n",
    "import matplotlib as mpl\n",
    "import matplotlib.pyplot as plt\n",
    "import matplotlib.patches as mpatches\n",
    "from matplotlib.lines import Line2D \n",
    "import matplotlib.transforms as mtrans\n",
    "\n",
    "import seaborn as sns\n",
    "sns.set(context=\"paper\",font_scale=1.4)\n",
    "sns.set_context(rc={'lines.markeredgewidth': 0.1})\n",
    "plot_colors = sns.color_palette()\n",
    "\n",
    "\n",
    "import scipy as sp\n",
    "import scipy.constants as const\n",
    "\n",
    "import sympy as sym\n",
    "\n",
    "import pandas as pd\n",
    "\n",
    "\n",
    "from aputils.latextables.tables import Table\n",
    "\n",
    "import sys\n",
    "\n",
    "# Fehlerfortpflanzung beim Mitteln\n",
    "umean = unc.wrap(np.mean)\n",
    "\n",
    "#Laden des Latex fonts \n",
    "plt.rcParams['text.latex.preamble']=[\"\\\\usepackage{lmodern}\"]\n",
    "#Options\n",
    "params = {'text.usetex' : True,\n",
    "          'font.size' : 11,\n",
    "          'font.family' : 'lmodern',\n",
    "          'text.latex.unicode': True,\n",
    "          }\n",
    "plt.rcParams.update(params) \n",
    "\n",
    "#Größe der Achsenbeschriftung\n",
    "axis_font = {'size':'14'}\n",
    "\n",
    "# Pfade\n",
    "path_graphics = \"../Grafiken/\"\n",
    "path_table = \"../Tabellen/\"\n",
    "path_data = \"../Messdaten/\"\n",
    "path_results = \"../Ergebnisse/\""
   ]
  },
  {
   "cell_type": "code",
   "execution_count": 2,
   "metadata": {
    "collapsed": true
   },
   "outputs": [],
   "source": [
    "# Funktionen\n",
    "# Achsenbeschriftungen\n",
    "def axis_label(label,sym=None,unit=None):\n",
    "    if sym == None:\n",
    "        return lable\n",
    "    elif unit == None:\n",
    "        return r\"\".join([label,\" ${s}$\".format(s=sym)])\n",
    "    else:\n",
    "        return r\"\".join([label,\" ${s}/\\mathrm{{{u}}}$\".format(s=sym,u=unit)])\n",
    "\n",
    "# Achsenskalierung\n",
    "def axis_scale(factor, axis=\"x\"):\n",
    "    if axis == \"x\":\n",
    "        plt.gca().xaxis.set_major_formatter(mpl.ticker.FuncFormatter(lambda x, _: x * factor))\n",
    "    elif axis == \"y\":\n",
    "        plt.gca().yaxis.set_major_formatter(mpl.ticker.FuncFormatter(lambda x, _: x * factor))\n",
    "    else:\n",
    "        print(\"Wrong axis name given! Only x and y are allowed!\")\n",
    "\n",
    "def siunitx_ticklabels(ax=None, locale=\"DE\", xaxis=True, yaxis=True,\n",
    "                       round_precision=2, round_mode=\"places\", scale_x=None, scale_y=None):\n",
    "    \"\"\"\n",
    "    This function uses siunitx to create the ticklabels\n",
    "    Main reason is for adjusting the decimal marker properly.\n",
    "    The function takes 4 arguments:\n",
    "        ax=None     the matplotlib axes to operate on\n",
    "                    if set to None (Standard) this will be the current axes\n",
    "        locale=\"DE\" The locale parameter for siunitx, one of\n",
    "                    \"UK\", \"US\", \"DE\", \"FR\" oder \"ZA\"\n",
    "        xaxis=True  Boolean, if True the labels for the xaxis are set\n",
    "        yaxis=True  Boolean, if True the labels for the yaxis are set\n",
    "        round_precision=2 Number of places or figures after rounding\n",
    "        round_mode=\"places\" Rounds to round_precision many decimal places,\n",
    "                  \"figures\" Rounds to round_precision many significant figures\n",
    "                  \n",
    "    \"\"\"\n",
    "\n",
    "    if ax is None:\n",
    "        ax = plt.gca()\n",
    "\n",
    "    if scale_x == None:\n",
    "        scale_x = 1\n",
    "    if scale_y == None:\n",
    "        scale_y = 1\n",
    "        \n",
    "        \n",
    "    if xaxis is True:\n",
    "        xticks = ax.get_xticks()\n",
    "        print(xticks)\n",
    "        xlabels = [r\"$\\num[locale={},round-mode={},round-precision={}]{{{}}}$\".format(\n",
    "                   locale, round_mode,round_precision, tick*scale_x) for tick in xticks]\n",
    "        #print(xlabels)\n",
    "        ax.set_xticklabels(xlabels)\n",
    "\n",
    "    if yaxis is True:\n",
    "        yticks = ax.get_yticks()\n",
    "        ylabels = [r\"$\\num[locale={},round-mode={},round-precision={}]{{{}}}$\".format(\n",
    "                   locale, round_mode,round_precision, tick*scale_y) for tick in yticks]\n",
    "        #print(ylabels)\n",
    "        ax.set_yticklabels(ylabels)    \n",
    "        \n",
    "# Fit Funktionen\n",
    "def fit_errors(popt,pcov):\n",
    "    errors = np.sqrt(np.diag(pcov))\n",
    "    param_err = unp.uarray(popt,errors)\n",
    "    return param_err\n",
    "    \n",
    "def print_errors(array,description=None):\n",
    "    if description and len(description)==len(array):\n",
    "        maxlen = max(map(len,description))\n",
    "        lens = map(len,description)\n",
    "        for entry,Len,desc in zip(array,lens,description):\n",
    "            #print(desc,\" \"*(maxlen-Len),entry.nominal_value,\"+/-\",entry.std_dev)\n",
    "            print(desc,\" \"*(maxlen-Len),\"{:.1uS}\".format(entry))\n",
    "    else:\n",
    "        for i,entry in enumerate(array):\n",
    "            print(entry.nominal_value,\"+/-\",entry.std_dev)\n",
    "    print(\"\")\n",
    "    \n",
    "def _print_result(result,sym,unit=None,file=sys.stdout):\n",
    "    if unit == None:\n",
    "        print(\"{} = \".format(sym),\"\\\\num{{{:.1uS}}}\".format(result),file=file)\n",
    "    else:\n",
    "        print(\"{} = \".format(sym),\"\\\\SI{{{:.1uS}}}{{{}}}\".format(result,unit),file=file)\n",
    "        \n",
    "def print_result(result, sym, unit=None, file=None, mode=\"w\"):\n",
    "    if file == None:\n",
    "        _print_result(result, sym, unit=unit)\n",
    "    else:\n",
    "        with open(path_results+file, mode) as File:\n",
    "            _print_result(result, sym, unit=unit, file=File)"
   ]
  },
  {
   "cell_type": "code",
   "execution_count": null,
   "metadata": {
    "collapsed": false
   },
   "outputs": [],
   "source": []
  },
  {
   "cell_type": "code",
   "execution_count": 3,
   "metadata": {
    "collapsed": true
   },
   "outputs": [],
   "source": [
    "def lighten_color(color_rgb, amount):\n",
    "    def calc_new(value,amount):\n",
    "        new_value = value + amount\n",
    "        if new_value >1:\n",
    "            new_value = 1\n",
    "        elif new_value < 0:\n",
    "            new_value = 0\n",
    "        return new_value\n",
    "    \n",
    "    new_color = tuple([calc_new(val,amount) for val in color_rgb])\n",
    "    return new_color\n",
    "        \n",
    "    "
   ]
  },
  {
   "cell_type": "code",
   "execution_count": 4,
   "metadata": {
    "collapsed": false
   },
   "outputs": [
    {
     "name": "stdout",
     "output_type": "stream",
     "text": [
      "[(0.2980392156862745, 0.4470588235294118, 0.6901960784313725), (0.3333333333333333, 0.6588235294117647, 0.40784313725490196), (0.7686274509803922, 0.3058823529411765, 0.3215686274509804), (0.5058823529411764, 0.4470588235294118, 0.6980392156862745), (0.8, 0.7254901960784313, 0.4549019607843137), (0.39215686274509803, 0.7098039215686275, 0.803921568627451)]\n"
     ]
    },
    {
     "name": "stderr",
     "output_type": "stream",
     "text": [
      "/home/luckyjosh/anaconda3/lib/python3.5/site-packages/matplotlib/__init__.py:892: UserWarning: axes.color_cycle is deprecated and replaced with axes.prop_cycle; please use the latter.\n",
      "  warnings.warn(self.msg_depr % (key, alt_key))\n"
     ]
    },
    {
     "data": {
      "image/png": "[encoded data removed]",
      "text/plain": [
       "<matplotlib.figure.Figure at 0x7f4f441a2898>"
      ]
     },
     "metadata": {},
     "output_type": "display_data"
    },
    {
     "data": {
      "image/png": "[encoded data removed]",
      "text/plain": [
       "<matplotlib.figure.Figure at 0x7f4f441a2908>"
      ]
     },
     "metadata": {},
     "output_type": "display_data"
    },
    {
     "data": {
      "image/png": "[encoded data removed]",
      "text/plain": [
       "<matplotlib.figure.Figure at 0x7f4f441a2860>"
      ]
     },
     "metadata": {},
     "output_type": "display_data"
    }
   ],
   "source": [
    "print(sns.color_palette())\n",
    "sns.palplot(sns.color_palette())\n",
    "sns.palplot([(0.2980392156862745, 0.4470588235294118, 0.6901960784313725)])\n",
    "sns.palplot([lighten_color((0.2980392156862745, 0.4470588235294118, 0.6901960784313725),0.2)])"
   ]
  },
  {
   "cell_type": "markdown",
   "metadata": {},
   "source": [
    "## Auswertung Resonanzstellen"
   ]
  },
  {
   "cell_type": "code",
   "execution_count": 259,
   "metadata": {
    "collapsed": true
   },
   "outputs": [],
   "source": [
    "def magnetic_field_coil(N,R,I):\n",
    "    return const.mu_0 * (8*I*N/(np.sqrt(125)*R))"
   ]
  },
  {
   "cell_type": "code",
   "execution_count": 260,
   "metadata": {
    "collapsed": false
   },
   "outputs": [],
   "source": [
    "# Spulenparameter N:Windungszahl, R:Radius\n",
    "coil_sweep = {\"N\":11, \"R\":0.1639}\n",
    "coil_horizontal = {\"N\":154,\"R\":0.1579}\n",
    "coil_verttical = {\"N\":20,\"R\":0.11735}\n",
    "\n",
    "magnetic_field_frequence_factor = 4*np.pi*(const.electron_mass/const.e)"
   ]
  },
  {
   "cell_type": "code",
   "execution_count": 261,
   "metadata": {
    "collapsed": false
   },
   "outputs": [],
   "source": [
    "# Resonanzstellen für die beiden Isotope P1=Rb87, P2=Rb85\n",
    "resonance_positions = pd.read_csv(path_data+\"Resonanzsstellen.csv\")"
   ]
  },
  {
   "cell_type": "code",
   "execution_count": 262,
   "metadata": {
    "collapsed": false
   },
   "outputs": [
    {
     "data": {
      "text/html": [
       "<div>\n",
       "<table border=\"1\" class=\"dataframe\">\n",
       "  <thead>\n",
       "    <tr style=\"text-align: right;\">\n",
       "      <th></th>\n",
       "      <th>Frequenz kHz</th>\n",
       "      <th>SweepStrom P1 0.1V</th>\n",
       "      <th>HorizontalStrom P1 0.3V</th>\n",
       "      <th>SweepStrom P2 0.1V</th>\n",
       "      <th>HorizontalStrom P2 0.3V</th>\n",
       "    </tr>\n",
       "  </thead>\n",
       "  <tbody>\n",
       "    <tr>\n",
       "      <th>0</th>\n",
       "      <td>100</td>\n",
       "      <td>5.61</td>\n",
       "      <td>0.00</td>\n",
       "      <td>6.80</td>\n",
       "      <td>0.00</td>\n",
       "    </tr>\n",
       "    <tr>\n",
       "      <th>1</th>\n",
       "      <td>200</td>\n",
       "      <td>5.79</td>\n",
       "      <td>0.05</td>\n",
       "      <td>8.14</td>\n",
       "      <td>0.05</td>\n",
       "    </tr>\n",
       "    <tr>\n",
       "      <th>2</th>\n",
       "      <td>300</td>\n",
       "      <td>2.81</td>\n",
       "      <td>0.17</td>\n",
       "      <td>6.39</td>\n",
       "      <td>0.17</td>\n",
       "    </tr>\n",
       "    <tr>\n",
       "      <th>3</th>\n",
       "      <td>400</td>\n",
       "      <td>1.74</td>\n",
       "      <td>0.25</td>\n",
       "      <td>6.49</td>\n",
       "      <td>0.25</td>\n",
       "    </tr>\n",
       "    <tr>\n",
       "      <th>4</th>\n",
       "      <td>500</td>\n",
       "      <td>1.99</td>\n",
       "      <td>0.30</td>\n",
       "      <td>7.87</td>\n",
       "      <td>0.30</td>\n",
       "    </tr>\n",
       "  </tbody>\n",
       "</table>\n",
       "</div>"
      ],
      "text/plain": [
       "   Frequenz kHz  SweepStrom P1 0.1V  HorizontalStrom P1 0.3V  \\\n",
       "0           100                5.61                     0.00   \n",
       "1           200                5.79                     0.05   \n",
       "2           300                2.81                     0.17   \n",
       "3           400                1.74                     0.25   \n",
       "4           500                1.99                     0.30   \n",
       "\n",
       "   SweepStrom P2 0.1V  HorizontalStrom P2 0.3V  \n",
       "0                6.80                     0.00  \n",
       "1                8.14                     0.05  \n",
       "2                6.39                     0.17  \n",
       "3                6.49                     0.25  \n",
       "4                7.87                     0.30  "
      ]
     },
     "execution_count": 262,
     "metadata": {},
     "output_type": "execute_result"
    }
   ],
   "source": [
    "resonance_positions.head(5)"
   ]
  },
  {
   "cell_type": "code",
   "execution_count": 263,
   "metadata": {
    "collapsed": false
   },
   "outputs": [],
   "source": [
    "# Fehlerbehaftete Größen\n",
    "resonance_positions[\"SweepStrom P1 0.1V\"] = unp.uarray(resonance_positions[\"SweepStrom P1 0.1V\"],[0.01])\n",
    "resonance_positions[\"HorizontalStrom P1 0.3V\"] = unp.uarray(resonance_positions[\"HorizontalStrom P1 0.3V\"],[0.01])\n",
    "resonance_positions[\"SweepStrom P2 0.1V\"] = unp.uarray(resonance_positions[\"SweepStrom P2 0.1V\"],[0.01])\n",
    "resonance_positions[\"HorizontalStrom P2 0.3V\"] = unp.uarray(resonance_positions[\"HorizontalStrom P2 0.3V\"],[0.01])"
   ]
  },
  {
   "cell_type": "code",
   "execution_count": 264,
   "metadata": {
    "collapsed": false
   },
   "outputs": [],
   "source": [
    "# GesamtHorizontalFeld an den Resonanzstellen beider Isotope\n",
    "resonance_positions[\"Magnetfeld P1\"] = (magnetic_field_coil(coil_sweep[\"N\"],coil_sweep[\"R\"],0.1 * resonance_positions[\"SweepStrom P1 0.1V\"]) + \n",
    "                                         magnetic_field_coil(coil_horizontal[\"N\"],coil_horizontal[\"R\"],0.3 * resonance_positions[\"HorizontalStrom P1 0.3V\"]))\n",
    "resonance_positions[\"Magnetfeld P2\"] = (magnetic_field_coil(coil_sweep[\"N\"],coil_sweep[\"R\"],0.1 * resonance_positions[\"SweepStrom P2 0.1V\"]) + \n",
    "                                         magnetic_field_coil(coil_horizontal[\"N\"],coil_horizontal[\"R\"],0.3 * resonance_positions[\"HorizontalStrom P2 0.3V\"]))"
   ]
  },
  {
   "cell_type": "code",
   "execution_count": 265,
   "metadata": {
    "collapsed": false
   },
   "outputs": [
    {
     "data": {
      "text/html": [
       "<div>\n",
       "<table border=\"1\" class=\"dataframe\">\n",
       "  <thead>\n",
       "    <tr style=\"text-align: right;\">\n",
       "      <th></th>\n",
       "      <th>Frequenz kHz</th>\n",
       "      <th>SweepStrom P1 0.1V</th>\n",
       "      <th>HorizontalStrom P1 0.3V</th>\n",
       "      <th>SweepStrom P2 0.1V</th>\n",
       "      <th>HorizontalStrom P2 0.3V</th>\n",
       "      <th>Magnetfeld P1</th>\n",
       "      <th>Magnetfeld P2</th>\n",
       "    </tr>\n",
       "  </thead>\n",
       "  <tbody>\n",
       "    <tr>\n",
       "      <th>0</th>\n",
       "      <td>100</td>\n",
       "      <td>5.610+/-0.010</td>\n",
       "      <td>0.000+/-0.010</td>\n",
       "      <td>6.800+/-0.010</td>\n",
       "      <td>0.000+/-0.010</td>\n",
       "      <td>(3.39+/-0.26)e-05</td>\n",
       "      <td>(4.10+/-0.26)e-05</td>\n",
       "    </tr>\n",
       "    <tr>\n",
       "      <th>1</th>\n",
       "      <td>200</td>\n",
       "      <td>5.790+/-0.010</td>\n",
       "      <td>0.050+/-0.010</td>\n",
       "      <td>8.140+/-0.010</td>\n",
       "      <td>0.050+/-0.010</td>\n",
       "      <td>(4.81+/-0.26)e-05</td>\n",
       "      <td>(6.23+/-0.26)e-05</td>\n",
       "    </tr>\n",
       "    <tr>\n",
       "      <th>2</th>\n",
       "      <td>300</td>\n",
       "      <td>2.810+/-0.010</td>\n",
       "      <td>0.170+/-0.010</td>\n",
       "      <td>6.390+/-0.010</td>\n",
       "      <td>0.170+/-0.010</td>\n",
       "      <td>(6.17+/-0.26)e-05</td>\n",
       "      <td>(8.33+/-0.26)e-05</td>\n",
       "    </tr>\n",
       "    <tr>\n",
       "      <th>3</th>\n",
       "      <td>400</td>\n",
       "      <td>1.740+/-0.010</td>\n",
       "      <td>0.250+/-0.010</td>\n",
       "      <td>6.490+/-0.010</td>\n",
       "      <td>0.250+/-0.010</td>\n",
       "      <td>(7.63+/-0.26)e-05</td>\n",
       "      <td>0.0001049+/-0.0000026</td>\n",
       "    </tr>\n",
       "    <tr>\n",
       "      <th>4</th>\n",
       "      <td>500</td>\n",
       "      <td>1.990+/-0.010</td>\n",
       "      <td>0.300+/-0.010</td>\n",
       "      <td>7.870+/-0.010</td>\n",
       "      <td>0.300+/-0.010</td>\n",
       "      <td>(9.09+/-0.26)e-05</td>\n",
       "      <td>0.0001264+/-0.0000026</td>\n",
       "    </tr>\n",
       "  </tbody>\n",
       "</table>\n",
       "</div>"
      ],
      "text/plain": [
       "   Frequenz kHz SweepStrom P1 0.1V HorizontalStrom P1 0.3V SweepStrom P2 0.1V  \\\n",
       "0           100      5.610+/-0.010           0.000+/-0.010      6.800+/-0.010   \n",
       "1           200      5.790+/-0.010           0.050+/-0.010      8.140+/-0.010   \n",
       "2           300      2.810+/-0.010           0.170+/-0.010      6.390+/-0.010   \n",
       "3           400      1.740+/-0.010           0.250+/-0.010      6.490+/-0.010   \n",
       "4           500      1.990+/-0.010           0.300+/-0.010      7.870+/-0.010   \n",
       "\n",
       "  HorizontalStrom P2 0.3V      Magnetfeld P1          Magnetfeld P2  \n",
       "0           0.000+/-0.010  (3.39+/-0.26)e-05      (4.10+/-0.26)e-05  \n",
       "1           0.050+/-0.010  (4.81+/-0.26)e-05      (6.23+/-0.26)e-05  \n",
       "2           0.170+/-0.010  (6.17+/-0.26)e-05      (8.33+/-0.26)e-05  \n",
       "3           0.250+/-0.010  (7.63+/-0.26)e-05  0.0001049+/-0.0000026  \n",
       "4           0.300+/-0.010  (9.09+/-0.26)e-05  0.0001264+/-0.0000026  "
      ]
     },
     "execution_count": 265,
     "metadata": {},
     "output_type": "execute_result"
    }
   ],
   "source": [
    "resonance_positions.head(5)"
   ]
  },
  {
   "cell_type": "code",
   "execution_count": 266,
   "metadata": {
    "collapsed": false
   },
   "outputs": [],
   "source": [
    "#Fit der Messwerte\n",
    "linear_fct = lambda x,a,b: a*x + b \n",
    "\n",
    "popt, pcov = sp.optimize.curve_fit(linear_fct,resonance_positions[\"Frequenz kHz\"]*1000,\n",
    "                                   noms(resonance_positions[\"Magnetfeld P1\"]))\n",
    "fit_parameter_P1 = fit_errors(popt,pcov)\n",
    "\n",
    "popt, pcov = sp.optimize.curve_fit(linear_fct,resonance_positions[\"Frequenz kHz\"]*1000,\n",
    "                                   noms(resonance_positions[\"Magnetfeld P2\"]))\n",
    "fit_parameter_P2 = fit_errors(popt,pcov)\n"
   ]
  },
  {
   "cell_type": "code",
   "execution_count": 267,
   "metadata": {
    "collapsed": false
   },
   "outputs": [
    {
     "name": "stdout",
     "output_type": "stream",
     "text": [
      "Fit Parameter Rb87\n",
      "a  1.434(5)e-10\n",
      "b  1.92(3)e-05\n",
      "\n",
      "Fit Parameter Rb85\n",
      "a  2.164(9)e-10\n",
      "b  1.88(5)e-05\n",
      "\n"
     ]
    }
   ],
   "source": [
    "print(\"Fit Parameter Rb87\")\n",
    "print_errors(fit_parameter_P1,description=(\"a\",\"b\"))\n",
    "\n",
    "print(\"Fit Parameter Rb85\")\n",
    "print_errors(fit_parameter_P2,description=(\"a\",\"b\"))\n",
    "\n",
    "\n",
    "print_result(fit_parameter_P1[0],sym=\"a\",unit=\"\\\\tesla\\\\per\\\\hertz\",file=\"Fitparameter_a_Rubidium_87.tex\")\n",
    "print_result(fit_parameter_P1[1],sym=\"b\",unit=\"\\\\tesla\",file=\"Fitparameter_b_Rubidium_87.tex\")\n",
    "print_result(fit_parameter_P2[0]/1000,sym=\"a\",unit=\"\\\\tesla\\\\per\\\\hertz\",file=\"Fitparameter_a_Rubidium_85.tex\")\n",
    "print_result(fit_parameter_P2[1],sym=\"b\",unit=\"\\\\tesla\",file=\"Fitparameter_b_Rubidium_85.tex\")"
   ]
  },
  {
   "cell_type": "code",
   "execution_count": 268,
   "metadata": {
    "collapsed": false
   },
   "outputs": [
    {
     "name": "stdout",
     "output_type": "stream",
     "text": [
      "Lande Fakor P1: Rb87\n",
      "g_F  0.498(2)\n",
      "\n",
      "Lande Faktor P2: Rb85\n",
      "g_F  0.330(1)\n",
      "\n"
     ]
    }
   ],
   "source": [
    "# Lande-Faktoren\n",
    "lande_factor_P1 = magnetic_field_frequence_factor/fit_parameter_P1[0]\n",
    "lande_factor_P2 = magnetic_field_frequence_factor/fit_parameter_P2[0]\n",
    "\n",
    "print(\"Lande Fakor P1: Rb87\")\n",
    "print_errors((lande_factor_P1,),description=(\"g_F\",))\n",
    "\n",
    "print(\"Lande Faktor P2: Rb85\")\n",
    "print_errors((lande_factor_P2,), description=(\"g_F\",))\n",
    "\n",
    "\n",
    "print_result(lande_factor_P1,sym=\"g_{{}^{87}\\!\\\\mathrm{Rb}}\",file=\"Lande_Faktor_Rubidium_87.tex\")\n",
    "print_result(lande_factor_P2,sym=\"g_{{}^{85}\\!\\\\mathrm{Rb}}\",file=\"Lande_Faktor_Rubidium_85.tex\")"
   ]
  },
  {
   "cell_type": "markdown",
   "metadata": {},
   "source": [
    "### Berechnung des Kernspins\n",
    "Das gepumpte Niveau hat die Quantenzahlen $S=\\frac{1}{2}$ (ein Elektron) $L=0$ (Grundzustand), woraus für den gesamt Drehimpuls des Elektrons $J=\\frac{1}{2}$ folgt, da $J = (L+S) ... |L-S|$. \n",
    "Mit\n",
    "$$g_J =  \\frac{3.0023 J(J+1) + 1.0023[S(S+1)-L(L+1)]}{2J(J+1)}$$\n",
    "ergibt sich $g_J = 2.0023$.\n",
    "\n",
    "Für die Quantanzahl $F$ gilt analog zu $J$ , $F = (I+J) ... |I-J|$. Hier ist $F = (I+\\frac{1}{2})$, da nur für das \n",
    "Niveau mit der höchsten Quantenzahl $M_F$ kein $\\Delta M_F = +1$ Übergang existiert und so nur dieses \"voll\"gepumpt werden kann. Aus\n",
    "$$g_F = g_J \\frac{F(F+1) + J(J+1) - I(I+1)}{2F(F+1)}$$\n",
    "folgt entsprechend die Gleichung für den Kernspin $I$:\n",
    "$$ I = -1+\\frac{g_J}{4g_F}+ \\sqrt{(1-\\frac{g_J}{4g_F})^2 - \\frac{3}{4}(1-\\frac{g_J}{g_F})} $$"
   ]
  },
  {
   "cell_type": "code",
   "execution_count": 269,
   "metadata": {
    "collapsed": false
   },
   "outputs": [],
   "source": [
    "def nuclear_spin(gf,gj=2.0023):\n",
    "    return -1+(gj/(4*gf))+ np.sqrt((1-(gj/(4*gf)))**2 - (3/4)*(1-(gj/gf)))\n",
    "nuclear_spin = unc.wrap(nuclear_spin)"
   ]
  },
  {
   "cell_type": "code",
   "execution_count": 270,
   "metadata": {
    "collapsed": false
   },
   "outputs": [
    {
     "name": "stdout",
     "output_type": "stream",
     "text": [
      "Kernspin P1: Rb87\n",
      "I  1.509(8)\n",
      "\n",
      "Kernspin P2: Rb85\n",
      "I  2.53(1)\n",
      "\n"
     ]
    }
   ],
   "source": [
    "nuclear_spin_P1 = nuclear_spin(lande_factor_P1)\n",
    "nuclear_spin_P2 = nuclear_spin(lande_factor_P2)\n",
    "\n",
    "print(\"Kernspin P1: Rb87\")\n",
    "print_errors((nuclear_spin_P1,),description=(\"I\",))\n",
    "\n",
    "print(\"Kernspin P2: Rb85\")\n",
    "print_errors((nuclear_spin_P2,), description=(\"I\",))\n",
    "\n",
    "\n",
    "print_result(nuclear_spin_P1,sym=\"I_{{}^{87}\\!\\\\mathrm{Rb}}\",file=\"Kernspin_Rubidium_87.tex\")\n",
    "print_result(nuclear_spin_P2,sym=\"I_{{}^{85}\\!\\\\mathrm{Rb}}\",file=\"Kernspin_Rubidium_85.tex\")"
   ]
  },
  {
   "cell_type": "code",
   "execution_count": 271,
   "metadata": {
    "collapsed": false
   },
   "outputs": [
    {
     "name": "stdout",
     "output_type": "stream",
     "text": [
      "B_E  1.90(3)e-05\n",
      "\n"
     ]
    }
   ],
   "source": [
    "# Erdmagnetfeld\n",
    "magnetic_field_earth_mean = umean([fit_parameter_P1[1],fit_parameter_P2[1]])\n",
    "print_errors((magnetic_field_earth_mean,),description=(\"B_E\",))\n",
    "\n",
    "print_result(magnetic_field_earth_mean,sym=\"B_{\\\\mathrm{Erde},\\\\mathrm{hor}}\",file=\"Erdmagnetfeld_Horizontal.tex\")"
   ]
  },
  {
   "cell_type": "code",
   "execution_count": 272,
   "metadata": {
    "collapsed": false
   },
   "outputs": [
    {
     "data": {
      "image/png": "[encoded data removed]",
      "text/plain": [
       "<matplotlib.figure.Figure at 0x7f4f3fbe4080>"
      ]
     },
     "metadata": {},
     "output_type": "display_data"
    }
   ],
   "source": [
    "F = np.linspace(100,1000,1e06)\n",
    "\n",
    "\n",
    "fig, ax = plt.subplots()\n",
    "ax.set_xlim(0,1200)\n",
    "ax.set_xlabel(axis_label(\"Frequenz\",sym=\"f\",unit=\"kHz\"))\n",
    "ax.set_ylabel(axis_label(\"Magnetische Flussdichte\",sym=\"B\",unit=\"mT\"))\n",
    "axis_scale(1e03,axis=\"y\")\n",
    "\n",
    "line_P1 = ax.errorbar(resonance_positions[\"Frequenz kHz\"], noms(resonance_positions[\"Magnetfeld P1\"]),\n",
    "         yerr=2*stds(resonance_positions[\"Magnetfeld P1\"]), label=\"Messwerte ${}^{87}\\!$Rb \\n ($2\\sigma$ Fehlerbalken)\",\n",
    "                      color=plot_colors[0], marker=\"o\", mec=plot_colors[0], linestyle=\"\")\n",
    "line_P2 = ax.errorbar(resonance_positions[\"Frequenz kHz\"], noms(resonance_positions[\"Magnetfeld P2\"]),\n",
    "         yerr=2*stds(resonance_positions[\"Magnetfeld P2\"]), label=\"Messwerte ${}^{85}\\!$Rb \\n ($2\\sigma$ Fehlerbalken)\",\n",
    "                      color=plot_colors[1],marker=\"o\", mec=plot_colors[1], linestyle=\"\")\n",
    "\n",
    "\n",
    "ax.plot(F,linear_fct(F*1e3,noms(fit_parameter_P1[0]),noms(fit_parameter_P1[1])),\n",
    "        label=\"Fit-Gerade ${}^{87}\\!$Rb\",color=lighten_color(line_P1[0].get_color(),-0.2))\n",
    "ax.plot(F,linear_fct(F*1e3,noms(fit_parameter_P2[0]),noms(fit_parameter_P2[1])),\n",
    "        label=\"Fit-Gerade ${}^{85}\\!$Rb\",color=lighten_color(line_P2[0].get_color(),-0.2))\n",
    "ax.legend(loc=\"upper left\")\n",
    "fig.tight_layout()\n",
    "fig.savefig(path_graphics+\"Resonanzstellen.pdf\")"
   ]
  },
  {
   "cell_type": "code",
   "execution_count": 220,
   "metadata": {
    "collapsed": false
   },
   "outputs": [
    {
     "data": {
      "text/plain": [
       "<matplotlib.image.AxesImage at 0x7f4f40d39c18>"
      ]
     },
     "execution_count": 220,
     "metadata": {},
     "output_type": "execute_result"
    },
    {
     "data": {
      "image/png": "[encoded data removed]",
      "text/plain": [
       "<matplotlib.figure.Figure at 0x7f4f4021ba58>"
      ]
     },
     "metadata": {},
     "output_type": "display_data"
    }
   ],
   "source": [
    "from scipy import ndimage\n",
    "signal_image=plt.imread(path_graphics+\"Signalbild_RF100kHz.JPG\")\n",
    "signal_image=ndimage.rotate(signal_image,90)\n",
    "plt.imshow(signal_image)\n",
    "\n"
   ]
  },
  {
   "cell_type": "markdown",
   "metadata": {},
   "source": [
    "Durch ausmessen der Aplituden erhält man das Verhältnis von P1 zu P2: $R = \\frac{4}{7}$\n",
    "Dieses Verhältnis muss dem Verhältnis des Isotopen Anteils von Rb85 $p_2$ & Rb87 $p_1$ entsprechen.\n",
    "$R = \\frac{p_1}{p_2}$. Daraus folgt mit $p_1 + p_2 = 1$ der Anteil $p_1 = \\frac{R}{1+R}$."
   ]
  },
  {
   "cell_type": "code",
   "execution_count": 221,
   "metadata": {
    "collapsed": true
   },
   "outputs": [],
   "source": [
    "def isotope_ratio(R):\n",
    "    p1 = R/(1+R)\n",
    "    return p1, 1-p1"
   ]
  },
  {
   "cell_type": "code",
   "execution_count": 232,
   "metadata": {
    "collapsed": false
   },
   "outputs": [
    {
     "name": "stdout",
     "output_type": "stream",
     "text": [
      "Anteil von P1: Rb87\n",
      "0.364+/-0.007\n",
      "\n",
      "Anteil von P2: Rb85\n",
      "0.636+/-0.007\n"
     ]
    }
   ],
   "source": [
    "height_P1 = unc.ufloat(72,2)\n",
    "height_P2 = unc.ufloat(126,2)\n",
    "\n",
    "ratio = height_P1/height_P2 \n",
    "fraction_P1, fraction_P2 = isotope_ratio(ratio)\n",
    "\n",
    "print(\"Anteil von P1: Rb87\")\n",
    "print(fraction_P1)\n",
    "print(\"\\nAnteil von P2: Rb85\")\n",
    "print(fraction_P2)\n",
    "\n",
    "print_result(fraction_P1*100,sym=\"P_{{}^{87}\\!\\\\mathrm{Rb}}\",unit=\"\\\\percent\",file=\"Anteil_Rubidium_87.tex\")\n",
    "print_result(fraction_P2*100,sym=\"P_{{}^{85}\\!\\\\mathrm{Rb}}\",unit=\"\\\\percent\",file=\"Anteil_Rubidium_85.tex\")"
   ]
  },
  {
   "cell_type": "markdown",
   "metadata": {
    "collapsed": true
   },
   "source": [
    "## Transienten Effekt"
   ]
  },
  {
   "cell_type": "code",
   "execution_count": 273,
   "metadata": {
    "collapsed": false
   },
   "outputs": [
    {
     "data": {
      "text/plain": [
       "Index(['RFSpannung V', 'Zeitdifferenz P1 ms', 'Perioden P1',\n",
       "       'Zeitdifferenz P2 ms', 'Perioden P2'],\n",
       "      dtype='object')"
      ]
     },
     "execution_count": 273,
     "metadata": {},
     "output_type": "execute_result"
    }
   ],
   "source": [
    "period_lenghts = pd.read_csv(path_data+\"Periodendauern.csv\")\n",
    "period_lenghts.columns"
   ]
  },
  {
   "cell_type": "code",
   "execution_count": 274,
   "metadata": {
    "collapsed": false
   },
   "outputs": [
    {
     "data": {
      "text/html": [
       "<div>\n",
       "<table border=\"1\" class=\"dataframe\">\n",
       "  <thead>\n",
       "    <tr style=\"text-align: right;\">\n",
       "      <th></th>\n",
       "      <th>RFSpannung V</th>\n",
       "      <th>Zeitdifferenz P1 ms</th>\n",
       "      <th>Perioden P1</th>\n",
       "      <th>Zeitdifferenz P2 ms</th>\n",
       "      <th>Perioden P2</th>\n",
       "    </tr>\n",
       "  </thead>\n",
       "  <tbody>\n",
       "    <tr>\n",
       "      <th>0</th>\n",
       "      <td>1</td>\n",
       "      <td>9</td>\n",
       "      <td>3</td>\n",
       "      <td>0.96</td>\n",
       "      <td>1</td>\n",
       "    </tr>\n",
       "  </tbody>\n",
       "</table>\n",
       "</div>"
      ],
      "text/plain": [
       "   RFSpannung V  Zeitdifferenz P1 ms  Perioden P1  Zeitdifferenz P2 ms  \\\n",
       "0             1                    9            3                 0.96   \n",
       "\n",
       "   Perioden P2  \n",
       "0            1  "
      ]
     },
     "execution_count": 274,
     "metadata": {},
     "output_type": "execute_result"
    }
   ],
   "source": [
    "period_lenghts.head(1)"
   ]
  },
  {
   "cell_type": "code",
   "execution_count": 275,
   "metadata": {
    "collapsed": true
   },
   "outputs": [],
   "source": [
    "period_lenghts[\"Zeitdifferenz P1 ms\"] = unp.uarray(period_lenghts[\"Zeitdifferenz P1 ms\"],[0.1])\n",
    "period_lenghts[\"Zeitdifferenz P2 ms\"] = unp.uarray(period_lenghts[\"Zeitdifferenz P2 ms\"],[0.1])\n",
    "period_lenghts[\"Perioden P1\"] = unp.uarray(period_lenghts[\"Perioden P1\"],np.sqrt(period_lenghts[\"Perioden P1\"]))\n",
    "period_lenghts[\"Perioden P2\"] = unp.uarray(period_lenghts[\"Perioden P2\"],np.sqrt(period_lenghts[\"Perioden P2\"]))"
   ]
  },
  {
   "cell_type": "code",
   "execution_count": 276,
   "metadata": {
    "collapsed": false
   },
   "outputs": [
    {
     "data": {
      "text/html": [
       "<div>\n",
       "<table border=\"1\" class=\"dataframe\">\n",
       "  <thead>\n",
       "    <tr style=\"text-align: right;\">\n",
       "      <th></th>\n",
       "      <th>RFSpannung V</th>\n",
       "      <th>Zeitdifferenz P1 ms</th>\n",
       "      <th>Perioden P1</th>\n",
       "      <th>Zeitdifferenz P2 ms</th>\n",
       "      <th>Perioden P2</th>\n",
       "    </tr>\n",
       "  </thead>\n",
       "  <tbody>\n",
       "    <tr>\n",
       "      <th>0</th>\n",
       "      <td>1</td>\n",
       "      <td>9.00+/-0.10</td>\n",
       "      <td>3.0+/-1.7</td>\n",
       "      <td>0.96+/-0.10</td>\n",
       "      <td>1.0+/-1.0</td>\n",
       "    </tr>\n",
       "  </tbody>\n",
       "</table>\n",
       "</div>"
      ],
      "text/plain": [
       "   RFSpannung V Zeitdifferenz P1 ms Perioden P1 Zeitdifferenz P2 ms  \\\n",
       "0             1         9.00+/-0.10   3.0+/-1.7         0.96+/-0.10   \n",
       "\n",
       "  Perioden P2  \n",
       "0   1.0+/-1.0  "
      ]
     },
     "execution_count": 276,
     "metadata": {},
     "output_type": "execute_result"
    }
   ],
   "source": [
    "period_lenghts.head(1)"
   ]
  },
  {
   "cell_type": "code",
   "execution_count": 277,
   "metadata": {
    "collapsed": false
   },
   "outputs": [],
   "source": [
    "period_lenghts[\"Periodendauer P1\"] = period_lenghts[\"Zeitdifferenz P1 ms\"]/period_lenghts[\"Perioden P1\"]\n",
    "period_lenghts[\"Periodendauer P2\"] = period_lenghts[\"Zeitdifferenz P2 ms\"]/period_lenghts[\"Perioden P2\"]"
   ]
  },
  {
   "cell_type": "code",
   "execution_count": 278,
   "metadata": {
    "collapsed": false
   },
   "outputs": [
    {
     "data": {
      "text/html": [
       "<div>\n",
       "<table border=\"1\" class=\"dataframe\">\n",
       "  <thead>\n",
       "    <tr style=\"text-align: right;\">\n",
       "      <th></th>\n",
       "      <th>RFSpannung V</th>\n",
       "      <th>Zeitdifferenz P1 ms</th>\n",
       "      <th>Perioden P1</th>\n",
       "      <th>Zeitdifferenz P2 ms</th>\n",
       "      <th>Perioden P2</th>\n",
       "      <th>Periodendauer P1</th>\n",
       "      <th>Periodendauer P2</th>\n",
       "    </tr>\n",
       "  </thead>\n",
       "  <tbody>\n",
       "    <tr>\n",
       "      <th>0</th>\n",
       "      <td>1</td>\n",
       "      <td>9.00+/-0.10</td>\n",
       "      <td>3.0+/-1.7</td>\n",
       "      <td>0.96+/-0.10</td>\n",
       "      <td>1.0+/-1.0</td>\n",
       "      <td>3.0+/-1.7</td>\n",
       "      <td>1.0+/-1.0</td>\n",
       "    </tr>\n",
       "    <tr>\n",
       "      <th>1</th>\n",
       "      <td>2</td>\n",
       "      <td>6.40+/-0.10</td>\n",
       "      <td>4.0+/-2.0</td>\n",
       "      <td>2.52+/-0.10</td>\n",
       "      <td>2.0+/-1.4</td>\n",
       "      <td>1.6+/-0.8</td>\n",
       "      <td>1.3+/-0.9</td>\n",
       "    </tr>\n",
       "    <tr>\n",
       "      <th>2</th>\n",
       "      <td>3</td>\n",
       "      <td>6.40+/-0.10</td>\n",
       "      <td>6.0+/-2.4</td>\n",
       "      <td>4.28+/-0.10</td>\n",
       "      <td>4.0+/-2.0</td>\n",
       "      <td>1.1+/-0.4</td>\n",
       "      <td>1.1+/-0.5</td>\n",
       "    </tr>\n",
       "    <tr>\n",
       "      <th>3</th>\n",
       "      <td>4</td>\n",
       "      <td>5.00+/-0.10</td>\n",
       "      <td>7.0+/-2.6</td>\n",
       "      <td>2.04+/-0.10</td>\n",
       "      <td>3.0+/-1.7</td>\n",
       "      <td>0.71+/-0.27</td>\n",
       "      <td>0.7+/-0.4</td>\n",
       "    </tr>\n",
       "    <tr>\n",
       "      <th>4</th>\n",
       "      <td>5</td>\n",
       "      <td>5.20+/-0.10</td>\n",
       "      <td>8.0+/-2.8</td>\n",
       "      <td>4.52+/-0.10</td>\n",
       "      <td>7.0+/-2.6</td>\n",
       "      <td>0.65+/-0.23</td>\n",
       "      <td>0.65+/-0.24</td>\n",
       "    </tr>\n",
       "  </tbody>\n",
       "</table>\n",
       "</div>"
      ],
      "text/plain": [
       "   RFSpannung V Zeitdifferenz P1 ms Perioden P1 Zeitdifferenz P2 ms  \\\n",
       "0             1         9.00+/-0.10   3.0+/-1.7         0.96+/-0.10   \n",
       "1             2         6.40+/-0.10   4.0+/-2.0         2.52+/-0.10   \n",
       "2             3         6.40+/-0.10   6.0+/-2.4         4.28+/-0.10   \n",
       "3             4         5.00+/-0.10   7.0+/-2.6         2.04+/-0.10   \n",
       "4             5         5.20+/-0.10   8.0+/-2.8         4.52+/-0.10   \n",
       "\n",
       "  Perioden P2 Periodendauer P1 Periodendauer P2  \n",
       "0   1.0+/-1.0        3.0+/-1.7        1.0+/-1.0  \n",
       "1   2.0+/-1.4        1.6+/-0.8        1.3+/-0.9  \n",
       "2   4.0+/-2.0        1.1+/-0.4        1.1+/-0.5  \n",
       "3   3.0+/-1.7      0.71+/-0.27        0.7+/-0.4  \n",
       "4   7.0+/-2.6      0.65+/-0.23      0.65+/-0.24  "
      ]
     },
     "execution_count": 278,
     "metadata": {},
     "output_type": "execute_result"
    }
   ],
   "source": [
    "period_lenghts.head()"
   ]
  },
  {
   "cell_type": "code",
   "execution_count": 309,
   "metadata": {
    "collapsed": false
   },
   "outputs": [],
   "source": [
    "#Fit der Messwerte\n",
    "hyperbolic_fct = lambda x,a,b,c: a + b/(x-c) \n",
    "\n",
    "popt, pcov = sp.optimize.curve_fit(hyperbolic_fct, period_lenghts[\"RFSpannung V\"],\n",
    "                                   noms(period_lenghts[\"Periodendauer P1\"]),p0=(0.1,1,0))#,sigma=noms(period_lenghts[\"Periodendauer P1\"]))\n",
    "fit_parameter_P1 = fit_errors(popt,pcov)\n",
    "\n",
    "popt, pcov = sp.optimize.curve_fit(hyperbolic_fct, period_lenghts[\"RFSpannung V\"],\n",
    "                                   noms(period_lenghts[\"Periodendauer P2\"]),p0=(0.1,1,0))#,sigma=noms(period_lenghts[\"Periodendauer P2\"]))\n",
    "fit_parameter_P2 = fit_errors(popt,pcov)\n",
    "\n",
    "\n",
    "popt, pcov = sp.optimize.curve_fit(hyperbolic_fct, period_lenghts[\"RFSpannung V\"][1:],\n",
    "                                   noms(period_lenghts[\"Periodendauer P2\"][1:]),p0=(0.1,1,0))#,sigma=noms(period_lenghts[\"Periodendauer P2\"][1:]))\n",
    "fit_parameter_leftout_P2 = fit_errors(popt,pcov)\n"
   ]
  },
  {
   "cell_type": "code",
   "execution_count": 321,
   "metadata": {
    "collapsed": false
   },
   "outputs": [
    {
     "name": "stdout",
     "output_type": "stream",
     "text": [
      "Fit Parameter Rb87\n",
      "a  -0.17(6)\n",
      "b  4.0(4)\n",
      "c  -0.3(1)\n",
      "\n",
      "Fit Parameter Rb85\n",
      "a  -2.5(5.7)\n",
      "b  0.9(3.4)e+02\n",
      "c  -2.4(5.3)e+01\n",
      "\n",
      "Fit Parameter Rb85\n",
      "a  -0.2(2)\n",
      "b  5.7(2.3)\n",
      "c  -1.8(1.1)\n",
      "\n"
     ]
    }
   ],
   "source": [
    "print(\"Fit Parameter Rb87\")\n",
    "print_errors(fit_parameter_P1,description=(\"a\",\"b\",\"c\"))\n",
    "\n",
    "print(\"Fit Parameter Rb85\")\n",
    "print_errors(fit_parameter_P2,description=(\"a\",\"b\",\"c\"))\n",
    "\n",
    "print(\"Fit Parameter Rb85\")\n",
    "print_errors(fit_parameter_leftout_P2,description=(\"a\",\"b\",\"c\"))\n",
    "\n",
    "print_result(fit_parameter_P1[0]/1000,sym=\"a_{{}^{87}\\\\!\\\\mathrm{Rb}}\",unit=\"\\\\second\",file=\"Rubidium_87_Fit_2_a.tex\")\n",
    "print_result(fit_parameter_P1[1]/1000,sym=\"b_{{}^{87}\\\\!\\\\mathrm{Rb}}\",unit=\"\\\\volt\\\\second\",file=\"Rubidium_87_Fit_2_b.tex\")\n",
    "print_result(fit_parameter_P1[2],sym=\"c_{{}^{87}\\\\!\\\\mathrm{Rb}}\",unit=\"\\\\volt\",file=\"Rubidium_87_Fit_2_c.tex\")\n",
    "\n",
    "print_result(fit_parameter_P2[0]/1000,sym=\"a_{{}^{85}\\\\!\\\\mathrm{Rb}}\",unit=\"\\\\second\",file=\"Rubidium_85_Fit_2_a.tex\")\n",
    "print_result(fit_parameter_P2[1]/1000,sym=\"b_{{}^{85}\\\\!\\\\mathrm{Rb}}\",unit=\"\\\\volt\\\\second\",file=\"Rubidium_85_Fit_2_b.tex\")\n",
    "print_result(fit_parameter_P2[2],sym=\"c_{{}^{85}\\\\!\\\\mathrm{Rb}}\",unit=\"\\\\volt\",file=\"Rubidium_85_Fit_2_c.tex\")\n",
    "\n",
    "print_result(fit_parameter_leftout_P2[0]/1000,sym=\"a^{\\\\prime}_{{}^{85}\\\\!\\\\mathrm{Rb}}\",unit=\"\\\\second\",file=\"Rubidium_85_Fit_2_Ausgelassen_a.tex\")\n",
    "print_result(fit_parameter_leftout_P2[1]/1000,sym=\"b^{\\\\prime}_{{}^{85}\\\\!\\\\mathrm{Rb}}\",unit=\"\\\\volt\\\\second\",file=\"Rubidium_85_Fit_2_Ausgelassen_b.tex\")\n",
    "print_result(fit_parameter_leftout_P2[2],sym=\"c^{\\\\prime}_{{}^{85}\\\\!\\\\mathrm{Rb}}\",unit=\"\\\\volt\",file=\"Rubidium_85_Fit_2_Ausgelassen_c.tex\")"
   ]
  },
  {
   "cell_type": "code",
   "execution_count": 322,
   "metadata": {
    "collapsed": false
   },
   "outputs": [
    {
     "name": "stdout",
     "output_type": "stream",
     "text": [
      "Verhältnis der Parameter b\n",
      "r  2.3(8.5)e+01\n",
      "\n",
      "Verhältnis der Parameter b Ausgelassen\n",
      "r  1.4(6)\n",
      "\n"
     ]
    }
   ],
   "source": [
    "ratio_b = fit_parameter_P2[1]/fit_parameter_P1[1]\n",
    "ratio_b_leftout = fit_parameter_leftout_P2[1]/fit_parameter_P1[1]\n",
    "\n",
    "\n",
    "print(\"Verhältnis der Parameter b\")\n",
    "print_errors((ratio_b,),description=(\"r\",))\n",
    "\n",
    "print(\"Verhältnis der Parameter b Ausgelassen\")\n",
    "print_errors((ratio_b_leftout,),description=(\"r\",))\n",
    "\n",
    "print_result(ratio_b,sym=\"\\frac{b_{{}^{85}\\\\!\\\\mathrm{Rb}}}{b_{}^{87}\\!\\\\mathrm{Rb}}\",file=\"Verhälnis_Fit_2_b.tex\")\n",
    "print_result(ratio_b_leftout,sym=\"\\frac{b^{\\\\prime}_{{}^{85}\\\\!\\\\mathrm{Rb}}}{b_{}^{87}\\!\\\\mathrm{Rb}}\",file=\"Verhälnis_Fit_2_Ausgelassen_b.tex\")"
   ]
  },
  {
   "cell_type": "code",
   "execution_count": 311,
   "metadata": {
    "collapsed": false
   },
   "outputs": [
    {
     "data": {
      "image/png": "[encoded data removed]",
      "text/plain": [
       "<matplotlib.figure.Figure at 0x7f4f41357198>"
      ]
     },
     "metadata": {},
     "output_type": "display_data"
    }
   ],
   "source": [
    "U = np.linspace(0,12,1e03)\n",
    "T_fit = hyperbolic_fct(U,noms(fit_parameter_P1[0]),noms(fit_parameter_P1[1]),noms(fit_parameter_P1[2]))\n",
    "T_fit_upper = hyperbolic_fct(U,noms(fit_parameter_P1[0])+stds(fit_parameter_P1[0]),\n",
    "                             noms(fit_parameter_P1[1])+stds(fit_parameter_P1[1]),\n",
    "                             noms(fit_parameter_P1[2])+stds(fit_parameter_P1[2]))\n",
    "T_fit_lower = hyperbolic_fct(U,noms(fit_parameter_P1[0])-stds(fit_parameter_P1[0]),\n",
    "                             noms(fit_parameter_P1[1])-stds(fit_parameter_P1[1]),\n",
    "                             noms(fit_parameter_P1[2])-stds(fit_parameter_P1[2]))\n",
    "\n",
    "\n",
    "fig,ax = plt.subplots()\n",
    "ax.set_xlim(0,12)\n",
    "ax.set_ylim(0,3.5)\n",
    "ax.set_xlabel(axis_label(\"RF Spannung\",sym=\"U\",unit=\"V\"))\n",
    "ax.set_ylabel(axis_label(\"Periodendauer\",sym=\"T\",unit=\"ms\"))\n",
    "\n",
    "line_P1 = ax.errorbar(period_lenghts[\"RFSpannung V\"],noms(period_lenghts[\"Periodendauer P1\"]),\n",
    "            yerr = stds(period_lenghts[\"Periodendauer P1\"]),label=\"Messwerte ${}^{87}\\!$Rb \",\n",
    "            color=plot_colors[1], marker=\"o\", mec=plot_colors[1], linestyle=\"\")\n",
    "\n",
    "ax.plot(U,T_fit,label=\"Fit-Kurve ${}^{87}\\!$Rb\",color=plot_colors[0])\n",
    "sigma = ax.fill_between(U,T_fit_upper,T_fit_lower,color=plot_colors[0],alpha=0.3)\n",
    "ax.bar(0,0,width=0,color=sigma.get_facecolor()[0][:-1],edgecolor=\"\",label=r\"1$\\sigma$ Umgebung\",alpha=0.4)\n",
    "\n",
    "\n",
    "ax.legend(loc=\"upper right\")\n",
    "fig.tight_layout()\n",
    "fig.savefig(path_graphics+\"Transienteneffekt_Rubidium_87.pdf\")"
   ]
  },
  {
   "cell_type": "code",
   "execution_count": 315,
   "metadata": {
    "collapsed": false
   },
   "outputs": [
    {
     "data": {
      "image/png": "[encoded data removed]",
      "text/plain": [
       "<matplotlib.figure.Figure at 0x7f4f413217f0>"
      ]
     },
     "metadata": {},
     "output_type": "display_data"
    }
   ],
   "source": [
    "U = np.linspace(0,12,1e03)\n",
    "\n",
    "T_fit = hyperbolic_fct(U,noms(fit_parameter_P2[0]),noms(fit_parameter_P2[1]),noms(fit_parameter_P2[2]))\n",
    "a = 0.02\n",
    "T_fit_upper = hyperbolic_fct(U,noms(fit_parameter_P2[0])+a*stds(fit_parameter_P2[0]),\n",
    "                             noms(fit_parameter_P2[1])+a*stds(fit_parameter_P2[1]),\n",
    "                             noms(fit_parameter_P2[2])+a*stds(fit_parameter_P2[2]))\n",
    "T_fit_lower = hyperbolic_fct(U,noms(fit_parameter_P2[0])-a*stds(fit_parameter_P2[0]),\n",
    "                             noms(fit_parameter_P2[1])-a*stds(fit_parameter_P2[1]),\n",
    "                             noms(fit_parameter_P2[2])-a*stds(fit_parameter_P2[2]))\n",
    "\n",
    "fig,ax = plt.subplots()\n",
    "ax.set_xlim(0,12)\n",
    "ax.set_ylim(0,3.5)\n",
    "ax.set_xlabel(axis_label(\"RF Spannung\",sym=\"U\",unit=\"V\"))\n",
    "ax.set_ylabel(axis_label(\"Periodendauer\",sym=\"T\",unit=\"ms\"))\n",
    "\n",
    "line_P2 = ax.errorbar(period_lenghts[\"RFSpannung V\"],noms(period_lenghts[\"Periodendauer P2\"]),\n",
    "            yerr=stds(period_lenghts[\"Periodendauer P2\"]),label=\"Messwerte ${}^{85}\\!$Rb\",\n",
    "            color=plot_colors[1], marker=\"o\", mec=plot_colors[1], linestyle=\"\")\n",
    "\n",
    "sigma = ax.fill_between(U,T_fit_upper,T_fit_lower,color=plot_colors[0],alpha=0.3)\n",
    "ax.bar(0,0,width=0,color=sigma.get_facecolor()[0][:-1],edgecolor=\"\",label=r\"0.02$\\sigma$ Umgebung\",alpha=0.4)\n",
    "\n",
    "ax.plot(U,T_fit,label=\"Fit-Kurve ${}^{85}\\!$Rb\",color=lighten_color(line_P2[0].get_color(),-0.2))\n",
    "\n",
    "\n",
    "#ax.plot(U,hyperbolic_fct(U,noms(fit_parameter_leftout_P2[0]),noms(fit_parameter_leftout_P2[1]),noms(fit_parameter_leftout_P2[2])),\n",
    "#       label=\"Fit-Kurve ${}^{87}\\!$Rb\",color=lighten_color(line_P2[0].get_color(),-0.2))\n",
    "\n",
    "ax.legend(loc=\"upper right\")\n",
    "fig.tight_layout()\n",
    "fig.savefig(path_graphics+\"Transienteneffekt_Rubidium_85.pdf\")"
   ]
  },
  {
   "cell_type": "code",
   "execution_count": 323,
   "metadata": {
    "collapsed": false
   },
   "outputs": [
    {
     "data": {
      "image/png": "[encoded data removed]",
      "text/plain": [
       "<matplotlib.figure.Figure at 0x7f4f3753e978>"
      ]
     },
     "metadata": {},
     "output_type": "display_data"
    }
   ],
   "source": [
    "U = np.linspace(0,12,1e03)\n",
    "\n",
    "T_fit = hyperbolic_fct(U,noms(fit_parameter_leftout_P2[0]),noms(fit_parameter_leftout_P2[1]),\n",
    "                       noms(fit_parameter_leftout_P2[2]))\n",
    "a = 1\n",
    "T_fit_upper = hyperbolic_fct(U,noms(fit_parameter_leftout_P2[0])+a*stds(fit_parameter_leftout_P2[0]),\n",
    "                             noms(fit_parameter_leftout_P2[1])+a*stds(fit_parameter_leftout_P2[1]),\n",
    "                             noms(fit_parameter_leftout_P2[2])+a*stds(fit_parameter_leftout_P2[2]))\n",
    "T_fit_lower = hyperbolic_fct(U,noms(fit_parameter_leftout_P2[0])-a*stds(fit_parameter_leftout_P2[0]),\n",
    "                             noms(fit_parameter_leftout_P2[1])-a*stds(fit_parameter_leftout_P2[1]),\n",
    "                             noms(fit_parameter_leftout_P2[2])-a*stds(fit_parameter_leftout_P2[2]))\n",
    "\n",
    "fig,ax = plt.subplots()\n",
    "ax.set_xlim(0,12)\n",
    "ax.set_ylim(0,3.5)\n",
    "ax.set_xlabel(axis_label(\"RF Spannung\",sym=\"U\",unit=\"V\"))\n",
    "ax.set_ylabel(axis_label(\"Periodendauer\",sym=\"T\",unit=\"ms\"))\n",
    "\n",
    "ax.errorbar(period_lenghts[\"RFSpannung V\"][0],noms(period_lenghts[\"Periodendauer P2\"][0]),\n",
    "            yerr=stds(period_lenghts[\"Periodendauer P2\"][0]),label=\"Messwerte ${}^{85}\\!$Rb\",\n",
    "            color=\"gray\", marker=\"o\", mec=\"gray\", linestyle=\"\")\n",
    "\n",
    "line_P2 = ax.errorbar(period_lenghts[\"RFSpannung V\"][1:],noms(period_lenghts[\"Periodendauer P2\"][1:]),\n",
    "            yerr=stds(period_lenghts[\"Periodendauer P2\"][1:]),\n",
    "            color=plot_colors[1], marker=\"o\", mec=plot_colors[1], linestyle=\"\")\n",
    "\n",
    "sigma = ax.fill_between(U,T_fit_upper,T_fit_lower,color=plot_colors[0],alpha=0.3)\n",
    "ax.bar(0,0,width=0,color=sigma.get_facecolor()[0][:-1],edgecolor=\"\",label=r\"1$\\sigma$ Umgebung\",alpha=0.4)\n",
    "\n",
    "ax.plot(U,T_fit,label=\"Fit-Kurve ${}^{85}\\!$Rb\",color=lighten_color(line_P2[0].get_color(),-0.2))\n",
    "\n",
    "ax.legend(loc=\"upper right\")\n",
    "fig.tight_layout()\n",
    "fig.savefig(path_graphics+\"Transienteneffekt_Rubidium_85.pdf\")"
   ]
  },
  {
   "cell_type": "code",
   "execution_count": null,
   "metadata": {
    "collapsed": false
   },
   "outputs": [],
   "source": []
  },
  {
   "cell_type": "code",
   "execution_count": 171,
   "metadata": {
    "collapsed": true
   },
   "outputs": [],
   "source": [
    "\n",
    "def nuclear_spin(gf,gj):\n",
    "    B= (2*gf/gj)\n",
    "    print(B)\n",
    "    return - ((2*B-1)/(2*B)) + np.sqrt(((2*B-1)/(2*B))**2 - (3/4)*((B-2)/B)), -1/B + np.sqrt((1/B**2) + (1/(2*B)) - 1/4)"
   ]
  },
  {
   "cell_type": "code",
   "execution_count": 172,
   "metadata": {
    "collapsed": false
   },
   "outputs": [
    {
     "name": "stdout",
     "output_type": "stream",
     "text": [
      "0.3333333333333333\n"
     ]
    },
    {
     "data": {
      "text/plain": [
       "(2.5, 0.20156211871642427)"
      ]
     },
     "execution_count": 172,
     "metadata": {},
     "output_type": "execute_result"
    }
   ],
   "source": [
    "nuclear_spin(1/3,2)"
   ]
  }
 ],
 "metadata": {
  "kernelspec": {
   "display_name": "Python 3",
   "language": "python",
   "name": "python3"
  }
 },
 "nbformat": 4,
 "nbformat_minor": 0
}
