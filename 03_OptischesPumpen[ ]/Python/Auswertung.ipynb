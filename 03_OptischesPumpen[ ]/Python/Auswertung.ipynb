{
 "cells": [
  {
   "cell_type": "code",
   "execution_count": 115,
   "metadata": {
    "collapsed": false
   },
   "outputs": [
    {
     "name": "stderr",
     "output_type": "stream",
     "text": [
      "/home/luckyjosh/anaconda3/lib/python3.5/site-packages/matplotlib/__init__.py:872: UserWarning: axes.color_cycle is deprecated and replaced with axes.prop_cycle; please use the latter.\n",
      "  warnings.warn(self.msg_depr % (key, alt_key))\n"
     ]
    }
   ],
   "source": [
    "#-*- coding:utf8-*-\n",
    "%matplotlib inline\n",
    "\n",
    "from __future__ import absolute_import, division, print_function, unicode_literals\n",
    "\n",
    "from IPython.display import Image\n",
    "\n",
    "import numpy as np\n",
    "\n",
    "import uncertainties as unc\n",
    "from uncertainties import unumpy as unp\n",
    "from uncertainties.unumpy import std_devs as stds #TODO\n",
    "from uncertainties.unumpy import nominal_values as noms #TODO\n",
    "\n",
    "import matplotlib as mpl\n",
    "import matplotlib.pyplot as plt\n",
    "import matplotlib.patches as mpatches\n",
    "from matplotlib.lines import Line2D \n",
    "\n",
    "import seaborn as sns\n",
    "sns.set(context=\"paper\",font_scale=1.4)\n",
    "sns.set_context(rc={'lines.markeredgewidth': 0.1})\n",
    "\n",
    "import scipy as sp\n",
    "import scipy.constants as const\n",
    "\n",
    "import sympy as sym\n",
    "\n",
    "import pandas as pd\n",
    "\n",
    "\n",
    "from aputils.latextables.tables import Table\n",
    "\n",
    "import sys\n",
    "\n",
    "# Fehlerfortpflanzung beim Mitteln\n",
    "umean = unc.wrap(np.mean)\n",
    "\n",
    "#Laden des Latex fonts \n",
    "plt.rcParams['text.latex.preamble']=[\"\\\\usepackage{lmodern}\"]\n",
    "#Options\n",
    "params = {'text.usetex' : True,\n",
    "          'font.size' : 11,\n",
    "          'font.family' : 'lmodern',\n",
    "          'text.latex.unicode': True,\n",
    "          }\n",
    "plt.rcParams.update(params) \n",
    "\n",
    "#Größe der Achsenbeschriftung\n",
    "axis_font = {'size':'14'}\n",
    "\n",
    "# Pfade\n",
    "path_graphics = \"../Grafiken/\"\n",
    "path_table = \"../Tabellen/\"\n",
    "path_data = \"../Messdaten/\""
   ]
  },
  {
   "cell_type": "code",
   "execution_count": 123,
   "metadata": {
    "collapsed": true
   },
   "outputs": [],
   "source": [
    "# Funktionen\n",
    "# Achsenbeschriftungen\n",
    "def axis_label(label,sym=None,unit=None):\n",
    "    if sym == None:\n",
    "        return lable\n",
    "    elif unit == None:\n",
    "        return r\"\".join([label,\" ${s}$\".format(s=sym)])\n",
    "    else:\n",
    "        return r\"\".join([label,\" ${s}/\\mathrm{{{u}}}$\".format(s=sym,u=unit)])\n",
    "\n",
    "# Achsenskalierung\n",
    "def axis_scale(factor, axis=\"x\"):\n",
    "    if axis == \"x\":\n",
    "        plt.gca().xaxis.set_major_formatter(mpl.ticker.FuncFormatter(lambda x, _: x * factor))\n",
    "    elif axis == \"y\":\n",
    "        plt.gca().yaxis.set_major_formatter(mpl.ticker.FuncFormatter(lambda x, _: x * factor))\n",
    "    else:\n",
    "        print(\"Wrong axis name given! Only x and y are allowed!\")\n",
    "\n",
    "def siunitx_ticklabels(ax=None, locale=\"DE\", xaxis=True, yaxis=True,\n",
    "                       round_precision=2, round_mode=\"places\", scale_x=None, scale_y=None):\n",
    "    \"\"\"\n",
    "    This function uses siunitx to create the ticklabels\n",
    "    Main reason is for adjusting the decimal marker properly.\n",
    "    The function takes 4 arguments:\n",
    "        ax=None     the matplotlib axes to operate on\n",
    "                    if set to None (Standard) this will be the current axes\n",
    "        locale=\"DE\" The locale parameter for siunitx, one of\n",
    "                    \"UK\", \"US\", \"DE\", \"FR\" oder \"ZA\"\n",
    "        xaxis=True  Boolean, if True the labels for the xaxis are set\n",
    "        yaxis=True  Boolean, if True the labels for the yaxis are set\n",
    "        round_precision=2 Number of places or figures after rounding\n",
    "        round_mode=\"places\" Rounds to round_precision many decimal places,\n",
    "                  \"figures\" Rounds to round_precision many significant figures\n",
    "                  \n",
    "    \"\"\"\n",
    "\n",
    "    if ax is None:\n",
    "        ax = plt.gca()\n",
    "\n",
    "    if scale_x == None:\n",
    "        scale_x = 1\n",
    "    if scale_y == None:\n",
    "        scale_y = 1\n",
    "        \n",
    "        \n",
    "    if xaxis is True:\n",
    "        xticks = ax.get_xticks()\n",
    "        print(xticks)\n",
    "        xlabels = [r\"$\\num[locale={},round-mode={},round-precision={}]{{{}}}$\".format(\n",
    "                   locale, round_mode,round_precision, tick*scale_x) for tick in xticks]\n",
    "        #print(xlabels)\n",
    "        ax.set_xticklabels(xlabels)\n",
    "\n",
    "    if yaxis is True:\n",
    "        yticks = ax.get_yticks()\n",
    "        ylabels = [r\"$\\num[locale={},round-mode={},round-precision={}]{{{}}}$\".format(\n",
    "                   locale, round_mode,round_precision, tick*scale_y) for tick in yticks]\n",
    "        #print(ylabels)\n",
    "        ax.set_yticklabels(ylabels)    \n",
    "        \n",
    "# Fit Funktionen\n",
    "def fit_errors(popt,pcov):\n",
    "    errors = np.sqrt(np.diag(pcov))\n",
    "    param_err = unp.uarray(popt,errors)\n",
    "    return param_err\n",
    "    \n",
    "def print_errors(array,description=None):\n",
    "    if description and len(description)==len(array):\n",
    "        maxlen = max(map(len,description))\n",
    "        lens = map(len,description)\n",
    "        for entry,Len,desc in zip(array,lens,description):\n",
    "            #print(desc,\" \"*(maxlen-Len),entry.nominal_value,\"+/-\",entry.std_dev)\n",
    "            print(desc,\" \"*(maxlen-Len),\"{:.1uS}\".format(entry))\n",
    "    else:\n",
    "        for i,entry in enumerate(array):\n",
    "            print(entry.nominal_value,\"+/-\",entry.std_dev)\n",
    "    print(\"\")\n",
    "    \n",
    "def print_result(result,sym,unit=None,file=sys.stdout):\n",
    "    if unit == None:\n",
    "        print(\"{} = \".format(sym),\"\\\\num{{{:.1uS}}}\".format(result),file=file)\n",
    "    else:\n",
    "        print(\"{} = \".format(sym),\"\\\\SI{{{:.1uS}}}{{{}}}\".format(result,unit),file=file)"
   ]
  },
  {
   "cell_type": "code",
   "execution_count": null,
   "metadata": {
    "collapsed": true
   },
   "outputs": [],
   "source": [
    "print()"
   ]
  },
  {
   "cell_type": "code",
   "execution_count": 100,
   "metadata": {
    "collapsed": true
   },
   "outputs": [],
   "source": [
    "def lighten_color(color_rgb, amount):\n",
    "    def calc_new(value,amount):\n",
    "        new_value = value + amount\n",
    "        if new_value >1:\n",
    "            new_value = 1\n",
    "        elif new_value < 0:\n",
    "            new_value = 0\n",
    "        return new_value\n",
    "    \n",
    "    new_color = tuple([calc_new(val,amount) for val in color_rgb])\n",
    "    return new_color\n",
    "        \n",
    "    "
   ]
  },
  {
   "cell_type": "code",
   "execution_count": 106,
   "metadata": {
    "collapsed": false
   },
   "outputs": [
    {
     "name": "stdout",
     "output_type": "stream",
     "text": [
      "[(0.2980392156862745, 0.4470588235294118, 0.6901960784313725), (0.3333333333333333, 0.6588235294117647, 0.40784313725490196), (0.7686274509803922, 0.3058823529411765, 0.3215686274509804), (0.5058823529411764, 0.4470588235294118, 0.6980392156862745), (0.8, 0.7254901960784313, 0.4549019607843137), (0.39215686274509803, 0.7098039215686275, 0.803921568627451)]\n"
     ]
    },
    {
     "name": "stderr",
     "output_type": "stream",
     "text": [
      "/home/luckyjosh/anaconda3/lib/python3.5/site-packages/matplotlib/__init__.py:892: UserWarning: axes.color_cycle is deprecated and replaced with axes.prop_cycle; please use the latter.\n",
      "  warnings.warn(self.msg_depr % (key, alt_key))\n"
     ]
    },
    {
     "data": {
      "image/png": "[encoded data removed]",
      "text/plain": [
       "<matplotlib.figure.Figure at 0x7f2dda8c10f0>"
      ]
     },
     "metadata": {},
     "output_type": "display_data"
    },
    {
     "data": {
      "image/png": "[encoded data removed]",
      "text/plain": [
       "<matplotlib.figure.Figure at 0x7f2dda8c11d0>"
      ]
     },
     "metadata": {},
     "output_type": "display_data"
    },
    {
     "data": {
      "image/png": "[encoded data removed]",
      "text/plain": [
       "<matplotlib.figure.Figure at 0x7f2dda8c1390>"
      ]
     },
     "metadata": {},
     "output_type": "display_data"
    }
   ],
   "source": [
    "print(sns.color_palette())\n",
    "sns.palplot(sns.color_palette())\n",
    "sns.palplot([(0.2980392156862745, 0.4470588235294118, 0.6901960784313725)])\n",
    "sns.palplot([lighten_color((0.2980392156862745, 0.4470588235294118, 0.6901960784313725),0.2)])"
   ]
  },
  {
   "cell_type": "markdown",
   "metadata": {},
   "source": [
    "## Auswertung Resonanzstellen"
   ]
  },
  {
   "cell_type": "code",
   "execution_count": 3,
   "metadata": {
    "collapsed": true
   },
   "outputs": [],
   "source": [
    "def magnetic_field_coil(N,R,I):\n",
    "    return const.mu_0 * (8*I*N/(np.sqrt(125)*R))"
   ]
  },
  {
   "cell_type": "code",
   "execution_count": 28,
   "metadata": {
    "collapsed": false
   },
   "outputs": [],
   "source": [
    "# Spulenparameter N:Windungszahl, R:Radius\n",
    "coil_sweep = {\"N\":11, \"R\":0.1639}\n",
    "coil_horizontal = {\"N\":154,\"R\":0.1579}\n",
    "coil_verttical = {\"N\":20,\"R\":0.11735}\n",
    "\n",
    "magnetic_field_frequence_factor = 4*np.pi*(const.electron_mass/const.e)"
   ]
  },
  {
   "cell_type": "code",
   "execution_count": 5,
   "metadata": {
    "collapsed": false
   },
   "outputs": [],
   "source": [
    "# Resonanzstellen für die beiden Isotope\n",
    "resonance_positions = pd.read_csv(path_data+\"Resonanzsstellen.csv\")"
   ]
  },
  {
   "cell_type": "code",
   "execution_count": 7,
   "metadata": {
    "collapsed": false
   },
   "outputs": [
    {
     "data": {
      "text/html": [
       "<div>\n",
       "<table border=\"1\" class=\"dataframe\">\n",
       "  <thead>\n",
       "    <tr style=\"text-align: right;\">\n",
       "      <th></th>\n",
       "      <th>Frequenz kHz</th>\n",
       "      <th>SweepStrom P1 0.1V</th>\n",
       "      <th>HorizontalStrom P1 0.3V</th>\n",
       "      <th>SweepStrom P2 0.1V</th>\n",
       "      <th>HorizontalStrom P2 0.3V</th>\n",
       "    </tr>\n",
       "  </thead>\n",
       "  <tbody>\n",
       "    <tr>\n",
       "      <th>0</th>\n",
       "      <td>100</td>\n",
       "      <td>5.61</td>\n",
       "      <td>0.00</td>\n",
       "      <td>6.80</td>\n",
       "      <td>0.00</td>\n",
       "    </tr>\n",
       "    <tr>\n",
       "      <th>1</th>\n",
       "      <td>200</td>\n",
       "      <td>5.79</td>\n",
       "      <td>0.05</td>\n",
       "      <td>8.14</td>\n",
       "      <td>0.05</td>\n",
       "    </tr>\n",
       "    <tr>\n",
       "      <th>2</th>\n",
       "      <td>300</td>\n",
       "      <td>2.81</td>\n",
       "      <td>0.17</td>\n",
       "      <td>6.39</td>\n",
       "      <td>0.17</td>\n",
       "    </tr>\n",
       "    <tr>\n",
       "      <th>3</th>\n",
       "      <td>400</td>\n",
       "      <td>1.74</td>\n",
       "      <td>0.25</td>\n",
       "      <td>6.49</td>\n",
       "      <td>0.25</td>\n",
       "    </tr>\n",
       "    <tr>\n",
       "      <th>4</th>\n",
       "      <td>500</td>\n",
       "      <td>1.99</td>\n",
       "      <td>0.30</td>\n",
       "      <td>7.87</td>\n",
       "      <td>0.30</td>\n",
       "    </tr>\n",
       "  </tbody>\n",
       "</table>\n",
       "</div>"
      ],
      "text/plain": [
       "   Frequenz kHz  SweepStrom P1 0.1V  HorizontalStrom P1 0.3V  \\\n",
       "0           100                5.61                     0.00   \n",
       "1           200                5.79                     0.05   \n",
       "2           300                2.81                     0.17   \n",
       "3           400                1.74                     0.25   \n",
       "4           500                1.99                     0.30   \n",
       "\n",
       "   SweepStrom P2 0.1V  HorizontalStrom P2 0.3V  \n",
       "0                6.80                     0.00  \n",
       "1                8.14                     0.05  \n",
       "2                6.39                     0.17  \n",
       "3                6.49                     0.25  \n",
       "4                7.87                     0.30  "
      ]
     },
     "execution_count": 7,
     "metadata": {},
     "output_type": "execute_result"
    }
   ],
   "source": [
    "resonance_positions.head(5)"
   ]
  },
  {
   "cell_type": "code",
   "execution_count": 31,
   "metadata": {
    "collapsed": false
   },
   "outputs": [],
   "source": [
    "# GesamtHorizontalFeld an den Resonanzstellen beider Isotope\n",
    "resonance_positions[\"Magnetfeld P1\"] = (magnetic_field_coil(coil_sweep[\"N\"],coil_sweep[\"R\"],0.1 * resonance_positions[\"SweepStrom P1 0.1V\"]) + \n",
    "                                         magnetic_field_coil(coil_horizontal[\"N\"],coil_horizontal[\"R\"],0.3 * resonance_positions[\"HorizontalStrom P1 0.3V\"]))\n",
    "resonance_positions[\"Magnetfeld P2\"] = (magnetic_field_coil(coil_sweep[\"N\"],coil_sweep[\"R\"],0.1 * resonance_positions[\"SweepStrom P2 0.1V\"]) + \n",
    "                                         magnetic_field_coil(coil_horizontal[\"N\"],coil_horizontal[\"R\"],0.3 * resonance_positions[\"HorizontalStrom P2 0.3V\"]))"
   ]
  },
  {
   "cell_type": "code",
   "execution_count": 32,
   "metadata": {
    "collapsed": false
   },
   "outputs": [
    {
     "data": {
      "text/html": [
       "<div>\n",
       "<table border=\"1\" class=\"dataframe\">\n",
       "  <thead>\n",
       "    <tr style=\"text-align: right;\">\n",
       "      <th></th>\n",
       "      <th>Frequenz kHz</th>\n",
       "      <th>SweepStrom P1 0.1V</th>\n",
       "      <th>HorizontalStrom P1 0.3V</th>\n",
       "      <th>SweepStrom P2 0.1V</th>\n",
       "      <th>HorizontalStrom P2 0.3V</th>\n",
       "      <th>Magnetfeld P1</th>\n",
       "      <th>Magnetfeld P2</th>\n",
       "    </tr>\n",
       "  </thead>\n",
       "  <tbody>\n",
       "    <tr>\n",
       "      <th>0</th>\n",
       "      <td>100</td>\n",
       "      <td>5.61</td>\n",
       "      <td>0.00</td>\n",
       "      <td>6.80</td>\n",
       "      <td>0.00</td>\n",
       "      <td>0.000034</td>\n",
       "      <td>0.000041</td>\n",
       "    </tr>\n",
       "    <tr>\n",
       "      <th>1</th>\n",
       "      <td>200</td>\n",
       "      <td>5.79</td>\n",
       "      <td>0.05</td>\n",
       "      <td>8.14</td>\n",
       "      <td>0.05</td>\n",
       "      <td>0.000048</td>\n",
       "      <td>0.000062</td>\n",
       "    </tr>\n",
       "    <tr>\n",
       "      <th>2</th>\n",
       "      <td>300</td>\n",
       "      <td>2.81</td>\n",
       "      <td>0.17</td>\n",
       "      <td>6.39</td>\n",
       "      <td>0.17</td>\n",
       "      <td>0.000062</td>\n",
       "      <td>0.000083</td>\n",
       "    </tr>\n",
       "    <tr>\n",
       "      <th>3</th>\n",
       "      <td>400</td>\n",
       "      <td>1.74</td>\n",
       "      <td>0.25</td>\n",
       "      <td>6.49</td>\n",
       "      <td>0.25</td>\n",
       "      <td>0.000076</td>\n",
       "      <td>0.000105</td>\n",
       "    </tr>\n",
       "    <tr>\n",
       "      <th>4</th>\n",
       "      <td>500</td>\n",
       "      <td>1.99</td>\n",
       "      <td>0.30</td>\n",
       "      <td>7.87</td>\n",
       "      <td>0.30</td>\n",
       "      <td>0.000091</td>\n",
       "      <td>0.000126</td>\n",
       "    </tr>\n",
       "  </tbody>\n",
       "</table>\n",
       "</div>"
      ],
      "text/plain": [
       "   Frequenz kHz  SweepStrom P1 0.1V  HorizontalStrom P1 0.3V  \\\n",
       "0           100                5.61                     0.00   \n",
       "1           200                5.79                     0.05   \n",
       "2           300                2.81                     0.17   \n",
       "3           400                1.74                     0.25   \n",
       "4           500                1.99                     0.30   \n",
       "\n",
       "   SweepStrom P2 0.1V  HorizontalStrom P2 0.3V  Magnetfeld P1  Magnetfeld P2  \n",
       "0                6.80                     0.00       0.000034       0.000041  \n",
       "1                8.14                     0.05       0.000048       0.000062  \n",
       "2                6.39                     0.17       0.000062       0.000083  \n",
       "3                6.49                     0.25       0.000076       0.000105  \n",
       "4                7.87                     0.30       0.000091       0.000126  "
      ]
     },
     "execution_count": 32,
     "metadata": {},
     "output_type": "execute_result"
    }
   ],
   "source": [
    "resonance_positions.head(5)"
   ]
  },
  {
   "cell_type": "code",
   "execution_count": 45,
   "metadata": {
    "collapsed": false
   },
   "outputs": [],
   "source": [
    "#Fit der Messwerte\n",
    "linear_fct = lambda x,a,b: a*x + b \n",
    "\n",
    "popt, pcov = sp.optimize.curve_fit(linear_fct,resonance_positions[\"Frequenz kHz\"],resonance_positions[\"Magnetfeld P1\"])\n",
    "fit_parameter_P1 = fit_errors(popt,pcov)\n",
    "\n",
    "popt, pcov = sp.optimize.curve_fit(linear_fct,resonance_positions[\"Frequenz kHz\"],resonance_positions[\"Magnetfeld P2\"])\n",
    "fit_parameter_P2 = fit_errors(popt,pcov)\n"
   ]
  },
  {
   "cell_type": "code",
   "execution_count": 126,
   "metadata": {
    "collapsed": false
   },
   "outputs": [
    {
     "name": "stdout",
     "output_type": "stream",
     "text": [
      "Fit Parameter P1\n",
      "a  1.434(5)e-07\n",
      "b  1.92(3)e-05\n",
      "\n",
      "Fit Parameter P2\n",
      "a  2.164(9)e-07\n",
      "b  1.88(5)e-05\n",
      "\n",
      "a =  \\SI{2.164(9)e-07}{\\tesla\\per\\hertz}\n"
     ]
    }
   ],
   "source": [
    "print(\"Fit Parameter P1\")\n",
    "print_errors(fit_parameter_P1,description=(\"a\",\"b\"))\n",
    "\n",
    "print(\"Fit Parameter P2\")\n",
    "print_errors(fit_parameter_P2,description=(\"a\",\"b\"))\n",
    "\n",
    "\n",
    "print_result(fit_parameter_P2[0],sym=\"a\",unit=\"\\\\tesla\\\\per\\\\hertz\")"
   ]
  },
  {
   "cell_type": "code",
   "execution_count": 114,
   "metadata": {
    "collapsed": false
   },
   "outputs": [
    {
     "data": {
      "image/png": "[encoded data removed]",
      "text/plain": [
       "<matplotlib.figure.Figure at 0x7f2dda930550>"
      ]
     },
     "metadata": {},
     "output_type": "display_data"
    }
   ],
   "source": [
    "F = np.linspace(100,1000,1e06)\n",
    "fig, ax = plt.subplots()\n",
    "ax.set_xlim(0,1200)\n",
    "ax.set_xlabel(axis_label(\"Frequenz\",sym=\"f\",unit=\"kHz\"))\n",
    "ax.set_ylabel(axis_label(\"Magnetische Flussdichte\",sym=\"B\",unit=\"mT\"))\n",
    "axis_scale(1e03,axis=\"y\")\n",
    "line_P1 = ax.plot(resonance_positions[\"Frequenz kHz\"], resonance_positions[\"Magnetfeld P1\"],\n",
    "         label=\"Messwerte ${}^{85}\\!$Rb???\", marker=\"o\",linestyle=\"\")\n",
    "line_P2 = ax.plot(resonance_positions[\"Frequenz kHz\"], resonance_positions[\"Magnetfeld P2\"],\n",
    "         label=\"Messwerte ${}^{87}\\!$Rb???\", marker=\"o\",linestyle=\"\")\n",
    "\n",
    "ax.plot(F,linear_fct(F,noms(fit_parameter_P1[0]),noms(fit_parameter_P1[1])),\n",
    "        label=\"Fit-Gerade ${}^{85}\\!$Rb???\",color=lighten_color(line_P1[0].get_color(),-0.15))\n",
    "ax.plot(F,linear_fct(F,noms(fit_parameter_P2[0]),noms(fit_parameter_P2[1])),\n",
    "        label=\"Fit-Gerade ${}^{85}\\!$Rb???\",color=lighten_color(line_P2[0].get_color(),-0.15))\n",
    "ax.legend(loc=\"upper left\")\n",
    "fig.tight_layout()\n",
    "fig.savefig(path_graphics+\"Resonanzstellen.pdf\")"
   ]
  },
  {
   "cell_type": "code",
   "execution_count": 77,
   "metadata": {
    "collapsed": false
   },
   "outputs": [
    {
     "data": {
      "text/plain": [
       "(0.2980392156862745, 0.4470588235294118, 0.6901960784313725)"
      ]
     },
     "execution_count": 77,
     "metadata": {},
     "output_type": "execute_result"
    }
   ],
   "source": [
    "line_0[0].get_color()"
   ]
  },
  {
   "cell_type": "code",
   "execution_count": null,
   "metadata": {
    "collapsed": true
   },
   "outputs": [],
   "source": []
  },
  {
   "cell_type": "code",
   "execution_count": null,
   "metadata": {
    "collapsed": true
   },
   "outputs": [],
   "source": []
  },
  {
   "cell_type": "code",
   "execution_count": null,
   "metadata": {
    "collapsed": true
   },
   "outputs": [],
   "source": []
  },
  {
   "cell_type": "code",
   "execution_count": null,
   "metadata": {
    "collapsed": true
   },
   "outputs": [],
   "source": []
  },
  {
   "cell_type": "code",
   "execution_count": null,
   "metadata": {
    "collapsed": true
   },
   "outputs": [],
   "source": []
  },
  {
   "cell_type": "code",
   "execution_count": null,
   "metadata": {
    "collapsed": true
   },
   "outputs": [],
   "source": []
  },
  {
   "cell_type": "code",
   "execution_count": null,
   "metadata": {
    "collapsed": true
   },
   "outputs": [],
   "source": []
  },
  {
   "cell_type": "code",
   "execution_count": null,
   "metadata": {
    "collapsed": true
   },
   "outputs": [],
   "source": []
  }
 ],
 "metadata": {
  "kernelspec": {
   "display_name": "Python 3",
   "language": "python",
   "name": "python3"
  },
  "language_info": {
   "codemirror_mode": {
    "name": "ipython",
    "version": 3
   },
   "file_extension": ".py",
   "mimetype": "text/x-python",
   "name": "python",
   "nbconvert_exporter": "python",
   "pygments_lexer": "ipython3",
   "version": "3.5.0"
  }
 },
 "nbformat": 4,
 "nbformat_minor": 0
}
