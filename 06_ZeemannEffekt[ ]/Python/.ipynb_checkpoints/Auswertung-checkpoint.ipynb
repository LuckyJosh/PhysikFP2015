{
 "cells": [
  {
   "cell_type": "code",
   "execution_count": 42,
   "metadata": {
    "collapsed": false
   },
   "outputs": [],
   "source": [
    "#-*- coding:utf8-*-\n",
    "%matplotlib inline\n",
    "\n",
    "from __future__ import absolute_import, division, print_function, unicode_literals\n",
    "\n",
    "from IPython.display import Image\n",
    "\n",
    "import numpy as np\n",
    "\n",
    "import uncertainties as unc\n",
    "from uncertainties import unumpy as unp\n",
    "from uncertainties.unumpy import std_devs as stds #TODO\n",
    "from uncertainties.unumpy import nominal_values as noms #TODO\n",
    "\n",
    "import matplotlib as mpl\n",
    "import matplotlib.pyplot as plt\n",
    "import matplotlib.patches as mpatches\n",
    "from matplotlib.lines import Line2D \n",
    "\n",
    "import seaborn as sns\n",
    "sns.set(context=\"paper\",font_scale=1.4)\n",
    "colors = sns.color_palette()\n",
    "\n",
    "import scipy as sp\n",
    "import scipy.constants as const\n",
    "\n",
    "import sympy as sym\n",
    "\n",
    "import pandas as pd\n",
    "\n",
    "import reportutils \n",
    "reportutils.set(ipynb_inline=True)\n",
    "\n",
    "#from reportutils import Table\n",
    "\n",
    "#import ROOT as rt\n",
    "\n",
    "#import root_numpy as rnp\n",
    "\n",
    "from aputils.latextables.tables import Table\n",
    "\n",
    "\n",
    "# Fehlerfortpflanzung beim Mitteln\n",
    "umean = unc.wrap(np.mean)\n",
    "\n",
    "#Laden des Latex fonts \n",
    "plt.rcParams['text.latex.preamble']=[\"\\\\usepackage{lmodern}\"]\n",
    "#Options\n",
    "params = {'text.usetex' : True,\n",
    "          'font.size' : 11,\n",
    "          'font.family' : 'lmodern',\n",
    "          'text.latex.unicode': True,\n",
    "          }\n",
    "plt.rcParams.update(params) \n",
    "\n",
    "#Größe der Achsenbeschriftung\n",
    "axis_font = {'size':'14'}\n",
    "\n",
    "# Pfade\n",
    "path_graphics = \"../Grafiken/\"\n",
    "path_table = \"../Tabellen/\"\n",
    "path_data = \"../Messdaten/\""
   ]
  },
  {
   "cell_type": "code",
   "execution_count": null,
   "metadata": {
    "collapsed": false
   },
   "outputs": [],
   "source": []
  },
  {
   "cell_type": "code",
   "execution_count": 43,
   "metadata": {
    "collapsed": false
   },
   "outputs": [],
   "source": [
    "# Funktionen\n",
    "# Achsenbeschriftungen\n",
    "def axis_label(label,sym=None,unit=None):\n",
    "    if sym == None:\n",
    "        return lable\n",
    "    elif unit == None:\n",
    "        return r\"\".join([label,\" ${s}$\".format(s=sym)])\n",
    "    else:\n",
    "        return r\"\".join([label,\" ${s}/\\mathrm{{{u}}}$\".format(s=sym,u=unit)])\n",
    "\n",
    "# Achsenskalierung\n",
    "def axis_scale(factor, ax=None, axis=\"x\"):\n",
    "    if ax is None:\n",
    "        ax = plt.gca()\n",
    "    if axis == \"x\":\n",
    "        ax.xaxis.set_major_formatter(mpl.ticker.FuncFormatter(lambda x, _: x * factor))\n",
    "    elif axis == \"y\":\n",
    "        ax.yaxis.set_major_formatter(mpl.ticker.FuncFormatter(lambda x, _: x * factor))\n",
    "    else:\n",
    "        print(\"Wrong axis name given! Only x and y are allowed!\")\n",
    "\n",
    "def siunitx_ticklabels(ax=None, locale=\"DE\", xaxis=True, yaxis=True,\n",
    "                       round_precision=2, round_mode=\"places\", scale_x=None, scale_y=None):\n",
    "    \"\"\"\n",
    "    This function uses siunitx to create the ticklabels\n",
    "    Main reason is for adjusting the decimal marker properly.\n",
    "    The function takes 4 arguments:\n",
    "        ax=None     the matplotlib axes to operate on\n",
    "                    if set to None (Standard) this will be the current axes\n",
    "        locale=\"DE\" The locale parameter for siunitx, one of\n",
    "                    \"UK\", \"US\", \"DE\", \"FR\" oder \"ZA\"\n",
    "        xaxis=True  Boolean, if True the labels for the xaxis are set\n",
    "        yaxis=True  Boolean, if True the labels for the yaxis are set\n",
    "        round_precision=2 Number of places or figures after rounding\n",
    "        round_mode=\"places\" Rounds to round_precision many decimal places,\n",
    "                  \"figures\" Rounds to round_precision many significant figures\n",
    "                  \n",
    "    \"\"\"\n",
    "\n",
    "    if ax is None:\n",
    "        ax = plt.gca()\n",
    "\n",
    "    if scale_x == None:\n",
    "        scale_x = 1\n",
    "    if scale_y == None:\n",
    "        scale_y = 1\n",
    "        \n",
    "        \n",
    "    if xaxis is True:\n",
    "        xticks = ax.get_xticks()\n",
    "        print(xticks)\n",
    "        xlabels = [r\"$\\num[locale={},round-mode={},round-precision={}]{{{}}}$\".format(\n",
    "                   locale, round_mode,round_precision, tick*scale_x) for tick in xticks]\n",
    "        #print(xlabels)\n",
    "        ax.set_xticklabels(xlabels)\n",
    "\n",
    "    if yaxis is True:\n",
    "        yticks = ax.get_yticks()\n",
    "        ylabels = [r\"$\\num[locale={},round-mode={},round-precision={}]{{{}}}$\".format(\n",
    "                   locale, round_mode,round_precision, tick*scale_y) for tick in yticks]\n",
    "        #print(ylabels)\n",
    "        ax.set_yticklabels(ylabels)    \n",
    "        \n",
    "        \n",
    "def errorbar(x, y, ax=None, factor_x=1, factor_y=1, marker=\"o\", linestyle=\"\", **kwargs):\n",
    "    if ax is None:\n",
    "        ax = plt.gca()\n",
    "    ax.errorbar(noms(x), noms(y), xerr=stds(x)*factor_x, yerr=stds(y)*factor_y,\n",
    "                marker=marker, linestyle=linestyle, **kwargs)\n",
    "    \n",
    "\n",
    "# Fit Funktionen\n",
    "def fit_errors(popt,pcov):\n",
    "    errors = np.sqrt(np.diag(pcov))\n",
    "    param_err = unp.uarray(popt,errors)\n",
    "    return param_err\n",
    "    \n",
    "def print_errors(array,description=None):\n",
    "    if description and len(description)==len(array):\n",
    "        maxlen = max(map(len,description))\n",
    "        lens = list(map(len,description))\n",
    "        for i,entry in enumerate(array):\n",
    "            print(description[i],\" \"*(maxlen-lens[i]),entry.nominal_value,\"+/-\",entry.std_dev)\n",
    "    else:\n",
    "        for i,entry in enumerate(array):\n",
    "            print(entry.nominal_value,\"+/-\",entry.std_dev)\n",
    "\n",
    "def save_results(value,unit,file):\n",
    "    significant_figure = abs(int(np.log10(stds(value))))\n",
    "    std = int(np.round(stds(value),significant_figure)*10**significant_figure)\n",
    "    \n",
    "    siuntix_string = \"\\\\SI{{{v}({s})}}{{{u}}}\".format(v=np.round(noms(value),significant_figure),s=std,u=unit)\n",
    "    with open(path_results+file,\"w\") as f:\n",
    "        print(siuntix_string, file=f)\n",
    "        \n",
    "def ucurve_fit(f, x, y, **kwargs):\n",
    "    if np.any(unp.std_devs(y) == 0):\n",
    "        sigma = None\n",
    "    else:\n",
    "        sigma = unp.std_devs(y)\n",
    "\n",
    "    popt, pcov = sp.optimize.curve_fit(f, unp.nominal_values(x), unp.nominal_values(y), sigma=sigma, **kwargs)\n",
    "\n",
    "    return unc.correlated_values(popt, pcov)"
   ]
  },
  {
   "cell_type": "code",
   "execution_count": 44,
   "metadata": {
    "collapsed": true
   },
   "outputs": [],
   "source": [
    "func_linear = lambda x, a, b: a*x + b"
   ]
  },
  {
   "cell_type": "markdown",
   "metadata": {},
   "source": [
    "## Laden Stromstärken"
   ]
  },
  {
   "cell_type": "code",
   "execution_count": 45,
   "metadata": {
    "collapsed": true
   },
   "outputs": [],
   "source": [
    "magneticfield_current = pd.read_csv(path_data+\"Stromstaerken.csv\")"
   ]
  },
  {
   "cell_type": "code",
   "execution_count": 46,
   "metadata": {
    "collapsed": false
   },
   "outputs": [
    {
     "data": {
      "text/html": [
       "<div>\n",
       "<table border=\"1\" class=\"dataframe\">\n",
       "  <thead>\n",
       "    <tr style=\"text-align: right;\">\n",
       "      <th></th>\n",
       "      <th>Strom I/A</th>\n",
       "    </tr>\n",
       "  </thead>\n",
       "  <tbody>\n",
       "    <tr>\n",
       "      <th>0</th>\n",
       "      <td>0</td>\n",
       "    </tr>\n",
       "    <tr>\n",
       "      <th>1</th>\n",
       "      <td>5</td>\n",
       "    </tr>\n",
       "    <tr>\n",
       "      <th>2</th>\n",
       "      <td>10</td>\n",
       "    </tr>\n",
       "    <tr>\n",
       "      <th>3</th>\n",
       "      <td>17</td>\n",
       "    </tr>\n",
       "  </tbody>\n",
       "</table>\n",
       "</div>"
      ],
      "text/plain": [
       "   Strom I/A\n",
       "0          0\n",
       "1          5\n",
       "2         10\n",
       "3         17"
      ]
     },
     "execution_count": 46,
     "metadata": {},
     "output_type": "execute_result"
    }
   ],
   "source": [
    "magneticfield_current.head()"
   ]
  },
  {
   "cell_type": "markdown",
   "metadata": {},
   "source": [
    "## Laden der Messfehler"
   ]
  },
  {
   "cell_type": "code",
   "execution_count": 47,
   "metadata": {
    "collapsed": true
   },
   "outputs": [],
   "source": [
    "uncertainties = pd.read_csv(path_data+\"Messfehler.csv\")"
   ]
  },
  {
   "cell_type": "code",
   "execution_count": 48,
   "metadata": {
    "collapsed": false
   },
   "outputs": [
    {
     "data": {
      "text/html": [
       "<div>\n",
       "<table border=\"1\" class=\"dataframe\">\n",
       "  <thead>\n",
       "    <tr style=\"text-align: right;\">\n",
       "      <th></th>\n",
       "      <th>Strom I/A</th>\n",
       "      <th>Magnetfeld B/mT</th>\n",
       "      <th>Abstand s/px</th>\n",
       "    </tr>\n",
       "  </thead>\n",
       "  <tbody>\n",
       "    <tr>\n",
       "      <th>0</th>\n",
       "      <td>0.5</td>\n",
       "      <td>1</td>\n",
       "      <td>5</td>\n",
       "    </tr>\n",
       "  </tbody>\n",
       "</table>\n",
       "</div>"
      ],
      "text/plain": [
       "   Strom I/A  Magnetfeld B/mT  Abstand s/px\n",
       "0        0.5                1             5"
      ]
     },
     "execution_count": 48,
     "metadata": {},
     "output_type": "execute_result"
    }
   ],
   "source": [
    "uncertainties.head()"
   ]
  },
  {
   "cell_type": "markdown",
   "metadata": {},
   "source": [
    "## Hysterese des Magnetfelds"
   ]
  },
  {
   "cell_type": "markdown",
   "metadata": {},
   "source": [
    "### Laden der Messwerte"
   ]
  },
  {
   "cell_type": "markdown",
   "metadata": {},
   "source": [
    "#### Erste Messreihe\n"
   ]
  },
  {
   "cell_type": "code",
   "execution_count": 49,
   "metadata": {
    "collapsed": false
   },
   "outputs": [],
   "source": [
    "hysteresis_1 = pd.read_csv(path_data+\"Hysterese_Magnetfeld_I.csv\")"
   ]
  },
  {
   "cell_type": "code",
   "execution_count": null,
   "metadata": {
    "collapsed": true
   },
   "outputs": [],
   "source": []
  },
  {
   "cell_type": "code",
   "execution_count": 50,
   "metadata": {
    "collapsed": false
   },
   "outputs": [
    {
     "data": {
      "text/html": [
       "<div>\n",
       "<table border=\"1\" class=\"dataframe\">\n",
       "  <thead>\n",
       "    <tr style=\"text-align: right;\">\n",
       "      <th></th>\n",
       "      <th>Strom I/A</th>\n",
       "      <th>Magnetfeld (I zunehmend) B/mT</th>\n",
       "      <th>Magnetfeld (I abnehmend) B/mT</th>\n",
       "    </tr>\n",
       "  </thead>\n",
       "  <tbody>\n",
       "    <tr>\n",
       "      <th>0</th>\n",
       "      <td>0</td>\n",
       "      <td>6</td>\n",
       "      <td>8</td>\n",
       "    </tr>\n",
       "    <tr>\n",
       "      <th>1</th>\n",
       "      <td>1</td>\n",
       "      <td>72</td>\n",
       "      <td>75</td>\n",
       "    </tr>\n",
       "    <tr>\n",
       "      <th>2</th>\n",
       "      <td>2</td>\n",
       "      <td>136</td>\n",
       "      <td>144</td>\n",
       "    </tr>\n",
       "    <tr>\n",
       "      <th>3</th>\n",
       "      <td>3</td>\n",
       "      <td>189</td>\n",
       "      <td>202</td>\n",
       "    </tr>\n",
       "    <tr>\n",
       "      <th>4</th>\n",
       "      <td>4</td>\n",
       "      <td>248</td>\n",
       "      <td>261</td>\n",
       "    </tr>\n",
       "  </tbody>\n",
       "</table>\n",
       "</div>"
      ],
      "text/plain": [
       "   Strom I/A  Magnetfeld (I zunehmend) B/mT  Magnetfeld (I abnehmend) B/mT\n",
       "0          0                              6                              8\n",
       "1          1                             72                             75\n",
       "2          2                            136                            144\n",
       "3          3                            189                            202\n",
       "4          4                            248                            261"
      ]
     },
     "execution_count": 50,
     "metadata": {},
     "output_type": "execute_result"
    }
   ],
   "source": [
    "hysteresis_1.head()"
   ]
  },
  {
   "cell_type": "code",
   "execution_count": 51,
   "metadata": {
    "collapsed": false
   },
   "outputs": [],
   "source": [
    "# Erzeugung fehlerbehafteter Messwerte\n",
    "hysteresis_1[\"Strom I/A\"] = unp.uarray(hysteresis_1[\"Strom I/A\"].values,\n",
    "                                       uncertainties[\"Strom I/A\"].values)\n",
    "hysteresis_1[\"Magnetfeld (I zunehmend) B/mT\"] = unp.uarray(hysteresis_1[\"Magnetfeld (I zunehmend) B/mT\"].values,\n",
    "                                                           uncertainties[\"Magnetfeld B/mT\"].values)\n",
    "hysteresis_1[\"Magnetfeld (I abnehmend) B/mT\"] = unp.uarray(hysteresis_1[\"Magnetfeld (I abnehmend) B/mT\"].values,\n",
    "                                                           uncertainties[\"Magnetfeld B/mT\"].values)"
   ]
  },
  {
   "cell_type": "code",
   "execution_count": 52,
   "metadata": {
    "collapsed": false
   },
   "outputs": [
    {
     "data": {
      "text/html": [
       "<div>\n",
       "<table border=\"1\" class=\"dataframe\">\n",
       "  <thead>\n",
       "    <tr style=\"text-align: right;\">\n",
       "      <th></th>\n",
       "      <th>Strom I/A</th>\n",
       "      <th>Magnetfeld (I zunehmend) B/mT</th>\n",
       "      <th>Magnetfeld (I abnehmend) B/mT</th>\n",
       "    </tr>\n",
       "  </thead>\n",
       "  <tbody>\n",
       "    <tr>\n",
       "      <th>0</th>\n",
       "      <td>0.0+/-0.5</td>\n",
       "      <td>6.0+/-1.0</td>\n",
       "      <td>8.0+/-1.0</td>\n",
       "    </tr>\n",
       "    <tr>\n",
       "      <th>1</th>\n",
       "      <td>1.0+/-0.5</td>\n",
       "      <td>72.0+/-1.0</td>\n",
       "      <td>75.0+/-1.0</td>\n",
       "    </tr>\n",
       "    <tr>\n",
       "      <th>2</th>\n",
       "      <td>2.0+/-0.5</td>\n",
       "      <td>136.0+/-1.0</td>\n",
       "      <td>144.0+/-1.0</td>\n",
       "    </tr>\n",
       "    <tr>\n",
       "      <th>3</th>\n",
       "      <td>3.0+/-0.5</td>\n",
       "      <td>189.0+/-1.0</td>\n",
       "      <td>202.0+/-1.0</td>\n",
       "    </tr>\n",
       "    <tr>\n",
       "      <th>4</th>\n",
       "      <td>4.0+/-0.5</td>\n",
       "      <td>248.0+/-1.0</td>\n",
       "      <td>261.0+/-1.0</td>\n",
       "    </tr>\n",
       "  </tbody>\n",
       "</table>\n",
       "</div>"
      ],
      "text/plain": [
       "   Strom I/A Magnetfeld (I zunehmend) B/mT Magnetfeld (I abnehmend) B/mT\n",
       "0  0.0+/-0.5                     6.0+/-1.0                     8.0+/-1.0\n",
       "1  1.0+/-0.5                    72.0+/-1.0                    75.0+/-1.0\n",
       "2  2.0+/-0.5                   136.0+/-1.0                   144.0+/-1.0\n",
       "3  3.0+/-0.5                   189.0+/-1.0                   202.0+/-1.0\n",
       "4  4.0+/-0.5                   248.0+/-1.0                   261.0+/-1.0"
      ]
     },
     "execution_count": 52,
     "metadata": {},
     "output_type": "execute_result"
    }
   ],
   "source": [
    "hysteresis_1.head()"
   ]
  },
  {
   "cell_type": "markdown",
   "metadata": {},
   "source": [
    " "
   ]
  },
  {
   "cell_type": "markdown",
   "metadata": {},
   "source": [
    "#### Zweite Messreihe"
   ]
  },
  {
   "cell_type": "code",
   "execution_count": 53,
   "metadata": {
    "collapsed": false
   },
   "outputs": [],
   "source": [
    "hysteresis_2 = pd.read_csv(path_data+\"Hysterese_Magnetfeld_II.csv\")"
   ]
  },
  {
   "cell_type": "code",
   "execution_count": 54,
   "metadata": {
    "collapsed": false
   },
   "outputs": [
    {
     "data": {
      "text/html": [
       "<div>\n",
       "<table border=\"1\" class=\"dataframe\">\n",
       "  <thead>\n",
       "    <tr style=\"text-align: right;\">\n",
       "      <th></th>\n",
       "      <th>Strom I/A</th>\n",
       "      <th>Magnetfeld (I zunehmend) B/mT</th>\n",
       "      <th>Magnetfeld (I abnehmend) B/mT</th>\n",
       "    </tr>\n",
       "  </thead>\n",
       "  <tbody>\n",
       "    <tr>\n",
       "      <th>0</th>\n",
       "      <td>0</td>\n",
       "      <td>5</td>\n",
       "      <td>7</td>\n",
       "    </tr>\n",
       "    <tr>\n",
       "      <th>1</th>\n",
       "      <td>1</td>\n",
       "      <td>80</td>\n",
       "      <td>59</td>\n",
       "    </tr>\n",
       "    <tr>\n",
       "      <th>2</th>\n",
       "      <td>2</td>\n",
       "      <td>150</td>\n",
       "      <td>141</td>\n",
       "    </tr>\n",
       "    <tr>\n",
       "      <th>3</th>\n",
       "      <td>3</td>\n",
       "      <td>218</td>\n",
       "      <td>209</td>\n",
       "    </tr>\n",
       "    <tr>\n",
       "      <th>4</th>\n",
       "      <td>4</td>\n",
       "      <td>286</td>\n",
       "      <td>284</td>\n",
       "    </tr>\n",
       "  </tbody>\n",
       "</table>\n",
       "</div>"
      ],
      "text/plain": [
       "   Strom I/A  Magnetfeld (I zunehmend) B/mT  Magnetfeld (I abnehmend) B/mT\n",
       "0          0                              5                              7\n",
       "1          1                             80                             59\n",
       "2          2                            150                            141\n",
       "3          3                            218                            209\n",
       "4          4                            286                            284"
      ]
     },
     "execution_count": 54,
     "metadata": {},
     "output_type": "execute_result"
    }
   ],
   "source": [
    "hysteresis_2.head()"
   ]
  },
  {
   "cell_type": "code",
   "execution_count": 55,
   "metadata": {
    "collapsed": false
   },
   "outputs": [],
   "source": [
    "# Erzeugung fehlerbehafteter Messwerte\n",
    "hysteresis_2[\"Strom I/A\"] = unp.uarray(hysteresis_2[\"Strom I/A\"].values,\n",
    "                                       uncertainties[\"Strom I/A\"].values)\n",
    "hysteresis_2[\"Magnetfeld (I zunehmend) B/mT\"] = unp.uarray(hysteresis_2[\"Magnetfeld (I zunehmend) B/mT\"].values,\n",
    "                                                           uncertainties[\"Magnetfeld B/mT\"].values)\n",
    "hysteresis_2[\"Magnetfeld (I abnehmend) B/mT\"] = unp.uarray(hysteresis_2[\"Magnetfeld (I abnehmend) B/mT\"].values,\n",
    "                                                           uncertainties[\"Magnetfeld B/mT\"].values)"
   ]
  },
  {
   "cell_type": "code",
   "execution_count": 56,
   "metadata": {
    "collapsed": false
   },
   "outputs": [
    {
     "data": {
      "text/html": [
       "<div>\n",
       "<table border=\"1\" class=\"dataframe\">\n",
       "  <thead>\n",
       "    <tr style=\"text-align: right;\">\n",
       "      <th></th>\n",
       "      <th>Strom I/A</th>\n",
       "      <th>Magnetfeld (I zunehmend) B/mT</th>\n",
       "      <th>Magnetfeld (I abnehmend) B/mT</th>\n",
       "    </tr>\n",
       "  </thead>\n",
       "  <tbody>\n",
       "    <tr>\n",
       "      <th>0</th>\n",
       "      <td>0.0+/-0.5</td>\n",
       "      <td>5.0+/-1.0</td>\n",
       "      <td>7.0+/-1.0</td>\n",
       "    </tr>\n",
       "    <tr>\n",
       "      <th>1</th>\n",
       "      <td>1.0+/-0.5</td>\n",
       "      <td>80.0+/-1.0</td>\n",
       "      <td>59.0+/-1.0</td>\n",
       "    </tr>\n",
       "    <tr>\n",
       "      <th>2</th>\n",
       "      <td>2.0+/-0.5</td>\n",
       "      <td>150.0+/-1.0</td>\n",
       "      <td>141.0+/-1.0</td>\n",
       "    </tr>\n",
       "    <tr>\n",
       "      <th>3</th>\n",
       "      <td>3.0+/-0.5</td>\n",
       "      <td>218.0+/-1.0</td>\n",
       "      <td>209.0+/-1.0</td>\n",
       "    </tr>\n",
       "    <tr>\n",
       "      <th>4</th>\n",
       "      <td>4.0+/-0.5</td>\n",
       "      <td>286.0+/-1.0</td>\n",
       "      <td>284.0+/-1.0</td>\n",
       "    </tr>\n",
       "  </tbody>\n",
       "</table>\n",
       "</div>"
      ],
      "text/plain": [
       "   Strom I/A Magnetfeld (I zunehmend) B/mT Magnetfeld (I abnehmend) B/mT\n",
       "0  0.0+/-0.5                     5.0+/-1.0                     7.0+/-1.0\n",
       "1  1.0+/-0.5                    80.0+/-1.0                    59.0+/-1.0\n",
       "2  2.0+/-0.5                   150.0+/-1.0                   141.0+/-1.0\n",
       "3  3.0+/-0.5                   218.0+/-1.0                   209.0+/-1.0\n",
       "4  4.0+/-0.5                   286.0+/-1.0                   284.0+/-1.0"
      ]
     },
     "execution_count": 56,
     "metadata": {},
     "output_type": "execute_result"
    }
   ],
   "source": [
    "hysteresis_2.head()"
   ]
  },
  {
   "cell_type": "markdown",
   "metadata": {},
   "source": [
    "### Tabellen der Messwerte"
   ]
  },
  {
   "cell_type": "code",
   "execution_count": 57,
   "metadata": {
    "collapsed": false
   },
   "outputs": [
    {
     "data": {
      "image/png": "[encoded data removed]",
      "text/plain": [
       "<IPython.core.display.Image object>"
      ]
     },
     "execution_count": 57,
     "metadata": {
      "image/png": {
       "width": 700
      }
     },
     "output_type": "execute_result"
    }
   ],
   "source": [
    "tab_hysteresis_inc = Table(siunitx=True, booktabs=True)\n",
    "tab_hysteresis_inc.caption(\"\"\"Messwerte der magnetischen Flussdichte, die in Abhängigkeit der angelegten Stromstärke\n",
    "                        aufgenommen wurden, um die Hysterese des verwendeten Magneten zu bestimmen. \n",
    "                        In dieser Messung wurde die Stromstärke sukzessive erhöht.\"\"\")\n",
    "tab_hysteresis_inc.label(\"hysterese_zunehmend\")\n",
    "tab_hysteresis_inc.addColumn(hysteresis_1[\"Strom I/A\"].values[:9], title=\"Stromstärke\", symbol=\"I\", unit=\"\\\\ampere\")\n",
    "tab_hysteresis_inc.addColumn(hysteresis_1[\"Magnetfeld (I zunehmend) B/mT\"].values[:9], title=\"magn. Flussdichte\",\n",
    "                         symbol=\"B\", unit=\"\\\\milli\\\\tesla\")\n",
    "tab_hysteresis_inc.addColumn(hysteresis_1[\"Strom I/A\"].values[9:], title=\"Stromstärke\", symbol=\"I\", unit=\"\\\\ampere\")\n",
    "tab_hysteresis_inc.addColumn(hysteresis_1[\"Magnetfeld (I zunehmend) B/mT\"].values[9:], title=\"magn. Flussdichte\",\n",
    "                         symbol=\"B\", unit=\"\\\\milli\\\\tesla\")\n",
    "Image(tab_hysteresis_inc.show(ipynb=True, quiet=False),width=700)"
   ]
  },
  {
   "cell_type": "markdown",
   "metadata": {},
   "source": [
    "tab_hysteresis_inc.save(path_table + \"Hysterese_zunehmend.tex\")"
   ]
  },
  {
   "cell_type": "code",
   "execution_count": 58,
   "metadata": {
    "collapsed": false
   },
   "outputs": [
    {
     "data": {
      "image/png": "[encoded data removed]",
      "text/plain": [
       "<IPython.core.display.Image object>"
      ]
     },
     "execution_count": 58,
     "metadata": {
      "image/png": {
       "width": 700
      }
     },
     "output_type": "execute_result"
    }
   ],
   "source": [
    "tab_hysteresis_dec = Table(siunitx=True, booktabs=True)\n",
    "tab_hysteresis_dec.caption(\"\"\"Messwerte der magnetischen Flussdichte, die in Abhängigkeit der angelegten Stromstärke\n",
    "                        aufgenommen wurden, um die Hysterese des verwendeten Magneten zu bestimmen. \n",
    "                        In dieser Messung wurde die Stromstärke sukzessive verringert.\"\"\")\n",
    "tab_hysteresis_dec.label(\"hysterese_zunehmend\")\n",
    "tab_hysteresis_dec.addColumn(hysteresis_1[\"Strom I/A\"].values[:9], title=\"Stromstärke\", symbol=\"I\", unit=\"\\\\ampere\")\n",
    "tab_hysteresis_dec.addColumn(hysteresis_1[\"Magnetfeld (I abnehmend) B/mT\"].values[:9], title=\"magn. Flussdichte\",\n",
    "                         symbol=\"B\", unit=\"\\\\milli\\\\tesla\")\n",
    "tab_hysteresis_dec.addColumn(hysteresis_1[\"Strom I/A\"].values[9:], title=\"Stromstärke\", symbol=\"I\", unit=\"\\\\ampere\")\n",
    "tab_hysteresis_dec.addColumn(hysteresis_1[\"Magnetfeld (I abnehmend) B/mT\"].values[9:], title=\"magn. Flussdichte\",\n",
    "                         symbol=\"B\", unit=\"\\\\milli\\\\tesla\")\n",
    "Image(tab_hysteresis_dec.show(ipynb=True, quiet=False),width=700)"
   ]
  },
  {
   "cell_type": "markdown",
   "metadata": {},
   "source": [
    "tab_hysteresis_dec.save(path_table + \"Hysterese_abnehmend.tex\")"
   ]
  },
  {
   "cell_type": "markdown",
   "metadata": {
    "collapsed": true
   },
   "source": [
    "### Plots der Hysterese\n"
   ]
  },
  {
   "cell_type": "markdown",
   "metadata": {
    "collapsed": true
   },
   "source": [
    "#### Erste Messung"
   ]
  },
  {
   "cell_type": "code",
   "execution_count": 59,
   "metadata": {
    "collapsed": false
   },
   "outputs": [
    {
     "name": "stdout",
     "output_type": "stream",
     "text": [
      "a_ab =  54.60268320943114 +/- 0.8066786330934029\n",
      "b_ab =  37.43274821608795 +/- 8.03310381999233\n",
      "a_in =  56.16821466417253 +/- 1.030043435313515\n",
      "b_in =  29.07017534402186 +/- 10.257426200589356\n"
     ]
    }
   ],
   "source": [
    "fit_parameter_hysteresis_1_decreasing = ucurve_fit(func_linear, hysteresis_1[\"Strom I/A\"].values,\n",
    "                                        hysteresis_1[\"Magnetfeld (I abnehmend) B/mT\"].values)\n",
    "print_errors(fit_parameter_hysteresis_1_decreasing, description=(\"a_ab =\",\"b_ab =\"))\n",
    "\n",
    "fit_parameter_hysteresis_1_increasing = ucurve_fit(func_linear, hysteresis_1[\"Strom I/A\"].values,\n",
    "                                        hysteresis_1[\"Magnetfeld (I zunehmend) B/mT\"].values)\n",
    "print_errors(fit_parameter_hysteresis_1_increasing, description=(\"a_in =\",\"b_in =\"))\n",
    "\n",
    "fit_current = np.linspace(0, 17, 1001)"
   ]
  },
  {
   "cell_type": "raw",
   "metadata": {
    "collapsed": false
   },
   "source": [
    "fig, axes = plt.subplots(nrows=2, sharex=True)\n",
    "ax_upper, ax_lower = np.ravel(axes)\n",
    "\n",
    "ax = fig.add_subplot(111, frameon=False)\n",
    "# hide tick and tick label of the big axes\n",
    "ax.tick_params(labelcolor='none', top='off', bottom='off', left='off', right='off')\n",
    "ax.grid(False)\n",
    "\n",
    "\n",
    "ax_upper.set_ylim(-400, 1000.0)\n",
    "ax_lower.set_xlabel(axis_label(\"Strom\",\"I\",\"A\"))\n",
    "\n",
    "axis_scale(1e-3, ax=ax_upper, axis=\"y\")\n",
    "axis_scale(1e-3, ax=ax_lower, axis=\"y\")\n",
    "ax.set_ylabel(axis_label(\"Magnetische Fussdichte\",\"B\",\"T\"))\n",
    "\n",
    "\n",
    "errorbar(hysteresis_1[\"Strom I/A\"],\n",
    "         hysteresis_1[\"Magnetfeld (I zunehmend) B/mT\"], factor_y = 50, color=colors[0],\n",
    "         ax=ax_upper, label=\"Hysterese (I zunehmend)\\n(50$\\sigma_{B}$ Fehlerbalken)\")\n",
    "ax_upper.plot(fit_current, func_linear(fit_current, *noms(fit_parameter_hysteresis_1_increasing)),\n",
    "              marker=\"\", color=colors[2], label=\"linearer Fit\")\n",
    "ax_upper.plot(noms(hysteresis_1[\"Strom I/A\"]),\n",
    "         noms(hysteresis_1[\"Magnetfeld (I abnehmend) B/mT\"]),\n",
    "         marker=\"o\", linestyle=\"\", color=colors[1], zorder=1,\n",
    "         label=\"Hysterese (I abnehmend)\")\n",
    "\n",
    "errorbar(hysteresis_1[\"Strom I/A\"],\n",
    "         hysteresis_1[\"Magnetfeld (I abnehmend) B/mT\"], factor_y = 50, color=colors[1],\n",
    "         ax=ax_lower, label=\"Hysterese (I abnehmend)\\n(50$\\sigma_{B}$ Fehlerbalken)\")\n",
    "\n",
    "\n",
    "ax_upper.legend(loc=\"best\")#\"lower right\")\n",
    "ax_lower.legend(loc=\"lower right\")\n",
    "plt.tight_layout(h_pad=0.3)\n",
    "fig.savefig(path_graphics+\"Hysterese_Messung_I.pdf\")"
   ]
  },
  {
   "cell_type": "code",
   "execution_count": 60,
   "metadata": {
    "collapsed": false
   },
   "outputs": [
    {
     "name": "stdout",
     "output_type": "stream",
     "text": [
      "['linearer Fit\\n $B(I) = (56 \\\\pm 1)\\\\frac{\\\\mathrm{mT}}{\\\\mathrm{A}}\\\\cdot I + (29 \\\\pm 10)\\\\mathrm{mT}$', 'Hysterese (I abnehmend)', 'Hysterese (I zunehmend)\\n(50$\\\\sigma_{B}$ Fehlerbalken)']\n"
     ]
    },
    {
     "data": {
      "image/png": "[encoded data removed]",
      "text/plain": [
       "<matplotlib.figure.Figure at 0x7f9ebd454a90>"
      ]
     },
     "metadata": {},
     "output_type": "display_data"
    }
   ],
   "source": [
    "fig, ax_upper = plt.subplots()\n",
    "\n",
    "ax_upper.set_ylim(-200, 1200.0)\n",
    "ax_upper.set_xlabel(axis_label(\"Strom\",\"I\",\"A\"))\n",
    "\n",
    "#axis_scale(1e-3, ax=ax_upper, axis=\"y\")\n",
    "ax_upper.set_ylabel(axis_label(\"Magnetische Fussdichte\",\"B\",\"mT\"))\n",
    "\n",
    "\n",
    "errorbar(hysteresis_1[\"Strom I/A\"],\n",
    "         hysteresis_1[\"Magnetfeld (I zunehmend) B/mT\"], factor_y = 50, color=colors[0],\n",
    "         ax=ax_upper, label=\"Hysterese (I zunehmend)\\n(50$\\sigma_{B}$ Fehlerbalken)\")\n",
    "ax_upper.plot(fit_current, func_linear(fit_current, *noms(fit_parameter_hysteresis_1_increasing)),\n",
    "              marker=\"\", color=colors[2], \n",
    "              label=\"linearer Fit\\n $B(I) = ({a_value:.2L}){a_unit:s}\\\\cdot I + ({b_value:.2L}){b_unit:s}$\".format(\n",
    "              a_value = fit_parameter_hysteresis_1_increasing[0],\n",
    "              a_unit = r\"\\frac{\\mathrm{mT}}{\\mathrm{A}}\",\n",
    "              b_value = fit_parameter_hysteresis_1_increasing[1],\n",
    "              b_unit = r\"\\mathrm{mT}\"))\n",
    "\n",
    "ax_upper.plot(noms(hysteresis_1[\"Strom I/A\"]),\n",
    "         noms(hysteresis_1[\"Magnetfeld (I abnehmend) B/mT\"]),\n",
    "         marker=\"o\", linestyle=\"\", color=colors[1], zorder=1,\n",
    "         label=\"Hysterese (I abnehmend)\")\n",
    "\n",
    "\n",
    "handles, labels = ax_upper.get_legend_handles_labels()\n",
    "print(labels)\n",
    "# sort both labels and handles by labels\n",
    "labels, handles = ([labels[i] for i in [2,0,1]], [handles[i] for i in [2,0,1]])  \n",
    "ax_upper.legend(handles, labels, loc=\"best\")#\"lower right\")\n",
    "plt.tight_layout()\n",
    "fig.savefig(path_graphics+\"Hysterese_Messung_I_zunehmend.pdf\")"
   ]
  },
  {
   "cell_type": "code",
   "execution_count": 61,
   "metadata": {
    "collapsed": false
   },
   "outputs": [
    {
     "name": "stdout",
     "output_type": "stream",
     "text": [
      "['linearer Fit\\n $B(I) = (55 \\\\pm 1)\\\\frac{\\\\mathrm{mT}}{\\\\mathrm{A}}\\\\cdot I + (37 \\\\pm 8)\\\\mathrm{mT}$', 'Hysterese (I zunehmend)', 'Hysterese (I abnehmend)\\n(50$\\\\sigma_{B}$ Fehlerbalken)']\n"
     ]
    },
    {
     "data": {
      "image/png": "[encoded data removed]",
      "text/plain": [
       "<matplotlib.figure.Figure at 0x7f9ebd3ef898>"
      ]
     },
     "metadata": {},
     "output_type": "display_data"
    }
   ],
   "source": [
    "fig, ax_upper = plt.subplots()\n",
    "\n",
    "ax_upper.set_ylim(-200, 1200.0)\n",
    "ax_upper.set_xlabel(axis_label(\"Strom\",\"I\",\"A\"))\n",
    "\n",
    "#axis_scale(1e-3, ax=ax_upper, axis=\"y\")\n",
    "ax_upper.set_ylabel(axis_label(\"Magnetische Fussdichte\",\"B\",\"mT\"))\n",
    "\n",
    "\n",
    "errorbar(hysteresis_1[\"Strom I/A\"],\n",
    "         hysteresis_1[\"Magnetfeld (I abnehmend) B/mT\"], factor_y = 50, color=colors[1],\n",
    "         ax=ax_upper, label=\"Hysterese (I abnehmend)\\n(50$\\sigma_{B}$ Fehlerbalken)\")\n",
    "\n",
    "ax_upper.plot(fit_current, func_linear(fit_current, *noms(fit_parameter_hysteresis_1_decreasing)),\n",
    "              marker=\"\", color=colors[2], \n",
    "              label=\"linearer Fit\\n $B(I) = ({a_value:.2L}){a_unit:s}\\\\cdot I + ({b_value:.2L}){b_unit:s}$\".format(\n",
    "              a_value = fit_parameter_hysteresis_1_decreasing[0],\n",
    "              a_unit = r\"\\frac{\\mathrm{mT}}{\\mathrm{A}}\",\n",
    "              b_value = fit_parameter_hysteresis_1_decreasing[1],\n",
    "              b_unit = r\"\\mathrm{mT}\"))\n",
    "\n",
    "ax_upper.plot(noms(hysteresis_1[\"Strom I/A\"]),\n",
    "         noms(hysteresis_1[\"Magnetfeld (I zunehmend) B/mT\"]),\n",
    "         marker=\"o\", linestyle=\"\", color=colors[0], zorder=1,\n",
    "         label=\"Hysterese (I zunehmend)\")\n",
    "\n",
    "\n",
    "handles, labels = ax_upper.get_legend_handles_labels()\n",
    "print(labels)\n",
    "# sort both labels and handles by labels\n",
    "labels, handles = ([labels[i] for i in [2,0,1]], [handles[i] for i in [2,0,1]])  \n",
    "ax_upper.legend(handles, labels, loc=\"best\")#\"lower right\")\n",
    "plt.tight_layout()\n",
    "fig.savefig(path_graphics+\"Hysterese_Messung_I_abnehmend.pdf\")"
   ]
  },
  {
   "cell_type": "markdown",
   "metadata": {},
   "source": [
    "#### Zweite Messung"
   ]
  },
  {
   "cell_type": "code",
   "execution_count": 62,
   "metadata": {
    "collapsed": false
   },
   "outputs": [
    {
     "name": "stdout",
     "output_type": "stream",
     "text": [
      "a_ab =  61.465428276705666 +/- 0.904462746120188\n",
      "b_ab =  27.543859649180828 +/- 9.006862405978026\n",
      "a_in =  62.35190935209263 +/- 1.353267799050739\n",
      "b_in =  38.17543670287929 +/- 13.47617383527143\n"
     ]
    }
   ],
   "source": [
    "fit_parameter_hysteresis_2_decreasing = ucurve_fit(func_linear, hysteresis_2[\"Strom I/A\"].values,\n",
    "                                        hysteresis_2[\"Magnetfeld (I abnehmend) B/mT\"].values)\n",
    "print_errors(fit_parameter_hysteresis_2_decreasing, description=(\"a_ab =\",\"b_ab =\"))\n",
    "\n",
    "fit_parameter_hysteresis_2_increasing = ucurve_fit(func_linear, hysteresis_2[\"Strom I/A\"].values,\n",
    "                                        hysteresis_2[\"Magnetfeld (I zunehmend) B/mT\"].values)\n",
    "print_errors(fit_parameter_hysteresis_2_increasing, description=(\"a_in =\",\"b_in =\"))\n",
    "\n",
    "fit_current = np.linspace(0, 17, 1001)"
   ]
  },
  {
   "cell_type": "code",
   "execution_count": 63,
   "metadata": {
    "collapsed": false
   },
   "outputs": [
    {
     "name": "stdout",
     "output_type": "stream",
     "text": [
      "['linearer Fit\\n $B(I) = (62 \\\\pm 1)\\\\frac{\\\\mathrm{mT}}{\\\\mathrm{A}}\\\\cdot I + (38 \\\\pm 13)\\\\mathrm{mT}$', 'Hysterese (I abnehmend)', 'Hysterese (I zunehmend)\\n(50$\\\\sigma_{B}$ Fehlerbalken)']\n"
     ]
    },
    {
     "data": {
      "image/png": "[encoded data removed]",
      "text/plain": [
       "<matplotlib.figure.Figure at 0x7f9ebc0f8780>"
      ]
     },
     "metadata": {},
     "output_type": "display_data"
    }
   ],
   "source": [
    "fig, ax_upper = plt.subplots()\n",
    "\n",
    "#ax_upper.set_ylim(-200, 1200.0)\n",
    "ax_upper.set_xlabel(axis_label(\"Strom\",\"I\",\"A\"))\n",
    "\n",
    "#axis_scale(1e-3, ax=ax_upper, axis=\"y\")\n",
    "ax_upper.set_ylabel(axis_label(\"Magnetische Fussdichte\",\"B\",\"mT\"))\n",
    "\n",
    "\n",
    "errorbar(hysteresis_2[\"Strom I/A\"],\n",
    "         hysteresis_2[\"Magnetfeld (I zunehmend) B/mT\"], factor_y = 50, color=colors[0],\n",
    "         ax=ax_upper, label=\"Hysterese (I zunehmend)\\n(50$\\sigma_{B}$ Fehlerbalken)\")\n",
    "ax_upper.plot(fit_current, func_linear(fit_current, *noms(fit_parameter_hysteresis_2_increasing)),\n",
    "              marker=\"\", color=colors[2], \n",
    "              label=\"linearer Fit\\n $B(I) = ({a_value:.2L}){a_unit:s}\\\\cdot I + ({b_value:.2L}){b_unit:s}$\".format(\n",
    "              a_value = fit_parameter_hysteresis_2_increasing[0],\n",
    "              a_unit = r\"\\frac{\\mathrm{mT}}{\\mathrm{A}}\",\n",
    "              b_value = fit_parameter_hysteresis_2_increasing[1],\n",
    "              b_unit = r\"\\mathrm{mT}\"))\n",
    "\n",
    "ax_upper.plot(noms(hysteresis_2[\"Strom I/A\"]),\n",
    "         noms(hysteresis_2[\"Magnetfeld (I abnehmend) B/mT\"]),\n",
    "         marker=\"o\", linestyle=\"\", color=colors[1], zorder=1,\n",
    "         label=\"Hysterese (I abnehmend)\")\n",
    "\n",
    "\n",
    "\n",
    "handles, labels = ax_upper.get_legend_handles_labels()\n",
    "print(labels)\n",
    "# sort both labels and handles by labels\n",
    "labels, handles = ([labels[i] for i in [2,0,1]], [handles[i] for i in [2,0,1]])  \n",
    "ax_upper.legend(handles, labels, loc=\"upper left\")#\"lower right\")\n",
    "plt.tight_layout()\n",
    "fig.savefig(path_graphics+\"Hysterese_Messung_II_zunehmend.pdf\")"
   ]
  },
  {
   "cell_type": "code",
   "execution_count": 64,
   "metadata": {
    "collapsed": false
   },
   "outputs": [
    {
     "name": "stdout",
     "output_type": "stream",
     "text": [
      "['linearer Fit\\n $B(I) = (61 \\\\pm 1)\\\\frac{\\\\mathrm{mT}}{\\\\mathrm{A}}\\\\cdot I + (28 \\\\pm 9)\\\\mathrm{mT}$', 'Hysterese (I zunehmend)', 'Hysterese (I abnehmend)\\n(50$\\\\sigma_{B}$ Fehlerbalken)']\n"
     ]
    },
    {
     "data": {
      "image/png": "[encoded data removed]",
      "text/plain": [
       "<matplotlib.figure.Figure at 0x7f9ebc03c550>"
      ]
     },
     "metadata": {},
     "output_type": "display_data"
    }
   ],
   "source": [
    "fig, ax_upper = plt.subplots()\n",
    "\n",
    "#ax_upper.set_ylim(-200, 1200.0)\n",
    "ax_upper.set_xlabel(axis_label(\"Strom\",\"I\",\"A\"))\n",
    "\n",
    "#axis_scale(1e-3, ax=ax_upper, axis=\"y\")\n",
    "ax_upper.set_ylabel(axis_label(\"Magnetische Fussdichte\",\"B\",\"mT\"))\n",
    "\n",
    "\n",
    "errorbar(hysteresis_2[\"Strom I/A\"],\n",
    "         hysteresis_2[\"Magnetfeld (I abnehmend) B/mT\"], factor_y = 50, color=colors[1],\n",
    "         ax=ax_upper, label=\"Hysterese (I abnehmend)\\n(50$\\sigma_{B}$ Fehlerbalken)\")\n",
    "\n",
    "ax_upper.plot(fit_current, func_linear(fit_current, *noms(fit_parameter_hysteresis_2_decreasing)),\n",
    "              marker=\"\", color=colors[2], \n",
    "              label=\"linearer Fit\\n $B(I) = ({a_value:.2L}){a_unit:s}\\\\cdot I + ({b_value:.2L}){b_unit:s}$\".format(\n",
    "              a_value = fit_parameter_hysteresis_2_decreasing[0],\n",
    "              a_unit = r\"\\frac{\\mathrm{mT}}{\\mathrm{A}}\",\n",
    "              b_value = fit_parameter_hysteresis_2_decreasing[1],\n",
    "              b_unit = r\"\\mathrm{mT}\"))\n",
    "\n",
    "ax_upper.plot(noms(hysteresis_2[\"Strom I/A\"]),\n",
    "         noms(hysteresis_2[\"Magnetfeld (I zunehmend) B/mT\"]),\n",
    "         marker=\"o\", linestyle=\"\", color=colors[0], zorder=1,\n",
    "         label=\"Hysterese (I zunehmend)\")\n",
    "\n",
    "\n",
    "handles, labels = ax_upper.get_legend_handles_labels()\n",
    "print(labels)\n",
    "# sort both labels and handles by labels\n",
    "labels, handles = ([labels[i] for i in [2,0,1]], [handles[i] for i in [2,0,1]])  \n",
    "ax_upper.legend(handles, labels, loc=\"best\")#\"lower right\")\n",
    "plt.tight_layout()\n",
    "fig.savefig(path_graphics+\"Hysterese_Messung_II_abnehmend.pdf\")"
   ]
  },
  {
   "cell_type": "code",
   "execution_count": 65,
   "metadata": {
    "collapsed": true
   },
   "outputs": [],
   "source": [
    "def calculate_magneticfield(current, fit_slope, fit_intercept):\n",
    "    return fit_slope * current + fit_intercept     "
   ]
  },
  {
   "cell_type": "markdown",
   "metadata": {},
   "source": [
    "## Laden Stromstärken"
   ]
  },
  {
   "cell_type": "code",
   "execution_count": 66,
   "metadata": {
    "collapsed": true
   },
   "outputs": [],
   "source": [
    "magneticfield_current = pd.read_csv(path_data+\"Stromstaerken.csv\")"
   ]
  },
  {
   "cell_type": "code",
   "execution_count": 67,
   "metadata": {
    "collapsed": false
   },
   "outputs": [
    {
     "data": {
      "text/html": [
       "<div>\n",
       "<table border=\"1\" class=\"dataframe\">\n",
       "  <thead>\n",
       "    <tr style=\"text-align: right;\">\n",
       "      <th></th>\n",
       "      <th>Strom I/A</th>\n",
       "    </tr>\n",
       "  </thead>\n",
       "  <tbody>\n",
       "    <tr>\n",
       "      <th>0</th>\n",
       "      <td>0</td>\n",
       "    </tr>\n",
       "    <tr>\n",
       "      <th>1</th>\n",
       "      <td>5</td>\n",
       "    </tr>\n",
       "    <tr>\n",
       "      <th>2</th>\n",
       "      <td>10</td>\n",
       "    </tr>\n",
       "    <tr>\n",
       "      <th>3</th>\n",
       "      <td>17</td>\n",
       "    </tr>\n",
       "  </tbody>\n",
       "</table>\n",
       "</div>"
      ],
      "text/plain": [
       "   Strom I/A\n",
       "0          0\n",
       "1          5\n",
       "2         10\n",
       "3         17"
      ]
     },
     "execution_count": 67,
     "metadata": {},
     "output_type": "execute_result"
    }
   ],
   "source": [
    "magneticfield_current.head()"
   ]
  },
  {
   "cell_type": "code",
   "execution_count": 68,
   "metadata": {
    "collapsed": true
   },
   "outputs": [],
   "source": [
    "magneticfield_current[\"Strom I/A\"] = unp.uarray(magneticfield_current[\"Strom I/A\"], uncertainties[\"Strom I/A\"]) "
   ]
  },
  {
   "cell_type": "code",
   "execution_count": 69,
   "metadata": {
    "collapsed": false
   },
   "outputs": [
    {
     "data": {
      "text/html": [
       "<div>\n",
       "<table border=\"1\" class=\"dataframe\">\n",
       "  <thead>\n",
       "    <tr style=\"text-align: right;\">\n",
       "      <th></th>\n",
       "      <th>Strom I/A</th>\n",
       "      <th>Magnetfeld I B/mT</th>\n",
       "      <th>Magnetfeld II B/mT</th>\n",
       "    </tr>\n",
       "  </thead>\n",
       "  <tbody>\n",
       "    <tr>\n",
       "      <th>0</th>\n",
       "      <td>0.0+/-0.5</td>\n",
       "      <td>29+/-30</td>\n",
       "      <td>38+/-34</td>\n",
       "    </tr>\n",
       "    <tr>\n",
       "      <th>1</th>\n",
       "      <td>5.0+/-0.5</td>\n",
       "      <td>310+/-29</td>\n",
       "      <td>350+/-32</td>\n",
       "    </tr>\n",
       "    <tr>\n",
       "      <th>2</th>\n",
       "      <td>10.0+/-0.5</td>\n",
       "      <td>591+/-29</td>\n",
       "      <td>662+/-32</td>\n",
       "    </tr>\n",
       "    <tr>\n",
       "      <th>3</th>\n",
       "      <td>17.0+/-0.5</td>\n",
       "      <td>984+/-30</td>\n",
       "      <td>1098+/-34</td>\n",
       "    </tr>\n",
       "  </tbody>\n",
       "</table>\n",
       "</div>"
      ],
      "text/plain": [
       "    Strom I/A Magnetfeld I B/mT Magnetfeld II B/mT\n",
       "0   0.0+/-0.5           29+/-30            38+/-34\n",
       "1   5.0+/-0.5          310+/-29           350+/-32\n",
       "2  10.0+/-0.5          591+/-29           662+/-32\n",
       "3  17.0+/-0.5          984+/-30          1098+/-34"
      ]
     },
     "execution_count": 69,
     "metadata": {},
     "output_type": "execute_result"
    }
   ],
   "source": [
    "magneticfield_current[\"Magnetfeld I B/mT\"] = calculate_magneticfield(magneticfield_current[\"Strom I/A\"].values,\n",
    "                                                                    *fit_parameter_hysteresis_1_increasing)\n",
    "magneticfield_current[\"Magnetfeld II B/mT\"] = calculate_magneticfield(magneticfield_current[\"Strom I/A\"].values,\n",
    "                                                                    *fit_parameter_hysteresis_2_increasing)\n",
    "magneticfield_current.head()\n"
   ]
  },
  {
   "cell_type": "code",
   "execution_count": 98,
   "metadata": {
    "collapsed": false
   },
   "outputs": [
    {
     "data": {
      "image/png": "[encoded data removed]",
      "text/plain": [
       "<IPython.core.display.Image object>"
      ]
     },
     "execution_count": 98,
     "metadata": {
      "image/png": {
       "width": 700
      }
     },
     "output_type": "execute_result"
    }
   ],
   "source": [
    "tab_current = Table(siunitx=True, booktabs=True)\n",
    "tab_current.caption(\"\"\"Stromstärken und die korrespondierenden magnetischen Flussdichten,\n",
    "                    bei denen die Spektrallinien aufgenommen wurden. \n",
    "                    Die magnetischen Flussdichten wurden dabei mit der zuvor bestimmten Fit-Gerade der\n",
    "                    Hysterese-Messung berechnet.\"\"\")\n",
    "tab_current.label(\"strom_magnetfeld\")\n",
    "tab_current.addColumn(magneticfield_current[\"Strom I/A\"].values, title=\"Stromstärke\", symbol=\"I\", unit=\"\\\\ampere\")\n",
    "tab_current.addColumn(magneticfield_current[\"Magnetfeld I B/mT\"], title=\"magn. Flussdichte\",\n",
    "                         symbol=\"B\", unit=\"\\\\milli\\\\tesla\")\n",
    "#tab_current.addColumn([\"rot, blau\", \"rot $\\\\sigma$\", \"blau $\\\\sigma$\", \"blau $\\\\pi$\"], title=\"Messung\")\n",
    "Image(tab_current.show(ipynb=True, quiet=False),width=700)"
   ]
  },
  {
   "cell_type": "markdown",
   "metadata": {},
   "source": [
    "tab_current.save(path_table + \"Magnetfeld_Aufnahmen.tex\")"
   ]
  },
  {
   "cell_type": "markdown",
   "metadata": {
    "collapsed": true
   },
   "source": [
    "## Analyse der Spekrallinien"
   ]
  },
  {
   "cell_type": "code",
   "execution_count": 70,
   "metadata": {
    "collapsed": true
   },
   "outputs": [],
   "source": [
    "def wavelength_shift(Delta_s, delta_s, dispersion_area):\n",
    "    return 0.5 * delta_s / Delta_s * dispersion_area\n",
    "\n",
    "def energy_shift(wavelength, wavelength_shift):\n",
    "    return (const.h * const.c / wavelength**2) * wavelength_shift"
   ]
  },
  {
   "cell_type": "code",
   "execution_count": 71,
   "metadata": {
    "collapsed": true
   },
   "outputs": [],
   "source": [
    "wavelength_red = 643.8e-9\n",
    "wavelength_blue = 480.0e-9\n",
    "\n",
    "dispersion_area_red = 4.89e-11 \n",
    "dispersion_area_blue = 2.70e-11"
   ]
  },
  {
   "cell_type": "code",
   "execution_count": null,
   "metadata": {
    "collapsed": true
   },
   "outputs": [],
   "source": []
  },
  {
   "cell_type": "markdown",
   "metadata": {},
   "source": [
    "### Rote Linie: $\\sigma$-Übergang"
   ]
  },
  {
   "cell_type": "markdown",
   "metadata": {},
   "source": [
    "#### Laden der Messwerte"
   ]
  },
  {
   "cell_type": "code",
   "execution_count": 72,
   "metadata": {
    "collapsed": false
   },
   "outputs": [
    {
     "data": {
      "text/html": [
       "<div>\n",
       "<table border=\"1\" class=\"dataframe\">\n",
       "  <thead>\n",
       "    <tr style=\"text-align: right;\">\n",
       "      <th></th>\n",
       "      <th>Abstand Δs/px</th>\n",
       "      <th>Abstand δs/px</th>\n",
       "    </tr>\n",
       "  </thead>\n",
       "  <tbody>\n",
       "    <tr>\n",
       "      <th>0</th>\n",
       "      <td>399</td>\n",
       "      <td>195</td>\n",
       "    </tr>\n",
       "    <tr>\n",
       "      <th>1</th>\n",
       "      <td>360</td>\n",
       "      <td>186</td>\n",
       "    </tr>\n",
       "    <tr>\n",
       "      <th>2</th>\n",
       "      <td>337</td>\n",
       "      <td>168</td>\n",
       "    </tr>\n",
       "    <tr>\n",
       "      <th>3</th>\n",
       "      <td>321</td>\n",
       "      <td>165</td>\n",
       "    </tr>\n",
       "    <tr>\n",
       "      <th>4</th>\n",
       "      <td>299</td>\n",
       "      <td>150</td>\n",
       "    </tr>\n",
       "  </tbody>\n",
       "</table>\n",
       "</div>"
      ],
      "text/plain": [
       "   Abstand Δs/px  Abstand δs/px\n",
       "0            399            195\n",
       "1            360            186\n",
       "2            337            168\n",
       "3            321            165\n",
       "4            299            150"
      ]
     },
     "execution_count": 72,
     "metadata": {},
     "output_type": "execute_result"
    }
   ],
   "source": [
    "lineshift_red_sigma = pd.read_csv(path_data+\"Abstaende_rot_sigma.csv\")\n",
    "lineshift_red_sigma.head()"
   ]
  },
  {
   "cell_type": "code",
   "execution_count": 73,
   "metadata": {
    "collapsed": true
   },
   "outputs": [],
   "source": [
    "# Erzeugung fehlerbehafteter Messwerte\n",
    "lineshift_red_sigma[\"Abstand Δs/px\"] = unp.uarray(lineshift_red_sigma[\"Abstand Δs/px\"].values,\n",
    "                                                  uncertainties[\"Abstand s/px\"]) \n",
    "lineshift_red_sigma[\"Abstand δs/px\"] = unp.uarray(lineshift_red_sigma[\"Abstand δs/px\"].values,\n",
    "                                                  uncertainties[\"Abstand s/px\"]) "
   ]
  },
  {
   "cell_type": "code",
   "execution_count": 74,
   "metadata": {
    "collapsed": false
   },
   "outputs": [
    {
     "data": {
      "text/html": [
       "<div>\n",
       "<table border=\"1\" class=\"dataframe\">\n",
       "  <thead>\n",
       "    <tr style=\"text-align: right;\">\n",
       "      <th></th>\n",
       "      <th>Abstand Δs/px</th>\n",
       "      <th>Abstand δs/px</th>\n",
       "    </tr>\n",
       "  </thead>\n",
       "  <tbody>\n",
       "    <tr>\n",
       "      <th>0</th>\n",
       "      <td>399+/-5</td>\n",
       "      <td>195+/-5</td>\n",
       "    </tr>\n",
       "    <tr>\n",
       "      <th>1</th>\n",
       "      <td>360+/-5</td>\n",
       "      <td>186+/-5</td>\n",
       "    </tr>\n",
       "    <tr>\n",
       "      <th>2</th>\n",
       "      <td>337+/-5</td>\n",
       "      <td>168+/-5</td>\n",
       "    </tr>\n",
       "    <tr>\n",
       "      <th>3</th>\n",
       "      <td>321+/-5</td>\n",
       "      <td>165+/-5</td>\n",
       "    </tr>\n",
       "    <tr>\n",
       "      <th>4</th>\n",
       "      <td>299+/-5</td>\n",
       "      <td>150+/-5</td>\n",
       "    </tr>\n",
       "  </tbody>\n",
       "</table>\n",
       "</div>"
      ],
      "text/plain": [
       "  Abstand Δs/px Abstand δs/px\n",
       "0       399+/-5       195+/-5\n",
       "1       360+/-5       186+/-5\n",
       "2       337+/-5       168+/-5\n",
       "3       321+/-5       165+/-5\n",
       "4       299+/-5       150+/-5"
      ]
     },
     "execution_count": 74,
     "metadata": {},
     "output_type": "execute_result"
    }
   ],
   "source": [
    "lineshift_red_sigma.head()"
   ]
  },
  {
   "cell_type": "code",
   "execution_count": 75,
   "metadata": {
    "collapsed": false
   },
   "outputs": [
    {
     "data": {
      "text/html": [
       "<div>\n",
       "<table border=\"1\" class=\"dataframe\">\n",
       "  <thead>\n",
       "    <tr style=\"text-align: right;\">\n",
       "      <th></th>\n",
       "      <th>Abstand Δs/px</th>\n",
       "      <th>Abstand δs/px</th>\n",
       "      <th>Verhaeltnis δs/Δs</th>\n",
       "    </tr>\n",
       "  </thead>\n",
       "  <tbody>\n",
       "    <tr>\n",
       "      <th>0</th>\n",
       "      <td>399+/-5</td>\n",
       "      <td>195+/-5</td>\n",
       "      <td>0.489+/-0.014</td>\n",
       "    </tr>\n",
       "    <tr>\n",
       "      <th>1</th>\n",
       "      <td>360+/-5</td>\n",
       "      <td>186+/-5</td>\n",
       "      <td>0.517+/-0.016</td>\n",
       "    </tr>\n",
       "    <tr>\n",
       "      <th>2</th>\n",
       "      <td>337+/-5</td>\n",
       "      <td>168+/-5</td>\n",
       "      <td>0.499+/-0.017</td>\n",
       "    </tr>\n",
       "    <tr>\n",
       "      <th>3</th>\n",
       "      <td>321+/-5</td>\n",
       "      <td>165+/-5</td>\n",
       "      <td>0.514+/-0.018</td>\n",
       "    </tr>\n",
       "    <tr>\n",
       "      <th>4</th>\n",
       "      <td>299+/-5</td>\n",
       "      <td>150+/-5</td>\n",
       "      <td>0.502+/-0.019</td>\n",
       "    </tr>\n",
       "  </tbody>\n",
       "</table>\n",
       "</div>"
      ],
      "text/plain": [
       "  Abstand Δs/px Abstand δs/px Verhaeltnis δs/Δs\n",
       "0       399+/-5       195+/-5     0.489+/-0.014\n",
       "1       360+/-5       186+/-5     0.517+/-0.016\n",
       "2       337+/-5       168+/-5     0.499+/-0.017\n",
       "3       321+/-5       165+/-5     0.514+/-0.018\n",
       "4       299+/-5       150+/-5     0.502+/-0.019"
      ]
     },
     "execution_count": 75,
     "metadata": {},
     "output_type": "execute_result"
    }
   ],
   "source": [
    "# Verhältnis der Abstände\n",
    "lineshift_red_sigma[\"Verhaeltnis δs/Δs\"] = (lineshift_red_sigma[\"Abstand δs/px\"].values /\n",
    "                                            lineshift_red_sigma['Abstand Δs/px'].values)\n",
    "lineshift_red_sigma.head()"
   ]
  },
  {
   "cell_type": "code",
   "execution_count": 76,
   "metadata": {
    "collapsed": false
   },
   "outputs": [
    {
     "data": {
      "text/html": [
       "<div>\n",
       "<table border=\"1\" class=\"dataframe\">\n",
       "  <thead>\n",
       "    <tr style=\"text-align: right;\">\n",
       "      <th></th>\n",
       "      <th>Abstand Δs/px</th>\n",
       "      <th>Abstand δs/px</th>\n",
       "      <th>Verhaeltnis δs/Δs</th>\n",
       "      <th>Wellenlaengenverschiebung δλ/m</th>\n",
       "    </tr>\n",
       "  </thead>\n",
       "  <tbody>\n",
       "    <tr>\n",
       "      <th>0</th>\n",
       "      <td>399+/-5</td>\n",
       "      <td>195+/-5</td>\n",
       "      <td>0.489+/-0.014</td>\n",
       "      <td>(1.195+/-0.034)e-11</td>\n",
       "    </tr>\n",
       "    <tr>\n",
       "      <th>1</th>\n",
       "      <td>360+/-5</td>\n",
       "      <td>186+/-5</td>\n",
       "      <td>0.517+/-0.016</td>\n",
       "      <td>(1.26+/-0.04)e-11</td>\n",
       "    </tr>\n",
       "    <tr>\n",
       "      <th>2</th>\n",
       "      <td>337+/-5</td>\n",
       "      <td>168+/-5</td>\n",
       "      <td>0.499+/-0.017</td>\n",
       "      <td>(1.22+/-0.04)e-11</td>\n",
       "    </tr>\n",
       "    <tr>\n",
       "      <th>3</th>\n",
       "      <td>321+/-5</td>\n",
       "      <td>165+/-5</td>\n",
       "      <td>0.514+/-0.018</td>\n",
       "      <td>(1.26+/-0.04)e-11</td>\n",
       "    </tr>\n",
       "    <tr>\n",
       "      <th>4</th>\n",
       "      <td>299+/-5</td>\n",
       "      <td>150+/-5</td>\n",
       "      <td>0.502+/-0.019</td>\n",
       "      <td>(1.23+/-0.05)e-11</td>\n",
       "    </tr>\n",
       "  </tbody>\n",
       "</table>\n",
       "</div>"
      ],
      "text/plain": [
       "  Abstand Δs/px Abstand δs/px Verhaeltnis δs/Δs Wellenlaengenverschiebung δλ/m\n",
       "0       399+/-5       195+/-5     0.489+/-0.014            (1.195+/-0.034)e-11\n",
       "1       360+/-5       186+/-5     0.517+/-0.016              (1.26+/-0.04)e-11\n",
       "2       337+/-5       168+/-5     0.499+/-0.017              (1.22+/-0.04)e-11\n",
       "3       321+/-5       165+/-5     0.514+/-0.018              (1.26+/-0.04)e-11\n",
       "4       299+/-5       150+/-5     0.502+/-0.019              (1.23+/-0.05)e-11"
      ]
     },
     "execution_count": 76,
     "metadata": {},
     "output_type": "execute_result"
    }
   ],
   "source": [
    "lineshift_red_sigma[\"Wellenlaengenverschiebung δλ/m\"] = wavelength_shift(lineshift_red_sigma[\"Abstand Δs/px\"].values,\n",
    "                                                                        lineshift_red_sigma[\"Abstand δs/px\"].values,\n",
    "                                                                        dispersion_area_red)\n",
    "lineshift_red_sigma.head()"
   ]
  },
  {
   "cell_type": "code",
   "execution_count": 77,
   "metadata": {
    "collapsed": false
   },
   "outputs": [
    {
     "name": "stdout",
     "output_type": "stream",
     "text": [
      "Mittlere Wellenlängenverschiebung: (1.23+/-0.01)e-11 m\n",
      "Energieverschiebung: (5.91+/-0.07)e-24 J\n"
     ]
    }
   ],
   "source": [
    "mean_lineshift_red = umean(lineshift_red_sigma[\"Wellenlaengenverschiebung δλ/m\"].values)\n",
    "print(\"Mittlere Wellenlängenverschiebung: {0:.1u} m\".format(mean_lineshift_red))\n",
    "\n",
    "energyshift_red = energy_shift(wavelength_red, mean_lineshift_red)\n",
    "print(\"Energieverschiebung: {0:.1u} J\".format(energyshift_red))"
   ]
  },
  {
   "cell_type": "code",
   "execution_count": 102,
   "metadata": {
    "collapsed": false
   },
   "outputs": [
    {
     "data": {
      "image/png": "/tmp/a9lu2_jm/20161031184656/temp.png",
      "text/plain": [
       "<IPython.core.display.Image object>"
      ]
     },
     "execution_count": 102,
     "metadata": {
      "image/png": {
       "width": 700
      }
     },
     "output_type": "execute_result"
    }
   ],
   "source": [
    "tab_lineshift_red_sigma = Table(siunitx=True, booktabs=True)\n",
    "tab_lineshift_red_sigma.caption(\"\"\"In Pixeln ausgemessene Abstände $Δs$ der unaufgespaltenen  \n",
    "                                und Abstände $δs$ der aufgespaltenen Spektrallinien. Zusätzlich sind das\n",
    "                                Verhältnis dieser Größen und die aus diesem berechnete \n",
    "                                Wellenlängenverschiebung angegeben. Letztere wurde über \\\\ref{eq:} bestimmt.\"\"\")\n",
    "tab_lineshift_red_sigma.label(\"linienverschiebung\")\n",
    "tab_lineshift_red_sigma.addColumn(lineshift_red_sigma[\"Abstand Δs/px\"].values[:7], \n",
    "                                  title=\"Linienabstand\", symbol=\"\\Delta s\", unit=\"px\")\n",
    "tab_lineshift_red_sigma.addColumn(lineshift_red_sigma[\"Abstand δs/px\"].values[:7], \n",
    "                                  title=\"Linienabstand\", symbol=\"\\delta s\", unit=\"px\")\n",
    "tab_lineshift_red_sigma.addColumn(lineshift_red_sigma[\"Verhaeltnis δs/Δs\"].values[7:], \n",
    "                                  title=\"Verhältnis\", symbol=\"\\\\frac{\\delta s}{\\Delta s}\")\n",
    "tab_lineshift_red_sigma.addColumn(lineshift_red_sigma[\"Abstand Δs/px\"].values[7:], \n",
    "                                  title=\"Linienabstand\", symbol=\"\\Delta s\", unit=\"px\")\n",
    "tab_lineshift_red_sigma.addColumn(lineshift_red_sigma[\"Abstand δs/px\"].values[7:], \n",
    "                                  title=\"Linienabstand\", symbol=\"\\delta s\", unit=\"px\")\n",
    "tab_lineshift_red_sigma.addColumn(lineshift_red_sigma[\"Verhaeltnis δs/Δs\"].values[:7], \n",
    "                                  title=\"Verhältnis\", symbol=\"\\\\frac{\\delta s}{\\Delta s}\")\n",
    "#tab_current.addColumn([\"rot, blau\", \"rot $\\\\sigma$\", \"blau $\\\\sigma$\", \"blau $\\\\pi$\"], title=\"Messung\")\n",
    "Image(tab_lineshift_red_sigma.show(ipynb=True, quiet=False),width=700)"
   ]
  },
  {
   "cell_type": "markdown",
   "metadata": {},
   "source": [
    "### Blaue Linie: $\\sigma$-Übergang"
   ]
  },
  {
   "cell_type": "markdown",
   "metadata": {},
   "source": [
    "#### Laden der Messwerte"
   ]
  },
  {
   "cell_type": "code",
   "execution_count": 78,
   "metadata": {
    "collapsed": false
   },
   "outputs": [
    {
     "data": {
      "text/html": [
       "<div>\n",
       "<table border=\"1\" class=\"dataframe\">\n",
       "  <thead>\n",
       "    <tr style=\"text-align: right;\">\n",
       "      <th></th>\n",
       "      <th>Abstand Δs/px</th>\n",
       "      <th>Abstand δs/px</th>\n",
       "    </tr>\n",
       "  </thead>\n",
       "  <tbody>\n",
       "    <tr>\n",
       "      <th>0</th>\n",
       "      <td>392</td>\n",
       "      <td>213</td>\n",
       "    </tr>\n",
       "    <tr>\n",
       "      <th>1</th>\n",
       "      <td>340</td>\n",
       "      <td>186</td>\n",
       "    </tr>\n",
       "    <tr>\n",
       "      <th>2</th>\n",
       "      <td>324</td>\n",
       "      <td>168</td>\n",
       "    </tr>\n",
       "    <tr>\n",
       "      <th>3</th>\n",
       "      <td>292</td>\n",
       "      <td>153</td>\n",
       "    </tr>\n",
       "    <tr>\n",
       "      <th>4</th>\n",
       "      <td>280</td>\n",
       "      <td>138</td>\n",
       "    </tr>\n",
       "  </tbody>\n",
       "</table>\n",
       "</div>"
      ],
      "text/plain": [
       "   Abstand Δs/px  Abstand δs/px\n",
       "0            392            213\n",
       "1            340            186\n",
       "2            324            168\n",
       "3            292            153\n",
       "4            280            138"
      ]
     },
     "execution_count": 78,
     "metadata": {},
     "output_type": "execute_result"
    }
   ],
   "source": [
    "lineshift_blue_sigma = pd.read_csv(path_data+\"Abstaende_blau_sigma.csv\")\n",
    "lineshift_blue_sigma.head()"
   ]
  },
  {
   "cell_type": "code",
   "execution_count": 79,
   "metadata": {
    "collapsed": true
   },
   "outputs": [],
   "source": [
    "# Erzeugung fehlerbehafteter Messwerte\n",
    "lineshift_blue_sigma[\"Abstand Δs/px\"] = unp.uarray(lineshift_blue_sigma[\"Abstand Δs/px\"].values,\n",
    "                                                  uncertainties[\"Abstand s/px\"]) \n",
    "lineshift_blue_sigma[\"Abstand δs/px\"] = unp.uarray(lineshift_blue_sigma[\"Abstand δs/px\"].values,\n",
    "                                                  uncertainties[\"Abstand s/px\"]) "
   ]
  },
  {
   "cell_type": "code",
   "execution_count": 80,
   "metadata": {
    "collapsed": false
   },
   "outputs": [
    {
     "data": {
      "text/html": [
       "<div>\n",
       "<table border=\"1\" class=\"dataframe\">\n",
       "  <thead>\n",
       "    <tr style=\"text-align: right;\">\n",
       "      <th></th>\n",
       "      <th>Abstand Δs/px</th>\n",
       "      <th>Abstand δs/px</th>\n",
       "    </tr>\n",
       "  </thead>\n",
       "  <tbody>\n",
       "    <tr>\n",
       "      <th>0</th>\n",
       "      <td>392+/-5</td>\n",
       "      <td>213+/-5</td>\n",
       "    </tr>\n",
       "    <tr>\n",
       "      <th>1</th>\n",
       "      <td>340+/-5</td>\n",
       "      <td>186+/-5</td>\n",
       "    </tr>\n",
       "    <tr>\n",
       "      <th>2</th>\n",
       "      <td>324+/-5</td>\n",
       "      <td>168+/-5</td>\n",
       "    </tr>\n",
       "    <tr>\n",
       "      <th>3</th>\n",
       "      <td>292+/-5</td>\n",
       "      <td>153+/-5</td>\n",
       "    </tr>\n",
       "    <tr>\n",
       "      <th>4</th>\n",
       "      <td>280+/-5</td>\n",
       "      <td>138+/-5</td>\n",
       "    </tr>\n",
       "  </tbody>\n",
       "</table>\n",
       "</div>"
      ],
      "text/plain": [
       "  Abstand Δs/px Abstand δs/px\n",
       "0       392+/-5       213+/-5\n",
       "1       340+/-5       186+/-5\n",
       "2       324+/-5       168+/-5\n",
       "3       292+/-5       153+/-5\n",
       "4       280+/-5       138+/-5"
      ]
     },
     "execution_count": 80,
     "metadata": {},
     "output_type": "execute_result"
    }
   ],
   "source": [
    "lineshift_blue_sigma.head()"
   ]
  },
  {
   "cell_type": "code",
   "execution_count": 81,
   "metadata": {
    "collapsed": false
   },
   "outputs": [
    {
     "data": {
      "text/html": [
       "<div>\n",
       "<table border=\"1\" class=\"dataframe\">\n",
       "  <thead>\n",
       "    <tr style=\"text-align: right;\">\n",
       "      <th></th>\n",
       "      <th>Abstand Δs/px</th>\n",
       "      <th>Abstand δs/px</th>\n",
       "      <th>Verhaeltnis δs/Δs</th>\n",
       "    </tr>\n",
       "  </thead>\n",
       "  <tbody>\n",
       "    <tr>\n",
       "      <th>0</th>\n",
       "      <td>392+/-5</td>\n",
       "      <td>213+/-5</td>\n",
       "      <td>0.543+/-0.015</td>\n",
       "    </tr>\n",
       "    <tr>\n",
       "      <th>1</th>\n",
       "      <td>340+/-5</td>\n",
       "      <td>186+/-5</td>\n",
       "      <td>0.547+/-0.017</td>\n",
       "    </tr>\n",
       "    <tr>\n",
       "      <th>2</th>\n",
       "      <td>324+/-5</td>\n",
       "      <td>168+/-5</td>\n",
       "      <td>0.519+/-0.017</td>\n",
       "    </tr>\n",
       "    <tr>\n",
       "      <th>3</th>\n",
       "      <td>292+/-5</td>\n",
       "      <td>153+/-5</td>\n",
       "      <td>0.524+/-0.019</td>\n",
       "    </tr>\n",
       "    <tr>\n",
       "      <th>4</th>\n",
       "      <td>280+/-5</td>\n",
       "      <td>138+/-5</td>\n",
       "      <td>0.493+/-0.020</td>\n",
       "    </tr>\n",
       "  </tbody>\n",
       "</table>\n",
       "</div>"
      ],
      "text/plain": [
       "  Abstand Δs/px Abstand δs/px Verhaeltnis δs/Δs\n",
       "0       392+/-5       213+/-5     0.543+/-0.015\n",
       "1       340+/-5       186+/-5     0.547+/-0.017\n",
       "2       324+/-5       168+/-5     0.519+/-0.017\n",
       "3       292+/-5       153+/-5     0.524+/-0.019\n",
       "4       280+/-5       138+/-5     0.493+/-0.020"
      ]
     },
     "execution_count": 81,
     "metadata": {},
     "output_type": "execute_result"
    }
   ],
   "source": [
    "# Verhältnis der Abstände\n",
    "lineshift_blue_sigma[\"Verhaeltnis δs/Δs\"] = (lineshift_blue_sigma[\"Abstand δs/px\"].values /\n",
    "                                            lineshift_blue_sigma['Abstand Δs/px'].values)\n",
    "lineshift_blue_sigma.head()"
   ]
  },
  {
   "cell_type": "code",
   "execution_count": 82,
   "metadata": {
    "collapsed": false
   },
   "outputs": [
    {
     "data": {
      "text/html": [
       "<div>\n",
       "<table border=\"1\" class=\"dataframe\">\n",
       "  <thead>\n",
       "    <tr style=\"text-align: right;\">\n",
       "      <th></th>\n",
       "      <th>Abstand Δs/px</th>\n",
       "      <th>Abstand δs/px</th>\n",
       "      <th>Verhaeltnis δs/Δs</th>\n",
       "      <th>Wellenlaengenverschiebung δλ/m</th>\n",
       "    </tr>\n",
       "  </thead>\n",
       "  <tbody>\n",
       "    <tr>\n",
       "      <th>0</th>\n",
       "      <td>392+/-5</td>\n",
       "      <td>213+/-5</td>\n",
       "      <td>0.543+/-0.015</td>\n",
       "      <td>(7.34+/-0.20)e-12</td>\n",
       "    </tr>\n",
       "    <tr>\n",
       "      <th>1</th>\n",
       "      <td>340+/-5</td>\n",
       "      <td>186+/-5</td>\n",
       "      <td>0.547+/-0.017</td>\n",
       "      <td>(7.39+/-0.23)e-12</td>\n",
       "    </tr>\n",
       "    <tr>\n",
       "      <th>2</th>\n",
       "      <td>324+/-5</td>\n",
       "      <td>168+/-5</td>\n",
       "      <td>0.519+/-0.017</td>\n",
       "      <td>(7.00+/-0.23)e-12</td>\n",
       "    </tr>\n",
       "    <tr>\n",
       "      <th>3</th>\n",
       "      <td>292+/-5</td>\n",
       "      <td>153+/-5</td>\n",
       "      <td>0.524+/-0.019</td>\n",
       "      <td>(7.07+/-0.26)e-12</td>\n",
       "    </tr>\n",
       "    <tr>\n",
       "      <th>4</th>\n",
       "      <td>280+/-5</td>\n",
       "      <td>138+/-5</td>\n",
       "      <td>0.493+/-0.020</td>\n",
       "      <td>(6.65+/-0.27)e-12</td>\n",
       "    </tr>\n",
       "  </tbody>\n",
       "</table>\n",
       "</div>"
      ],
      "text/plain": [
       "  Abstand Δs/px Abstand δs/px Verhaeltnis δs/Δs Wellenlaengenverschiebung δλ/m\n",
       "0       392+/-5       213+/-5     0.543+/-0.015              (7.34+/-0.20)e-12\n",
       "1       340+/-5       186+/-5     0.547+/-0.017              (7.39+/-0.23)e-12\n",
       "2       324+/-5       168+/-5     0.519+/-0.017              (7.00+/-0.23)e-12\n",
       "3       292+/-5       153+/-5     0.524+/-0.019              (7.07+/-0.26)e-12\n",
       "4       280+/-5       138+/-5     0.493+/-0.020              (6.65+/-0.27)e-12"
      ]
     },
     "execution_count": 82,
     "metadata": {},
     "output_type": "execute_result"
    }
   ],
   "source": [
    "lineshift_blue_sigma[\"Wellenlaengenverschiebung δλ/m\"] = wavelength_shift(lineshift_blue_sigma[\"Abstand Δs/px\"].values,\n",
    "                                                                        lineshift_blue_sigma[\"Abstand δs/px\"].values,\n",
    "                                                                        dispersion_area_blue)\n",
    "lineshift_blue_sigma.head()"
   ]
  },
  {
   "cell_type": "code",
   "execution_count": 83,
   "metadata": {
    "collapsed": false
   },
   "outputs": [
    {
     "name": "stdout",
     "output_type": "stream",
     "text": [
      "Mittlere Wellenlängenverschiebung: (6.81+/-0.08)e-12 m\n",
      "Energieverschiebung: (5.87+/-0.07)e-24 J\n"
     ]
    }
   ],
   "source": [
    "mean_lineshift_blue_sigma = umean(lineshift_blue_sigma[\"Wellenlaengenverschiebung δλ/m\"].values)\n",
    "print(\"Mittlere Wellenlängenverschiebung: {0:.1u} m\".format(mean_lineshift_blue_sigma))\n",
    "\n",
    "energyshift_blue_sigma = energy_shift(wavelength_blue, mean_lineshift_blue_sigma)\n",
    "print(\"Energieverschiebung: {0:.1u} J\".format(energyshift_blue_sigma))"
   ]
  },
  {
   "cell_type": "code",
   "execution_count": null,
   "metadata": {
    "collapsed": true
   },
   "outputs": [],
   "source": []
  },
  {
   "cell_type": "code",
   "execution_count": null,
   "metadata": {
    "collapsed": true
   },
   "outputs": [],
   "source": []
  },
  {
   "cell_type": "markdown",
   "metadata": {},
   "source": [
    "### Blaue Linie: $\\pi$-Übergang"
   ]
  },
  {
   "cell_type": "markdown",
   "metadata": {},
   "source": [
    "#### Laden der Messwerte"
   ]
  },
  {
   "cell_type": "code",
   "execution_count": 84,
   "metadata": {
    "collapsed": false
   },
   "outputs": [
    {
     "data": {
      "text/html": [
       "<div>\n",
       "<table border=\"1\" class=\"dataframe\">\n",
       "  <thead>\n",
       "    <tr style=\"text-align: right;\">\n",
       "      <th></th>\n",
       "      <th>Abstand Δs/px</th>\n",
       "      <th>Abstand δs/px</th>\n",
       "    </tr>\n",
       "  </thead>\n",
       "  <tbody>\n",
       "    <tr>\n",
       "      <th>0</th>\n",
       "      <td>387</td>\n",
       "      <td>192</td>\n",
       "    </tr>\n",
       "    <tr>\n",
       "      <th>1</th>\n",
       "      <td>351</td>\n",
       "      <td>150</td>\n",
       "    </tr>\n",
       "    <tr>\n",
       "      <th>2</th>\n",
       "      <td>315</td>\n",
       "      <td>135</td>\n",
       "    </tr>\n",
       "    <tr>\n",
       "      <th>3</th>\n",
       "      <td>297</td>\n",
       "      <td>123</td>\n",
       "    </tr>\n",
       "    <tr>\n",
       "      <th>4</th>\n",
       "      <td>285</td>\n",
       "      <td>120</td>\n",
       "    </tr>\n",
       "  </tbody>\n",
       "</table>\n",
       "</div>"
      ],
      "text/plain": [
       "   Abstand Δs/px  Abstand δs/px\n",
       "0            387            192\n",
       "1            351            150\n",
       "2            315            135\n",
       "3            297            123\n",
       "4            285            120"
      ]
     },
     "execution_count": 84,
     "metadata": {},
     "output_type": "execute_result"
    }
   ],
   "source": [
    "lineshift_blue_pi = pd.read_csv(path_data+\"Abstaende_blau_pi.csv\")\n",
    "lineshift_blue_pi.head()"
   ]
  },
  {
   "cell_type": "code",
   "execution_count": 85,
   "metadata": {
    "collapsed": true
   },
   "outputs": [],
   "source": [
    "# Erzeugung fehlerbehafteter Messwerte\n",
    "lineshift_blue_pi[\"Abstand Δs/px\"] = unp.uarray(lineshift_blue_pi[\"Abstand Δs/px\"].values,\n",
    "                                                  uncertainties[\"Abstand s/px\"]) \n",
    "lineshift_blue_pi[\"Abstand δs/px\"] = unp.uarray(lineshift_blue_pi[\"Abstand δs/px\"].values,\n",
    "                                                  uncertainties[\"Abstand s/px\"]) "
   ]
  },
  {
   "cell_type": "code",
   "execution_count": 86,
   "metadata": {
    "collapsed": false
   },
   "outputs": [
    {
     "data": {
      "text/html": [
       "<div>\n",
       "<table border=\"1\" class=\"dataframe\">\n",
       "  <thead>\n",
       "    <tr style=\"text-align: right;\">\n",
       "      <th></th>\n",
       "      <th>Abstand Δs/px</th>\n",
       "      <th>Abstand δs/px</th>\n",
       "    </tr>\n",
       "  </thead>\n",
       "  <tbody>\n",
       "    <tr>\n",
       "      <th>0</th>\n",
       "      <td>387+/-5</td>\n",
       "      <td>192+/-5</td>\n",
       "    </tr>\n",
       "    <tr>\n",
       "      <th>1</th>\n",
       "      <td>351+/-5</td>\n",
       "      <td>150+/-5</td>\n",
       "    </tr>\n",
       "    <tr>\n",
       "      <th>2</th>\n",
       "      <td>315+/-5</td>\n",
       "      <td>135+/-5</td>\n",
       "    </tr>\n",
       "    <tr>\n",
       "      <th>3</th>\n",
       "      <td>297+/-5</td>\n",
       "      <td>123+/-5</td>\n",
       "    </tr>\n",
       "    <tr>\n",
       "      <th>4</th>\n",
       "      <td>285+/-5</td>\n",
       "      <td>120+/-5</td>\n",
       "    </tr>\n",
       "  </tbody>\n",
       "</table>\n",
       "</div>"
      ],
      "text/plain": [
       "  Abstand Δs/px Abstand δs/px\n",
       "0       387+/-5       192+/-5\n",
       "1       351+/-5       150+/-5\n",
       "2       315+/-5       135+/-5\n",
       "3       297+/-5       123+/-5\n",
       "4       285+/-5       120+/-5"
      ]
     },
     "execution_count": 86,
     "metadata": {},
     "output_type": "execute_result"
    }
   ],
   "source": [
    "lineshift_blue_pi.head()"
   ]
  },
  {
   "cell_type": "code",
   "execution_count": 87,
   "metadata": {
    "collapsed": false
   },
   "outputs": [
    {
     "data": {
      "text/html": [
       "<div>\n",
       "<table border=\"1\" class=\"dataframe\">\n",
       "  <thead>\n",
       "    <tr style=\"text-align: right;\">\n",
       "      <th></th>\n",
       "      <th>Abstand Δs/px</th>\n",
       "      <th>Abstand δs/px</th>\n",
       "      <th>Verhaeltnis δs/Δs</th>\n",
       "    </tr>\n",
       "  </thead>\n",
       "  <tbody>\n",
       "    <tr>\n",
       "      <th>0</th>\n",
       "      <td>387+/-5</td>\n",
       "      <td>192+/-5</td>\n",
       "      <td>0.496+/-0.014</td>\n",
       "    </tr>\n",
       "    <tr>\n",
       "      <th>1</th>\n",
       "      <td>351+/-5</td>\n",
       "      <td>150+/-5</td>\n",
       "      <td>0.427+/-0.015</td>\n",
       "    </tr>\n",
       "    <tr>\n",
       "      <th>2</th>\n",
       "      <td>315+/-5</td>\n",
       "      <td>135+/-5</td>\n",
       "      <td>0.429+/-0.017</td>\n",
       "    </tr>\n",
       "    <tr>\n",
       "      <th>3</th>\n",
       "      <td>297+/-5</td>\n",
       "      <td>123+/-5</td>\n",
       "      <td>0.414+/-0.018</td>\n",
       "    </tr>\n",
       "    <tr>\n",
       "      <th>4</th>\n",
       "      <td>285+/-5</td>\n",
       "      <td>120+/-5</td>\n",
       "      <td>0.421+/-0.019</td>\n",
       "    </tr>\n",
       "  </tbody>\n",
       "</table>\n",
       "</div>"
      ],
      "text/plain": [
       "  Abstand Δs/px Abstand δs/px Verhaeltnis δs/Δs\n",
       "0       387+/-5       192+/-5     0.496+/-0.014\n",
       "1       351+/-5       150+/-5     0.427+/-0.015\n",
       "2       315+/-5       135+/-5     0.429+/-0.017\n",
       "3       297+/-5       123+/-5     0.414+/-0.018\n",
       "4       285+/-5       120+/-5     0.421+/-0.019"
      ]
     },
     "execution_count": 87,
     "metadata": {},
     "output_type": "execute_result"
    }
   ],
   "source": [
    "# Verhältnis der Abstände\n",
    "lineshift_blue_pi[\"Verhaeltnis δs/Δs\"] = (lineshift_blue_pi[\"Abstand δs/px\"].values /\n",
    "                                            lineshift_blue_pi['Abstand Δs/px'].values)\n",
    "lineshift_blue_pi.head()"
   ]
  },
  {
   "cell_type": "code",
   "execution_count": 88,
   "metadata": {
    "collapsed": false
   },
   "outputs": [
    {
     "data": {
      "text/html": [
       "<div>\n",
       "<table border=\"1\" class=\"dataframe\">\n",
       "  <thead>\n",
       "    <tr style=\"text-align: right;\">\n",
       "      <th></th>\n",
       "      <th>Abstand Δs/px</th>\n",
       "      <th>Abstand δs/px</th>\n",
       "      <th>Verhaeltnis δs/Δs</th>\n",
       "      <th>Wellenlaengenverschiebung δλ/m</th>\n",
       "    </tr>\n",
       "  </thead>\n",
       "  <tbody>\n",
       "    <tr>\n",
       "      <th>0</th>\n",
       "      <td>387+/-5</td>\n",
       "      <td>192+/-5</td>\n",
       "      <td>0.496+/-0.014</td>\n",
       "      <td>(6.70+/-0.19)e-12</td>\n",
       "    </tr>\n",
       "    <tr>\n",
       "      <th>1</th>\n",
       "      <td>351+/-5</td>\n",
       "      <td>150+/-5</td>\n",
       "      <td>0.427+/-0.015</td>\n",
       "      <td>(5.77+/-0.21)e-12</td>\n",
       "    </tr>\n",
       "    <tr>\n",
       "      <th>2</th>\n",
       "      <td>315+/-5</td>\n",
       "      <td>135+/-5</td>\n",
       "      <td>0.429+/-0.017</td>\n",
       "      <td>(5.79+/-0.23)e-12</td>\n",
       "    </tr>\n",
       "    <tr>\n",
       "      <th>3</th>\n",
       "      <td>297+/-5</td>\n",
       "      <td>123+/-5</td>\n",
       "      <td>0.414+/-0.018</td>\n",
       "      <td>(5.59+/-0.25)e-12</td>\n",
       "    </tr>\n",
       "    <tr>\n",
       "      <th>4</th>\n",
       "      <td>285+/-5</td>\n",
       "      <td>120+/-5</td>\n",
       "      <td>0.421+/-0.019</td>\n",
       "      <td>(5.68+/-0.26)e-12</td>\n",
       "    </tr>\n",
       "  </tbody>\n",
       "</table>\n",
       "</div>"
      ],
      "text/plain": [
       "  Abstand Δs/px Abstand δs/px Verhaeltnis δs/Δs Wellenlaengenverschiebung δλ/m\n",
       "0       387+/-5       192+/-5     0.496+/-0.014              (6.70+/-0.19)e-12\n",
       "1       351+/-5       150+/-5     0.427+/-0.015              (5.77+/-0.21)e-12\n",
       "2       315+/-5       135+/-5     0.429+/-0.017              (5.79+/-0.23)e-12\n",
       "3       297+/-5       123+/-5     0.414+/-0.018              (5.59+/-0.25)e-12\n",
       "4       285+/-5       120+/-5     0.421+/-0.019              (5.68+/-0.26)e-12"
      ]
     },
     "execution_count": 88,
     "metadata": {},
     "output_type": "execute_result"
    }
   ],
   "source": [
    "lineshift_blue_pi[\"Wellenlaengenverschiebung δλ/m\"] = wavelength_shift(lineshift_blue_pi[\"Abstand Δs/px\"].values,\n",
    "                                                                        lineshift_blue_pi[\"Abstand δs/px\"].values,\n",
    "                                                                        dispersion_area_blue)\n",
    "lineshift_blue_pi.head()"
   ]
  },
  {
   "cell_type": "code",
   "execution_count": 89,
   "metadata": {
    "collapsed": false
   },
   "outputs": [
    {
     "name": "stdout",
     "output_type": "stream",
     "text": [
      "Mittlere Wellenlängenverschiebung: (5.83+/-0.08)e-12 m\n",
      "Energieverschiebung: (5.02+/-0.07)e-24 J\n"
     ]
    }
   ],
   "source": [
    "mean_lineshift_blue_pi = umean(lineshift_blue_pi[\"Wellenlaengenverschiebung δλ/m\"].values)\n",
    "print(\"Mittlere Wellenlängenverschiebung: {0:.1u} m\".format(mean_lineshift_blue_pi))\n",
    "\n",
    "energyshift_blue_pi = energy_shift(wavelength_blue, mean_lineshift_blue_pi)\n",
    "print(\"Energieverschiebung: {0:.1u} J\".format(energyshift_blue_pi))"
   ]
  },
  {
   "cell_type": "code",
   "execution_count": null,
   "metadata": {
    "collapsed": true
   },
   "outputs": [],
   "source": []
  },
  {
   "cell_type": "markdown",
   "metadata": {},
   "source": [
    "#### Berechnung der Lande-Faktoren $g_{i,j}$"
   ]
  },
  {
   "cell_type": "code",
   "execution_count": 90,
   "metadata": {
    "collapsed": true
   },
   "outputs": [],
   "source": [
    "lande_factor_red_theoretical = 1\n",
    "lande_factor_blue_sigma_theoretical = 2\n",
    "lande_factor_blue_pi_theoretical = 0.5"
   ]
  },
  {
   "cell_type": "code",
   "execution_count": 91,
   "metadata": {
    "collapsed": false
   },
   "outputs": [
    {
     "name": "stdout",
     "output_type": "stream",
     "text": [
      "Lande-Faktor: 1.08+/-0.05\n",
      "relative Abweichung: 0.08+/-0.05\n"
     ]
    }
   ],
   "source": [
    "lande_factor_red_sigma = energyshift_red/(magneticfield_current[\"Magnetfeld I B/mT\"][2]*1e-3*\n",
    "                                          sp.constants.physical_constants[\"Bohr magneton\"][0])\n",
    "print(\"Lande-Faktor: {0:.1u}\".format(lande_factor_red_sigma))\n",
    "print(\"relative Abweichung: {0:.1u}\".format(abs(lande_factor_red_sigma - lande_factor_red_theoretical)/\n",
    "                                            lande_factor_red_theoretical))"
   ]
  },
  {
   "cell_type": "code",
   "execution_count": 92,
   "metadata": {
    "collapsed": false
   },
   "outputs": [
    {
     "name": "stdout",
     "output_type": "stream",
     "text": [
      "Lande-Faktor, blau, sigma: 2.0+/-0.2\n",
      "relative Abweichung: 0.0220+/-0.0959\n"
     ]
    }
   ],
   "source": [
    "lande_factor_blue_sigma = energyshift_blue_sigma/(magneticfield_current[\"Magnetfeld I B/mT\"][1]*1e-3*\n",
    "                                          sp.constants.physical_constants[\"Bohr magneton\"][0])\n",
    "print(\"Lande-Faktor, blau, sigma: {0:.1u}\".format(lande_factor_blue_sigma))\n",
    "print(\"relative Abweichung: {0:.3u}\".format(abs(lande_factor_blue_sigma - lande_factor_blue_sigma_theoretical)/\n",
    "                                            lande_factor_blue_sigma_theoretical))"
   ]
  },
  {
   "cell_type": "code",
   "execution_count": 93,
   "metadata": {
    "collapsed": false
   },
   "outputs": [
    {
     "name": "stdout",
     "output_type": "stream",
     "text": [
      "Lande-Faktor, blau, pi: 0.55+/-0.02\n",
      "relative Abweichung: 0.10+/-0.04\n"
     ]
    }
   ],
   "source": [
    "lande_factor_blue_pi = energyshift_blue_pi/(magneticfield_current[\"Magnetfeld I B/mT\"][3]*1e-3*\n",
    "                                          sp.constants.physical_constants[\"Bohr magneton\"][0])\n",
    "print(\"Lande-Faktor, blau, pi: {0:.1u}\".format(lande_factor_blue_pi))\n",
    "print(\"relative Abweichung: {0:.1u}\".format(abs(lande_factor_blue_pi - lande_factor_blue_pi_theoretical)/\n",
    "                                            lande_factor_blue_pi_theoretical))"
   ]
  },
  {
   "cell_type": "code",
   "execution_count": null,
   "metadata": {
    "collapsed": true
   },
   "outputs": [],
   "source": []
  },
  {
   "cell_type": "code",
   "execution_count": 94,
   "metadata": {
    "collapsed": false
   },
   "outputs": [
    {
     "data": {
      "text/plain": [
       "(9.274009994e-24, 'J T^-1', 5.7e-32)"
      ]
     },
     "execution_count": 94,
     "metadata": {},
     "output_type": "execute_result"
    }
   ],
   "source": [
    "sp.constants.physical_constants[\"Bohr magneton\"]"
   ]
  },
  {
   "cell_type": "code",
   "execution_count": null,
   "metadata": {
    "collapsed": true
   },
   "outputs": [],
   "source": []
  }
 ],
 "metadata": {
  "anaconda-cloud": {},
  "kernelspec": {
   "display_name": "Python [default]",
   "language": "python",
   "name": "python3"
  },
  "language_info": {
   "codemirror_mode": {
    "name": "ipython",
    "version": 3
   },
   "file_extension": ".py",
   "mimetype": "text/x-python",
   "name": "python",
   "nbconvert_exporter": "python",
   "pygments_lexer": "ipython3",
   "version": "3.5.2"
  }
 },
 "nbformat": 4,
 "nbformat_minor": 0
}
