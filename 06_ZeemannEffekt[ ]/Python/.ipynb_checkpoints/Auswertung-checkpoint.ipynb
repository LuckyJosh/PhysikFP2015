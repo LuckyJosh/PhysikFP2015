{
 "cells": [
  {
   "cell_type": "code",
   "execution_count": 1,
   "metadata": {
    "collapsed": false
   },
   "outputs": [],
   "source": [
    "#-*- coding:utf8-*-\n",
    "%matplotlib inline\n",
    "\n",
    "from __future__ import absolute_import, division, print_function, unicode_literals\n",
    "\n",
    "from IPython.display import Image\n",
    "\n",
    "import numpy as np\n",
    "\n",
    "import uncertainties as unc\n",
    "from uncertainties import unumpy as unp\n",
    "from uncertainties.unumpy import std_devs as stds #TODO\n",
    "from uncertainties.unumpy import nominal_values as noms #TODO\n",
    "\n",
    "import matplotlib as mpl\n",
    "import matplotlib.pyplot as plt\n",
    "import matplotlib.patches as mpatches\n",
    "from matplotlib.lines import Line2D \n",
    "\n",
    "import seaborn as sns\n",
    "sns.set(context=\"paper\",font_scale=1.4)\n",
    "\n",
    "import scipy as sp\n",
    "import scipy.constants as const\n",
    "\n",
    "import sympy as sym\n",
    "\n",
    "import pandas as pd\n",
    "\n",
    "#import ROOT as rt\n",
    "\n",
    "#import root_numpy as rnp\n",
    "\n",
    "#from aputils.latextables.tables import Table\n",
    "\n",
    "\n",
    "# Fehlerfortpflanzung beim Mitteln\n",
    "umean = unc.wrap(np.mean)\n",
    "\n",
    "#Laden des Latex fonts \n",
    "plt.rcParams['text.latex.preamble']=[\"\\\\usepackage{lmodern}\"]\n",
    "#Options\n",
    "params = {'text.usetex' : True,\n",
    "          'font.size' : 11,\n",
    "          'font.family' : 'lmodern',\n",
    "          'text.latex.unicode': True,\n",
    "          }\n",
    "plt.rcParams.update(params) \n",
    "\n",
    "#Größe der Achsenbeschriftung\n",
    "axis_font = {'size':'14'}\n",
    "\n",
    "# Pfade\n",
    "path_graphics = \"../Grafiken/\"\n",
    "path_table = \"../Tabellen/\"\n",
    "path_data = \"../Messdaten/\""
   ]
  },
  {
   "cell_type": "code",
   "execution_count": 2,
   "metadata": {
    "collapsed": true
   },
   "outputs": [],
   "source": [
    "# Funktionen\n",
    "# Achsenbeschriftungen\n",
    "def axis_label(label,sym=None,unit=None):\n",
    "    if sym == None:\n",
    "        return lable\n",
    "    elif unit == None:\n",
    "        return r\"\".join([label,\" ${s}$\".format(s=sym)])\n",
    "    else:\n",
    "        return r\"\".join([label,\" ${s}/\\mathrm{{{u}}}$\".format(s=sym,u=unit)])\n",
    "\n",
    "# Achsenskalierung\n",
    "def axis_scale(factor, axis=\"x\"):\n",
    "    if axis == \"x\":\n",
    "        plt.gca().xaxis.set_major_formatter(mpl.ticker.FuncFormatter(lambda x, _: x * factor))\n",
    "    elif axis == \"y\":\n",
    "        plt.gca().yaxis.set_major_formatter(mpl.ticker.FuncFormatter(lambda x, _: x * factor))\n",
    "    else:\n",
    "        print(\"Wrong axis name given! Only x and y are allowed!\")\n",
    "\n",
    "def siunitx_ticklabels(ax=None, locale=\"DE\", xaxis=True, yaxis=True,\n",
    "                       round_precision=2, round_mode=\"places\", scale_x=None, scale_y=None):\n",
    "    \"\"\"\n",
    "    This function uses siunitx to create the ticklabels\n",
    "    Main reason is for adjusting the decimal marker properly.\n",
    "    The function takes 4 arguments:\n",
    "        ax=None     the matplotlib axes to operate on\n",
    "                    if set to None (Standard) this will be the current axes\n",
    "        locale=\"DE\" The locale parameter for siunitx, one of\n",
    "                    \"UK\", \"US\", \"DE\", \"FR\" oder \"ZA\"\n",
    "        xaxis=True  Boolean, if True the labels for the xaxis are set\n",
    "        yaxis=True  Boolean, if True the labels for the yaxis are set\n",
    "        round_precision=2 Number of places or figures after rounding\n",
    "        round_mode=\"places\" Rounds to round_precision many decimal places,\n",
    "                  \"figures\" Rounds to round_precision many significant figures\n",
    "                  \n",
    "    \"\"\"\n",
    "\n",
    "    if ax is None:\n",
    "        ax = plt.gca()\n",
    "\n",
    "    if scale_x == None:\n",
    "        scale_x = 1\n",
    "    if scale_y == None:\n",
    "        scale_y = 1\n",
    "        \n",
    "        \n",
    "    if xaxis is True:\n",
    "        xticks = ax.get_xticks()\n",
    "        print(xticks)\n",
    "        xlabels = [r\"$\\num[locale={},round-mode={},round-precision={}]{{{}}}$\".format(\n",
    "                   locale, round_mode,round_precision, tick*scale_x) for tick in xticks]\n",
    "        #print(xlabels)\n",
    "        ax.set_xticklabels(xlabels)\n",
    "\n",
    "    if yaxis is True:\n",
    "        yticks = ax.get_yticks()\n",
    "        ylabels = [r\"$\\num[locale={},round-mode={},round-precision={}]{{{}}}$\".format(\n",
    "                   locale, round_mode,round_precision, tick*scale_y) for tick in yticks]\n",
    "        #print(ylabels)\n",
    "        ax.set_yticklabels(ylabels)    \n",
    "        \n",
    "# Fit Funktionen\n",
    "def fit_errors(popt,pcov):\n",
    "    errors = np.sqrt(np.diag(pcov))\n",
    "    param_err = unp.uarray(popt,errors)\n",
    "    return param_err\n",
    "    \n",
    "def print_errors(array,description=None):\n",
    "    if description and len(description)==len(array):\n",
    "        maxlen = max(map(len,description))\n",
    "        lens = map(len,description)\n",
    "        for i,entry in enumerate(array):\n",
    "            print(description[i],\" \"*(maxlen-lens[i]),entry.nominal_value,\"+/-\",entry.std_dev)\n",
    "    else:\n",
    "        for i,entry in enumerate(array):\n",
    "            print(entry.nominal_value,\"+/-\",entry.std_dev)\n"
   ]
  },
  {
   "cell_type": "markdown",
   "metadata": {},
   "source": [
    "## Hysterese des Magnetfelds"
   ]
  },
  {
   "cell_type": "markdown",
   "metadata": {},
   "source": [
    "### Laden der Messfehler"
   ]
  },
  {
   "cell_type": "code",
   "execution_count": 16,
   "metadata": {
    "collapsed": true
   },
   "outputs": [],
   "source": [
    "uncertainties = pd.read_csv(path_data+\"Messfehler.csv\")"
   ]
  },
  {
   "cell_type": "code",
   "execution_count": 17,
   "metadata": {
    "collapsed": false
   },
   "outputs": [
    {
     "data": {
      "text/html": [
       "<div>\n",
       "<table border=\"1\" class=\"dataframe\">\n",
       "  <thead>\n",
       "    <tr style=\"text-align: right;\">\n",
       "      <th></th>\n",
       "      <th>Strom I/A</th>\n",
       "      <th>Magnetfeld B/mT</th>\n",
       "    </tr>\n",
       "  </thead>\n",
       "  <tbody>\n",
       "    <tr>\n",
       "      <th>0</th>\n",
       "      <td>0.5</td>\n",
       "      <td>1</td>\n",
       "    </tr>\n",
       "  </tbody>\n",
       "</table>\n",
       "</div>"
      ],
      "text/plain": [
       "   Strom I/A  Magnetfeld B/mT\n",
       "0        0.5                1"
      ]
     },
     "execution_count": 17,
     "metadata": {},
     "output_type": "execute_result"
    }
   ],
   "source": [
    "uncertainties.head()"
   ]
  },
  {
   "cell_type": "markdown",
   "metadata": {},
   "source": [
    "### Laden der Messwerte"
   ]
  },
  {
   "cell_type": "markdown",
   "metadata": {},
   "source": [
    "#### Erste Messreihe\n"
   ]
  },
  {
   "cell_type": "code",
   "execution_count": 23,
   "metadata": {
    "collapsed": false
   },
   "outputs": [],
   "source": [
    "hysteresis_1 = pd.read_csv(path_data+\"Hysterese_Magnetfeld_I.csv\")"
   ]
  },
  {
   "cell_type": "code",
   "execution_count": null,
   "metadata": {
    "collapsed": true
   },
   "outputs": [],
   "source": []
  },
  {
   "cell_type": "code",
   "execution_count": 24,
   "metadata": {
    "collapsed": false
   },
   "outputs": [
    {
     "data": {
      "text/html": [
       "<div>\n",
       "<table border=\"1\" class=\"dataframe\">\n",
       "  <thead>\n",
       "    <tr style=\"text-align: right;\">\n",
       "      <th></th>\n",
       "      <th>Strom I/A</th>\n",
       "      <th>Magnetfeld (I zunehmend) B/mT</th>\n",
       "      <th>Magnetfeld (I abnehmend) B/mT</th>\n",
       "    </tr>\n",
       "  </thead>\n",
       "  <tbody>\n",
       "    <tr>\n",
       "      <th>0</th>\n",
       "      <td>0</td>\n",
       "      <td>6</td>\n",
       "      <td>8</td>\n",
       "    </tr>\n",
       "    <tr>\n",
       "      <th>1</th>\n",
       "      <td>1</td>\n",
       "      <td>72</td>\n",
       "      <td>75</td>\n",
       "    </tr>\n",
       "    <tr>\n",
       "      <th>2</th>\n",
       "      <td>2</td>\n",
       "      <td>136</td>\n",
       "      <td>144</td>\n",
       "    </tr>\n",
       "    <tr>\n",
       "      <th>3</th>\n",
       "      <td>3</td>\n",
       "      <td>189</td>\n",
       "      <td>202</td>\n",
       "    </tr>\n",
       "    <tr>\n",
       "      <th>4</th>\n",
       "      <td>4</td>\n",
       "      <td>248</td>\n",
       "      <td>261</td>\n",
       "    </tr>\n",
       "  </tbody>\n",
       "</table>\n",
       "</div>"
      ],
      "text/plain": [
       "   Strom I/A  Magnetfeld (I zunehmend) B/mT  Magnetfeld (I abnehmend) B/mT\n",
       "0          0                              6                              8\n",
       "1          1                             72                             75\n",
       "2          2                            136                            144\n",
       "3          3                            189                            202\n",
       "4          4                            248                            261"
      ]
     },
     "execution_count": 24,
     "metadata": {},
     "output_type": "execute_result"
    }
   ],
   "source": [
    "hysteresis_1.head()"
   ]
  },
  {
   "cell_type": "code",
   "execution_count": 25,
   "metadata": {
    "collapsed": false
   },
   "outputs": [],
   "source": [
    "# Erzeugung fehlerbehafteter Messwerte\n",
    "hysteresis_1[\"Strom I/A\"] = unp.uarray(hysteresis_1[\"Strom I/A\"].values,\n",
    "                                       uncertainties[\"Strom I/A\"].values)\n",
    "hysteresis_1[\"Magnetfeld (I zunehmend) B/mT\"] = unp.uarray(hysteresis_1[\"Magnetfeld (I zunehmend) B/mT\"].values,\n",
    "                                                           uncertainties[\"Magnetfeld B/mT\"].values)\n",
    "hysteresis_1[\"Magnetfeld (I abnehmend) B/mT\"] = unp.uarray(hysteresis_1[\"Magnetfeld (I abnehmend) B/mT\"].values,\n",
    "                                                           uncertainties[\"Magnetfeld B/mT\"].values)"
   ]
  },
  {
   "cell_type": "code",
   "execution_count": 26,
   "metadata": {
    "collapsed": false
   },
   "outputs": [
    {
     "data": {
      "text/html": [
       "<div>\n",
       "<table border=\"1\" class=\"dataframe\">\n",
       "  <thead>\n",
       "    <tr style=\"text-align: right;\">\n",
       "      <th></th>\n",
       "      <th>Strom I/A</th>\n",
       "      <th>Magnetfeld (I zunehmend) B/mT</th>\n",
       "      <th>Magnetfeld (I abnehmend) B/mT</th>\n",
       "    </tr>\n",
       "  </thead>\n",
       "  <tbody>\n",
       "    <tr>\n",
       "      <th>0</th>\n",
       "      <td>0.0+/-0.5</td>\n",
       "      <td>6.0+/-1.0</td>\n",
       "      <td>8.0+/-1.0</td>\n",
       "    </tr>\n",
       "    <tr>\n",
       "      <th>1</th>\n",
       "      <td>1.0+/-0.5</td>\n",
       "      <td>72.0+/-1.0</td>\n",
       "      <td>75.0+/-1.0</td>\n",
       "    </tr>\n",
       "    <tr>\n",
       "      <th>2</th>\n",
       "      <td>2.0+/-0.5</td>\n",
       "      <td>136.0+/-1.0</td>\n",
       "      <td>144.0+/-1.0</td>\n",
       "    </tr>\n",
       "    <tr>\n",
       "      <th>3</th>\n",
       "      <td>3.0+/-0.5</td>\n",
       "      <td>189.0+/-1.0</td>\n",
       "      <td>202.0+/-1.0</td>\n",
       "    </tr>\n",
       "    <tr>\n",
       "      <th>4</th>\n",
       "      <td>4.0+/-0.5</td>\n",
       "      <td>248.0+/-1.0</td>\n",
       "      <td>261.0+/-1.0</td>\n",
       "    </tr>\n",
       "  </tbody>\n",
       "</table>\n",
       "</div>"
      ],
      "text/plain": [
       "   Strom I/A Magnetfeld (I zunehmend) B/mT Magnetfeld (I abnehmend) B/mT\n",
       "0  0.0+/-0.5                     6.0+/-1.0                     8.0+/-1.0\n",
       "1  1.0+/-0.5                    72.0+/-1.0                    75.0+/-1.0\n",
       "2  2.0+/-0.5                   136.0+/-1.0                   144.0+/-1.0\n",
       "3  3.0+/-0.5                   189.0+/-1.0                   202.0+/-1.0\n",
       "4  4.0+/-0.5                   248.0+/-1.0                   261.0+/-1.0"
      ]
     },
     "execution_count": 26,
     "metadata": {},
     "output_type": "execute_result"
    }
   ],
   "source": [
    "hysteresis_1.head()"
   ]
  },
  {
   "cell_type": "markdown",
   "metadata": {},
   "source": [
    "#### Zweite Messreihe"
   ]
  },
  {
   "cell_type": "code",
   "execution_count": 27,
   "metadata": {
    "collapsed": false
   },
   "outputs": [],
   "source": [
    "hysteresis_2 = pd.read_csv(path_data+\"Hysterese_Magnetfeld_II.csv\")"
   ]
  },
  {
   "cell_type": "code",
   "execution_count": 28,
   "metadata": {
    "collapsed": false
   },
   "outputs": [
    {
     "data": {
      "text/html": [
       "<div>\n",
       "<table border=\"1\" class=\"dataframe\">\n",
       "  <thead>\n",
       "    <tr style=\"text-align: right;\">\n",
       "      <th></th>\n",
       "      <th>Strom I/A</th>\n",
       "      <th>Magnetfeld (I zunehmend) B/mT</th>\n",
       "      <th>Magnetfeld (I abnehmend) B/mT</th>\n",
       "    </tr>\n",
       "  </thead>\n",
       "  <tbody>\n",
       "    <tr>\n",
       "      <th>0</th>\n",
       "      <td>0</td>\n",
       "      <td>5</td>\n",
       "      <td>7</td>\n",
       "    </tr>\n",
       "    <tr>\n",
       "      <th>1</th>\n",
       "      <td>1</td>\n",
       "      <td>80</td>\n",
       "      <td>59</td>\n",
       "    </tr>\n",
       "    <tr>\n",
       "      <th>2</th>\n",
       "      <td>2</td>\n",
       "      <td>150</td>\n",
       "      <td>141</td>\n",
       "    </tr>\n",
       "    <tr>\n",
       "      <th>3</th>\n",
       "      <td>3</td>\n",
       "      <td>218</td>\n",
       "      <td>209</td>\n",
       "    </tr>\n",
       "    <tr>\n",
       "      <th>4</th>\n",
       "      <td>4</td>\n",
       "      <td>286</td>\n",
       "      <td>284</td>\n",
       "    </tr>\n",
       "  </tbody>\n",
       "</table>\n",
       "</div>"
      ],
      "text/plain": [
       "   Strom I/A  Magnetfeld (I zunehmend) B/mT  Magnetfeld (I abnehmend) B/mT\n",
       "0          0                              5                              7\n",
       "1          1                             80                             59\n",
       "2          2                            150                            141\n",
       "3          3                            218                            209\n",
       "4          4                            286                            284"
      ]
     },
     "execution_count": 28,
     "metadata": {},
     "output_type": "execute_result"
    }
   ],
   "source": [
    "hysteresis_2.head()"
   ]
  },
  {
   "cell_type": "code",
   "execution_count": 29,
   "metadata": {
    "collapsed": false
   },
   "outputs": [],
   "source": [
    "# Erzeugung fehlerbehafteter Messwerte\n",
    "hysteresis_2[\"Strom I/A\"] = unp.uarray(hysteresis_2[\"Strom I/A\"].values,\n",
    "                                       uncertainties[\"Strom I/A\"].values)\n",
    "hysteresis_2[\"Magnetfeld (I zunehmend) B/mT\"] = unp.uarray(hysteresis_2[\"Magnetfeld (I zunehmend) B/mT\"].values,\n",
    "                                                           uncertainties[\"Magnetfeld B/mT\"].values)\n",
    "hysteresis_2[\"Magnetfeld (I abnehmend) B/mT\"] = unp.uarray(hysteresis_2[\"Magnetfeld (I abnehmend) B/mT\"].values,\n",
    "                                                           uncertainties[\"Magnetfeld B/mT\"].values)"
   ]
  },
  {
   "cell_type": "code",
   "execution_count": 31,
   "metadata": {
    "collapsed": false
   },
   "outputs": [
    {
     "data": {
      "text/html": [
       "<div>\n",
       "<table border=\"1\" class=\"dataframe\">\n",
       "  <thead>\n",
       "    <tr style=\"text-align: right;\">\n",
       "      <th></th>\n",
       "      <th>Strom I/A</th>\n",
       "      <th>Magnetfeld (I zunehmend) B/mT</th>\n",
       "      <th>Magnetfeld (I abnehmend) B/mT</th>\n",
       "    </tr>\n",
       "  </thead>\n",
       "  <tbody>\n",
       "    <tr>\n",
       "      <th>0</th>\n",
       "      <td>0.0+/-0.5</td>\n",
       "      <td>5.0+/-1.0</td>\n",
       "      <td>7.0+/-1.0</td>\n",
       "    </tr>\n",
       "    <tr>\n",
       "      <th>1</th>\n",
       "      <td>1.0+/-0.5</td>\n",
       "      <td>80.0+/-1.0</td>\n",
       "      <td>59.0+/-1.0</td>\n",
       "    </tr>\n",
       "    <tr>\n",
       "      <th>2</th>\n",
       "      <td>2.0+/-0.5</td>\n",
       "      <td>150.0+/-1.0</td>\n",
       "      <td>141.0+/-1.0</td>\n",
       "    </tr>\n",
       "    <tr>\n",
       "      <th>3</th>\n",
       "      <td>3.0+/-0.5</td>\n",
       "      <td>218.0+/-1.0</td>\n",
       "      <td>209.0+/-1.0</td>\n",
       "    </tr>\n",
       "    <tr>\n",
       "      <th>4</th>\n",
       "      <td>4.0+/-0.5</td>\n",
       "      <td>286.0+/-1.0</td>\n",
       "      <td>284.0+/-1.0</td>\n",
       "    </tr>\n",
       "  </tbody>\n",
       "</table>\n",
       "</div>"
      ],
      "text/plain": [
       "   Strom I/A Magnetfeld (I zunehmend) B/mT Magnetfeld (I abnehmend) B/mT\n",
       "0  0.0+/-0.5                     5.0+/-1.0                     7.0+/-1.0\n",
       "1  1.0+/-0.5                    80.0+/-1.0                    59.0+/-1.0\n",
       "2  2.0+/-0.5                   150.0+/-1.0                   141.0+/-1.0\n",
       "3  3.0+/-0.5                   218.0+/-1.0                   209.0+/-1.0\n",
       "4  4.0+/-0.5                   286.0+/-1.0                   284.0+/-1.0"
      ]
     },
     "execution_count": 31,
     "metadata": {},
     "output_type": "execute_result"
    }
   ],
   "source": [
    "hysteresis_2.head()"
   ]
  },
  {
   "cell_type": "markdown",
   "metadata": {
    "collapsed": true
   },
   "source": [
    "### Plots der Hysterese\n"
   ]
  },
  {
   "cell_type": "code",
   "execution_count": null,
   "metadata": {
    "collapsed": true
   },
   "outputs": [],
   "source": []
  },
  {
   "cell_type": "code",
   "execution_count": null,
   "metadata": {
    "collapsed": true
   },
   "outputs": [],
   "source": []
  },
  {
   "cell_type": "code",
   "execution_count": null,
   "metadata": {
    "collapsed": true
   },
   "outputs": [],
   "source": []
  },
  {
   "cell_type": "code",
   "execution_count": null,
   "metadata": {
    "collapsed": true
   },
   "outputs": [],
   "source": []
  }
 ],
 "metadata": {
  "anaconda-cloud": {},
  "kernelspec": {
   "display_name": "Python [default]",
   "language": "python",
   "name": "python3"
  },
  "language_info": {
   "codemirror_mode": {
    "name": "ipython",
    "version": 3
   },
   "file_extension": ".py",
   "mimetype": "text/x-python",
   "name": "python",
   "nbconvert_exporter": "python",
   "pygments_lexer": "ipython3",
   "version": "3.5.2"
  }
 },
 "nbformat": 4,
 "nbformat_minor": 0
}
