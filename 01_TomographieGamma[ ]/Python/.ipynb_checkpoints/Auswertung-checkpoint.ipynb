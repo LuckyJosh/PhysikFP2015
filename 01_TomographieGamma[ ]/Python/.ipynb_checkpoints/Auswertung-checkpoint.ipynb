{
 "cells": [
  {
   "cell_type": "code",
   "execution_count": 331,
   "metadata": {
    "collapsed": false
   },
   "outputs": [],
   "source": [
    "#-*- coding:utf8-*-\n",
    "%matplotlib inline\n",
    "\n",
    "from __future__ import absolute_import, division, print_function, unicode_literals\n",
    "\n",
    "from IPython.display import Image\n",
    "\n",
    "import numpy as np\n",
    "\n",
    "import uncertainties as unc\n",
    "from uncertainties import unumpy as unp\n",
    "from uncertainties.unumpy import std_devs as stds #TODO\n",
    "from uncertainties.unumpy import nominal_values as noms #TODO\n",
    "\n",
    "import matplotlib as mpl\n",
    "import matplotlib.pyplot as plt\n",
    "import matplotlib.patches as mpatches\n",
    "from matplotlib.lines import Line2D \n",
    "\n",
    "import seaborn as sns\n",
    "sns.set(context=\"paper\",font_scale=1.4)\n",
    "\n",
    "import scipy as sp\n",
    "import scipy.constants as const\n",
    "\n",
    "import sympy as sym\n",
    "sym.init_printing()\n",
    "\n",
    "import pandas as pd\n",
    "\n",
    "import ROOT as rt\n",
    "\n",
    "import root_numpy as rnp\n",
    "\n",
    "import re\n",
    "\n",
    "from aputils.latextables.tables import Table\n",
    "\n",
    "\n",
    "# Fehlerfortpflanzung beim Mitteln\n",
    "umean = unc.wrap(np.mean)\n",
    "\n",
    "#Laden des Latex fonts \n",
    "plt.rcParams['text.latex.preamble']=[\"\\\\usepackage{lmodern}\"]\n",
    "#Options\n",
    "params = {'text.usetex' : True,\n",
    "          'font.size' : 11,\n",
    "          'font.family' : 'lmodern',\n",
    "          'text.latex.unicode': True,\n",
    "          }\n",
    "plt.rcParams.update(params) \n",
    "\n",
    "#Größe der Achsenbeschriftung\n",
    "axis_font = {'size':'14'}\n",
    "\n",
    "# Pfade\n",
    "path_graphics = \"../Grafiken/\"\n",
    "path_table = \"../Tabellen/\"\n",
    "path_data = \"../Messdaten/\""
   ]
  },
  {
   "cell_type": "code",
   "execution_count": 73,
   "metadata": {
    "collapsed": true
   },
   "outputs": [],
   "source": [
    "# Funktionen\n",
    "# Achsenbeschriftungen\n",
    "def axis_label(label,sym=None,unit=None):\n",
    "    if sym == None:\n",
    "        return lable\n",
    "    elif unit == None:\n",
    "        return r\"\".join([label,\" ${s}$\".format(s=sym)])\n",
    "    else:\n",
    "        return r\"\".join([label,\" ${s}/\\mathrm{{{u}}}$\".format(s=sym,u=unit)])\n",
    "    \n",
    "# Fit Funktionen\n",
    "def fit_errors(popt,pcov):\n",
    "    errors = np.sqrt(np.diag(pcov))\n",
    "    param_err = unp.uarray(popt,errors)\n",
    "    return param_err\n",
    "    \n",
    "def print_errors(array,description=None):\n",
    "    if description and len(description)==len(array):\n",
    "        maxlen = max(map(len,description))\n",
    "        lens = map(len,description)\n",
    "        for i,entry in enumerate(array):\n",
    "            print(description[i],\" \"*(maxlen-lens[i]),entry.nominal_value,\"+/-\",entry.std_dev)\n",
    "    else:\n",
    "        for i,entry in enumerate(array):\n",
    "            print(entry.nominal_value,\"+/-\",entry.std_dev)\n"
   ]
  },
  {
   "cell_type": "markdown",
   "metadata": {},
   "source": [
    "#Vorbereitungsaufgaben"
   ]
  },
  {
   "cell_type": "markdown",
   "metadata": {},
   "source": [
    "##Aufgabe 5"
   ]
  },
  {
   "cell_type": "code",
   "execution_count": 89,
   "metadata": {
    "collapsed": false
   },
   "outputs": [],
   "source": [
    "#W2 = sym.sqrt(2)\n",
    "#A_np = np.matrix([[1,1,1,0,0,0,0,0,0],[0,0,0,1,1,1,0,0,0],[0,0,0,0,0,0,1,1,1],\n",
    "#               [0,0,W2,0,0,0,0,0,0],[0,W2,0,0,0,W2,0,0,0],[W2,0,0,0,W2,0,0,0,W2],\n",
    "#               [0,0,0,W2,0,0,0,W2,0],[0,0,0,0,0,0,W2,0,0],[0,0,W2,0,0,W2,0,0,W2],\n",
    "#               [0,W2,0,0,W2,0,0,W2,0],[W2,0,0,W2,0,0,W2,0,0]])\n",
    "#A = sym.Matrix(A_np)\n",
    "#B = (A.transpose()*A)\n",
    "#B.inv()\n",
    "# B ist singulär"
   ]
  },
  {
   "cell_type": "code",
   "execution_count": 399,
   "metadata": {
    "collapsed": false
   },
   "outputs": [
    {
     "data": {
      "image/png": "[encoded data removed]",
      "text/latex": [
       "$$\\left[\\begin{matrix}0 & \\sqrt{2} & 0 & \\sqrt{2} & 0 & 0 & 0 & 0 & 0\\\\0 & 0 & \\sqrt{2} & 0 & \\sqrt{2} & 0 & \\sqrt{2} & 0 & 0\\\\0 & 0 & 0 & 0 & 0 & \\sqrt{2} & 0 & \\sqrt{2} & 0\\\\1 & 1 & 1 & 0 & 0 & 0 & 0 & 0 & 0\\\\0 & 0 & 0 & 1 & 1 & 1 & 0 & 0 & 0\\\\0 & 0 & 0 & 0 & 0 & 0 & 1 & 1 & 1\\\\0 & \\sqrt{2} & 0 & 0 & 0 & \\sqrt{2} & 0 & 0 & 0\\\\\\sqrt{2} & 0 & 0 & 0 & \\sqrt{2} & 0 & 0 & 0 & \\sqrt{2}\\\\0 & 0 & 0 & \\sqrt{2} & 0 & 0 & 0 & \\sqrt{2} & 0\\\\0 & 0 & \\sqrt{2} & 0 & 0 & \\sqrt{2} & 0 & 0 & \\sqrt{2}\\\\0 & \\sqrt{2} & 0 & 0 & \\sqrt{2} & 0 & 0 & \\sqrt{2} & 0\\\\\\sqrt{2} & 0 & 0 & \\sqrt{2} & 0 & 0 & \\sqrt{2} & 0 & 0\\end{matrix}\\right]$$"
      ],
      "text/plain": [
       "⎡         ___           ___                                   ⎤\n",
       "⎢  0    ╲╱ 2     0    ╲╱ 2     0      0      0      0      0  ⎥\n",
       "⎢                                                             ⎥\n",
       "⎢                ___           ___           ___              ⎥\n",
       "⎢  0      0    ╲╱ 2     0    ╲╱ 2     0    ╲╱ 2     0      0  ⎥\n",
       "⎢                                                             ⎥\n",
       "⎢                                     ___           ___       ⎥\n",
       "⎢  0      0      0      0      0    ╲╱ 2     0    ╲╱ 2     0  ⎥\n",
       "⎢                                                             ⎥\n",
       "⎢  1      1      1      0      0      0      0      0      0  ⎥\n",
       "⎢                                                             ⎥\n",
       "⎢  0      0      0      1      1      1      0      0      0  ⎥\n",
       "⎢                                                             ⎥\n",
       "⎢  0      0      0      0      0      0      1      1      1  ⎥\n",
       "⎢                                                             ⎥\n",
       "⎢         ___                         ___                     ⎥\n",
       "⎢  0    ╲╱ 2     0      0      0    ╲╱ 2     0      0      0  ⎥\n",
       "⎢                                                             ⎥\n",
       "⎢  ___                         ___                         ___⎥\n",
       "⎢╲╱ 2     0      0      0    ╲╱ 2     0      0      0    ╲╱ 2 ⎥\n",
       "⎢                                                             ⎥\n",
       "⎢                       ___                         ___       ⎥\n",
       "⎢  0      0      0    ╲╱ 2     0      0      0    ╲╱ 2     0  ⎥\n",
       "⎢                                                             ⎥\n",
       "⎢                ___                  ___                  ___⎥\n",
       "⎢  0      0    ╲╱ 2     0      0    ╲╱ 2     0      0    ╲╱ 2 ⎥\n",
       "⎢                                                             ⎥\n",
       "⎢         ___                  ___                  ___       ⎥\n",
       "⎢  0    ╲╱ 2     0      0    ╲╱ 2     0      0    ╲╱ 2     0  ⎥\n",
       "⎢                                                             ⎥\n",
       "⎢  ___                  ___                  ___              ⎥\n",
       "⎣╲╱ 2     0      0    ╲╱ 2     0      0    ╲╱ 2     0      0  ⎦"
      ]
     },
     "execution_count": 399,
     "metadata": {},
     "output_type": "execute_result"
    }
   ],
   "source": [
    "W2 = sym.sqrt(2)\n",
    "A_np = np.matrix([[0,W2,0,W2,0,0,0,0,0],[0,0,W2,0,W2,0,W2,0,0],[0,0,0,0,0,W2,0,W2,0],\n",
    "                [1,1,1,0,0,0,0,0,0],[0,0,0,1,1,1,0,0,0],[0,0,0,0,0,0,1,1,1],\n",
    "               [0,W2,0,0,0,W2,0,0,0],[W2,0,0,0,W2,0,0,0,W2],[0,0,0,W2,0,0,0,W2,0],\n",
    "               [0,0,W2,0,0,W2,0,0,W2],[0,W2,0,0,W2,0,0,W2,0],[W2,0,0,W2,0,0,W2,0,0]])\n",
    "#B_np = (A_np.T * A).inv()\n",
    "\n",
    "\n",
    "A = sym.Matrix(A_np)\n",
    "C = (A.transpose()*A).inv()\n",
    "A\n"
   ]
  },
  {
   "cell_type": "markdown",
   "metadata": {},
   "source": [
    "##Suche nach Integrationsintervall"
   ]
  },
  {
   "cell_type": "code",
   "execution_count": null,
   "metadata": {
    "collapsed": false
   },
   "outputs": [],
   "source": [
    "values = [4503,2978,6396,5013,4969,5458,6046,3073,4990,4920,4918,5422]\n",
    "values = [2994,1296,5373,3239,2978,3603,3220,1323,4363,3224,3099,4188]\n",
    "\n",
    "filepath = \"/home/josh/Dokumente/Studium/FP_Physik/FP_Repo/01_TomographieGamma[ ]/Messdaten/20151102_Joshua_Leonard/Block2/Messung_{}.dat\"\n",
    "global_limits = set([])\n",
    "for k,n in enumerate(values,start=1):\n",
    "    global global_limits\n",
    "    print(\"Messung {}\".format(k))\n",
    "    File = filepath.format(k)\n",
    "    x,y = np.loadtxt(File,unpack=True)\n",
    "    print(y[250:310].sum(),\"\\t\",n)\n",
    "    limits = set([])\n",
    "    for i in range(200,300):\n",
    "        for j in range(250,350):\n",
    "            if sum(y[i:j]) == n:\n",
    "                limits.add((i,j))\n",
    "    if k == 1:\n",
    "        global_limits = limits\n",
    "    else:\n",
    "        global_limits = global_limits.intersection(limits)\n",
    "                #print(i,j)\n",
    "\n",
    "print(global_limits)"
   ]
  },
  {
   "cell_type": "markdown",
   "metadata": {
    "collapsed": true
   },
   "source": [
    "#Auswertung"
   ]
  },
  {
   "cell_type": "markdown",
   "metadata": {},
   "source": [
    "##Laden der Daten"
   ]
  },
  {
   "cell_type": "code",
   "execution_count": 377,
   "metadata": {
    "collapsed": false
   },
   "outputs": [],
   "source": [
    "# Speicherort der Messdaten \n",
    "folder = \"/home/josh/Dokumente/Studium/FP_Physik/FP_Repo/01_TomographieGamma[ ]/Messdaten/20151102_Joshua_Leonard/\"\n",
    "\n",
    "# Ordner der Messreihen\n",
    "cube = [\"Luft/\",\"Block1/\",\"Block2/\",\"Block3/\"]\n",
    "\n",
    "# Intergrationsgrenzen\n",
    "lower_limit, upper_limit = 250, 310\n",
    "\n",
    "# Kanalnummern\n",
    "channels = np.arange(0,1024)\n",
    "\n",
    "# Laden der Daten einer Messreihe\n",
    "def load_data(num_cube=0):\n",
    "    data = []\n",
    "    real_times = []\n",
    "    live_times = []\n",
    "    for i in range(1,13):\n",
    "        File = \"Messung_{}.dat\".format(i) \n",
    "        with open(folder+cube[num_cube]+File) as dat:\n",
    "            line = dat.readline()\n",
    "            while line:\n",
    "                if \"Real Time\" in line: \n",
    "                    m = re.search(\"\\d{3}.\\d{3}\",line)\n",
    "                    real_times.append(float(m.group(0)))\n",
    "                if \"Live Time\" in line:\n",
    "                    m = re.search(\"\\d{3}.\\d{3}\",line)\n",
    "                    live_times.append(float(m.group(0)))\n",
    "                    break\n",
    "                line = dat.readline()\n",
    "        data.append(np.loadtxt(folder+cube[num_cube]+File,unpack=True)[1])\n",
    "    data,real_times, live_times = np.array(data),np.array(real_times),np.array(live_times)\n",
    "    return data,real_times,live_times"
   ]
  },
  {
   "cell_type": "code",
   "execution_count": 445,
   "metadata": {
    "collapsed": false
   },
   "outputs": [],
   "source": [
    "# Laden der Messdaten und jeweilige Livetime für alle Projektionen und jeden Würfel\n",
    "cube_0,real_time_0,live_time_0 = load_data(num_cube=0)\n",
    "cube_1,real_time_1,live_time_1 = load_data(num_cube=1)\n",
    "cube_2,real_time_2,live_time_2 = load_data(num_cube=2)\n",
    "cube_3,real_time_3,live_time_3 = load_data(num_cube=3)\n",
    "\n",
    "# Wurde 12 mal gemessen verlangt ist jedoch nur ein Wert, daher Mittelung\n",
    "#cube_0 = cube_0.mean(axis=0)\n",
    "#real_time_0 = real_time_0.mean()\n",
    "#live_time_0 = live_time_0.mean()\n",
    "\n"
   ]
  },
  {
   "cell_type": "code",
   "execution_count": 444,
   "metadata": {
    "collapsed": false
   },
   "outputs": [
    {
     "data": {
      "text/plain": [
       "array([ 0.        ,  0.5       ,  0.16666667, ...,  0.08333333,\n",
       "        0.        ,  0.        ])"
      ]
     },
     "execution_count": 444,
     "metadata": {},
     "output_type": "execute_result"
    }
   ],
   "source": [
    "live_time_0\n",
    "cube_0"
   ]
  },
  {
   "cell_type": "code",
   "execution_count": 451,
   "metadata": {
    "collapsed": false
   },
   "outputs": [],
   "source": [
    "# Integrierte Hits im Intervall [250,310] \n",
    "# Cube 0 wurde 12 mal gemessen verlangt ist jedoch nur ein Wert, daher Mittelung\n",
    "integrated_counts_0 = cube_0[:,lower_limit:upper_limit].sum(axis=1).mean()\n",
    "integrated_counts_1 = cube_1[:,lower_limit:upper_limit].sum(axis=1)\n",
    "integrated_counts_2 = cube_2[:,lower_limit:upper_limit].sum(axis=1)\n",
    "integrated_counts_3 = cube_3[:,lower_limit:upper_limit].sum(axis=1)\n",
    "\n"
   ]
  },
  {
   "cell_type": "code",
   "execution_count": 459,
   "metadata": {
    "collapsed": false
   },
   "outputs": [
    {
     "data": {
      "image/png": "[encoded data removed]",
      "text/latex": [
       "$$29374.75$$"
      ],
      "text/plain": [
       "29374.75"
      ]
     },
     "execution_count": 459,
     "metadata": {},
     "output_type": "execute_result"
    }
   ],
   "source": [
    "integrated_counts_0"
   ]
  },
  {
   "cell_type": "code",
   "execution_count": 452,
   "metadata": {
    "collapsed": true
   },
   "outputs": [],
   "source": [
    "# Fehlerbehaftete Integrierte Hits im Intervall [250,310]\n",
    "integrated_counts_0_err = unp.uarray(integrated_counts_0,np.sqrt(integrated_counts_0)) \n",
    "integrated_counts_1_err = unp.uarray(integrated_counts_1,np.sqrt(integrated_counts_1)) \n",
    "integrated_counts_2_err = unp.uarray(integrated_counts_2,np.sqrt(integrated_counts_2))\n",
    "integrated_counts_3_err = unp.uarray(integrated_counts_3,np.sqrt(integrated_counts_3)) \n"
   ]
  },
  {
   "cell_type": "code",
   "execution_count": 453,
   "metadata": {
    "collapsed": false
   },
   "outputs": [
    {
     "data": {
      "text/plain": [
       "array(29374.75+/-171.39063568351685, dtype=object)"
      ]
     },
     "execution_count": 453,
     "metadata": {},
     "output_type": "execute_result"
    }
   ],
   "source": [
    "integrated_counts_0_err"
   ]
  },
  {
   "cell_type": "code",
   "execution_count": 458,
   "metadata": {
    "collapsed": false
   },
   "outputs": [],
   "source": [
    "# Renormierung der integrierten Hits\n",
    "integrated_counts_0_norm_1 = integrated_counts_0*(real_time_1.mean()/live_time_0)\n",
    "integrated_counts_1_norm = integrated_counts_1*(real_time_1/live_time_1)\n",
    "\n",
    "integrated_counts_0_norm_2 = integrated_counts_0*(real_time_2/live_time_0)\n",
    "integrated_counts_2_norm = integrated_counts_2*(real_time_2/live_time_2)\n",
    "\n",
    "integrated_counts_0_norm_3 = integrated_counts_0*(real_time_3/live_time_0)\n",
    "integrated_counts_3_norm = integrated_counts_3*(real_time_3/live_time_3)\n",
    "\n"
   ]
  },
  {
   "cell_type": "code",
   "execution_count": 460,
   "metadata": {
    "collapsed": false
   },
   "outputs": [
    {
     "data": {
      "text/plain": [
       "array([ 29458.21494234,  29463.13941825,  29458.21494234,  29472.99331104,\n",
       "        29453.2921123 ,  29463.13941825,  29463.13941825,  29468.06554088,\n",
       "        29453.2921123 ,  29463.13941825,  29477.92272955,  29458.21494234])"
      ]
     },
     "execution_count": 460,
     "metadata": {},
     "output_type": "execute_result"
    }
   ],
   "source": [
    "integrated_counts_0_norm_1"
   ]
  },
  {
   "cell_type": "code",
   "execution_count": 455,
   "metadata": {
    "collapsed": true
   },
   "outputs": [],
   "source": [
    "# Renormierung der fehlerbehafteten integrierten Hits\n",
    "integrated_counts_0_norm_1_err = integrated_counts_0_err*(real_time_1/live_time_0)\n",
    "integrated_counts_1_norm_err = integrated_counts_1_err*(real_time_1/live_time_1)\n",
    "\n",
    "integrated_counts_0_norm_2_err = integrated_counts_0_err*(real_time_2/live_time_0)\n",
    "integrated_counts_2_norm_err = integrated_counts_2_err*(real_time_2/live_time_2)\n",
    "\n",
    "integrated_counts_0_norm_3_err = integrated_counts_0_err*(real_time_3/live_time_0)\n",
    "integrated_counts_3_norm_err = integrated_counts_3_err*(real_time_3/live_time_3)\n"
   ]
  },
  {
   "cell_type": "code",
   "execution_count": 457,
   "metadata": {
    "collapsed": false
   },
   "outputs": [
    {
     "data": {
      "text/plain": [
       "array([29458.21494233662+/-171.8776222799768,\n",
       "       29463.139418254763+/-171.90635474776013,\n",
       "       29458.21494233662+/-171.8776222799768,\n",
       "       29472.99331103679+/-171.9638485118898,\n",
       "       29453.292112299467+/-171.84889941529096,\n",
       "       29463.139418254763+/-171.90635474776013,\n",
       "       29463.139418254763+/-171.90635474776013,\n",
       "       29468.065540879452+/-171.9350968234578,\n",
       "       29453.292112299467+/-171.84889941529096,\n",
       "       29463.139418254763+/-171.90635474776013,\n",
       "       29477.922729553437+/-171.9926098178794,\n",
       "       29458.21494233662+/-171.8776222799768], dtype=object)"
      ]
     },
     "execution_count": 457,
     "metadata": {},
     "output_type": "execute_result"
    }
   ],
   "source": [
    "integrated_counts_0_norm_1_err"
   ]
  },
  {
   "cell_type": "code",
   "execution_count": null,
   "metadata": {
    "collapsed": false
   },
   "outputs": [],
   "source": []
  },
  {
   "cell_type": "code",
   "execution_count": 389,
   "metadata": {
    "collapsed": false
   },
   "outputs": [],
   "source": [
    "# Logarithmierte Verhältnisse\n",
    "log_ratios_1 = np.log(integrated_counts_0_norm_1/integrated_counts_1_norm)\n",
    "log_ratios_2 = np.log(integrated_counts_0_norm_2/integrated_counts_2_norm)\n",
    "log_ratios_3 = np.log(integrated_counts_0_norm_3/integrated_counts_3_norm)"
   ]
  },
  {
   "cell_type": "code",
   "execution_count": 432,
   "metadata": {
    "collapsed": false
   },
   "outputs": [],
   "source": [
    "# Fehlerbehaftete Logarithmierte Verhältnisse\n",
    "log_ratios_1_err = unp.log(integrated_counts_0_norm_1_err/integrated_counts_1_norm_err)\n",
    "log_ratios_2_err = unp.log(integrated_counts_0_norm_2_err/integrated_counts_2_norm_err)\n",
    "log_ratios_3_err = unp.log(integrated_counts_0_norm_3_err/integrated_counts_3_norm_err)"
   ]
  },
  {
   "cell_type": "code",
   "execution_count": 433,
   "metadata": {
    "collapsed": false
   },
   "outputs": [
    {
     "data": {
      "text/plain": [
       "array([1.8724759556402282+/-0.016008009365694242,\n",
       "       2.2814686460106386+/-0.019238074418374395,\n",
       "       1.5140140258615329+/-0.013811992080822767,\n",
       "       1.7896997115044035+/-0.01525950531532462,\n",
       "       1.7857053227826427+/-0.015329287847120553,\n",
       "       1.6605035687996152+/-0.014767241826281764,\n",
       "       1.569556397860879+/-0.014137142282378855,\n",
       "       2.257968054605856+/-0.018960434249249723,\n",
       "       1.7718125543321752+/-0.015313096875496335,\n",
       "       1.7931390476523088+/-0.015398158659221044,\n",
       "       1.805759002000705+/-0.01538767765273791,\n",
       "       1.697983364916736+/-0.0147716099516761], dtype=object)"
      ]
     },
     "execution_count": 433,
     "metadata": {},
     "output_type": "execute_result"
    }
   ],
   "source": [
    "log_ratios_1_err"
   ]
  },
  {
   "cell_type": "code",
   "execution_count": 405,
   "metadata": {
    "collapsed": false
   },
   "outputs": [],
   "source": [
    "# Berechnung der Absorbtionskoeffizienten\n",
    "def attenuation_coefficients(log_ratios):\n",
    "    attenuation_coeff = []\n",
    "    coeffs = C*A.transpose()*log_ratios\n",
    "    for coeff in coeffs:\n",
    "        attenuation_coeff.append(float(coeff))\n",
    "        \n",
    "    return np.array(attenuation_coeff)    \n",
    "\n",
    "\n"
   ]
  },
  {
   "cell_type": "code",
   "execution_count": 409,
   "metadata": {
    "collapsed": true
   },
   "outputs": [],
   "source": [
    "attenuation_coeff_1 = attenuation_coefficients(log_ratios_1)\n",
    "attenuation_coeff_2 = attenuation_coefficients(log_ratios_2)"
   ]
  },
  {
   "cell_type": "code",
   "execution_count": 411,
   "metadata": {
    "collapsed": false
   },
   "outputs": [
    {
     "data": {
      "text/plain": [
       "array([ 0.72285681,  1.1170974 ,  0.87248848,  1.05913325,  1.00282797,\n",
       "        0.95349256,  0.80849197,  0.80542894,  0.94765751])"
      ]
     },
     "execution_count": 411,
     "metadata": {},
     "output_type": "execute_result"
    }
   ],
   "source": [
    "attenuation_coeff_2"
   ]
  },
  {
   "cell_type": "code",
   "execution_count": 387,
   "metadata": {
    "collapsed": false
   },
   "outputs": [
    {
     "data": {
      "text/plain": [
       "array([ 80679.84288818,  80398.19458375,  80114.491058  ,  82682.10702341,\n",
       "        81725.18382353,  79137.66298897,  80042.37713139,  80941.31416151,\n",
       "        80884.19117647,  81482.19658977,  82511.03863522,  81672.65585827])"
      ]
     },
     "execution_count": 387,
     "metadata": {},
     "output_type": "execute_result"
    }
   ],
   "source": [
    "integrated_counts_0_norm_2"
   ]
  },
  {
   "cell_type": "code",
   "execution_count": null,
   "metadata": {
    "collapsed": true
   },
   "outputs": [],
   "source": []
  },
  {
   "cell_type": "code",
   "execution_count": 302,
   "metadata": {
    "collapsed": false
   },
   "outputs": [
    {
     "data": {
      "text/plain": [
       "array([[ 1,  2,  3,  4],\n",
       "       [ 5,  6,  7,  8],\n",
       "       [ 9, 10, 11, 12]])"
      ]
     },
     "execution_count": 302,
     "metadata": {},
     "output_type": "execute_result"
    }
   ],
   "source": [
    "a = np.array([[1,2,3,4],[5,6,7,8],[9,10,11,12]])\n",
    "a"
   ]
  },
  {
   "cell_type": "code",
   "execution_count": 310,
   "metadata": {
    "collapsed": false
   },
   "outputs": [
    {
     "data": {
      "text/plain": [
       "array([[ 3,  4],\n",
       "       [ 7,  8],\n",
       "       [11, 12]])"
      ]
     },
     "execution_count": 310,
     "metadata": {},
     "output_type": "execute_result"
    }
   ],
   "source": [
    "a[:,2:4]"
   ]
  },
  {
   "cell_type": "code",
   "execution_count": null,
   "metadata": {
    "collapsed": true
   },
   "outputs": [],
   "source": []
  },
  {
   "cell_type": "code",
   "execution_count": null,
   "metadata": {
    "collapsed": true
   },
   "outputs": [],
   "source": []
  },
  {
   "cell_type": "code",
   "execution_count": null,
   "metadata": {
    "collapsed": true
   },
   "outputs": [],
   "source": []
  }
 ],
 "metadata": {
  "kernelspec": {
   "display_name": "Python 2",
   "language": "python",
   "name": "python2"
  },
  "language_info": {
   "codemirror_mode": {
    "name": "ipython",
    "version": 2
   },
   "file_extension": ".py",
   "mimetype": "text/x-python",
   "name": "python",
   "nbconvert_exporter": "python",
   "pygments_lexer": "ipython2",
   "version": "2.7.6"
  }
 },
 "nbformat": 4,
 "nbformat_minor": 0
}
