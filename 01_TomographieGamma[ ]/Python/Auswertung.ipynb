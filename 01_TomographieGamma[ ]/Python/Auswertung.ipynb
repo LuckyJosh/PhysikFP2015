{
 "cells": [
  {
   "cell_type": "code",
   "execution_count": 561,
   "metadata": {
    "collapsed": false
   },
   "outputs": [],
   "source": [
    "#-*- coding:utf8-*-\n",
    "%matplotlib inline\n",
    "\n",
    "from __future__ import absolute_import, division, print_function, unicode_literals\n",
    "\n",
    "from IPython.display import Image\n",
    "\n",
    "import numpy as np\n",
    "\n",
    "import uncertainties as unc\n",
    "from uncertainties import unumpy as unp\n",
    "from uncertainties.unumpy import std_devs as stds #TODO\n",
    "from uncertainties.unumpy import nominal_values as noms #TODO\n",
    "\n",
    "import matplotlib as mpl\n",
    "import matplotlib.pyplot as plt\n",
    "import matplotlib.patches as mpatches\n",
    "from matplotlib.lines import Line2D \n",
    "\n",
    "import seaborn as sns\n",
    "\n",
    "sns.set(context=\"paper\",font_scale=1.6,style=\"darkgrid\")\n",
    "\n",
    "\n",
    "import scipy as sp\n",
    "import scipy.constants as const\n",
    "\n",
    "import sympy as sym\n",
    "sym.init_printing()\n",
    "\n",
    "import pandas as pd\n",
    "\n",
    "import ROOT as rt\n",
    "\n",
    "import root_numpy as rnp\n",
    "\n",
    "import re\n",
    "\n",
    "from aputils.latextables.tables import Table\n",
    "\n",
    "\n",
    "# Fehlerfortpflanzung beim Mitteln\n",
    "umean = unc.wrap(np.mean)\n",
    "\n",
    "#Laden des Latex fonts \n",
    "plt.rcParams['text.latex.preamble']=[\"\\\\usepackage{lmodern}\"]\n",
    "#Options\n",
    "params = {'text.usetex' : True,\n",
    "          'font.size' : 11,\n",
    "          'font.family' : 'lmodern',\n",
    "          'text.latex.unicode': True,\n",
    "          }\n",
    "plt.rcParams.update(params) \n",
    "\n",
    "#Größe der Achsenbeschriftung\n",
    "axis_font = {'size':'14'}\n",
    "\n",
    "# Pfade\n",
    "path_graphics = \"../Grafiken/\"\n",
    "path_table = \"../Tabellen/\"\n",
    "path_data = \"../Messdaten/\""
   ]
  },
  {
   "cell_type": "code",
   "execution_count": 73,
   "metadata": {
    "collapsed": true
   },
   "outputs": [],
   "source": [
    "# Funktionen\n",
    "# Achsenbeschriftungen\n",
    "def axis_label(label,sym=None,unit=None):\n",
    "    if sym == None:\n",
    "        return lable\n",
    "    elif unit == None:\n",
    "        return r\"\".join([label,\" ${s}$\".format(s=sym)])\n",
    "    else:\n",
    "        return r\"\".join([label,\" ${s}/\\mathrm{{{u}}}$\".format(s=sym,u=unit)])\n",
    "    \n",
    "# Fit Funktionen\n",
    "def fit_errors(popt,pcov):\n",
    "    errors = np.sqrt(np.diag(pcov))\n",
    "    param_err = unp.uarray(popt,errors)\n",
    "    return param_err\n",
    "    \n",
    "def print_errors(array,description=None):\n",
    "    if description and len(description)==len(array):\n",
    "        maxlen = max(map(len,description))\n",
    "        lens = map(len,description)\n",
    "        for i,entry in enumerate(array):\n",
    "            print(description[i],\" \"*(maxlen-lens[i]),entry.nominal_value,\"+/-\",entry.std_dev)\n",
    "    else:\n",
    "        for i,entry in enumerate(array):\n",
    "            print(entry.nominal_value,\"+/-\",entry.std_dev)\n"
   ]
  },
  {
   "cell_type": "markdown",
   "metadata": {},
   "source": [
    "#Vorbereitungsaufgaben"
   ]
  },
  {
   "cell_type": "markdown",
   "metadata": {},
   "source": [
    "##Aufgabe 5"
   ]
  },
  {
   "cell_type": "code",
   "execution_count": 89,
   "metadata": {
    "collapsed": false
   },
   "outputs": [],
   "source": [
    "#W2 = sym.sqrt(2)\n",
    "#A_np = np.matrix([[1,1,1,0,0,0,0,0,0],[0,0,0,1,1,1,0,0,0],[0,0,0,0,0,0,1,1,1],\n",
    "#               [0,0,W2,0,0,0,0,0,0],[0,W2,0,0,0,W2,0,0,0],[W2,0,0,0,W2,0,0,0,W2],\n",
    "#               [0,0,0,W2,0,0,0,W2,0],[0,0,0,0,0,0,W2,0,0],[0,0,W2,0,0,W2,0,0,W2],\n",
    "#               [0,W2,0,0,W2,0,0,W2,0],[W2,0,0,W2,0,0,W2,0,0]])\n",
    "#A = sym.Matrix(A_np)\n",
    "#B = (A.transpose()*A)\n",
    "#B.inv()\n",
    "# B ist singulär"
   ]
  },
  {
   "cell_type": "code",
   "execution_count": 399,
   "metadata": {
    "collapsed": false
   },
   "outputs": [
    {
     "data": {
      "image/png": "[encoded data removed]",
      "text/latex": [
       "$$\\left[\\begin{matrix}0 & \\sqrt{2} & 0 & \\sqrt{2} & 0 & 0 & 0 & 0 & 0\\\\0 & 0 & \\sqrt{2} & 0 & \\sqrt{2} & 0 & \\sqrt{2} & 0 & 0\\\\0 & 0 & 0 & 0 & 0 & \\sqrt{2} & 0 & \\sqrt{2} & 0\\\\1 & 1 & 1 & 0 & 0 & 0 & 0 & 0 & 0\\\\0 & 0 & 0 & 1 & 1 & 1 & 0 & 0 & 0\\\\0 & 0 & 0 & 0 & 0 & 0 & 1 & 1 & 1\\\\0 & \\sqrt{2} & 0 & 0 & 0 & \\sqrt{2} & 0 & 0 & 0\\\\\\sqrt{2} & 0 & 0 & 0 & \\sqrt{2} & 0 & 0 & 0 & \\sqrt{2}\\\\0 & 0 & 0 & \\sqrt{2} & 0 & 0 & 0 & \\sqrt{2} & 0\\\\0 & 0 & \\sqrt{2} & 0 & 0 & \\sqrt{2} & 0 & 0 & \\sqrt{2}\\\\0 & \\sqrt{2} & 0 & 0 & \\sqrt{2} & 0 & 0 & \\sqrt{2} & 0\\\\\\sqrt{2} & 0 & 0 & \\sqrt{2} & 0 & 0 & \\sqrt{2} & 0 & 0\\end{matrix}\\right]$$"
      ],
      "text/plain": [
       "⎡         ___           ___                                   ⎤\n",
       "⎢  0    ╲╱ 2     0    ╲╱ 2     0      0      0      0      0  ⎥\n",
       "⎢                                                             ⎥\n",
       "⎢                ___           ___           ___              ⎥\n",
       "⎢  0      0    ╲╱ 2     0    ╲╱ 2     0    ╲╱ 2     0      0  ⎥\n",
       "⎢                                                             ⎥\n",
       "⎢                                     ___           ___       ⎥\n",
       "⎢  0      0      0      0      0    ╲╱ 2     0    ╲╱ 2     0  ⎥\n",
       "⎢                                                             ⎥\n",
       "⎢  1      1      1      0      0      0      0      0      0  ⎥\n",
       "⎢                                                             ⎥\n",
       "⎢  0      0      0      1      1      1      0      0      0  ⎥\n",
       "⎢                                                             ⎥\n",
       "⎢  0      0      0      0      0      0      1      1      1  ⎥\n",
       "⎢                                                             ⎥\n",
       "⎢         ___                         ___                     ⎥\n",
       "⎢  0    ╲╱ 2     0      0      0    ╲╱ 2     0      0      0  ⎥\n",
       "⎢                                                             ⎥\n",
       "⎢  ___                         ___                         ___⎥\n",
       "⎢╲╱ 2     0      0      0    ╲╱ 2     0      0      0    ╲╱ 2 ⎥\n",
       "⎢                                                             ⎥\n",
       "⎢                       ___                         ___       ⎥\n",
       "⎢  0      0      0    ╲╱ 2     0      0      0    ╲╱ 2     0  ⎥\n",
       "⎢                                                             ⎥\n",
       "⎢                ___                  ___                  ___⎥\n",
       "⎢  0      0    ╲╱ 2     0      0    ╲╱ 2     0      0    ╲╱ 2 ⎥\n",
       "⎢                                                             ⎥\n",
       "⎢         ___                  ___                  ___       ⎥\n",
       "⎢  0    ╲╱ 2     0      0    ╲╱ 2     0      0    ╲╱ 2     0  ⎥\n",
       "⎢                                                             ⎥\n",
       "⎢  ___                  ___                  ___              ⎥\n",
       "⎣╲╱ 2     0      0    ╲╱ 2     0      0    ╲╱ 2     0      0  ⎦"
      ]
     },
     "execution_count": 399,
     "metadata": {},
     "output_type": "execute_result"
    }
   ],
   "source": [
    "W2 = sym.sqrt(2)\n",
    "A_np = np.matrix([[0,W2,0,W2,0,0,0,0,0],[0,0,W2,0,W2,0,W2,0,0],[0,0,0,0,0,W2,0,W2,0],\n",
    "                [1,1,1,0,0,0,0,0,0],[0,0,0,1,1,1,0,0,0],[0,0,0,0,0,0,1,1,1],\n",
    "               [0,W2,0,0,0,W2,0,0,0],[W2,0,0,0,W2,0,0,0,W2],[0,0,0,W2,0,0,0,W2,0],\n",
    "               [0,0,W2,0,0,W2,0,0,W2],[0,W2,0,0,W2,0,0,W2,0],[W2,0,0,W2,0,0,W2,0,0]])\n",
    "#B_np = (A_np.T * A).inv()\n",
    "\n",
    "\n",
    "A = sym.Matrix(A_np)\n",
    "C = (A.transpose()*A).inv()\n",
    "A\n"
   ]
  },
  {
   "cell_type": "markdown",
   "metadata": {},
   "source": [
    "##Suche nach Integrationsintervall"
   ]
  },
  {
   "cell_type": "code",
   "execution_count": null,
   "metadata": {
    "collapsed": false
   },
   "outputs": [],
   "source": [
    "values = [4503,2978,6396,5013,4969,5458,6046,3073,4990,4920,4918,5422]\n",
    "values = [2994,1296,5373,3239,2978,3603,3220,1323,4363,3224,3099,4188]\n",
    "\n",
    "filepath = \"/home/josh/Dokumente/Studium/FP_Physik/FP_Repo/01_TomographieGamma[ ]/Messdaten/20151102_Joshua_Leonard/Block2/Messung_{}.dat\"\n",
    "global_limits = set([])\n",
    "for k,n in enumerate(values,start=1):\n",
    "    global global_limits\n",
    "    print(\"Messung {}\".format(k))\n",
    "    File = filepath.format(k)\n",
    "    x,y = np.loadtxt(File,unpack=True)\n",
    "    print(y[250:310].sum(),\"\\t\",n)\n",
    "    limits = set([])\n",
    "    for i in range(200,300):\n",
    "        for j in range(250,350):\n",
    "            if sum(y[i:j]) == n:\n",
    "                limits.add((i,j))\n",
    "    if k == 1:\n",
    "        global_limits = limits\n",
    "    else:\n",
    "        global_limits = global_limits.intersection(limits)\n",
    "                #print(i,j)\n",
    "\n",
    "print(global_limits)"
   ]
  },
  {
   "cell_type": "markdown",
   "metadata": {
    "collapsed": true
   },
   "source": [
    "#Auswertung"
   ]
  },
  {
   "cell_type": "markdown",
   "metadata": {},
   "source": [
    "##Laden der Daten"
   ]
  },
  {
   "cell_type": "code",
   "execution_count": 377,
   "metadata": {
    "collapsed": false
   },
   "outputs": [],
   "source": [
    "# Speicherort der Messdaten \n",
    "folder = \"/home/josh/Dokumente/Studium/FP_Physik/FP_Repo/01_TomographieGamma[ ]/Messdaten/20151102_Joshua_Leonard/\"\n",
    "\n",
    "# Ordner der Messreihen\n",
    "cube = [\"Luft/\",\"Block1/\",\"Block2/\",\"Block3/\"]\n",
    "\n",
    "# Intergrationsgrenzen\n",
    "lower_limit, upper_limit = 250, 310\n",
    "\n",
    "# Kanalnummern\n",
    "channels = np.arange(0,1024)\n",
    "\n",
    "# Laden der Daten einer Messreihe\n",
    "def load_data(num_cube=0):\n",
    "    data = []\n",
    "    real_times = []\n",
    "    live_times = []\n",
    "    for i in range(1,13):\n",
    "        File = \"Messung_{}.dat\".format(i) \n",
    "        with open(folder+cube[num_cube]+File) as dat:\n",
    "            line = dat.readline()\n",
    "            while line:\n",
    "                if \"Real Time\" in line: \n",
    "                    m = re.search(\"\\d{3}.\\d{3}\",line)\n",
    "                    real_times.append(float(m.group(0)))\n",
    "                if \"Live Time\" in line:\n",
    "                    m = re.search(\"\\d{3}.\\d{3}\",line)\n",
    "                    live_times.append(float(m.group(0)))\n",
    "                    break\n",
    "                line = dat.readline()\n",
    "        data.append(np.loadtxt(folder+cube[num_cube]+File,unpack=True)[1])\n",
    "    data,real_times, live_times = np.array(data),np.array(real_times),np.array(live_times)\n",
    "    return data,real_times,live_times"
   ]
  },
  {
   "cell_type": "code",
   "execution_count": 464,
   "metadata": {
    "collapsed": false
   },
   "outputs": [],
   "source": [
    "# Laden der Messdaten und jeweilige Livetime für alle Projektionen und jeden Würfel\n",
    "cube_0,real_time_0,live_time_0 = load_data(num_cube=0)\n",
    "cube_1,real_time_1,live_time_1 = load_data(num_cube=1)\n",
    "cube_2,real_time_2,live_time_2 = load_data(num_cube=2)\n",
    "cube_3,real_time_3,live_time_3 = load_data(num_cube=3)\n",
    "\n",
    "# Wurde 12 mal gemessen verlangt ist jedoch nur ein Wert, daher Mittelung\n",
    "#cube_0 = cube_0.mean(axis=0)\n",
    "real_time_0 = real_time_0.mean()\n",
    "live_time_0 = live_time_0.mean()\n",
    "\n"
   ]
  },
  {
   "cell_type": "code",
   "execution_count": 572,
   "metadata": {
    "collapsed": false
   },
   "outputs": [
    {
     "data": {
      "image/png": "[encoded data removed]",
      "text/plain": [
       "<matplotlib.figure.Figure at 0x7f956c0e5690>"
      ]
     },
     "metadata": {},
     "output_type": "display_data"
    }
   ],
   "source": [
    "# Plot eines Spektrums aus der 5.Messung von Cube 1\n",
    "plt.xlim(0,1023)\n",
    "plt.xlabel(\"Kanalnummer\")\n",
    "plt.ylabel(\"Anzahl der Hits\")\n",
    "plt.plot(channels,cube_1[4],label=u\"Spektrum Würfel 1\\n Projektion $I_{5}$ \")\n",
    "plt.legend(loc=\"upper right\")\n",
    "plt.savefig(path_graphics+\"Spektrum_Block_1_Messung_5_0_1023.pdf\")"
   ]
  },
  {
   "cell_type": "code",
   "execution_count": 574,
   "metadata": {
    "collapsed": false
   },
   "outputs": [
    {
     "data": {
      "image/png": "[encoded data removed]",
      "text/plain": [
       "<matplotlib.figure.Figure at 0x7f95691d1410>"
      ]
     },
     "metadata": {},
     "output_type": "display_data"
    }
   ],
   "source": [
    "# Plot eines Spektrums aus der 5.Messung von Cube 1\n",
    "plt.xlim(0,350)\n",
    "plt.xlabel(\"Kanalnummer\")\n",
    "plt.ylabel(\"Anzahl der Hits\")\n",
    "plt.plot(channels,cube_1[4],label=u\"Spektrum Würfel 1\\n Projektion $I_{5}$ \")\n",
    "plt.legend(loc=\"upper left\")\n",
    "plt.savefig(path_graphics+\"Spektrum_Block_1_Messung_5_0_350.pdf\")"
   ]
  },
  {
   "cell_type": "code",
   "execution_count": 587,
   "metadata": {
    "collapsed": false
   },
   "outputs": [
    {
     "data": {
      "image/png": "[encoded data removed]",
      "text/plain": [
       "<matplotlib.figure.Figure at 0x7f9569215d50>"
      ]
     },
     "metadata": {},
     "output_type": "display_data"
    }
   ],
   "source": [
    "# Plot eines Spektrums aus der 5.Messung von Cube 1\n",
    "plt.xlim(0,350)\n",
    "plt.xlabel(\"Kanalnummer\")\n",
    "plt.ylabel(\"Anzahl der Hits\")\n",
    "plt.bar(channels,cube_1[4],width=1,align=\"center\",edgecolor=\"\")#,label=u\"Spektrum Würfel 1\\n Projektion $I_{5}$ \")\n",
    "plt.legend(loc=\"upper left\")\n",
    "plt.savefig(path_graphics+\"Spektrum_Block_1_Messung_5_0_350_bar.pdf\")"
   ]
  },
  {
   "cell_type": "code",
   "execution_count": 444,
   "metadata": {
    "collapsed": false
   },
   "outputs": [
    {
     "data": {
      "text/plain": [
       "array([ 0.        ,  0.5       ,  0.16666667, ...,  0.08333333,\n",
       "        0.        ,  0.        ])"
      ]
     },
     "execution_count": 444,
     "metadata": {},
     "output_type": "execute_result"
    }
   ],
   "source": [
    "live_time_0\n",
    "cube_0"
   ]
  },
  {
   "cell_type": "code",
   "execution_count": 451,
   "metadata": {
    "collapsed": false
   },
   "outputs": [],
   "source": [
    "# Integrierte Hits im Intervall [250,310] \n",
    "# Cube 0 wurde 12 mal gemessen verlangt ist jedoch nur ein Wert, daher Mittelung\n",
    "integrated_counts_0 = cube_0[:,lower_limit:upper_limit].sum(axis=1).mean()\n",
    "integrated_counts_1 = cube_1[:,lower_limit:upper_limit].sum(axis=1)\n",
    "integrated_counts_2 = cube_2[:,lower_limit:upper_limit].sum(axis=1)\n",
    "integrated_counts_3 = cube_3[:,lower_limit:upper_limit].sum(axis=1)\n",
    "\n"
   ]
  },
  {
   "cell_type": "code",
   "execution_count": 459,
   "metadata": {
    "collapsed": false
   },
   "outputs": [
    {
     "data": {
      "image/png": "[encoded data removed]",
      "text/latex": [
       "$$29374.75$$"
      ],
      "text/plain": [
       "29374.75"
      ]
     },
     "execution_count": 459,
     "metadata": {},
     "output_type": "execute_result"
    }
   ],
   "source": [
    "integrated_counts_0"
   ]
  },
  {
   "cell_type": "code",
   "execution_count": 452,
   "metadata": {
    "collapsed": true
   },
   "outputs": [],
   "source": [
    "# Fehlerbehaftete Integrierte Hits im Intervall [250,310]\n",
    "integrated_counts_0_err = unp.uarray(integrated_counts_0,np.sqrt(integrated_counts_0)) \n",
    "integrated_counts_1_err = unp.uarray(integrated_counts_1,np.sqrt(integrated_counts_1)) \n",
    "integrated_counts_2_err = unp.uarray(integrated_counts_2,np.sqrt(integrated_counts_2))\n",
    "integrated_counts_3_err = unp.uarray(integrated_counts_3,np.sqrt(integrated_counts_3)) \n"
   ]
  },
  {
   "cell_type": "code",
   "execution_count": 453,
   "metadata": {
    "collapsed": false
   },
   "outputs": [
    {
     "data": {
      "text/plain": [
       "array(29374.75+/-171.39063568351685, dtype=object)"
      ]
     },
     "execution_count": 453,
     "metadata": {},
     "output_type": "execute_result"
    }
   ],
   "source": [
    "integrated_counts_0_err"
   ]
  },
  {
   "cell_type": "code",
   "execution_count": 467,
   "metadata": {
    "collapsed": false
   },
   "outputs": [],
   "source": [
    "# Renormierung der integrierten Hits\n",
    "integrated_counts_0_norm_1 = integrated_counts_0*(real_time_1/live_time_0)\n",
    "integrated_counts_1_norm = integrated_counts_1*(real_time_1/live_time_1)\n",
    "\n",
    "integrated_counts_0_norm_2 = integrated_counts_0*(real_time_2/live_time_0)\n",
    "integrated_counts_2_norm = integrated_counts_2*(real_time_2/live_time_2)\n",
    "\n",
    "integrated_counts_0_norm_3 = integrated_counts_0*(real_time_3/live_time_0)\n",
    "integrated_counts_3_norm = integrated_counts_3*(real_time_3/live_time_3)\n",
    "\n"
   ]
  },
  {
   "cell_type": "code",
   "execution_count": 470,
   "metadata": {
    "collapsed": false
   },
   "outputs": [
    {
     "data": {
      "text/plain": [
       "array([ 44194.09347357,  44194.09347357,  44194.09347357,  44194.09347357,\n",
       "        44194.09347357,  44194.09347357,  44194.09347357,  44194.09347357,\n",
       "        44194.09347357,  44194.09347357,  44194.09347357,  44194.09347357])"
      ]
     },
     "execution_count": 470,
     "metadata": {},
     "output_type": "execute_result"
    }
   ],
   "source": [
    "integrated_counts_0_norm_3"
   ]
  },
  {
   "cell_type": "code",
   "execution_count": 471,
   "metadata": {
    "collapsed": true
   },
   "outputs": [],
   "source": [
    "# Renormierung der fehlerbehafteten integrierten Hits\n",
    "integrated_counts_0_norm_1_err = integrated_counts_0_err*(real_time_1/live_time_0)\n",
    "integrated_counts_1_norm_err = integrated_counts_1_err*(real_time_1/live_time_1)\n",
    "\n",
    "integrated_counts_0_norm_2_err = integrated_counts_0_err*(real_time_2/live_time_0)\n",
    "integrated_counts_2_norm_err = integrated_counts_2_err*(real_time_2/live_time_2)\n",
    "\n",
    "integrated_counts_0_norm_3_err = integrated_counts_0_err*(real_time_3/live_time_0)\n",
    "integrated_counts_3_norm_err = integrated_counts_3_err*(real_time_3/live_time_3)\n"
   ]
  },
  {
   "cell_type": "code",
   "execution_count": 472,
   "metadata": {
    "collapsed": false
   },
   "outputs": [
    {
     "data": {
      "text/plain": [
       "array([29462.728982377932+/-171.90396000854236,\n",
       "       29462.728982377932+/-171.90396000854236,\n",
       "       29462.728982377932+/-171.90396000854236,\n",
       "       29462.728982377932+/-171.90396000854236,\n",
       "       29462.728982377932+/-171.90396000854236,\n",
       "       29462.728982377932+/-171.90396000854236,\n",
       "       29462.728982377932+/-171.90396000854236,\n",
       "       29462.728982377932+/-171.90396000854236,\n",
       "       29462.728982377932+/-171.90396000854236,\n",
       "       29462.728982377932+/-171.90396000854236,\n",
       "       29462.728982377932+/-171.90396000854236,\n",
       "       29462.728982377932+/-171.90396000854236], dtype=object)"
      ]
     },
     "execution_count": 472,
     "metadata": {},
     "output_type": "execute_result"
    }
   ],
   "source": [
    "integrated_counts_0_norm_1_err"
   ]
  },
  {
   "cell_type": "code",
   "execution_count": null,
   "metadata": {
    "collapsed": false
   },
   "outputs": [],
   "source": []
  },
  {
   "cell_type": "code",
   "execution_count": 473,
   "metadata": {
    "collapsed": false
   },
   "outputs": [],
   "source": [
    "# Logarithmierte Verhältnisse\n",
    "log_ratios_1 = np.log(integrated_counts_0_norm_1/integrated_counts_1_norm)\n",
    "log_ratios_2 = np.log(integrated_counts_0_norm_2/integrated_counts_2_norm)\n",
    "log_ratios_3 = np.log(integrated_counts_0_norm_3/integrated_counts_3_norm)"
   ]
  },
  {
   "cell_type": "code",
   "execution_count": 476,
   "metadata": {
    "collapsed": false
   },
   "outputs": [],
   "source": [
    "# Fehlerbehaftete Logarithmierte Verhältnisse\n",
    "log_ratios_1_err = unp.log(integrated_counts_0_norm_1_err/integrated_counts_1_norm_err)\n",
    "log_ratios_2_err = unp.log(integrated_counts_0_norm_2_err/integrated_counts_2_norm_err)\n",
    "log_ratios_3_err = unp.log(integrated_counts_0_norm_3_err/integrated_counts_3_norm_err)"
   ]
  },
  {
   "cell_type": "code",
   "execution_count": 487,
   "metadata": {
    "collapsed": false
   },
   "outputs": [
    {
     "data": {
      "text/plain": [
       "array([1.8767141418060758+/-0.016003656322588235,\n",
       "       2.2892038774085113+/-0.019231190266061123,\n",
       "       1.5252842279696597+/-0.013798208588115314,\n",
       "       1.7694234448441442+/-0.015281498336607177,\n",
       "       1.7770700727858637+/-0.015339184426845596,\n",
       "       1.6840416152693878+/-0.014739746898455459,\n",
       "       1.5817271411982683+/-0.014122374218575378,\n",
       "       2.258970630951593+/-0.018959370952655978,\n",
       "       1.77352111317794+/-0.015311552648932065,\n",
       "       1.7874814499244427+/-0.015404378450237363,\n",
       "       1.7875538678763276+/-0.01540706110248603,\n",
       "       1.6899910605938546+/-0.014780955016094973], dtype=object)"
      ]
     },
     "execution_count": 487,
     "metadata": {},
     "output_type": "execute_result"
    }
   ],
   "source": [
    "log_ratios_1_err"
   ]
  },
  {
   "cell_type": "code",
   "execution_count": 479,
   "metadata": {
    "collapsed": false
   },
   "outputs": [],
   "source": [
    "# Berechnung der Absorbtionskoeffizienten\n",
    "def attenuation_coefficients(log_ratios):\n",
    "    attenuation_coeff = []\n",
    "    coeffs = C*A.transpose()*log_ratios\n",
    "    for coeff in coeffs:\n",
    "        attenuation_coeff.append(float(coeff))\n",
    "    return np.array(attenuation_coeff)    \n",
    "\n",
    "\n"
   ]
  },
  {
   "cell_type": "code",
   "execution_count": 485,
   "metadata": {
    "collapsed": false
   },
   "outputs": [],
   "source": [
    "attenuation_coeff_1 = attenuation_coefficients(log_ratios_1)\n",
    "attenuation_coeff_2 = attenuation_coefficients(log_ratios_2)"
   ]
  },
  {
   "cell_type": "code",
   "execution_count": 486,
   "metadata": {
    "collapsed": false
   },
   "outputs": [
    {
     "data": {
      "text/plain": [
       "array([ 0.4046063 ,  0.56008072,  0.54579275,  0.65598641,  0.53515335,\n",
       "        0.46392776,  0.40082437,  0.50364089,  0.52063269])"
      ]
     },
     "execution_count": 486,
     "metadata": {},
     "output_type": "execute_result"
    }
   ],
   "source": [
    "attenuation_coeff_1"
   ]
  },
  {
   "cell_type": "code",
   "execution_count": 387,
   "metadata": {
    "collapsed": false
   },
   "outputs": [
    {
     "data": {
      "text/plain": [
       "array([ 80679.84288818,  80398.19458375,  80114.491058  ,  82682.10702341,\n",
       "        81725.18382353,  79137.66298897,  80042.37713139,  80941.31416151,\n",
       "        80884.19117647,  81482.19658977,  82511.03863522,  81672.65585827])"
      ]
     },
     "execution_count": 387,
     "metadata": {},
     "output_type": "execute_result"
    }
   ],
   "source": [
    "integrated_counts_0_norm_2"
   ]
  },
  {
   "cell_type": "code",
   "execution_count": null,
   "metadata": {
    "collapsed": true
   },
   "outputs": [],
   "source": []
  },
  {
   "cell_type": "code",
   "execution_count": 302,
   "metadata": {
    "collapsed": false
   },
   "outputs": [
    {
     "data": {
      "text/plain": [
       "array([[ 1,  2,  3,  4],\n",
       "       [ 5,  6,  7,  8],\n",
       "       [ 9, 10, 11, 12]])"
      ]
     },
     "execution_count": 302,
     "metadata": {},
     "output_type": "execute_result"
    }
   ],
   "source": [
    "a = np.array([[1,2,3,4],[5,6,7,8],[9,10,11,12]])\n",
    "a"
   ]
  },
  {
   "cell_type": "code",
   "execution_count": 310,
   "metadata": {
    "collapsed": false
   },
   "outputs": [
    {
     "data": {
      "text/plain": [
       "array([[ 3,  4],\n",
       "       [ 7,  8],\n",
       "       [11, 12]])"
      ]
     },
     "execution_count": 310,
     "metadata": {},
     "output_type": "execute_result"
    }
   ],
   "source": [
    "a[:,2:4]"
   ]
  },
  {
   "cell_type": "code",
   "execution_count": null,
   "metadata": {
    "collapsed": true
   },
   "outputs": [],
   "source": []
  },
  {
   "cell_type": "code",
   "execution_count": null,
   "metadata": {
    "collapsed": true
   },
   "outputs": [],
   "source": []
  },
  {
   "cell_type": "code",
   "execution_count": null,
   "metadata": {
    "collapsed": true
   },
   "outputs": [],
   "source": []
  }
 ],
 "metadata": {
  "kernelspec": {
   "display_name": "Python 2",
   "language": "python",
   "name": "python2"
  },
  "language_info": {
   "codemirror_mode": {
    "name": "ipython",
    "version": 2
   },
   "file_extension": ".py",
   "mimetype": "text/x-python",
   "name": "python",
   "nbconvert_exporter": "python",
   "pygments_lexer": "ipython2",
   "version": "2.7.6"
  }
 },
 "nbformat": 4,
 "nbformat_minor": 0
}
