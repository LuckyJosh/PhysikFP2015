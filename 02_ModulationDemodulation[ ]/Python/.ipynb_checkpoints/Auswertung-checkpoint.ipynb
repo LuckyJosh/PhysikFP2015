{
 "cells": [
  {
   "cell_type": "code",
   "execution_count": 12,
   "metadata": {
    "collapsed": false
   },
   "outputs": [
    {
     "name": "stderr",
     "output_type": "stream",
     "text": [
      "/home/luckyjosh/anaconda3/lib/python3.5/site-packages/matplotlib/__init__.py:872: UserWarning: axes.color_cycle is deprecated and replaced with axes.prop_cycle; please use the latter.\n",
      "  warnings.warn(self.msg_depr % (key, alt_key))\n"
     ]
    }
   ],
   "source": [
    "#-*- coding:utf8-*-\n",
    "%matplotlib inline\n",
    "\n",
    "#from __future__ import absolute_import, division, print_function, unicode_literals\n",
    "\n",
    "from IPython.display import Image\n",
    "\n",
    "import numpy as np\n",
    "\n",
    "import uncertainties as unc\n",
    "from uncertainties import unumpy as unp\n",
    "from uncertainties.unumpy import std_devs as stds #TODO\n",
    "from uncertainties.unumpy import nominal_values as noms #TODO\n",
    "\n",
    "import matplotlib as mpl\n",
    "import matplotlib.pyplot as plt\n",
    "import matplotlib.patches as mpatches\n",
    "from matplotlib.lines import Line2D \n",
    "\n",
    "import seaborn as sns\n",
    "sns.set(context=\"paper\",font_scale=1.4)\n",
    "\n",
    "import scipy as sp\n",
    "import scipy.constants as const\n",
    "\n",
    "import sympy as sym\n",
    "\n",
    "import pandas as pd\n",
    "\n",
    "#import ROOT as rt\n",
    "\n",
    "#import root_numpy as rnp\n",
    "\n",
    "from aputils.latextables.tables import Table\n",
    "\n",
    "\n",
    "# Fehlerfortpflanzung beim Mitteln\n",
    "umean = unc.wrap(np.mean)\n",
    "\n",
    "#Laden des Latex fonts \n",
    "plt.rcParams['text.latex.preamble']=[\"\\\\usepackage{lmodern}\"]\n",
    "#Options\n",
    "params = {'text.usetex' : True,\n",
    "          'font.size' : 14,\n",
    "          'font.family' : 'lmodern',\n",
    "          'text.latex.unicode': True,\n",
    "          }\n",
    "plt.rcParams.update(params) \n",
    "\n",
    "#Größe der Achsenbeschriftung\n",
    "axis_font = {'size':'14'}\n",
    "\n",
    "# Pfade\n",
    "path_graphics = \"../Grafiken/\"\n",
    "path_table = \"../Tabellen/\"\n",
    "path_data = \"../Messdaten/\""
   ]
  },
  {
   "cell_type": "code",
   "execution_count": 13,
   "metadata": {
    "collapsed": true
   },
   "outputs": [],
   "source": [
    "# Funktionen\n",
    "# Achsenbeschriftungen\n",
    "def axis_label(label,sym=None,unit=None):\n",
    "    if sym == None:\n",
    "        return lable\n",
    "    elif unit == None:\n",
    "        return r\"\".join([label,\" ${s}$\".format(s=sym)])\n",
    "    else:\n",
    "        return r\"\".join([label,\" ${s}/\\mathrm{{{u}}}$\".format(s=sym,u=unit)])\n",
    "\n",
    "# Achsenskalierung\n",
    "def axis_scale(factor, axis=\"x\"):\n",
    "    if axis == \"x\":\n",
    "        plt.gca().xaxis.set_major_formatter(mpl.ticker.FuncFormatter(lambda x, _: x * factor))\n",
    "    elif axis == \"y\":\n",
    "        plt.gca().yaxis.set_major_formatter(mpl.ticker.FuncFormatter(lambda x, _: x * factor))\n",
    "    else:\n",
    "        print(\"Wrong axis name given! Only x and y are allowed!\")\n",
    "    \n",
    "# Fit Funktionen\n",
    "def fit_errors(popt,pcov):\n",
    "    errors = np.sqrt(np.diag(pcov))\n",
    "    param_err = unp.uarray(popt,errors)\n",
    "    return param_err\n",
    "    \n",
    "def print_errors(array,description=None):\n",
    "    if description and len(description)==len(array):\n",
    "        maxlen = max(map(len,description))\n",
    "        lens = map(len,description)\n",
    "        for i,entry in enumerate(array):\n",
    "            print(description[i],\" \"*(maxlen-lens[i]),entry.nominal_value,\"+/-\",entry.std_dev)\n",
    "    else:\n",
    "        for i,entry in enumerate(array):\n",
    "            print(entry.nominal_value,\"+/-\",entry.std_dev)\n",
    "            \n"
   ]
  },
  {
   "cell_type": "code",
   "execution_count": null,
   "metadata": {
    "collapsed": true
   },
   "outputs": [],
   "source": []
  },
  {
   "cell_type": "markdown",
   "metadata": {},
   "source": [
    "## Messung a) \n",
    "### Amplitudenmoduliert mit Trägerunterdrückung"
   ]
  },
  {
   "cell_type": "code",
   "execution_count": 14,
   "metadata": {
    "collapsed": false
   },
   "outputs": [],
   "source": [
    "df_amp_mod_without_carrier = pd.read_csv(path_data+\"Messung_a.csv\",skiprows=(0,1),names=(\"Zeit/s\",\"Spannung/V\"))\n",
    "df_amp_mod_without_carrier.fillna(0,inplace=True)"
   ]
  },
  {
   "cell_type": "code",
   "execution_count": 15,
   "metadata": {
    "collapsed": false
   },
   "outputs": [
    {
     "data": {
      "text/html": [
       "<div>\n",
       "<table border=\"1\" class=\"dataframe\">\n",
       "  <thead>\n",
       "    <tr style=\"text-align: right;\">\n",
       "      <th></th>\n",
       "      <th>Zeit/s</th>\n",
       "      <th>Spannung/V</th>\n",
       "    </tr>\n",
       "  </thead>\n",
       "  <tbody>\n",
       "    <tr>\n",
       "      <th>0</th>\n",
       "      <td>-0.00005</td>\n",
       "      <td>0</td>\n",
       "    </tr>\n",
       "  </tbody>\n",
       "</table>\n",
       "</div>"
      ],
      "text/plain": [
       "    Zeit/s  Spannung/V\n",
       "0 -0.00005           0"
      ]
     },
     "execution_count": 15,
     "metadata": {},
     "output_type": "execute_result"
    }
   ],
   "source": [
    "df_amp_mod_without_carrier.head(1)"
   ]
  },
  {
   "cell_type": "code",
   "execution_count": 16,
   "metadata": {
    "collapsed": false
   },
   "outputs": [
    {
     "data": {
      "text/plain": [
       "<matplotlib.legend.Legend at 0x7f934b60f518>"
      ]
     },
     "execution_count": 16,
     "metadata": {},
     "output_type": "execute_result"
    },
    {
     "data": {
      "image/png": "[encoded data removed]",
      "text/plain": [
       "<matplotlib.figure.Figure at 0x7f9347d332b0>"
      ]
     },
     "metadata": {},
     "output_type": "display_data"
    }
   ],
   "source": [
    "fig, ax = plt.subplots()\n",
    "\n",
    "ax.set_xlim(-3e-05,3e-05)\n",
    "ax.set_ylim(-0.3,0.4)\n",
    "axis_scale(1e06,axis=\"x\")\n",
    "ax.set_xlabel(axis_label(\"Zeit\",sym=\"t\",unit=\"\\mu s\"),axis_font)\n",
    "ax.set_ylabel(axis_label(\"Spannung\",sym=\"U\",unit=\"V\"),axis_font)\n",
    "ax.plot(df_amp_mod_without_carrier[\"Zeit/s\"],df_amp_mod_without_carrier[\"Spannung/V\"],label=\"Amp. Modulierte Spannung\\n ohne Trägerspannung\")\n",
    "ax.legend(loc=\"upper right\")\n"
   ]
  },
  {
   "cell_type": "code",
   "execution_count": 17,
   "metadata": {
    "collapsed": true
   },
   "outputs": [],
   "source": [
    "fig.savefig(path_graphics+\"Amplituden_Modulierte_Spannung_ohne_Träger.pdf\")"
   ]
  },
  {
   "cell_type": "markdown",
   "metadata": {},
   "source": [
    "## Messung c) \n",
    "### Amplitudenmoduliert mit Trägerabstrahlung"
   ]
  },
  {
   "cell_type": "code",
   "execution_count": 231,
   "metadata": {
    "collapsed": false
   },
   "outputs": [],
   "source": [
    "df_amp_mod_with_carrier = pd.read_csv(path_data+\"Messung_c.csv\",skiprows=(0,1),names=(\"Zeit/s\",\"Spannung/V\"))\n",
    "df_amp_mod_with_carrier.fillna(0,inplace=True)"
   ]
  },
  {
   "cell_type": "code",
   "execution_count": 232,
   "metadata": {
    "collapsed": false
   },
   "outputs": [
    {
     "data": {
      "text/html": [
       "<div>\n",
       "<table border=\"1\" class=\"dataframe\">\n",
       "  <thead>\n",
       "    <tr style=\"text-align: right;\">\n",
       "      <th></th>\n",
       "      <th>Zeit/s</th>\n",
       "      <th>Spannung/V</th>\n",
       "    </tr>\n",
       "  </thead>\n",
       "  <tbody>\n",
       "    <tr>\n",
       "      <th>0</th>\n",
       "      <td>-0.000022</td>\n",
       "      <td>0</td>\n",
       "    </tr>\n",
       "  </tbody>\n",
       "</table>\n",
       "</div>"
      ],
      "text/plain": [
       "     Zeit/s  Spannung/V\n",
       "0 -0.000022           0"
      ]
     },
     "execution_count": 232,
     "metadata": {},
     "output_type": "execute_result"
    }
   ],
   "source": [
    "df_amp_mod_with_carrier.head(1)"
   ]
  },
  {
   "cell_type": "code",
   "execution_count": 233,
   "metadata": {
    "collapsed": false
   },
   "outputs": [
    {
     "data": {
      "text/plain": [
       "<matplotlib.legend.Legend at 0x7f9344418a58>"
      ]
     },
     "execution_count": 233,
     "metadata": {},
     "output_type": "execute_result"
    },
    {
     "data": {
      "image/png": "[encoded data removed]",
      "text/plain": [
       "<matplotlib.figure.Figure at 0x7f93447020f0>"
      ]
     },
     "metadata": {},
     "output_type": "display_data"
    }
   ],
   "source": [
    "fig, ax = plt.subplots()\n",
    "\n",
    "ax.set_xlim(-2.5e-05,2.5e-05)\n",
    "ax.set_ylim(-0.1,0.20)\n",
    "axis_scale(1e06,axis=\"x\") # seconds -> microseconds \n",
    "ax.set_xlabel(axis_label(\"Zeit\",sym=\"t\",unit=\"\\mu s\"),axis_font)\n",
    "ax.set_ylabel(axis_label(\"Spannung\",sym=\"U\",unit=\"V\"),axis_font)\n",
    "ax.plot(df_amp_mod_with_carrier[\"Zeit/s\"],df_amp_mod_with_carrier[\"Spannung/V\"],label=\"Amp. Modulierte Spannung\\n mit Trägerspannung\")\n",
    "ax.legend(loc=\"upper right\")\n",
    "#ax.plot(max_1[0],max_1[1],marker=\"o\")"
   ]
  },
  {
   "cell_type": "code",
   "execution_count": 85,
   "metadata": {
    "collapsed": true
   },
   "outputs": [],
   "source": [
    "fig.savefig(path_graphics+\"Amplituden_Modulierte_Spannung_mit_Träger.pdf\")"
   ]
  },
  {
   "cell_type": "code",
   "execution_count": 38,
   "metadata": {
    "collapsed": false
   },
   "outputs": [],
   "source": [
    "# Berechnung der Maxima und Minima der Amplituden\n",
    "limit_lower, limit_upper = -17.5e-06, -12.5e-06\n",
    "\n",
    "is_in_range_x = (df_amp_mod_with_carrier[\"Zeit/s\"] >=limit_lower)&(df_amp_mod_with_carrier[\"Zeit/s\"] < limit_upper) \n",
    "#is_in_range_x = (df_amp_mod_with_carrier[\"Zeit/s\"] >=limit_lower)&(df_amp_mod_with_carrier[\"Zeit/s\"] < limit_upper) "
   ]
  },
  {
   "cell_type": "code",
   "execution_count": 43,
   "metadata": {
    "collapsed": false
   },
   "outputs": [],
   "source": [
    "max_1 = df_amp_mod_with_carrier[is_in_range_x].max().tolist()"
   ]
  },
  {
   "cell_type": "code",
   "execution_count": 234,
   "metadata": {
    "collapsed": false
   },
   "outputs": [
    {
     "data": {
      "text/plain": [
       "array([ 0.        , -0.03905314, -0.00016583, ...,  0.00198995,\n",
       "        0.01409548,  0.03664824])"
      ]
     },
     "execution_count": 234,
     "metadata": {},
     "output_type": "execute_result"
    }
   ],
   "source": [
    "voltage_change = (np.array(df_amp_mod_with_carrier[\"Spannung/V\"][1:]) - \n",
    "                  np.array(df_amp_mod_with_carrier[\"Spannung/V\"][0:-1]))\n",
    "voltage_change = np.insert(voltage_change,[0],0)\n",
    "voltage_change"
   ]
  },
  {
   "cell_type": "code",
   "execution_count": 230,
   "metadata": {
    "collapsed": false
   },
   "outputs": [],
   "source": [
    "#df_amp_mod_with_carrier[\"Spannungsänderung/V\"] = voltage_change"
   ]
  },
  {
   "cell_type": "code",
   "execution_count": 235,
   "metadata": {
    "collapsed": false
   },
   "outputs": [
    {
     "data": {
      "text/html": [
       "<div>\n",
       "<table border=\"1\" class=\"dataframe\">\n",
       "  <thead>\n",
       "    <tr style=\"text-align: right;\">\n",
       "      <th></th>\n",
       "      <th>Zeit/s</th>\n",
       "      <th>Spannung/V</th>\n",
       "    </tr>\n",
       "  </thead>\n",
       "  <tbody>\n",
       "    <tr>\n",
       "      <th>0</th>\n",
       "      <td>-0.000022</td>\n",
       "      <td>0.000000</td>\n",
       "    </tr>\n",
       "    <tr>\n",
       "      <th>1</th>\n",
       "      <td>-0.000022</td>\n",
       "      <td>-0.039053</td>\n",
       "    </tr>\n",
       "    <tr>\n",
       "      <th>2</th>\n",
       "      <td>-0.000022</td>\n",
       "      <td>-0.039219</td>\n",
       "    </tr>\n",
       "    <tr>\n",
       "      <th>3</th>\n",
       "      <td>-0.000022</td>\n",
       "      <td>-0.038224</td>\n",
       "    </tr>\n",
       "    <tr>\n",
       "      <th>4</th>\n",
       "      <td>-0.000022</td>\n",
       "      <td>-0.038224</td>\n",
       "    </tr>\n",
       "    <tr>\n",
       "      <th>5</th>\n",
       "      <td>-0.000022</td>\n",
       "      <td>-0.037229</td>\n",
       "    </tr>\n",
       "    <tr>\n",
       "      <th>6</th>\n",
       "      <td>-0.000022</td>\n",
       "      <td>-0.037063</td>\n",
       "    </tr>\n",
       "    <tr>\n",
       "      <th>7</th>\n",
       "      <td>-0.000022</td>\n",
       "      <td>-0.032917</td>\n",
       "    </tr>\n",
       "    <tr>\n",
       "      <th>8</th>\n",
       "      <td>-0.000022</td>\n",
       "      <td>-0.003068</td>\n",
       "    </tr>\n",
       "    <tr>\n",
       "      <th>9</th>\n",
       "      <td>-0.000022</td>\n",
       "      <td>0.040545</td>\n",
       "    </tr>\n",
       "    <tr>\n",
       "      <th>10</th>\n",
       "      <td>-0.000022</td>\n",
       "      <td>0.072052</td>\n",
       "    </tr>\n",
       "    <tr>\n",
       "      <th>11</th>\n",
       "      <td>-0.000022</td>\n",
       "      <td>0.091786</td>\n",
       "    </tr>\n",
       "    <tr>\n",
       "      <th>12</th>\n",
       "      <td>-0.000022</td>\n",
       "      <td>0.094439</td>\n",
       "    </tr>\n",
       "    <tr>\n",
       "      <th>13</th>\n",
       "      <td>-0.000022</td>\n",
       "      <td>0.079183</td>\n",
       "    </tr>\n",
       "  </tbody>\n",
       "</table>\n",
       "</div>"
      ],
      "text/plain": [
       "      Zeit/s  Spannung/V\n",
       "0  -0.000022    0.000000\n",
       "1  -0.000022   -0.039053\n",
       "2  -0.000022   -0.039219\n",
       "3  -0.000022   -0.038224\n",
       "4  -0.000022   -0.038224\n",
       "5  -0.000022   -0.037229\n",
       "6  -0.000022   -0.037063\n",
       "7  -0.000022   -0.032917\n",
       "8  -0.000022   -0.003068\n",
       "9  -0.000022    0.040545\n",
       "10 -0.000022    0.072052\n",
       "11 -0.000022    0.091786\n",
       "12 -0.000022    0.094439\n",
       "13 -0.000022    0.079183"
      ]
     },
     "execution_count": 235,
     "metadata": {},
     "output_type": "execute_result"
    }
   ],
   "source": [
    "df_amp_mod_with_carrier.head(14)"
   ]
  },
  {
   "cell_type": "code",
   "execution_count": 236,
   "metadata": {
    "collapsed": false
   },
   "outputs": [],
   "source": [
    "voltage_change_sign = np.sign(voltage_change)"
   ]
  },
  {
   "cell_type": "code",
   "execution_count": 237,
   "metadata": {
    "collapsed": false
   },
   "outputs": [
    {
     "data": {
      "text/plain": [
       "array([ 0., -1., -1., ...,  1.,  1.,  1.])"
      ]
     },
     "execution_count": 237,
     "metadata": {},
     "output_type": "execute_result"
    }
   ],
   "source": [
    "voltage_change_sign"
   ]
  },
  {
   "cell_type": "code",
   "execution_count": 238,
   "metadata": {
    "collapsed": true
   },
   "outputs": [],
   "source": [
    "def rolling_window(a, size):\n",
    "    shape = a.shape[:-1] + (a.shape[-1] - size + 1, size)\n",
    "    #print(a.shape[:-1], a.shape[-1],-size+1 ,shape)\n",
    "    strides = a.strides + (a. strides[-1],)\n",
    "    #print(strides,a. strides[-1])\n",
    "    return np.lib.stride_tricks.as_strided(a, shape=shape, strides=strides)"
   ]
  },
  {
   "cell_type": "code",
   "execution_count": 239,
   "metadata": {
    "collapsed": false
   },
   "outputs": [
    {
     "data": {
      "text/plain": [
       "array([[False, False,  True],\n",
       "       [False, False, False],\n",
       "       [False,  True, False],\n",
       "       ..., \n",
       "       [False, False, False],\n",
       "       [False,  True, False],\n",
       "       [ True,  True, False]], dtype=bool)"
      ]
     },
     "execution_count": 239,
     "metadata": {},
     "output_type": "execute_result"
    }
   ],
   "source": [
    "# Stellen der Änderung des Vorzeichens von + nach - \n",
    "## Absuchen der Spannungsänderung in 3er Blöcken\n",
    "voltage_change_rolling_window = (rolling_window(voltage_change_sign,3) == (1,1,-1))\n",
    "voltage_change_rolling_window"
   ]
  },
  {
   "cell_type": "code",
   "execution_count": 240,
   "metadata": {
    "collapsed": false
   },
   "outputs": [
    {
     "data": {
      "text/plain": [
       "array([False, False, False, ..., False, False, False], dtype=bool)"
      ]
     },
     "execution_count": 240,
     "metadata": {},
     "output_type": "execute_result"
    }
   ],
   "source": [
    "## Finden der Stellen mit entsprechenden Vorzeichen + + -\n",
    "voltage_change_sign_change = np.all(voltage_change_rolling_window,axis=1)\n",
    "voltage_change_sign_change"
   ]
  },
  {
   "cell_type": "code",
   "execution_count": 241,
   "metadata": {
    "collapsed": true
   },
   "outputs": [],
   "source": [
    "# Das lokale Maximum liegt jeweils einen Wert weiter\n",
    "# hinzufügen eines False an den Anfang und an das Ende\n",
    "voltage_change_sign_change = np.insert(voltage_change_sign_change,[0,-1],[False])"
   ]
  },
  {
   "cell_type": "code",
   "execution_count": 242,
   "metadata": {
    "collapsed": false
   },
   "outputs": [
    {
     "data": {
      "text/plain": [
       "array([False, False, False, ..., False, False, False], dtype=bool)"
      ]
     },
     "execution_count": 242,
     "metadata": {},
     "output_type": "execute_result"
    }
   ],
   "source": [
    "# Abschneiden des letzten nun Wertes, da dieser nun überzählig ist\n",
    "#voltage_change_sign_change = voltage_change_sign_change\n",
    "voltage_change_sign_change"
   ]
  },
  {
   "cell_type": "code",
   "execution_count": 316,
   "metadata": {
    "collapsed": false
   },
   "outputs": [
    {
     "data": {
      "text/plain": [
       "Zeit/s       -0.000020\n",
       "Spannung/V    0.083826\n",
       "Name: 101, dtype: float64"
      ]
     },
     "execution_count": 316,
     "metadata": {},
     "output_type": "execute_result"
    }
   ],
   "source": [
    "# Messdaten der bestimmten lokalen Maxima\n",
    "df_voltage_loc_max = df_amp_mod_with_carrier[voltage_change_sign_change]\n",
    "# nur Werte über 0 kommen überhaupt in betracht\n",
    "df_voltage_loc_max = df_voltage_loc_max[df_voltage_loc_max[\"Spannung/V\"]>0]\n"
   ]
  },
  {
   "cell_type": "code",
   "execution_count": 325,
   "metadata": {
    "collapsed": false
   },
   "outputs": [
    {
     "data": {
      "text/plain": [
       "array([[ -1.42825000e-05,   1.15665451e-01],\n",
       "       [ -4.22500000e-06,   1.15665451e-01],\n",
       "       [  7.85750000e-06,   1.15665451e-01],\n",
       "       [  1.84325000e-05,   1.14670476e-01]])"
      ]
     },
     "execution_count": 325,
     "metadata": {},
     "output_type": "execute_result"
    }
   ],
   "source": [
    "# Finden der Maxima\n",
    "values = [-20e-06,-10e-06,0,10e-06,20e-06]\n",
    "lim_lower, lim_upper = values[:-1], values[1:]\n",
    "voltage_max_ranged = []\n",
    "for low, up in zip(lim_lower, lim_upper):\n",
    "    arg_max = df_voltage_loc_max[(df_voltage_loc_max[\"Zeit/s\"]> low)&(df_voltage_loc_max[\"Zeit/s\"]<up)][\"Spannung/V\"].argmax()\n",
    "    voltage_max_ranged.append(df_voltage_loc_max.loc[arg_max].tolist())\n",
    "    \n",
    "voltage_max = np.array(voltage_max_ranged)\n",
    "voltage_max\n",
    "#df_voltage_loc_max[(df_voltage_loc_max[\"Zeit/s\"]> low)&(df_voltage_loc_max[\"Zeit/s\"]<up)]"
   ]
  },
  {
   "cell_type": "code",
   "execution_count": 337,
   "metadata": {
    "collapsed": false
   },
   "outputs": [
    {
     "data": {
      "text/plain": [
       "array([[ -1.98175000e-05,   8.38262554e-02],\n",
       "       [ -8.74750000e-06,   8.20021348e-02],\n",
       "       [  1.82750000e-06,   8.15046474e-02],\n",
       "       [  1.18850000e-05,   8.38262554e-02],\n",
       "       [  2.24600000e-05,   8.34945971e-02]])"
      ]
     },
     "execution_count": 337,
     "metadata": {},
     "output_type": "execute_result"
    }
   ],
   "source": [
    "# Finden der Minima\n",
    "values = [-25e-06,-15e-06,-5e-06,5e-06,15e-06,25e-06]\n",
    "lim_lower, lim_upper = values[:-1], values[1:]\n",
    "voltage_min_ranged = []\n",
    "\n",
    "for low, up in zip(lim_lower, lim_upper):\n",
    "    arg_min = df_voltage_loc_max[(df_voltage_loc_max[\"Zeit/s\"]> low)&(df_voltage_loc_max[\"Zeit/s\"]<up)][\"Spannung/V\"].argmin()\n",
    "    voltage_min_ranged.append(df_voltage_loc_max.loc[arg_min].tolist())\n",
    "    \n",
    "voltage_min = np.array(voltage_min_ranged)\n",
    "voltage_min"
   ]
  },
  {
   "cell_type": "code",
   "execution_count": 389,
   "metadata": {
    "collapsed": false
   },
   "outputs": [
    {
     "name": "stdout",
     "output_type": "stream",
     "text": [
      "U_min = 0.082930778024\n",
      "U_max = 0.115416707325\n",
      "m = 0.163782914837\n"
     ]
    }
   ],
   "source": [
    "#Mittelwerte und Modulationsgrad\n",
    "voltage_min_mean = voltage_min[:,1:].mean()\n",
    "voltage_max_mean = voltage_max[:,1:].mean()\n",
    "print(\"U_min =\",voltage_min_mean)\n",
    "print(\"U_max =\",voltage_max_mean)\n",
    "print(\"m =\", (voltage_max_mean - voltag_min_mean)/(voltag_min_mean + voltage_max_mean))\n"
   ]
  },
  {
   "cell_type": "code",
   "execution_count": 390,
   "metadata": {
    "collapsed": false
   },
   "outputs": [
    {
     "data": {
      "text/plain": [
       "<matplotlib.legend.Legend at 0x7f933f05d198>"
      ]
     },
     "execution_count": 390,
     "metadata": {},
     "output_type": "execute_result"
    },
    {
     "data": {
      "image/png": "[encoded data removed]",
      "text/plain": [
       "<matplotlib.figure.Figure at 0x7f933f0fbc18>"
      ]
     },
     "metadata": {},
     "output_type": "display_data"
    }
   ],
   "source": [
    "fig, ax = plt.subplots()\n",
    "\n",
    "t = np.linspace(-2.5e-05,2.5e-05,100)\n",
    "ax.set_xlim(-2.5e-05,2.5e-05)\n",
    "ax.set_ylim(0.05,0.15)\n",
    "axis_scale(1e06,axis=\"x\") # seconds -> microseconds \n",
    "ax.set_xlabel(axis_label(\"Zeit\",sym=\"t\",unit=\"\\mu s\"),axis_font)\n",
    "ax.set_ylabel(axis_label(\"Spannung\",sym=\"U\",unit=\"V\"),axis_font)\n",
    "ax.plot(df_voltage_loc_max[\"Zeit/s\"],df_voltage_loc_max[\"Spannung/V\"],marker=\"o\",linestyle=\"\",\n",
    "        label=\"Amplitunden der\\n modulierten Spannung\")\n",
    "line_max = ax.plot(voltage_max[:,:1],voltage_max[:,1:],marker=\"o\",markersize=8,linestyle=\"\",label=\"Lokale Maxima\")\n",
    "line_min = ax.plot(voltage_min[:,:1],voltage_min[:,1:],marker=\"o\",markersize=8,linestyle=\"\",label=\"Lokale Minima\")\n",
    "\n",
    "ax.plot(t, [voltage_max_mean]*len(t),color=line_max[0].get_color())\n",
    "ax.plot(t, [voltage_min_mean]*len(t),color=line_min[0].get_color())\n",
    "\n",
    "\n",
    "ax.legend(loc=\"upper right\")\n",
    "#ax.plot(max_1[0],max_1[1],marker=\"o\")\n"
   ]
  },
  {
   "cell_type": "code",
   "execution_count": null,
   "metadata": {
    "collapsed": false
   },
   "outputs": [],
   "source": []
  },
  {
   "cell_type": "code",
   "execution_count": null,
   "metadata": {
    "collapsed": true
   },
   "outputs": [],
   "source": []
  },
  {
   "cell_type": "code",
   "execution_count": null,
   "metadata": {
    "collapsed": true
   },
   "outputs": [],
   "source": []
  },
  {
   "cell_type": "code",
   "execution_count": null,
   "metadata": {
    "collapsed": true
   },
   "outputs": [],
   "source": []
  }
 ],
 "metadata": {
  "kernelspec": {
   "display_name": "Python 3",
   "language": "python",
   "name": "python3"
  },
  "language_info": {
   "codemirror_mode": {
    "name": "ipython",
    "version": 3
   },
   "file_extension": ".py",
   "mimetype": "text/x-python",
   "name": "python",
   "nbconvert_exporter": "python",
   "pygments_lexer": "ipython3",
   "version": "3.5.0"
  }
 },
 "nbformat": 4,
 "nbformat_minor": 0
}
