{
 "cells": [
  {
   "cell_type": "code",
   "execution_count": 1,
   "metadata": {
    "collapsed": false
   },
   "outputs": [
    {
     "name": "stderr",
     "output_type": "stream",
     "text": [
      "/home/luckyjosh/anaconda3/lib/python3.5/site-packages/matplotlib/__init__.py:872: UserWarning: axes.color_cycle is deprecated and replaced with axes.prop_cycle; please use the latter.\n",
      "  warnings.warn(self.msg_depr % (key, alt_key))\n"
     ]
    },
    {
     "ename": "ImportError",
     "evalue": "No module named 'ROOT'",
     "output_type": "error",
     "traceback": [
      "\u001b[1;31m---------------------------------------------------------------------------\u001b[0m",
      "\u001b[1;31mImportError\u001b[0m                               Traceback (most recent call last)",
      "\u001b[1;32m<ipython-input-1-70244a5f4262>\u001b[0m in \u001b[0;36m<module>\u001b[1;34m()\u001b[0m\n\u001b[0;32m     32\u001b[0m \u001b[1;32mimport\u001b[0m \u001b[0mpandas\u001b[0m \u001b[1;32mas\u001b[0m \u001b[0mpd\u001b[0m\u001b[1;33m\u001b[0m\u001b[0m\n\u001b[0;32m     33\u001b[0m \u001b[1;33m\u001b[0m\u001b[0m\n\u001b[1;32m---> 34\u001b[1;33m \u001b[1;32mimport\u001b[0m \u001b[0mROOT\u001b[0m \u001b[1;32mas\u001b[0m \u001b[0mrt\u001b[0m\u001b[1;33m\u001b[0m\u001b[0m\n\u001b[0m\u001b[0;32m     35\u001b[0m \u001b[1;33m\u001b[0m\u001b[0m\n\u001b[0;32m     36\u001b[0m \u001b[1;32mimport\u001b[0m \u001b[0mroot_numpy\u001b[0m \u001b[1;32mas\u001b[0m \u001b[0mrnp\u001b[0m\u001b[1;33m\u001b[0m\u001b[0m\n",
      "\u001b[1;31mImportError\u001b[0m: No module named 'ROOT'"
     ]
    }
   ],
   "source": [
    "#-*- coding:utf8-*-\n",
    "%matplotlib inline\n",
    "\n",
    "from __future__ import absolute_import, division, print_function, unicode_literals\n",
    "\n",
    "from IPython.display import Image\n",
    "\n",
    "import numpy as np\n",
    "\n",
    "import uncertainties as unc\n",
    "from uncertainties import unumpy as unp\n",
    "from uncertainties.unumpy import std_devs as stds #TODO\n",
    "from uncertainties.unumpy import nominal_values as noms #TODO\n",
    "umean = unc.wrap(np.mean)\n",
    "\n",
    "import matplotlib as mpl\n",
    "import matplotlib.pyplot as plt\n",
    "import matplotlib.patches as mpatches\n",
    "from matplotlib.lines import Line2D \n",
    "\n",
    "import seaborn as sns\n",
    "\n",
    "sns.set(context=\"paper\",font_scale=1.6,style=\"darkgrid\")\n",
    "\n",
    "\n",
    "import scipy as sp\n",
    "import scipy.constants as const\n",
    "\n",
    "import sympy as sym\n",
    "sym.init_printing()\n",
    "\n",
    "import pandas as pd\n",
    "\n",
    "import ROOT as rt\n",
    "\n",
    "import root_numpy as rnp\n",
    "\n",
    "import re\n",
    "\n",
    "from aputils.latextables.tables import Table\n",
    "\n",
    "\n",
    "# Fehlerfortpflanzung beim Mitteln\n",
    "umean = unc.wrap(np.mean)\n",
    "\n",
    "#Laden des Latex fonts \n",
    "plt.rcParams['text.latex.preamble']=[\"\\\\usepackage{lmodern}\"]\n",
    "#Options\n",
    "params = {'text.usetex' : True,\n",
    "          'font.size' : 11,\n",
    "          'font.family' : 'lmodern',\n",
    "          'text.latex.unicode': True,\n",
    "          }\n",
    "plt.rcParams.update(params) \n",
    "\n",
    "#Größe der Achsenbeschriftung\n",
    "axis_font = {'size':'14'}\n",
    "\n",
    "# Pfade\n",
    "path_graphics = \"../Grafiken/\"\n",
    "path_table = \"../Tabellen/\"\n",
    "path_data = \"../Messdaten/\""
   ]
  },
  {
   "cell_type": "code",
   "execution_count": null,
   "metadata": {
    "collapsed": true
   },
   "outputs": [],
   "source": [
    "# Funktionen\n",
    "# Achsenbeschriftungen\n",
    "def axis_label(label,sym=None,unit=None):\n",
    "    if sym == None:\n",
    "        return lable\n",
    "    elif unit == None:\n",
    "        return r\"\".join([label,\" ${s}$\".format(s=sym)])\n",
    "    else:\n",
    "        return r\"\".join([label,\" ${s}/\\mathrm{{{u}}}$\".format(s=sym,u=unit)])\n",
    "    \n",
    "# Fit Funktionen\n",
    "def fit_errors(popt,pcov):\n",
    "    errors = np.sqrt(np.diag(pcov))\n",
    "    param_err = unp.uarray(popt,errors)\n",
    "    return param_err\n",
    "    \n",
    "def print_errors(array,description=None):\n",
    "    if description and len(description)==len(array):\n",
    "        maxlen = max(map(len,description))\n",
    "        lens = map(len,description)\n",
    "        for i,entry in enumerate(array):\n",
    "            print(description[i],\" \"*(maxlen-lens[i]),entry.nominal_value,\"+/-\",entry.std_dev)\n",
    "    else:\n",
    "        for i,entry in enumerate(array):\n",
    "            print(entry.nominal_value,\"+/-\",entry.std_dev)\n"
   ]
  },
  {
   "cell_type": "markdown",
   "metadata": {},
   "source": [
    "#Vorbereitungsaufgaben"
   ]
  },
  {
   "cell_type": "markdown",
   "metadata": {},
   "source": [
    "##Aufgabe 5"
   ]
  },
  {
   "cell_type": "code",
   "execution_count": null,
   "metadata": {
    "collapsed": false
   },
   "outputs": [],
   "source": [
    "#W2 = sym.sqrt(2)\n",
    "#A_np = np.matrix([[1,1,1,0,0,0,0,0,0],[0,0,0,1,1,1,0,0,0],[0,0,0,0,0,0,1,1,1],\n",
    "#               [0,0,W2,0,0,0,0,0,0],[0,W2,0,0,0,W2,0,0,0],[W2,0,0,0,W2,0,0,0,W2],\n",
    "#               [0,0,0,W2,0,0,0,W2,0],[0,0,0,0,0,0,W2,0,0],[0,0,W2,0,0,W2,0,0,W2],\n",
    "#               [0,W2,0,0,W2,0,0,W2,0],[W2,0,0,W2,0,0,W2,0,0]])\n",
    "#A = sym.Matrix(A_np)\n",
    "#B = (A.transpose()*A)\n",
    "#B.inv()\n",
    "# B ist singulär"
   ]
  },
  {
   "cell_type": "code",
   "execution_count": null,
   "metadata": {
    "collapsed": false
   },
   "outputs": [],
   "source": [
    "W2 = sym.sqrt(2)\n",
    "A_np = np.matrix([[0,0,0,0,0,W2,0,W2,0],[0,0,W2,0,W2,0,W2,0,0],[0,W2,0,W2,0,0,0,0,0],\n",
    "                [0,0,0,0,0,0,1,1,1],[0,0,0,1,1,1,0,0,0],[1,1,1,0,0,0,0,0,0],\n",
    "               [0,0,0,W2,0,0,0,W2,0],[W2,0,0,0,W2,0,0,0,W2],[0,W2,0,0,0,W2,0,0,0],\n",
    "               [W2,0,0,W2,0,0,W2,0,0],[0,W2,0,0,W2,0,0,W2,0],[0,0,W2,0,0,W2,0,0,W2]])\n",
    "#B_np = (A_np.T * A).inv()\n",
    "\n",
    "\n",
    "A = sym.Matrix(A_np)\n",
    "C = (A.transpose()*A).inv()\n",
    "A\n"
   ]
  },
  {
   "cell_type": "markdown",
   "metadata": {},
   "source": [
    "##Suche nach Integrationsintervall"
   ]
  },
  {
   "cell_type": "code",
   "execution_count": null,
   "metadata": {
    "collapsed": false
   },
   "outputs": [],
   "source": [
    "values = [4503,2978,6396,5013,4969,5458,6046,3073,4990,4920,4918,5422]\n",
    "values = [2994,1296,5373,3239,2978,3603,3220,1323,4363,3224,3099,4188]\n",
    "\n",
    "filepath = \"/home/josh/Dokumente/Studium/FP_Physik/FP_Repo/01_TomographieGamma[ ]/Messdaten/20151102_Joshua_Leonard/Block2/Messung_{}.dat\"\n",
    "global_limits = set([])\n",
    "for k,n in enumerate(values,start=1):\n",
    "    global global_limits\n",
    "    print(\"Messung {}\".format(k))\n",
    "    File = filepath.format(k)\n",
    "    x,y = np.loadtxt(File,unpack=True)\n",
    "    print(y[250:310].sum(),\"\\t\",n)\n",
    "    limits = set([])\n",
    "    for i in range(200,300):\n",
    "        for j in range(250,350):\n",
    "            if sum(y[i:j]) == n:\n",
    "                limits.add((i,j))\n",
    "    if k == 1:\n",
    "        global_limits = limits\n",
    "    else:\n",
    "        global_limits = global_limits.intersection(limits)\n",
    "                #print(i,j)\n",
    "\n",
    "print(global_limits)"
   ]
  },
  {
   "cell_type": "markdown",
   "metadata": {
    "collapsed": true
   },
   "source": [
    "#Auswertung"
   ]
  },
  {
   "cell_type": "markdown",
   "metadata": {},
   "source": [
    "##Laden der Daten"
   ]
  },
  {
   "cell_type": "code",
   "execution_count": null,
   "metadata": {
    "collapsed": false
   },
   "outputs": [],
   "source": [
    "# Speicherort der Messdaten \n",
    "folder = path_data+\"20151102_Joshua_Leonard/\"\n",
    "\n",
    "# Ordner der Messreihen\n",
    "cube = [\"Luft/\",\"Block1/\",\"Block2/\",\"Block3/\"]\n",
    "\n",
    "# Intergrationsgrenzen\n",
    "lower_limit, upper_limit = 250, 310\n",
    "\n",
    "# Kanalnummern\n",
    "channels = np.arange(0,1024)\n",
    "\n",
    "#Kanal Maske\n",
    "in_intervall = np.zeros_like(channels)\n",
    "in_intervall[lower_limit:upper_limit] = np.ones(60) \n",
    "out_intervall = np.logical_not(in_intervall)\n",
    "in_intervall = np.logical_not(out_intervall)\n",
    "\n",
    "# Laden der Daten einer Messreihe\n",
    "def load_data(num_cube=0):\n",
    "    data = []\n",
    "    real_times = []\n",
    "    live_times = []\n",
    "    for i in range(1,13):\n",
    "        File = \"Messung_{}.dat\".format(i) \n",
    "        with open(folder+cube[num_cube]+File) as dat:\n",
    "            line = dat.readline()\n",
    "            while line:\n",
    "                if \"Real Time\" in line: \n",
    "                    m = re.search(\"\\d{3}.\\d{3}\",line)\n",
    "                    real_times.append(float(m.group(0)))\n",
    "                if \"Live Time\" in line:\n",
    "                    m = re.search(\"\\d{3}.\\d{3}\",line)\n",
    "                    live_times.append(float(m.group(0)))\n",
    "                    break\n",
    "                line = dat.readline()\n",
    "        data.append(np.loadtxt(folder+cube[num_cube]+File,unpack=True)[1])\n",
    "    data,real_times, live_times = np.array(data),np.array(real_times),np.array(live_times)\n",
    "    return data,real_times,live_times\n",
    "\n",
    "materials = [\"Aluminium\",\"Blei\",\"Delrin\",\"Eisen\",\"Messing\"]\n",
    "densities = np.loadtxt(path_data+\"Dichten.txt\",unpack=True)\n",
    "\n",
    "attenuation_coeff_Al_scaled = np.loadtxt(path_data+\"Absorbtion_Aluminium.txt\",unpack=True)[-1,0]\n",
    "attenuation_coeff_Al = attenuation_coeff_Al_scaled*densities[0]\n",
    "\n",
    "attenuation_coeff_Pb_scaled = np.loadtxt(path_data+\"Absorbtion_Blei.txt\",unpack=True)[-1,0]\n",
    "attenuation_coeff_Pb = attenuation_coeff_Pb_scaled*densities[1]\n",
    "\n",
    "attenuation_coeff_Delrin_scaled = np.loadtxt(path_data+\"Absorbtion_Delrin.txt\",unpack=True)[-1,0]\n",
    "attenuation_coeff_Delrin = attenuation_coeff_Delrin_scaled*densities[2]\n",
    "\n",
    "attenuation_coeff_Fe_scaled= np.loadtxt(path_data+\"Absorbtion_Eisen.txt\",unpack=True)[-1,0]\n",
    "attenuation_coeff_Fe = attenuation_coeff_Fe_scaled*densities[3]\n",
    "\n",
    "attenuation_coeff_Brass_scaled = np.loadtxt(path_data+\"Absorbtion_Messing.txt\",unpack=True)[-1,0]\n",
    "attenuation_coeff_Brass = attenuation_coeff_Brass_scaled*densities[4]\n",
    "attenuation_coeffs = np.array([attenuation_coeff_Al,attenuation_coeff_Pb,\n",
    "                   attenuation_coeff_Delrin,attenuation_coeff_Fe,\n",
    "                  attenuation_coeff_Brass])\n",
    "attenuation_coeffs_scaled = [attenuation_coeff_Al_scaled,attenuation_coeff_Pb_scaled,\n",
    "                   attenuation_coeff_Delrin_scaled,attenuation_coeff_Fe_scaled,\n",
    "                  attenuation_coeff_Brass_scaled]"
   ]
  },
  {
   "cell_type": "code",
   "execution_count": null,
   "metadata": {
    "collapsed": false
   },
   "outputs": [],
   "source": [
    "attenuation_coeff_Fe_scaled"
   ]
  },
  {
   "cell_type": "code",
   "execution_count": null,
   "metadata": {
    "collapsed": false
   },
   "outputs": [],
   "source": [
    "for mat,att_coeff in zip([\"Aluminium\",\"Blei\",\"Delrin\",\"Eisen\",\"Messing\"],[attenuation_coeff_Al,attenuation_coeff_Pb,attenuation_coeff_Delrin,attenuation_coeff_Fe,attenuation_coeff_Brass]):\n",
    "    print(\"Absorbtionskoeffizient von \",end=\"\")\n",
    "    print(mat+\":\",att_coeff)"
   ]
  },
  {
   "cell_type": "code",
   "execution_count": null,
   "metadata": {
    "collapsed": false
   },
   "outputs": [],
   "source": [
    "# Laden der Messdaten und jeweilige Livetime für alle Projektionen und jeden Würfel\n",
    "cube_0,real_time_0,live_time_0 = load_data(num_cube=0)\n",
    "cube_1,real_time_1,live_time_1 = load_data(num_cube=1)\n",
    "cube_2,real_time_2,live_time_2 = load_data(num_cube=2)\n",
    "cube_3,real_time_3,live_time_3 = load_data(num_cube=3)\n",
    "\n",
    "# Wurde 12 mal gemessen verlangt ist jedoch nur ein Wert, daher Mittelung\n",
    "#cube_0 = cube_0.mean(axis=0)\n",
    "live_time_0_arr = live_time_0\n",
    "real_time_0 = real_time_0.mean()\n",
    "live_time_0 = live_time_0.mean()\n",
    "\n"
   ]
  },
  {
   "cell_type": "code",
   "execution_count": null,
   "metadata": {
    "collapsed": false
   },
   "outputs": [],
   "source": [
    "# Plot eines Spektrums aus der 5.Messung von Cube 1\n",
    "#plt.xlim(0,1023)\n",
    "#plt.xlabel(\"Kanalnummer\")\n",
    "#plt.ylabel(\"Anzahl der Hits\")\n",
    "#plt.plot(channels,cube_1[4],label=u\"Spektrum Würfel 1\\n Projektion $I_{5}$ \")\n",
    "#plt.legend(loc=\"upper right\")\n",
    "#plt.savefig(path_graphics+\"Spektrum_Block_1_Messung_5_0_1023.pdf\")"
   ]
  },
  {
   "cell_type": "code",
   "execution_count": null,
   "metadata": {
    "collapsed": false
   },
   "outputs": [],
   "source": [
    "# Plot eines Spektrums aus der 5.Messung von Cube 1\n",
    "#plt.xlim(0,350)\n",
    "#plt.xlabel(\"Kanalnummer\")\n",
    "#plt.ylabel(\"Anzahl der Hits\")\n",
    "#plt.plot(channels,cube_1[4],label=u\"Spektrum Würfel 1\\n Projektion $I_{5}$ \")#\n",
    "#plt.legend(loc=\"upper left\")\n",
    "#plt.savefig(path_graphics+\"Spektrum_Block_1_Messung_5_0_350.pdf\")"
   ]
  },
  {
   "cell_type": "code",
   "execution_count": null,
   "metadata": {
    "collapsed": false
   },
   "outputs": [],
   "source": [
    "# Plot eines Spektrums aus der 5.Messung von Cube 1\n",
    "plt.xlim(0,350)\n",
    "plt.xlabel(\"Kanalnummer\")\n",
    "plt.ylabel(\"Anzahl der Hits\")\n",
    "plt.bar(channels,cube_1[4],width=1,align=\"center\",edgecolor=\"\",label=u\"Spektrum Würfel 1\\n Projektion 5\")\n",
    "plt.legend(loc=\"upper left\")\n",
    "plt.savefig(path_graphics+\"Spektrum_Block_1_Messung_5_0_350_histogram.pdf\")"
   ]
  },
  {
   "cell_type": "code",
   "execution_count": null,
   "metadata": {
    "collapsed": false
   },
   "outputs": [],
   "source": [
    "# Plot eines Spektrums aus der 5.Messung von Cube 1\n",
    "plt.xlim(0,350)\n",
    "plt.ylim(0,250)\n",
    "plt.xlabel(\"Kanalnummer\")\n",
    "plt.ylabel(\"Anzahl der Hits\")\n",
    "plt.bar(channels[out_intervall],cube_1[4,out_intervall],width=1,align=\"center\",edgecolor=\"\",label=u\"Spektrum Würfel 1\\n Projektion 5\")\n",
    "plt.bar(channels[in_intervall],cube_1[4,in_intervall],width=1,align=\"center\",edgecolor=\"\",\n",
    "        color=sns.palettes.color_palette()[1],label=u\"Integrierte Hits\\n Gesamtenergie-Peak\")\n",
    "plt.legend(loc=\"upper left\")\n",
    "plt.savefig(path_graphics+\"Spektrum_Block_1_Messung_5_0_350_histogram_intervall.pdf\")"
   ]
  },
  {
   "cell_type": "code",
   "execution_count": null,
   "metadata": {
    "collapsed": false
   },
   "outputs": [],
   "source": [
    "cube_1[4,in_intervall].sum()"
   ]
  },
  {
   "cell_type": "code",
   "execution_count": null,
   "metadata": {
    "collapsed": false
   },
   "outputs": [],
   "source": [
    "live_time_0\n",
    "cube_0"
   ]
  },
  {
   "cell_type": "code",
   "execution_count": null,
   "metadata": {
    "collapsed": false
   },
   "outputs": [],
   "source": [
    "# Integrierte Hits im Intervall [250,310] \n",
    "# Cube 0 wurde 12 mal gemessen verlangt ist jedoch nur ein Wert, daher Mittelung\n",
    "integrated_counts_0_arr = cube_0[:,lower_limit:upper_limit].sum(axis=1)\n",
    "integrated_counts_1 = cube_1[:,lower_limit:upper_limit].sum(axis=1)\n",
    "integrated_counts_2 = cube_2[:,lower_limit:upper_limit].sum(axis=1)\n",
    "integrated_counts_3 = cube_3[:,lower_limit:upper_limit].sum(axis=1)\n",
    "integrated_counts_0 = integrated_counts_0_arr.mean()\n"
   ]
  },
  {
   "cell_type": "code",
   "execution_count": null,
   "metadata": {
    "collapsed": false
   },
   "outputs": [],
   "source": [
    "integrated_counts_0"
   ]
  },
  {
   "cell_type": "code",
   "execution_count": null,
   "metadata": {
    "collapsed": true
   },
   "outputs": [],
   "source": [
    "# Fehlerbehaftete Integrierte Hits im Intervall [250,310]\n",
    "integrated_counts_0_arr_err = unp.uarray(integrated_counts_0_arr,np.sqrt(integrated_counts_0_arr)) \n",
    "integrated_counts_0_err = unp.uarray(integrated_counts_0,np.sqrt(integrated_counts_0)) \n",
    "integrated_counts_1_err = unp.uarray(integrated_counts_1,np.sqrt(integrated_counts_1)) \n",
    "integrated_counts_2_err = unp.uarray(integrated_counts_2,np.sqrt(integrated_counts_2))\n",
    "integrated_counts_3_err = unp.uarray(integrated_counts_3,np.sqrt(integrated_counts_3)) \n"
   ]
  },
  {
   "cell_type": "code",
   "execution_count": null,
   "metadata": {
    "collapsed": false
   },
   "outputs": [],
   "source": [
    "integrated_counts_0_err"
   ]
  },
  {
   "cell_type": "code",
   "execution_count": null,
   "metadata": {
    "collapsed": false
   },
   "outputs": [],
   "source": [
    "# Renormierung der integrierten Hits\n",
    "integrated_counts_0_norm_1 = integrated_counts_0*(live_time_1/live_time_0)\n",
    "integrated_counts_1_norm = integrated_counts_1\n",
    "\n",
    "integrated_counts_0_norm_2 = integrated_counts_0*(live_time_2/live_time_0)\n",
    "integrated_counts_2_norm = integrated_counts_2\n",
    "\n",
    "integrated_counts_0_norm_3 = integrated_counts_0*(live_time_3/live_time_0)\n",
    "integrated_counts_3_norm = integrated_counts_3\n",
    "\n"
   ]
  },
  {
   "cell_type": "code",
   "execution_count": null,
   "metadata": {
    "collapsed": false
   },
   "outputs": [],
   "source": [
    "integrated_counts_0_norm_3\n",
    "live_time_0"
   ]
  },
  {
   "cell_type": "code",
   "execution_count": null,
   "metadata": {
    "collapsed": true
   },
   "outputs": [],
   "source": [
    "# Renormierung der fehlerbehafteten integrierten Hits\n",
    "integrated_counts_0_norm_1_err = integrated_counts_0_err*(live_time_1/live_time_0)\n",
    "integrated_counts_1_norm_err = integrated_counts_1_err\n",
    "\n",
    "integrated_counts_0_norm_2_err = integrated_counts_0_err*(live_time_2/live_time_0)\n",
    "integrated_counts_2_norm_err = integrated_counts_2_err\n",
    "\n",
    "integrated_counts_0_norm_3_err = integrated_counts_0_err*(live_time_3/live_time_0)\n",
    "integrated_counts_3_norm_err = integrated_counts_3_err\n"
   ]
  },
  {
   "cell_type": "code",
   "execution_count": null,
   "metadata": {
    "collapsed": false
   },
   "outputs": [],
   "source": [
    "integrated_counts_1_norm_err"
   ]
  },
  {
   "cell_type": "code",
   "execution_count": null,
   "metadata": {
    "collapsed": false
   },
   "outputs": [],
   "source": []
  },
  {
   "cell_type": "code",
   "execution_count": null,
   "metadata": {
    "collapsed": false
   },
   "outputs": [],
   "source": [
    "# Logarithmierte Verhältnisse\n",
    "log_ratios_1 = np.log(integrated_counts_0_norm_1/integrated_counts_1_norm)\n",
    "log_ratios_2 = np.log(integrated_counts_0_norm_2/integrated_counts_2_norm)\n",
    "log_ratios_3 = np.log(integrated_counts_0_norm_3/integrated_counts_3_norm)"
   ]
  },
  {
   "cell_type": "code",
   "execution_count": null,
   "metadata": {
    "collapsed": false
   },
   "outputs": [],
   "source": [
    "# Fehlerbehaftete Logarithmierte Verhältnisse\n",
    "log_ratios_1_err = unp.log(integrated_counts_0_norm_1_err/integrated_counts_1_norm_err)\n",
    "log_ratios_2_err = unp.log(integrated_counts_0_norm_2_err/integrated_counts_2_norm_err)\n",
    "log_ratios_3_err = unp.log(integrated_counts_0_norm_3_err/integrated_counts_3_norm_err)"
   ]
  },
  {
   "cell_type": "code",
   "execution_count": null,
   "metadata": {
    "collapsed": false
   },
   "outputs": [],
   "source": [
    "log_ratios_1_err"
   ]
  },
  {
   "cell_type": "code",
   "execution_count": null,
   "metadata": {
    "collapsed": false
   },
   "outputs": [],
   "source": [
    "np.diag(sym.Matrix(np.diag(1/(stds(log_ratios_1_err)))**2))"
   ]
  },
  {
   "cell_type": "code",
   "execution_count": null,
   "metadata": {
    "collapsed": false
   },
   "outputs": [],
   "source": [
    "type(log_ratios_1[0])"
   ]
  },
  {
   "cell_type": "code",
   "execution_count": null,
   "metadata": {
    "collapsed": false
   },
   "outputs": [],
   "source": [
    "# Berechnung der Absorbtionskoeffizienten\n",
    "def attenuation_coefficients(log_ratios):\n",
    "    W2 = sym.sqrt(2)\n",
    "    A_np = np.matrix([[0,0,0,0,0,W2,0,W2,0],[0,0,W2,0,W2,0,W2,0,0],[0,W2,0,W2,0,0,0,0,0],\n",
    "                [0,0,0,0,0,0,1,1,1],[0,0,0,1,1,1,0,0,0],[1,1,1,0,0,0,0,0,0],\n",
    "               [0,0,0,W2,0,0,0,W2,0],[W2,0,0,0,W2,0,0,0,W2],[0,W2,0,0,0,W2,0,0,0],\n",
    "               [W2,0,0,W2,0,0,W2,0,0],[0,W2,0,0,W2,0,0,W2,0],[0,0,W2,0,0,W2,0,0,W2]])\n",
    "    A = sym.Matrix(A_np)\n",
    "    \n",
    "    if not type(log_ratios[0]) == np.float64:\n",
    "        log_ratios_stds = stds(log_ratios)\n",
    "        log_ratios = noms(log_ratios)\n",
    "        attenuation_coeff_std = []\n",
    "        attenuation_coeff = []\n",
    "        W = sym.Matrix(np.diag(1/(log_ratios_stds)**2))\n",
    "        C = (A.transpose()*W*A).inv()\n",
    "        coeffs = C*A.transpose()*W*log_ratios\n",
    "        for std in np.diag(C):\n",
    "            attenuation_coeff_std.append(np.sqrt(float(std)))\n",
    "        for coeff in coeffs:\n",
    "            attenuation_coeff.append(float(coeff))\n",
    "        return unp.uarray(attenuation_coeff,attenuation_coeff_std),C\n",
    "    else:\n",
    "        C = (A.transpose()*A).inv()\n",
    "        coeffs = C*A.transpose()*log_ratios\n",
    "        \n",
    "        attenuation_coeff = []\n",
    "        for coeff in coeffs:\n",
    "            attenuation_coeff.append(float(coeff))\n",
    "        return np.array(attenuation_coeff)    \n",
    "\n",
    "\n"
   ]
  },
  {
   "cell_type": "code",
   "execution_count": null,
   "metadata": {
    "collapsed": false
   },
   "outputs": [],
   "source": [
    "attenuation_coeff_1_err,C_1 = attenuation_coefficients(log_ratios_1_err)\n",
    "attenuation_coeff_2_err,C_2 = attenuation_coefficients(log_ratios_2_err)\n",
    "attenuation_coeff_3_err,C_3 = attenuation_coefficients(log_ratios_3_err)\n",
    "                                                   "
   ]
  },
  {
   "cell_type": "code",
   "execution_count": null,
   "metadata": {
    "collapsed": true
   },
   "outputs": [],
   "source": [
    "def relative_error(measurement,theory):\n",
    "    rel_err = abs(theory - measurement)/theory\n",
    "    return rel_err"
   ]
  },
  {
   "cell_type": "code",
   "execution_count": null,
   "metadata": {
    "collapsed": false
   },
   "outputs": [],
   "source": [
    "for m,a in zip(materials,attenuation_coeffs):\n",
    "    print(m+\":\",a)"
   ]
  },
  {
   "cell_type": "code",
   "execution_count": null,
   "metadata": {
    "collapsed": false
   },
   "outputs": [],
   "source": [
    "attenuation_coeff_1_mean_err =  umean(attenuation_coeff_1_err)\n",
    "attenuation_coeff_1_mean_err"
   ]
  },
  {
   "cell_type": "code",
   "execution_count": null,
   "metadata": {
    "collapsed": false
   },
   "outputs": [],
   "source": [
    "relative_error(noms(attenuation_coeff_1_mean_err),attenuation_coeffs)"
   ]
  },
  {
   "cell_type": "code",
   "execution_count": null,
   "metadata": {
    "collapsed": false
   },
   "outputs": [],
   "source": [
    "attenuation_coeff_2_mean_err = umean(attenuation_coeff_2_err)\n",
    "attenuation_coeff_2_mean_err "
   ]
  },
  {
   "cell_type": "code",
   "execution_count": null,
   "metadata": {
    "collapsed": false
   },
   "outputs": [],
   "source": [
    "relative_error(noms(attenuation_coeff_2_mean_err),attenuation_coeffs)"
   ]
  },
  {
   "cell_type": "code",
   "execution_count": null,
   "metadata": {
    "collapsed": false
   },
   "outputs": [],
   "source": [
    "attenuation_coeff_3_err"
   ]
  },
  {
   "cell_type": "code",
   "execution_count": null,
   "metadata": {
    "collapsed": false
   },
   "outputs": [],
   "source": [
    "for coeff in attenuation_coeff_3_err:\n",
    "    print(relative_error(noms(coeff),attenuation_coeffs))"
   ]
  },
  {
   "cell_type": "markdown",
   "metadata": {},
   "source": [
    "###Relative Abweichung zu den Werten von Würfel 1 und Würfel 2"
   ]
  },
  {
   "cell_type": "code",
   "execution_count": null,
   "metadata": {
    "collapsed": true
   },
   "outputs": [],
   "source": [
    "mat = [\"Messing\", \"Blei\"]\n",
    "att_coeffs=[noms(attenuation_coeff_1_mean_err),noms(attenuation_coeff_2_mean_err)]"
   ]
  },
  {
   "cell_type": "code",
   "execution_count": null,
   "metadata": {
    "collapsed": false
   },
   "outputs": [],
   "source": []
  },
  {
   "cell_type": "code",
   "execution_count": null,
   "metadata": {
    "collapsed": false
   },
   "outputs": [],
   "source": [
    "for coeff in attenuation_coeff_3_err:\n",
    "    print(relative_error(noms(coeff),att_coeffs), end=\"\\t\")\n",
    "    print(np.diff(relative_error(noms(coeff),att_coeffs)), end=\"\\t\")\n",
    "    print(mat[np.argmin(relative_error(noms(coeff),att_coeffs))],end=\"\\t\")\n",
    "    print(np.min(relative_error(noms(coeff),att_coeffs)))\n",
    "    "
   ]
  },
  {
   "cell_type": "markdown",
   "metadata": {},
   "source": [
    "###Tabellen der Messwerte und Ergebnisse"
   ]
  },
  {
   "cell_type": "code",
   "execution_count": null,
   "metadata": {
    "collapsed": false
   },
   "outputs": [],
   "source": [
    "tab_cube_0 = Table(booktabs=True,siunitx=True)\n",
    "tab_cube_0.caption(\"\"\"Integrierte Anzahl der Hits und Messzeit  für die \n",
    "                      verschiedenen Projektionen $P_{j}$ für die Untersuchung eines mit Luft \n",
    "                      gefüllten Aluminiumwürfels.\"\"\")\n",
    "tab_cube_0.label(\"Messung_I0\")\n",
    "tab_cube_0.addColumn(range(1,13)[:6],title=\"Projektion\",symbol=\"j\")\n",
    "tab_cube_0.addColumn(live_time_0_arr[:6], title=\"Messzeit\",symbol=\"t\",unit=\"\\second\")\n",
    "tab_cube_0.addColumn(integrated_counts_0_arr_err[:6], title=\"Int. Anzahl Hits\",symbol=\"I_j\")\n",
    "tab_cube_0.addColumn(range(1,13)[6:],title=\"Projektion\",symbol=\"j\")\n",
    "tab_cube_0.addColumn(live_time_0_arr[6:], title=\"Messzeit\",symbol=\"t\",unit=\"\\second\")\n",
    "tab_cube_0.addColumn(integrated_counts_0_arr_err[6:], title=\"Int. Anzahl Hits\",symbol=\"I_j\")\n",
    "Image(tab_cube_0.show(ipynb=True,quiet=False),width=600)\n",
    "#tab_cube_0.save(path_table+\"Messung_I0.tex\")"
   ]
  },
  {
   "cell_type": "code",
   "execution_count": null,
   "metadata": {
    "collapsed": false
   },
   "outputs": [],
   "source": [
    "tab_cube_1 = Table(booktabs=True,siunitx=True)\n",
    "tab_cube_1.caption(\"\"\"Integrieter Anzahl der Hits und Messzeit für die verschiedenen Projektionen $P_{j}$ für die\n",
    "Untersuchung von Würfel 1. \"\"\")\n",
    "tab_cube_1.label(\"Messung_I1\")\n",
    "tab_cube_1.addColumn(range(1,13)[:6],title=\"Projektion\",symbol=\"j\")\n",
    "tab_cube_1.addColumn(live_time_1[:6], title=\"Messzeit\",symbol=\"t\",unit=\"\\second\")\n",
    "tab_cube_1.addColumn(integrated_counts_1_err[:6], title=\"Int. Anzahl Hits\",symbol=\"I_j\")\n",
    "tab_cube_1.addColumn(range(1,13)[6:],title=\"Projektion\",symbol=\"j\")\n",
    "tab_cube_1.addColumn(live_time_1[6:], title=\"Messzeit\",symbol=\"t\",unit=\"\\second\")\n",
    "tab_cube_1.addColumn(integrated_counts_1_err[6:], title=\"Int. Anzahl Hits\",symbol=\"I_j\")\n",
    "Image(tab_cube_1.show(ipynb=True,quiet=False),width=600)\n",
    "#tab_cube_1.save(path_table+\"Messung_I1.tex\")"
   ]
  },
  {
   "cell_type": "code",
   "execution_count": null,
   "metadata": {
    "collapsed": false
   },
   "outputs": [],
   "source": [
    "tab_cube_2 = Table(booktabs=True,siunitx=True)\n",
    "tab_cube_2.caption(\"\"\"Integriete Anzahl der Hits und Messzeit für die verschiedenen Projektionen $P_{j}$ für die \n",
    "Untersuchung von Würfel 2. \"\"\")\n",
    "tab_cube_2.label(\"Messung_I2\")\n",
    "tab_cube_2.addColumn(range(1,13)[:6],title=\"Projektion\",symbol=\"j\")\n",
    "tab_cube_2.addColumn(live_time_2[:6], title=\"Messzeit\",symbol=\"t\",unit=\"\\second\")\n",
    "tab_cube_2.addColumn(integrated_counts_2_err[:6], title=\"Int. Anzahl Hits\",symbol=\"I_j\")\n",
    "tab_cube_2.addColumn(range(1,13)[6:],title=\"Projektion\",symbol=\"j\")\n",
    "tab_cube_2.addColumn(live_time_2[6:], title=\"Messzeit\",symbol=\"t\",unit=\"\\second\")\n",
    "tab_cube_2.addColumn(integrated_counts_2_err[6:], title=\"Int. Anzahl Hits\",symbol=\"I_j\")\n",
    "Image(tab_cube_2.show(ipynb=True,quiet=False),width=600)\n",
    "#tab_cube_2.save(path_table+\"Messung_I2.tex\")"
   ]
  },
  {
   "cell_type": "code",
   "execution_count": null,
   "metadata": {
    "collapsed": false
   },
   "outputs": [],
   "source": [
    "tab_cube_3 = Table(booktabs=True,siunitx=True)\n",
    "tab_cube_3.caption(\"\"\"Integriete Anzahl der Hits und Messzeit für die verschiedenen Projektionen $P_{j}$ für die\n",
    "Untersuchung von Würfel 3. \"\"\")\n",
    "tab_cube_3.label(\"Messung_I3\")\n",
    "tab_cube_3.addColumn(range(1,13)[:6],title=\"Projektion\",symbol=\"j\")\n",
    "tab_cube_3.addColumn(live_time_3[:6], title=\"Messzeit\",symbol=\"t\",unit=\"\\second\")\n",
    "tab_cube_3.addColumn(integrated_counts_3_err[:6], title=\"Int. Anzahl Hits\",symbol=\"I_j\")\n",
    "tab_cube_3.addColumn(range(1,13)[6:],title=\"Projektion\",symbol=\"j\")\n",
    "tab_cube_3.addColumn(live_time_3[6:], title=\"Messzeit\",symbol=\"t\",unit=\"\\second\")\n",
    "tab_cube_3.addColumn(integrated_counts_3_err[6:], title=\"Int. Anzahl Hits\",symbol=\"I_j\")\n",
    "Image(tab_cube_3.show(ipynb=True,quiet=False),width=600)\n",
    "#tab_cube_3.save(path_table+\"Messung_I3.tex\")"
   ]
  },
  {
   "cell_type": "code",
   "execution_count": null,
   "metadata": {
    "collapsed": false
   },
   "outputs": [],
   "source": [
    "tab_cube_0_norm = Table(booktabs=True,siunitx=True)\n",
    "tab_cube_0_norm.caption(\"\"\"Logarithmiertes Verhältnis der gemittelten Maximalintensität $I_0$ und den gemessenen  \n",
    "integrierten Anzahlen der Hits $I_j$ für die Messungen mit den drei Würfeln. Die Maximalintensität $I_0$ wurde dabei \n",
    "jeweils auf die Messzeiten der jeweiligen Messung normiert.\"\"\")\n",
    "tab_cube_0_norm.label(\"Messung_Verhaeltnis\")\n",
    "tab_cube_0_norm.addColumn(range(1,13),title=\"Projektion\",symbol=\"j\")\n",
    "tab_cube_0_norm.addColumn(log_ratios_1_err, title=\"log. Verhältnis Würfel 1\",symbol=\"N_{1,j}\")\n",
    "tab_cube_0_norm.addColumn(log_ratios_2_err, title=\"log. Verhältnis Würfel 2\",symbol=\"N_{2,j}\")\n",
    "tab_cube_0_norm.addColumn(log_ratios_3_err, title=\"log. Verhältnis Würfel 3\",symbol=\"N_{3,j}\")\n",
    "Image(tab_cube_0_norm.show(ipynb=True,quiet=False),width=600)\n",
    "#tab_cube_0_norm.save(path_table+\"Messung_Verhaeltnis.tex\")"
   ]
  },
  {
   "cell_type": "code",
   "execution_count": null,
   "metadata": {
    "collapsed": false
   },
   "outputs": [],
   "source": [
    "tab_cube_coeffs = Table(booktabs=True,siunitx=True)\n",
    "tab_cube_coeffs.caption(\"\"\"Unter Verwendug der Methode der kleinsten Quadrate bestimmte Absorbtionskoeffizeinten \n",
    "und deren Fehler der jeweils neun Elementarwürfel in den vermessenen drei Würfeln.\"\"\")\n",
    "tab_cube_coeffs.label(\"Absorbtionskoeffizienten\")\n",
    "tab_cube_coeffs.addColumn(range(1,10),title=\"Elementarwürfel\",symbol=\"i\")\n",
    "tab_cube_coeffs.addColumn(attenuation_coeff_1_err, title=\"Abs. Koeffizient Würfel 1\",symbol=\"\\mu_{1,i}\")\n",
    "tab_cube_coeffs.addColumn(attenuation_coeff_2_err, title=\"Abs. Koeffizient Würfel 2\",symbol=\"\\mu_{2,i}\")\n",
    "tab_cube_coeffs.addColumn(attenuation_coeff_3_err, title=\"Abs. Koeffizient Würfel 3\",symbol=\"\\mu_{3,i}\")\n",
    "Image(tab_cube_coeffs.show(ipynb=True,quiet=False),width=600)\n",
    "#tab_cube_coeffs.save(path_table+\"Absorbtionskoeffizienten.tex\")"
   ]
  },
  {
   "cell_type": "code",
   "execution_count": null,
   "metadata": {
    "collapsed": false
   },
   "outputs": [],
   "source": [
    "tab_mat= Table(booktabs=True,siunitx=True)\n",
    "tab_mat.caption(\"\"\"Absorbtionskoeffizenten und Dichten der Materialien, aus denen die untersuchent Würfel\n",
    "aufgebaut sein können.\"\"\")\n",
    "tab_mat.label(\"Materialien\")\n",
    "tab_mat.addColumn(range(5),title=\"Material\",symbol=\"\")\n",
    "tab_mat.addColumn(densities, title=\"Dichte\",symbol=r\"\\rho\",unit=r\"\\gram\\per\\centi\\metre\\cubed\")\n",
    "tab_mat.addColumn([attenuation_coeff_Al_scaled,attenuation_coeff_Pb_scaled,\n",
    "                   attenuation_coeff_Delrin_scaled,attenuation_coeff_Fe_scaled,\n",
    "                  attenuation_coeff_Brass_scaled], title=\"Skalierter Abs. Koeffizient\",symbol=r\"\\frac{\\mu}{\\rho}\",\n",
    "                 unit=r\"\\centi\\metre\\squared\\per\\gram\")\n",
    "tab_mat.addColumn([attenuation_coeff_Al,attenuation_coeff_Pb,\n",
    "                   attenuation_coeff_Delrin,attenuation_coeff_Fe,\n",
    "                  attenuation_coeff_Brass], title=\"Abs. Koeffizient\",symbol=\"\\mu\",unit=r\"\\per\\centi\\metre\")\n",
    "Image(tab_mat.show(ipynb=True,quiet=False),width=600)\n",
    "#tab_mat.save(path_table+\"Materialien.tex\")"
   ]
  },
  {
   "cell_type": "code",
   "execution_count": null,
   "metadata": {
    "collapsed": true
   },
   "outputs": [],
   "source": []
  },
  {
   "cell_type": "code",
   "execution_count": null,
   "metadata": {
    "collapsed": true
   },
   "outputs": [],
   "source": []
  },
  {
   "cell_type": "code",
   "execution_count": null,
   "metadata": {
    "collapsed": true
   },
   "outputs": [],
   "source": []
  },
  {
   "cell_type": "code",
   "execution_count": null,
   "metadata": {
    "collapsed": false
   },
   "outputs": [],
   "source": [
    "\n"
   ]
  }
 ],
 "metadata": {
  "kernelspec": {
   "display_name": "Python 3",
   "language": "python",
   "name": "python3"
  },
  "language_info": {
   "codemirror_mode": {
    "name": "ipython",
    "version": 3
   },
   "file_extension": ".py",
   "mimetype": "text/x-python",
   "name": "python",
   "nbconvert_exporter": "python",
   "pygments_lexer": "ipython3",
   "version": "3.5.0"
  }
 },
 "nbformat": 4,
 "nbformat_minor": 0
}
