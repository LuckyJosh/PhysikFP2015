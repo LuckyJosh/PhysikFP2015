{
 "cells": [
  {
   "cell_type": "code",
   "execution_count": 49,
   "metadata": {
    "collapsed": false
   },
   "outputs": [
    {
     "name": "stderr",
     "output_type": "stream",
     "text": [
      "/home/luckyjosh/anaconda3/lib/python3.5/site-packages/matplotlib/__init__.py:872: UserWarning: axes.color_cycle is deprecated and replaced with axes.prop_cycle; please use the latter.\n",
      "  warnings.warn(self.msg_depr % (key, alt_key))\n"
     ]
    }
   ],
   "source": [
    "#-*- coding:utf8-*-\n",
    "%matplotlib inline\n",
    "\n",
    "from __future__ import absolute_import, division, print_function, unicode_literals\n",
    "\n",
    "from IPython.display import Image\n",
    "\n",
    "import numpy as np\n",
    "\n",
    "import uncertainties as unc\n",
    "from uncertainties import unumpy as unp\n",
    "from uncertainties.unumpy import std_devs as stds #TODO\n",
    "from uncertainties.unumpy import nominal_values as noms #TODO\n",
    "\n",
    "import matplotlib as mpl\n",
    "import matplotlib.pyplot as plt\n",
    "import matplotlib.patches as mpatches\n",
    "from matplotlib.lines import Line2D \n",
    "\n",
    "import seaborn as sns\n",
    "sns.set(context=\"paper\",font_scale=1.4)\n",
    "\n",
    "import scipy as sp\n",
    "import scipy.constants as const\n",
    "\n",
    "import sympy as sym\n",
    "\n",
    "import pandas as pd\n",
    "\n",
    "#import ROOT as rt\n",
    "\n",
    "#import root_numpy as rnp\n",
    "\n",
    "from aputils.latextables.tables import Table\n",
    "\n",
    "\n",
    "# Fehlerfortpflanzung beim Mitteln\n",
    "umean = unc.wrap(np.mean)\n",
    "\n",
    "#Laden des Latex fonts \n",
    "plt.rcParams['text.latex.preamble']=[\"\\\\usepackage{lmodern}\"]\n",
    "#Options\n",
    "params = {'text.usetex' : True,\n",
    "          'font.size' : 11,\n",
    "          'font.family' : 'lmodern',\n",
    "          'text.latex.unicode': True,\n",
    "          }\n",
    "plt.rcParams.update(params) \n",
    "\n",
    "#Größe der Achsenbeschriftung\n",
    "axis_font = {'size':'14'}\n",
    "\n",
    "# Pfade\n",
    "path_graphics = \"../Grafiken/\"\n",
    "path_table = \"../Tabellen/\"\n",
    "path_data = \"../Messdaten/\""
   ]
  },
  {
   "cell_type": "code",
   "execution_count": 2,
   "metadata": {
    "collapsed": true
   },
   "outputs": [],
   "source": [
    "# Funktionen\n",
    "# Achsenbeschriftungen\n",
    "def axis_label(label,sym=None,unit=None):\n",
    "    if sym == None:\n",
    "        return lable\n",
    "    elif unit == None:\n",
    "        return r\"\".join([label,\" ${s}$\".format(s=sym)])\n",
    "    else:\n",
    "        return r\"\".join([label,\" ${s}/\\mathrm{{{u}}}$\".format(s=sym,u=unit)])\n",
    "\n",
    "# Achsenskalierung\n",
    "def axis_scale(factor, axis=\"x\"):\n",
    "    if axis == \"x\":\n",
    "        plt.gca().xaxis.set_major_formatter(mpl.ticker.FuncFormatter(lambda x, _: x * factor))\n",
    "    elif axis == \"y\":\n",
    "        plt.gca().yaxis.set_major_formatter(mpl.ticker.FuncFormatter(lambda x, _: x * factor))\n",
    "    else:\n",
    "        print(\"Wrong axis name given! Only x and y are allowed!\")\n",
    "\n",
    "def siunitx_ticklabels(ax=None, locale=\"DE\", xaxis=True, yaxis=True,\n",
    "                       round_precision=2, round_mode=\"places\", scale_x=None, scale_y=None):\n",
    "    \"\"\"\n",
    "    This function uses siunitx to create the ticklabels\n",
    "    Main reason is for adjusting the decimal marker properly.\n",
    "    The function takes 4 arguments:\n",
    "        ax=None     the matplotlib axes to operate on\n",
    "                    if set to None (Standard) this will be the current axes\n",
    "        locale=\"DE\" The locale parameter for siunitx, one of\n",
    "                    \"UK\", \"US\", \"DE\", \"FR\" oder \"ZA\"\n",
    "        xaxis=True  Boolean, if True the labels for the xaxis are set\n",
    "        yaxis=True  Boolean, if True the labels for the yaxis are set\n",
    "        round_precision=2 Number of places or figures after rounding\n",
    "        round_mode=\"places\" Rounds to round_precision many decimal places,\n",
    "                  \"figures\" Rounds to round_precision many significant figures\n",
    "                  \n",
    "    \"\"\"\n",
    "\n",
    "    if ax is None:\n",
    "        ax = plt.gca()\n",
    "\n",
    "    if scale_x == None:\n",
    "        scale_x = 1\n",
    "    if scale_y == None:\n",
    "        scale_y = 1\n",
    "        \n",
    "        \n",
    "    if xaxis is True:\n",
    "        xticks = ax.get_xticks()\n",
    "        print(xticks)\n",
    "        xlabels = [r\"$\\num[locale={},round-mode={},round-precision={}]{{{}}}$\".format(\n",
    "                   locale, round_mode,round_precision, tick*scale_x) for tick in xticks]\n",
    "        #print(xlabels)\n",
    "        ax.set_xticklabels(xlabels)\n",
    "\n",
    "    if yaxis is True:\n",
    "        yticks = ax.get_yticks()\n",
    "        ylabels = [r\"$\\num[locale={},round-mode={},round-precision={}]{{{}}}$\".format(\n",
    "                   locale, round_mode,round_precision, tick*scale_y) for tick in yticks]\n",
    "        #print(ylabels)\n",
    "        ax.set_yticklabels(ylabels)    \n",
    "        \n",
    "# Fit Funktionen\n",
    "def fit_errors(popt,pcov):\n",
    "    errors = np.sqrt(np.diag(pcov))\n",
    "    param_err = unp.uarray(popt,errors)\n",
    "    return param_err\n",
    "    \n",
    "def print_errors(array,description=None):\n",
    "    if description and len(description)==len(array):\n",
    "        maxlen = max(map(len,description))\n",
    "        lens = map(len,description)\n",
    "        for i,entry in enumerate(array):\n",
    "            print(description[i],\" \"*(maxlen-lens[i]),entry.nominal_value,\"+/-\",entry.std_dev)\n",
    "    else:\n",
    "        for i,entry in enumerate(array):\n",
    "            print(entry.nominal_value,\"+/-\",entry.std_dev)\n"
   ]
  },
  {
   "cell_type": "code",
   "execution_count": 8,
   "metadata": {
    "collapsed": false
   },
   "outputs": [
    {
     "name": "stdout",
     "output_type": "stream",
     "text": [
      "/home/luckyjosh/Dokumente/Studium/Praktikum/FP_Repo/04_Diodenlaser[ ]/Messdaten\n",
      "Oszilloskop_Absorbtionsspektrum.CSV\r\n",
      "Oszilloskop_Absorbtion_Strommodulation_CH1.CSV\r\n",
      "Oszilloskop_Absorbtion_Strommodulation_CH2.CSV\r\n",
      "Oszilloskop_Absorbtion_Stufe1_CH1.CSV\r\n",
      "Oszilloskop_Absorbtion_Stufe1_CH2.CSV\r\n",
      "Oszilloskop_Absorbtion_Stufe2_CH1.CSV\r\n",
      "Oszilloskop_Absorbtion_Stufe2_CH2.CSV\r\n",
      "Oszilloskop_Dreieckspannung_CH1.CSV\r\n",
      "Oszilloskop_Dreieckspannung_CH2.CSV\r\n",
      "Strommodulation_neu_CH1.CSV\r\n",
      "Strommodulation_neu_CH2.CSV\r\n"
     ]
    }
   ],
   "source": [
    "%cd ../Messdaten/\n",
    "%ls"
   ]
  },
  {
   "cell_type": "markdown",
   "metadata": {},
   "source": [
    "## Beginn der Auswertung\n"
   ]
  },
  {
   "cell_type": "code",
   "execution_count": null,
   "metadata": {
    "collapsed": true
   },
   "outputs": [],
   "source": [
    "#fig, ax = plt.subplot()"
   ]
  },
  {
   "cell_type": "markdown",
   "metadata": {},
   "source": [
    "### Laden der Oszilloskop-Daten"
   ]
  },
  {
   "cell_type": "code",
   "execution_count": 32,
   "metadata": {
    "collapsed": true
   },
   "outputs": [],
   "source": [
    "absorbtion_1_piezo = pd.read_csv(path_data+\"Oszilloskop_Absorbtion_Stufe1_CH1.CSV\",\n",
    "                               skiprows=18, usecols=(3,4), names=(\"Zeit\", \"Spannung\"))\n",
    "absorbtion_1_diode = pd.read_csv(path_data+\"Oszilloskop_Absorbtion_Stufe1_CH2.CSV\",\n",
    "                               skiprows=18, usecols=(3,4), names=(\"Zeit\", \"Spannung\"))"
   ]
  },
  {
   "cell_type": "code",
   "execution_count": 33,
   "metadata": {
    "collapsed": false
   },
   "outputs": [
    {
     "data": {
      "text/html": [
       "<div>\n",
       "<table border=\"1\" class=\"dataframe\">\n",
       "  <thead>\n",
       "    <tr style=\"text-align: right;\">\n",
       "      <th></th>\n",
       "      <th>Zeit</th>\n",
       "      <th>Spannung</th>\n",
       "    </tr>\n",
       "  </thead>\n",
       "  <tbody>\n",
       "    <tr>\n",
       "      <th>0</th>\n",
       "      <td>-0.00008</td>\n",
       "      <td>-5.2</td>\n",
       "    </tr>\n",
       "    <tr>\n",
       "      <th>1</th>\n",
       "      <td>-0.00004</td>\n",
       "      <td>-5.2</td>\n",
       "    </tr>\n",
       "    <tr>\n",
       "      <th>2</th>\n",
       "      <td>-0.00000</td>\n",
       "      <td>-5.0</td>\n",
       "    </tr>\n",
       "    <tr>\n",
       "      <th>3</th>\n",
       "      <td>0.00004</td>\n",
       "      <td>-5.0</td>\n",
       "    </tr>\n",
       "    <tr>\n",
       "      <th>4</th>\n",
       "      <td>0.00008</td>\n",
       "      <td>-5.0</td>\n",
       "    </tr>\n",
       "  </tbody>\n",
       "</table>\n",
       "</div>"
      ],
      "text/plain": [
       "      Zeit  Spannung\n",
       "0 -0.00008      -5.2\n",
       "1 -0.00004      -5.2\n",
       "2 -0.00000      -5.0\n",
       "3  0.00004      -5.0\n",
       "4  0.00008      -5.0"
      ]
     },
     "execution_count": 33,
     "metadata": {},
     "output_type": "execute_result"
    }
   ],
   "source": [
    "absorbtion_1_piezo.head(5)\n"
   ]
  },
  {
   "cell_type": "code",
   "execution_count": 34,
   "metadata": {
    "collapsed": false
   },
   "outputs": [
    {
     "data": {
      "text/html": [
       "<div>\n",
       "<table border=\"1\" class=\"dataframe\">\n",
       "  <thead>\n",
       "    <tr style=\"text-align: right;\">\n",
       "      <th></th>\n",
       "      <th>Zeit</th>\n",
       "      <th>Spannung</th>\n",
       "    </tr>\n",
       "  </thead>\n",
       "  <tbody>\n",
       "    <tr>\n",
       "      <th>0</th>\n",
       "      <td>-0.00008</td>\n",
       "      <td>-2.8</td>\n",
       "    </tr>\n",
       "    <tr>\n",
       "      <th>1</th>\n",
       "      <td>-0.00004</td>\n",
       "      <td>-2.8</td>\n",
       "    </tr>\n",
       "    <tr>\n",
       "      <th>2</th>\n",
       "      <td>-0.00000</td>\n",
       "      <td>-2.8</td>\n",
       "    </tr>\n",
       "    <tr>\n",
       "      <th>3</th>\n",
       "      <td>0.00004</td>\n",
       "      <td>-2.8</td>\n",
       "    </tr>\n",
       "    <tr>\n",
       "      <th>4</th>\n",
       "      <td>0.00008</td>\n",
       "      <td>-2.8</td>\n",
       "    </tr>\n",
       "  </tbody>\n",
       "</table>\n",
       "</div>"
      ],
      "text/plain": [
       "      Zeit  Spannung\n",
       "0 -0.00008      -2.8\n",
       "1 -0.00004      -2.8\n",
       "2 -0.00000      -2.8\n",
       "3  0.00004      -2.8\n",
       "4  0.00008      -2.8"
      ]
     },
     "execution_count": 34,
     "metadata": {},
     "output_type": "execute_result"
    }
   ],
   "source": [
    "absorbtion_1_diode.head(5)"
   ]
  },
  {
   "cell_type": "code",
   "execution_count": 51,
   "metadata": {
    "collapsed": false
   },
   "outputs": [
    {
     "data": {
      "text/plain": [
       "<matplotlib.legend.Legend at 0x7f1991c89710>"
      ]
     },
     "execution_count": 51,
     "metadata": {},
     "output_type": "execute_result"
    },
    {
     "data": {
      "image/png": "[encoded data removed]",
      "text/plain": [
       "<matplotlib.figure.Figure at 0x7f1991de87b8>"
      ]
     },
     "metadata": {},
     "output_type": "display_data"
    }
   ],
   "source": [
    "fig, ax = plt.subplots()\n",
    "ax.set_xlim(0,0.1)\n",
    "ax.set_ylim(-10,6)\n",
    "ax.set_xlabel(axis_label(\"Zeit\",\"t\",\"s\"))\n",
    "ax.set_ylabel(axis_label(\"Spannung\",\"U\",\"V\"))\n",
    "\n",
    "ax.plot(absorbtion_1_piezo[\"Zeit\"],absorbtion_1_piezo[\"Spannung\"], label=\"Piezospannung\")\n",
    "ax.plot(absorbtion_1_diode[\"Zeit\"],absorbtion_1_diode[\"Spannung\"], label=\"Photodioden-\\nspannnug\")\n",
    "ax.legend(loc=\"upper right\")"
   ]
  },
  {
   "cell_type": "code",
   "execution_count": null,
   "metadata": {
    "collapsed": true
   },
   "outputs": [],
   "source": []
  },
  {
   "cell_type": "code",
   "execution_count": 56,
   "metadata": {
    "collapsed": true
   },
   "outputs": [],
   "source": [
    "absorbtion_2_piezo = pd.read_csv(path_data+\"Oszilloskop_Absorbtion_Stufe2_CH1.CSV\",\n",
    "                               skiprows=18, usecols=(3,4), names=(\"Zeit\", \"Spannung\"))\n",
    "absorbtion_2_diode = pd.read_csv(path_data+\"Oszilloskop_Absorbtion_Stufe2_CH2.CSV\",\n",
    "                               skiprows=18, usecols=(3,4), names=(\"Zeit\", \"Spannung\"))"
   ]
  },
  {
   "cell_type": "code",
   "execution_count": 57,
   "metadata": {
    "collapsed": false
   },
   "outputs": [
    {
     "data": {
      "text/html": [
       "<div>\n",
       "<table border=\"1\" class=\"dataframe\">\n",
       "  <thead>\n",
       "    <tr style=\"text-align: right;\">\n",
       "      <th></th>\n",
       "      <th>Zeit</th>\n",
       "      <th>Spannung</th>\n",
       "    </tr>\n",
       "  </thead>\n",
       "  <tbody>\n",
       "    <tr>\n",
       "      <th>0</th>\n",
       "      <td>0.04876</td>\n",
       "      <td>5</td>\n",
       "    </tr>\n",
       "    <tr>\n",
       "      <th>1</th>\n",
       "      <td>0.04878</td>\n",
       "      <td>5</td>\n",
       "    </tr>\n",
       "    <tr>\n",
       "      <th>2</th>\n",
       "      <td>0.04880</td>\n",
       "      <td>5</td>\n",
       "    </tr>\n",
       "    <tr>\n",
       "      <th>3</th>\n",
       "      <td>0.04882</td>\n",
       "      <td>5</td>\n",
       "    </tr>\n",
       "    <tr>\n",
       "      <th>4</th>\n",
       "      <td>0.04884</td>\n",
       "      <td>5</td>\n",
       "    </tr>\n",
       "  </tbody>\n",
       "</table>\n",
       "</div>"
      ],
      "text/plain": [
       "      Zeit  Spannung\n",
       "0  0.04876         5\n",
       "1  0.04878         5\n",
       "2  0.04880         5\n",
       "3  0.04882         5\n",
       "4  0.04884         5"
      ]
     },
     "execution_count": 57,
     "metadata": {},
     "output_type": "execute_result"
    }
   ],
   "source": [
    "absorbtion_2_piezo.head(5)\n"
   ]
  },
  {
   "cell_type": "code",
   "execution_count": 58,
   "metadata": {
    "collapsed": false
   },
   "outputs": [
    {
     "data": {
      "text/html": [
       "<div>\n",
       "<table border=\"1\" class=\"dataframe\">\n",
       "  <thead>\n",
       "    <tr style=\"text-align: right;\">\n",
       "      <th></th>\n",
       "      <th>Zeit</th>\n",
       "      <th>Spannung</th>\n",
       "    </tr>\n",
       "  </thead>\n",
       "  <tbody>\n",
       "    <tr>\n",
       "      <th>0</th>\n",
       "      <td>0.04876</td>\n",
       "      <td>-10.4</td>\n",
       "    </tr>\n",
       "    <tr>\n",
       "      <th>1</th>\n",
       "      <td>0.04878</td>\n",
       "      <td>-10.4</td>\n",
       "    </tr>\n",
       "    <tr>\n",
       "      <th>2</th>\n",
       "      <td>0.04880</td>\n",
       "      <td>-10.4</td>\n",
       "    </tr>\n",
       "    <tr>\n",
       "      <th>3</th>\n",
       "      <td>0.04882</td>\n",
       "      <td>-10.4</td>\n",
       "    </tr>\n",
       "    <tr>\n",
       "      <th>4</th>\n",
       "      <td>0.04884</td>\n",
       "      <td>-10.6</td>\n",
       "    </tr>\n",
       "  </tbody>\n",
       "</table>\n",
       "</div>"
      ],
      "text/plain": [
       "      Zeit  Spannung\n",
       "0  0.04876     -10.4\n",
       "1  0.04878     -10.4\n",
       "2  0.04880     -10.4\n",
       "3  0.04882     -10.4\n",
       "4  0.04884     -10.6"
      ]
     },
     "execution_count": 58,
     "metadata": {},
     "output_type": "execute_result"
    }
   ],
   "source": [
    "absorbtion_2_diode.head(5)"
   ]
  },
  {
   "cell_type": "code",
   "execution_count": 62,
   "metadata": {
    "collapsed": false
   },
   "outputs": [
    {
     "data": {
      "text/plain": [
       "<matplotlib.legend.Legend at 0x7f19921c4a58>"
      ]
     },
     "execution_count": 62,
     "metadata": {},
     "output_type": "execute_result"
    },
    {
     "data": {
      "image/png": "[encoded data removed]",
      "text/plain": [
       "<matplotlib.figure.Figure at 0x7f19921349b0>"
      ]
     },
     "metadata": {},
     "output_type": "display_data"
    }
   ],
   "source": [
    "fig, ax = plt.subplots()\n",
    "ax.set_xlim(0.05,0.1)\n",
    "#ax.set_ylim(-10,6)\n",
    "ax.set_xlabel(axis_label(\"Zeit\",\"t\",\"s\"))\n",
    "ax.set_ylabel(axis_label(\"Spannung\",\"U\",\"V\"))\n",
    "\n",
    "ax.plot(absorbtion_2_piezo[\"Zeit\"],absorbtion_2_piezo[\"Spannung\"], label=\"Piezospannung\")\n",
    "ax.plot(absorbtion_2_diode[\"Zeit\"],absorbtion_2_diode[\"Spannung\"], label=\"Photodioden-\\nspannnug\")\n",
    "ax.legend(loc=\"upper right\")"
   ]
  },
  {
   "cell_type": "code",
   "execution_count": 67,
   "metadata": {
    "collapsed": true
   },
   "outputs": [],
   "source": [
    "current_modulation_piezo = pd.read_csv(path_data+\"Strommodulation_neu_CH2.CSV\",\n",
    "                               skiprows=18, usecols=(3,4), names=(\"Zeit\", \"Spannung\"))\n",
    "current_modulation_diode = pd.read_csv(path_data+\"Strommodulation_neu_CH1.CSV\",\n",
    "                               skiprows=18, usecols=(3,4), names=(\"Zeit\", \"Spannung\"))"
   ]
  },
  {
   "cell_type": "code",
   "execution_count": 68,
   "metadata": {
    "collapsed": false
   },
   "outputs": [
    {
     "data": {
      "text/html": [
       "<div>\n",
       "<table border=\"1\" class=\"dataframe\">\n",
       "  <thead>\n",
       "    <tr style=\"text-align: right;\">\n",
       "      <th></th>\n",
       "      <th>Zeit</th>\n",
       "      <th>Spannung</th>\n",
       "    </tr>\n",
       "  </thead>\n",
       "  <tbody>\n",
       "    <tr>\n",
       "      <th>0</th>\n",
       "      <td>0.02412</td>\n",
       "      <td>2.32</td>\n",
       "    </tr>\n",
       "    <tr>\n",
       "      <th>1</th>\n",
       "      <td>0.02416</td>\n",
       "      <td>2.40</td>\n",
       "    </tr>\n",
       "    <tr>\n",
       "      <th>2</th>\n",
       "      <td>0.02420</td>\n",
       "      <td>2.32</td>\n",
       "    </tr>\n",
       "    <tr>\n",
       "      <th>3</th>\n",
       "      <td>0.02424</td>\n",
       "      <td>2.40</td>\n",
       "    </tr>\n",
       "    <tr>\n",
       "      <th>4</th>\n",
       "      <td>0.02428</td>\n",
       "      <td>2.40</td>\n",
       "    </tr>\n",
       "  </tbody>\n",
       "</table>\n",
       "</div>"
      ],
      "text/plain": [
       "      Zeit  Spannung\n",
       "0  0.02412      2.32\n",
       "1  0.02416      2.40\n",
       "2  0.02420      2.32\n",
       "3  0.02424      2.40\n",
       "4  0.02428      2.40"
      ]
     },
     "execution_count": 68,
     "metadata": {},
     "output_type": "execute_result"
    }
   ],
   "source": [
    "current_modulation_piezo.head(5)"
   ]
  },
  {
   "cell_type": "code",
   "execution_count": 69,
   "metadata": {
    "collapsed": false
   },
   "outputs": [
    {
     "data": {
      "text/html": [
       "<div>\n",
       "<table border=\"1\" class=\"dataframe\">\n",
       "  <thead>\n",
       "    <tr style=\"text-align: right;\">\n",
       "      <th></th>\n",
       "      <th>Zeit</th>\n",
       "      <th>Spannung</th>\n",
       "    </tr>\n",
       "  </thead>\n",
       "  <tbody>\n",
       "    <tr>\n",
       "      <th>0</th>\n",
       "      <td>0.02412</td>\n",
       "      <td>7.52</td>\n",
       "    </tr>\n",
       "    <tr>\n",
       "      <th>1</th>\n",
       "      <td>0.02416</td>\n",
       "      <td>7.44</td>\n",
       "    </tr>\n",
       "    <tr>\n",
       "      <th>2</th>\n",
       "      <td>0.02420</td>\n",
       "      <td>7.36</td>\n",
       "    </tr>\n",
       "    <tr>\n",
       "      <th>3</th>\n",
       "      <td>0.02424</td>\n",
       "      <td>7.36</td>\n",
       "    </tr>\n",
       "    <tr>\n",
       "      <th>4</th>\n",
       "      <td>0.02428</td>\n",
       "      <td>7.36</td>\n",
       "    </tr>\n",
       "  </tbody>\n",
       "</table>\n",
       "</div>"
      ],
      "text/plain": [
       "      Zeit  Spannung\n",
       "0  0.02412      7.52\n",
       "1  0.02416      7.44\n",
       "2  0.02420      7.36\n",
       "3  0.02424      7.36\n",
       "4  0.02428      7.36"
      ]
     },
     "execution_count": 69,
     "metadata": {},
     "output_type": "execute_result"
    }
   ],
   "source": [
    "current_modulation_diode.head(5)"
   ]
  },
  {
   "cell_type": "code",
   "execution_count": 70,
   "metadata": {
    "collapsed": false
   },
   "outputs": [
    {
     "data": {
      "text/plain": [
       "<matplotlib.legend.Legend at 0x7f199209cef0>"
      ]
     },
     "execution_count": 70,
     "metadata": {},
     "output_type": "execute_result"
    },
    {
     "data": {
      "image/png": "[encoded data removed]",
      "text/plain": [
       "<matplotlib.figure.Figure at 0x7f1991f94e48>"
      ]
     },
     "metadata": {},
     "output_type": "display_data"
    }
   ],
   "source": [
    "fig, ax = plt.subplots()\n",
    "#ax.set_xlim(0.05,0.1)\n",
    "#ax.set_ylim(-10,6)\n",
    "ax.set_xlabel(axis_label(\"Zeit\",\"t\",\"s\"))\n",
    "ax.set_ylabel(axis_label(\"Spannung\",\"U\",\"V\"))\n",
    "\n",
    "ax.plot(current_modulation_piezo[\"Zeit\"],current_modulation_piezo[\"Spannung\"], label=\"Piezospannung\")\n",
    "ax.plot(current_modulation_diode[\"Zeit\"],current_modulation_diode[\"Spannung\"], label=\"Photodioden-\\nspannnug\")\n",
    "ax.legend(loc=\"upper right\")"
   ]
  },
  {
   "cell_type": "code",
   "execution_count": 71,
   "metadata": {
    "collapsed": true
   },
   "outputs": [],
   "source": [
    "absorbtion_spectrum = pd.read_csv(path_data+\"Oszilloskop_Absorbtionsspektrum.CSV\",\n",
    "                               skiprows=18, usecols=(3,4), names=(\"Zeit\", \"Spannung\"))\n",
    "\n"
   ]
  },
  {
   "cell_type": "code",
   "execution_count": 73,
   "metadata": {
    "collapsed": false
   },
   "outputs": [
    {
     "data": {
      "text/html": [
       "<div>\n",
       "<table border=\"1\" class=\"dataframe\">\n",
       "  <thead>\n",
       "    <tr style=\"text-align: right;\">\n",
       "      <th></th>\n",
       "      <th>Zeit</th>\n",
       "      <th>Spannung</th>\n",
       "    </tr>\n",
       "  </thead>\n",
       "  <tbody>\n",
       "    <tr>\n",
       "      <th>0</th>\n",
       "      <td>0.04876</td>\n",
       "      <td>1.40</td>\n",
       "    </tr>\n",
       "    <tr>\n",
       "      <th>1</th>\n",
       "      <td>0.04878</td>\n",
       "      <td>1.40</td>\n",
       "    </tr>\n",
       "    <tr>\n",
       "      <th>2</th>\n",
       "      <td>0.04880</td>\n",
       "      <td>1.36</td>\n",
       "    </tr>\n",
       "    <tr>\n",
       "      <th>3</th>\n",
       "      <td>0.04882</td>\n",
       "      <td>1.36</td>\n",
       "    </tr>\n",
       "    <tr>\n",
       "      <th>4</th>\n",
       "      <td>0.04884</td>\n",
       "      <td>1.36</td>\n",
       "    </tr>\n",
       "  </tbody>\n",
       "</table>\n",
       "</div>"
      ],
      "text/plain": [
       "      Zeit  Spannung\n",
       "0  0.04876      1.40\n",
       "1  0.04878      1.40\n",
       "2  0.04880      1.36\n",
       "3  0.04882      1.36\n",
       "4  0.04884      1.36"
      ]
     },
     "execution_count": 73,
     "metadata": {},
     "output_type": "execute_result"
    }
   ],
   "source": [
    "absorbtion_spectrum.head(5)"
   ]
  },
  {
   "cell_type": "code",
   "execution_count": 81,
   "metadata": {
    "collapsed": false
   },
   "outputs": [
    {
     "data": {
      "image/png": "[encoded data removed]",
      "text/plain": [
       "<matplotlib.figure.Figure at 0x7f199184a5c0>"
      ]
     },
     "metadata": {},
     "output_type": "display_data"
    }
   ],
   "source": [
    "fig, ax = plt.subplots()\n",
    "ax.set_xlim(0.05,0.1)\n",
    "ax.set_ylim(-6,3)\n",
    "ax.set_xlabel(axis_label(\"Zeit\",\"t\",\"s\"))\n",
    "ax.set_ylabel(axis_label(\"Spannung\",\"U\",\"V\"))\n",
    "\n",
    "ax.plot(absorbtion_spectrum[\"Zeit\"],absorbtion_spectrum[\"Spannung\"], label=\"Photodioden-\\nspannung\")\n",
    "ax.legend(loc=\"upper right\")\n",
    "fig.savefig(path_graphics+\"Absorbtionsspektrum.pdf\")"
   ]
  },
  {
   "cell_type": "code",
   "execution_count": null,
   "metadata": {
    "collapsed": true
   },
   "outputs": [],
   "source": []
  },
  {
   "cell_type": "code",
   "execution_count": null,
   "metadata": {
    "collapsed": true
   },
   "outputs": [],
   "source": []
  },
  {
   "cell_type": "code",
   "execution_count": null,
   "metadata": {
    "collapsed": true
   },
   "outputs": [],
   "source": []
  },
  {
   "cell_type": "markdown",
   "metadata": {},
   "source": [
    "## Testbereich:"
   ]
  }
 ],
 "metadata": {
  "kernelspec": {
   "display_name": "Python 3",
   "language": "python",
   "name": "python3"
  },
  "language_info": {
   "codemirror_mode": {
    "name": "ipython",
    "version": 3
   },
   "file_extension": ".py",
   "mimetype": "text/x-python",
   "name": "python",
   "nbconvert_exporter": "python",
   "pygments_lexer": "ipython3",
   "version": "3.5.0"
  }
 },
 "nbformat": 4,
 "nbformat_minor": 0
}
