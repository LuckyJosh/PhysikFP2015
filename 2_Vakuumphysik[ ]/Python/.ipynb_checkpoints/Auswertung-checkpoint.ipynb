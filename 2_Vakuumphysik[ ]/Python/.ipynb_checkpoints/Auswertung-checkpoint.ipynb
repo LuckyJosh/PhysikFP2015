{
 "cells": [
  {
   "cell_type": "code",
   "execution_count": 1,
   "metadata": {
    "collapsed": false
   },
   "outputs": [],
   "source": [
    "#-*- coding:utf8-*-\n",
    "%matplotlib inline\n",
    "\n",
    "\n",
    "from __future__ import absolute_import, division, print_function, unicode_literals\n",
    "\n",
    "from IPython.display import Image\n",
    "\n",
    "import numpy as np\n",
    "\n",
    "import uncertainties as unc\n",
    "from uncertainties import unumpy as unp\n",
    "from uncertainties.unumpy import std_devs as stds #TODO\n",
    "from uncertainties.unumpy import nominal_values as noms #TODO\n",
    "\n",
    "import matplotlib as mpl\n",
    "import matplotlib.pyplot as plt\n",
    "import matplotlib.patches as mpatches\n",
    "from matplotlib.lines import Line2D \n",
    "\n",
    "import seaborn as sns\n",
    "sns.set(context=\"paper\",font_scale=1.4)\n",
    "\n",
    "import scipy as sp\n",
    "import scipy.constants as const\n",
    "\n",
    "import sympy as sym\n",
    "import sympy.abc\n",
    "from sympy import init_printing\n",
    "\n",
    "\n",
    "import pandas as pd\n",
    "\n",
    "import ROOT as rt\n",
    "\n",
    "import root_numpy as rnp\n",
    "\n",
    "from aputils.latextables.tables import Table\n",
    "\n",
    "\n",
    "# Fehlerfortpflanzung beim Mitteln\n",
    "umean = unc.wrap(np.mean)\n",
    "\n",
    "#Laden des Latex fonts \n",
    "plt.rcParams['text.latex.preamble']=[\"\\\\usepackage{lmodern}\"]\n",
    "#Options\n",
    "params = {'text.usetex' : True,\n",
    "          'font.size' : 11,\n",
    "          'font.family' : 'lmodern',\n",
    "          'text.latex.unicode': True,\n",
    "          }\n",
    "plt.rcParams.update(params) \n",
    "\n",
    "#Größe der Achsenbeschriftung\n",
    "axis_font = {'size':'14'}\n",
    "\n",
    "# Pfade\n",
    "path_graphics = \"../Grafiken/\"\n",
    "path_table = \"../Tabellen/\"\n",
    "path_data = \"../Messdaten/\""
   ]
  },
  {
   "cell_type": "code",
   "execution_count": 3,
   "metadata": {
    "collapsed": true
   },
   "outputs": [],
   "source": [
    "# Funktionen\n",
    "# Achsenbeschriftungen\n",
    "def axis_label(label,sym=None,unit=None):\n",
    "    if sym == None:\n",
    "        return lable\n",
    "    elif unit == None:\n",
    "        return r\"\".join([label,\" ${s}$\".format(s=sym)])\n",
    "    else:\n",
    "        return r\"\".join([label,\" ${s}/\\mathrm{{{u}}}$\".format(s=sym,u=unit)])\n",
    "    \n",
    "# Fit Funktionen\n",
    "def fit_errors(popt,pcov):\n",
    "    errors = np.sqrt(np.diag(pcov))\n",
    "    param_err = unp.uarray(popt,errors)\n",
    "    return param_err\n",
    "    \n",
    "def print_errors(array,description=None):\n",
    "    if description and len(description)==len(array):\n",
    "        maxlen = max(map(len,description))\n",
    "        lens = map(len,description)\n",
    "        for i,entry in enumerate(array):\n",
    "            print(description[i],\" \"*(maxlen-lens[i]),entry.nominal_value,\"+/-\",entry.std_dev)\n",
    "    else:\n",
    "        for i,entry in enumerate(array):\n",
    "            print(entry.nominal_value,\"+/-\",entry.std_dev)\n"
   ]
  },
  {
   "cell_type": "code",
   "execution_count": null,
   "metadata": {
    "collapsed": true
   },
   "outputs": [],
   "source": []
  },
  {
   "cell_type": "markdown",
   "metadata": {},
   "source": [
    "##Klassen für die Bauteile"
   ]
  },
  {
   "cell_type": "code",
   "execution_count": 6,
   "metadata": {
    "collapsed": false
   },
   "outputs": [],
   "source": [
    "class Pipe:\n",
    "    def __init__(self,diameter=0,length=0,diam_err=0,len_err=0):\n",
    "        self.diameter = unc.ufloat(diameter,diam_err)\n",
    "        self.length = unc.ufloat(length,len_err)\n",
    "        \n",
    "    @property\n",
    "    def volume(self):\n",
    "        return const.pi * (self.diameter**2/4) * self.length\n",
    "        #self.eq_volume = self._volume_(self.diameter,self.length,eq=True)\n",
    "\n",
    "class Tank(Pipe):\n",
    "    def __init__(self,diameter=0,wall_thickness=0,length=0,diam_err=0,wall_err=0,len_err=0):\n",
    "        self.diameter_outter = unc.ufloat(diameter,diam_err)\n",
    "        self.wall_thickness = unc.ufloat(wall_thickness,wall_err)\n",
    "        self.diameter = self.diameter_outter - self.wall_thickness\n",
    "        self.length = unc.ufloat(length,len_err)\n",
    "        \n",
    "class TPipe:\n",
    "    def __init__(self,diameter=0,length_l=0,length_s=0,diam_err=0,len_l_err=0,len_s_err=0):\n",
    "        self.diameter = unc.ufloat(diameter,diam_err)\n",
    "        self.length_long = unc.ufloat(length_l,len_l_err)\n",
    "        self.length_short = unc.ufloat(length_s,len_s_err)\n",
    "    @property\n",
    "    def volume(self):    \n",
    "        return const.pi * (self.diameter**2/4) * (self.length_long + self.length_short)\n",
    "    \n",
    "class XPipe:\n",
    "    def __init__(self,diameter_l=0,diameter_s=0,length_l=0,length_s=0,\n",
    "                 diam_l_err=0,diam_s_err=0,len_l_err=0,len_s_err=0):\n",
    "        self.diameter_long = unc.ufloat(diameter_l,diam_l_err)\n",
    "        self.diameter_short = unc.ufloat(diameter_s,diam_s_err)\n",
    "        self.length_long = unc.ufloat(length_l,len_l_err)\n",
    "        self.length_short = unc.ufloat(length_s,len_s_err)\n",
    "        \n",
    "    @property  \n",
    "    def volume(self):\n",
    "        return const.pi/4 * ((self.diameter_long**2 * self.length_long) + \n",
    "                            2*(self.diameter_short**2 * self.length_short))\n",
    "class Valve(Pipe):\n",
    "    def __init__(self,diameter=0,length=0,diam_err=0,len_err=0):\n",
    "        Pipe.__init__(self,diameter=diameter,length=length,diam_err=diam_err,len_err=len_err)\n",
    "    @property\n",
    "    def volume_closed(self): \n",
    "        return self.volume/2  "
   ]
  },
  {
   "cell_type": "markdown",
   "metadata": {
    "collapsed": false
   },
   "source": [
    "### Verwendete Bauteile"
   ]
  },
  {
   "cell_type": "code",
   "execution_count": 20,
   "metadata": {
    "collapsed": false
   },
   "outputs": [],
   "source": [
    "# Tank\n",
    "tank_front_connection = Pipe(diameter=38.5,length=130,diam_err=0.1,len_err=5) #mm\n",
    "tank_maintank = Tank(diameter=155,diam_err=5,wall_thickness=4,wall_err=2,length=480,len_err=10)\n",
    "tank_back_connection = Tank(diameter=28,diam_err=0.1,wall_thickness=2,wall_err=1,length=75,len_err=5)\n",
    "tank_side_connection = Tank(diameter=38.3,diam_err=0.1,wall_thickness=4,wall_err=2,length=75,len_err=5)"
   ]
  },
  {
   "cell_type": "code",
   "execution_count": 21,
   "metadata": {
    "collapsed": false
   },
   "outputs": [
    {
     "name": "stdout",
     "output_type": "stream",
     "text": [
      "Rezipienten Volumen 8.9+/-0.6 l\n"
     ]
    }
   ],
   "source": [
    "print(\"Rezipienten Volumen\",(tank_front_connection.volume + tank_maintank.volume + \n",
    "tank_back_connection.volume + tank_side_connection.volume)/1000000,\"l\")"
   ]
  },
  {
   "cell_type": "code",
   "execution_count": 22,
   "metadata": {
    "collapsed": false
   },
   "outputs": [],
   "source": [
    "# Rohre\n",
    "pipe_recipient_2_xpipe = Pipe(diameter=38,length=400,diam_err=5,len_err=5) #mm\n",
    "pipe_smallest_0 =  Pipe(diameter=15,length=240,diam_err=2,len_err=5)\n",
    "pipe_smallest_1 =  Pipe(diameter=15,length=240,diam_err=2,len_err=5)\n",
    "pipe_xpipe_2_rotarypump = Pipe(diameter=15,length=440,diam_err=2,len_err=5)\n",
    "flange_turbopump = Pipe(diameter=40,length=52,diam_err=1,len_err=5)\n",
    "\n",
    "# X- und T-Stücke\n",
    "xpipe_big = XPipe(diameter_l=39.5,diameter_s=16,length_l=130,length_s=40, # Kurze Längen und Fehler angepasst\n",
    "                 diam_l_err=0.1,diam_s_err=0.1,len_l_err=5,len_s_err=5)   # Mittelwert der zwei Längen bis zum Zylinder\n",
    "xpipe_small = XPipe(diameter_l=11,diameter_s=11,length_l=80,length_s=70, \n",
    "                 diam_l_err=0.1,diam_s_err=0.1,len_l_err=5,len_s_err=5)\n",
    "tpipe_big = TPipe(diameter=40,length_l=129,length_s=46,diam_err=1,len_l_err=5,len_s_err=1)\n",
    "tpipe_small = TPipe(diameter=11,length_l=80,length_s=36,diam_err=0.1,len_l_err=5,len_s_err=5)\n",
    "tpipe_turbopump = TPipe(diameter=40,length_l=110,length_s=60,diam_err=1,len_l_err=20,len_s_err=10)\n",
    "\n",
    "#Ventile\n",
    "valve_lever_0 = Valve(diameter=15,length=77,diam_err=1,len_err=5) # Fehler angepasst\n",
    "valve_lever_1 = Valve(diameter=15,length=77,diam_err=1,len_err=5)\n",
    "valve_lever_2 = Valve(diameter=15,length=77,diam_err=1,len_err=5)\n",
    "valve_lever_3 = Valve(diameter=15,length=77,diam_err=1,len_err=5)\n",
    "valve_turbopump = Valve(diameter=40,length=33,diam_err=1,len_err=5)"
   ]
  },
  {
   "cell_type": "markdown",
   "metadata": {
    "collapsed": true
   },
   "source": [
    "###  Volumen des gesamten Rezipienten für die einzelnen Versuche "
   ]
  },
  {
   "cell_type": "code",
   "execution_count": null,
   "metadata": {
    "collapsed": true
   },
   "outputs": [],
   "source": []
  },
  {
   "cell_type": "markdown",
   "metadata": {
    "collapsed": true
   },
   "source": [
    "### Laden der Daten"
   ]
  },
  {
   "cell_type": "code",
   "execution_count": null,
   "metadata": {
    "collapsed": true
   },
   "outputs": [],
   "source": []
  },
  {
   "cell_type": "code",
   "execution_count": null,
   "metadata": {
    "collapsed": true
   },
   "outputs": [],
   "source": []
  },
  {
   "cell_type": "code",
   "execution_count": null,
   "metadata": {
    "collapsed": true
   },
   "outputs": [],
   "source": []
  },
  {
   "cell_type": "code",
   "execution_count": null,
   "metadata": {
    "collapsed": true
   },
   "outputs": [],
   "source": []
  }
 ],
 "metadata": {
  "kernelspec": {
   "display_name": "Python 2",
   "language": "python",
   "name": "python2"
  },
  "language_info": {
   "codemirror_mode": {
    "name": "ipython",
    "version": 2
   },
   "file_extension": ".py",
   "mimetype": "text/x-python",
   "name": "python",
   "nbconvert_exporter": "python",
   "pygments_lexer": "ipython2",
   "version": "2.7.6"
  }
 },
 "nbformat": 4,
 "nbformat_minor": 0
}
