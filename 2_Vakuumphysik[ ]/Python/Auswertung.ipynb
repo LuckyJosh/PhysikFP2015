{
 "cells": [
  {
   "cell_type": "code",
   "execution_count": 74,
   "metadata": {
    "collapsed": false
   },
   "outputs": [],
   "source": [
    "#-*- coding:utf8-*-\n",
    "%matplotlib inline\n",
    "\n",
    "\n",
    "from __future__ import absolute_import, division, print_function, unicode_literals\n",
    "\n",
    "from IPython.display import Image\n",
    "\n",
    "import numpy as np\n",
    "\n",
    "import uncertainties as unc\n",
    "from uncertainties import unumpy as unp\n",
    "from uncertainties.unumpy import std_devs as stds #TODO\n",
    "from uncertainties.unumpy import nominal_values as noms #TODO\n",
    "\n",
    "import matplotlib as mpl\n",
    "import matplotlib.pyplot as plt\n",
    "import matplotlib.patches as mpatches\n",
    "from matplotlib.lines import Line2D \n",
    "\n",
    "import seaborn as sns\n",
    "sns.set(context=\"paper\",font_scale=1.4)\n",
    "\n",
    "import scipy as sp\n",
    "import scipy.constants as const\n",
    "\n",
    "import sympy as sym\n",
    "import sympy.abc\n",
    "from sympy import init_printing\n",
    "\n",
    "\n",
    "import pandas as pd\n",
    "\n",
    "import ROOT as rt\n",
    "\n",
    "import root_numpy as rnp\n",
    "\n",
    "from aputils.latextables.tables import Table\n",
    "\n",
    "\n",
    "# Fehlerfortpflanzung beim Mitteln\n",
    "umean = unc.wrap(np.mean)\n",
    "\n",
    "#Laden des Latex fonts \n",
    "plt.rcParams['text.latex.preamble']=[\"\\\\usepackage{lmodern}\"]\n",
    "#Options\n",
    "params = {'text.usetex' : True,\n",
    "          'font.size' : 11,\n",
    "          'font.family' : 'lmodern',\n",
    "          'text.latex.unicode': True,\n",
    "          }\n",
    "plt.rcParams.update(params) \n",
    "\n",
    "#Größe der Achsenbeschriftung\n",
    "axis_font = {'size':'14'}\n",
    "\n",
    "# Pfade\n",
    "path_graphics = \"../Grafiken/\"\n",
    "path_table = \"../Tabellen/\"\n",
    "path_data = \"../Messdaten/\""
   ]
  },
  {
   "cell_type": "code",
   "execution_count": 2,
   "metadata": {
    "collapsed": true
   },
   "outputs": [],
   "source": [
    "# Funktionen\n",
    "# Achsenbeschriftungen\n",
    "def axis_label(label,sym=None,unit=None):\n",
    "    if sym == None:\n",
    "        return lable\n",
    "    elif unit == None:\n",
    "        return r\"\".join([label,\" ${s}$\".format(s=sym)])\n",
    "    else:\n",
    "        return r\"\".join([label,\" ${s}/\\mathrm{{{u}}}$\".format(s=sym,u=unit)])\n",
    "    \n",
    "# Fit Funktionen\n",
    "def fit_errors(popt,pcov):\n",
    "    errors = np.sqrt(np.diag(pcov))\n",
    "    param_err = unp.uarray(popt,errors)\n",
    "    return param_err\n",
    "    \n",
    "def print_errors(array,description=None):\n",
    "    if description and len(description)==len(array):\n",
    "        maxlen = max(map(len,description))\n",
    "        lens = map(len,description)\n",
    "        for i,entry in enumerate(array):\n",
    "            print(description[i],\" \"*(maxlen-lens[i]),entry.nominal_value,\"+/-\",entry.std_dev)\n",
    "    else:\n",
    "        for i,entry in enumerate(array):\n",
    "            print(entry.nominal_value,\"+/-\",entry.std_dev)\n"
   ]
  },
  {
   "cell_type": "code",
   "execution_count": null,
   "metadata": {
    "collapsed": true
   },
   "outputs": [],
   "source": []
  },
  {
   "cell_type": "markdown",
   "metadata": {},
   "source": [
    "##Klassen für die Bauteile"
   ]
  },
  {
   "cell_type": "code",
   "execution_count": 216,
   "metadata": {
    "collapsed": false
   },
   "outputs": [],
   "source": [
    "class Pipe:\n",
    "    def __init__(self,diameter=0,length=0,diam_err=0,len_err=0):\n",
    "        self.diameter = unc.ufloat(diameter,diam_err)\n",
    "        self.length = unc.ufloat(length,len_err)\n",
    "        \n",
    "    @property\n",
    "    def volume(self):\n",
    "        return const.pi * (self.diameter**2/4) * self.length\n",
    "        #self.eq_volume = self._volume_(self.diameter,self.length,eq=True)\n",
    "\n",
    "class TPipe:\n",
    "    def __init__(self,diameter=0,length_l=0,length_s=0,diam_err=0,len_l_err=0,len_s_err=0):\n",
    "        self.diameter = unc.ufloat(diameter,diam_err)\n",
    "        self.length_long = unc.ufloat(length_l,len_l_err)\n",
    "        self.length_short = unc.ufloat(length_s,len_s_err)\n",
    "    @property\n",
    "    def volume(self):    \n",
    "        return const.pi * (self.diameter**2/4) * (self.length_long + self.length_short)\n",
    "    \n",
    "class XPipe:\n",
    "    def __init__(self,diameter_l=0,diameter_s=0,length_l=0,length_s=0,\n",
    "                 diam_l_err=0,diam_s_err=0,len_l_err=0,len_s_err=0):\n",
    "        self.diameter_long = unc.ufloat(diameter_l,diam_l_err)\n",
    "        self.diameter_short = unc.ufloat(diameter_s,diam_s_err)\n",
    "        self.length_long = unc.ufloat(length_l,len_l_err)\n",
    "        self.length_short = unc.ufloat(length_s,len_s_err)\n",
    "        \n",
    "    @property  \n",
    "    def volume(self):\n",
    "        return const.pi/4 * ((self.diameter_long**2 * self.length_long) + \n",
    "                            2*(self.diameter_short**2 * self.length_short))\n",
    "class Valve(Pipe):\n",
    "    def __init__(self,diameter=0,length=0,diam_err=0,len_err=0):\n",
    "        Pipe.__init__(self,diameter=diameter,length=length,diam_err=diam_err,len_err=len_err)\n",
    "    @property\n",
    "    def volume_closed(self): \n",
    "        return self.volume/2  "
   ]
  },
  {
   "cell_type": "code",
   "execution_count": 217,
   "metadata": {
    "collapsed": false
   },
   "outputs": [],
   "source": [
    "V = Valve(1,1,1,1)"
   ]
  },
  {
   "cell_type": "code",
   "execution_count": 219,
   "metadata": {
    "collapsed": false
   },
   "outputs": [
    {
     "data": {
      "text/plain": [
       "0.7853981633974483+/-1.7562036827601817"
      ]
     },
     "execution_count": 219,
     "metadata": {},
     "output_type": "execute_result"
    }
   ],
   "source": [
    "V.volume"
   ]
  },
  {
   "cell_type": "code",
   "execution_count": null,
   "metadata": {
    "collapsed": true
   },
   "outputs": [],
   "source": []
  },
  {
   "cell_type": "code",
   "execution_count": null,
   "metadata": {
    "collapsed": true
   },
   "outputs": [],
   "source": []
  },
  {
   "cell_type": "code",
   "execution_count": null,
   "metadata": {
    "collapsed": true
   },
   "outputs": [],
   "source": []
  },
  {
   "cell_type": "code",
   "execution_count": null,
   "metadata": {
    "collapsed": true
   },
   "outputs": [],
   "source": []
  },
  {
   "cell_type": "code",
   "execution_count": null,
   "metadata": {
    "collapsed": true
   },
   "outputs": [],
   "source": []
  },
  {
   "cell_type": "code",
   "execution_count": null,
   "metadata": {
    "collapsed": true
   },
   "outputs": [],
   "source": []
  },
  {
   "cell_type": "code",
   "execution_count": null,
   "metadata": {
    "collapsed": true
   },
   "outputs": [],
   "source": []
  },
  {
   "cell_type": "code",
   "execution_count": null,
   "metadata": {
    "collapsed": true
   },
   "outputs": [],
   "source": []
  },
  {
   "cell_type": "code",
   "execution_count": null,
   "metadata": {
    "collapsed": true
   },
   "outputs": [],
   "source": []
  }
 ],
 "metadata": {
  "kernelspec": {
   "display_name": "Python 2",
   "language": "python",
   "name": "python2"
  },
  "language_info": {
   "codemirror_mode": {
    "name": "ipython",
    "version": 2
   },
   "file_extension": ".py",
   "mimetype": "text/x-python",
   "name": "python",
   "nbconvert_exporter": "python",
   "pygments_lexer": "ipython2",
   "version": "2.7.6"
  }
 },
 "nbformat": 4,
 "nbformat_minor": 0
}
