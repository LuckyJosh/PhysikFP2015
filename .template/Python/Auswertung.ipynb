{
 "cells": [
  {
   "cell_type": "code",
   "execution_count": 1,
   "metadata": {
    "collapsed": true
   },
   "outputs": [],
   "source": [
    "%matplotlib inline\n",
    "from __future__ import absolute_import, division, print_function, unicode_literals\n",
    "import numpy as np\n",
    "import uncertainties as unc\n",
    "from uncertainties import unumpy as unp\n",
    "import matplotlib as mpl\n",
    "import matplotlib.pyplot as plt\n",
    "import scipy as sp\n",
    "import sympy as sym\n",
    "import pandas as pd\n",
    "import ROOT as rt\n",
    "import root_numpy as rnp\n",
    "\n",
    "#Laden des Latex fonts \n",
    "plt.rcParams['text.latex.preamble']=[\"\\\\usepackage{lmodern}\"]\n",
    "#Options\n",
    "params = {'text.usetex' : True,\n",
    "          'font.size' : 11,\n",
    "          'font.family' : 'lmodern',\n",
    "          'text.latex.unicode': True,\n",
    "          }\n",
    "plt.rcParams.update(params) \n",
    "\n",
    "#Größe der Achsenbeschriftung\n",
    "axis_font = {'size':'14'}\n",
    "# Pfade\n",
    "path_graphics = \"../Grafiken/\"\n",
    "path_tables = \"../Tabellen/\""
   ]
  },
  {
   "cell_type": "code",
   "execution_count": null,
   "metadata": {
    "collapsed": true
   },
   "outputs": [],
   "source": [
    "# Funktionen\n",
    "# Achsenbeschriftungen\n",
    "def axis_label(label,sym=None,unit=None):\n",
    "    if sym == None:\n",
    "        return lable\n",
    "    elif unit == None:\n",
    "        return r\"\".join([label,\" ${s}$\".format(s=sym)])\n",
    "    else:\n",
    "        return r\"\".join([label,\" ${s}/\\mathrm{{{u}}}$\".format(s=sym,u=unit)])"
   ]
  }
 ],
 "metadata": {
  "kernelspec": {
   "display_name": "Python 2",
   "language": "python",
   "name": "python2"
  },
  "language_info": {
   "codemirror_mode": {
    "name": "ipython",
    "version": 2
   },
   "file_extension": ".py",
   "mimetype": "text/x-python",
   "name": "python",
   "nbconvert_exporter": "python",
   "pygments_lexer": "ipython2",
   "version": "2.7.6"
  }
 },
 "nbformat": 4,
 "nbformat_minor": 0
}
